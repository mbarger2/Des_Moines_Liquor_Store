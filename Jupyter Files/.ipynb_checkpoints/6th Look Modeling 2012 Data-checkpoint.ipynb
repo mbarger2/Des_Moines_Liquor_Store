{
 "cells": [
  {
   "cell_type": "code",
   "execution_count": 10,
   "id": "56e73b61",
   "metadata": {},
   "outputs": [],
   "source": [
    "import pandas as pd\n",
    "import numpy as np\n",
    "import chunk\n",
    "import re\n",
    "from datetime import datetime\n",
    "import seaborn as sns\n",
    "import matplotlib.pyplot as plt\n",
    "import math\n",
    "from sklearn.neighbors import KNeighborsRegressor\n",
    "from sklearn.preprocessing import OneHotEncoder\n",
    "from sklearn.model_selection import train_test_split\n",
    "from sklearn.ensemble import RandomForestRegressor\n",
    "from sklearn.datasets import make_regression"
   ]
  },
  {
   "cell_type": "code",
   "execution_count": 2,
   "id": "209c4601",
   "metadata": {},
   "outputs": [],
   "source": [
    "#pd.set_option('display.max_columns',15)\n",
    "#pd.set_option('display.max_rows',100)"
   ]
  },
  {
   "cell_type": "code",
   "execution_count": 15,
   "id": "bb8b63bd",
   "metadata": {},
   "outputs": [],
   "source": [
    "m12merge=pd.read_csv('C://Users//Matthew//DA//Activities//Final_Project//Final Cuts//m12merge.csv')\n",
    "m12X=pd.read_csv('C://Users//Matthew//DA//Activities//Final_Project//Final Cuts//m12X.csv')\n",
    "m12T=pd.read_csv('C://Users//Matthew//DA//Activities//Final_Project//Final Cuts//m12T.csv')\n",
    "m12d=pd.read_csv('C://Users//Matthew//DA//Activities//Final_Project//Final Cuts//m12discrete.csv')\n",
    "m12c=pd.read_csv('C://Users//Matthew//DA//Activities//Final_Project//Final Cuts//m12continuous.csv')\n",
    "m12merge=m12merge.drop('Unnamed: 0',axis=1)\n",
    "m12X=m12X.drop('Unnamed: 0',axis=1)\n",
    "m12T=m12T.drop('Unnamed: 0',axis=1)\n",
    "m12d=m12d.drop('Unnamed: 0',axis=1)\n",
    "m12c=m12c.drop('Unnamed: 0',axis=1)"
   ]
  },
  {
   "cell_type": "code",
   "execution_count": 16,
   "id": "9285baef",
   "metadata": {},
   "outputs": [],
   "source": [
    "def change_dtypes(x):\n",
    "    x['Store Number']=x['Store Number'].astype(str)\n",
    "    x['Item Number']=x['Item Number'].astype(str)\n",
    "    return x\n",
    "m12merge=change_dtypes(m12merge)"
   ]
  },
  {
   "cell_type": "code",
   "execution_count": 17,
   "id": "08d17b03",
   "metadata": {},
   "outputs": [
    {
     "data": {
      "text/plain": [
       "Store Number                  object\n",
       "Item Number                   object\n",
       "Volume Sold (Liters)         float64\n",
       "State Bottle Cost            float64\n",
       "Cost Total                   float64\n",
       "Item_Number_Labels            object\n",
       "Store_Labels                  object\n",
       "Log_Trans:Volume_Sold_(L)    float64\n",
       "dtype: object"
      ]
     },
     "execution_count": 17,
     "metadata": {},
     "output_type": "execute_result"
    }
   ],
   "source": [
    "m12merge.dtypes"
   ]
  },
  {
   "cell_type": "code",
   "execution_count": 57,
   "id": "33af641b",
   "metadata": {},
   "outputs": [],
   "source": [
    "m12ogc=m12merge[['Volume Sold (Liters)']]"
   ]
  },
  {
   "cell_type": "markdown",
   "id": "45b9b345",
   "metadata": {},
   "source": [
    "# Linear Regression"
   ]
  },
  {
   "cell_type": "code",
   "execution_count": 59,
   "id": "d984ae24",
   "metadata": {},
   "outputs": [
    {
     "name": "stdout",
     "output_type": "stream",
     "text": [
      "(183336, 1)\n"
     ]
    }
   ],
   "source": [
    "from sklearn.preprocessing import Normalizer\n",
    "transformer = Normalizer().fit(m12ogc)\n",
    "x_normalized = transformer.transform(m12ogc)\n",
    "print(x_normalized.shape)"
   ]
  },
  {
   "cell_type": "code",
   "execution_count": 19,
   "id": "a5d46790",
   "metadata": {},
   "outputs": [],
   "source": [
    "from sklearn.preprocessing import OneHotEncoder\n",
    "encoder = OneHotEncoder(handle_unknown='error').fit(m12d)\n",
    "encoded = encoder.transform(m12d).toarray()"
   ]
  },
  {
   "cell_type": "code",
   "execution_count": 20,
   "id": "0365205a",
   "metadata": {},
   "outputs": [],
   "source": [
    "encodeddf = pd.DataFrame(encoded)"
   ]
  },
  {
   "cell_type": "code",
   "execution_count": 60,
   "id": "2b8c1cf8",
   "metadata": {},
   "outputs": [],
   "source": [
    "X = np.concatenate((x_normalized,encodeddf),axis=1)\n",
    "Y= m12T"
   ]
  },
  {
   "cell_type": "code",
   "execution_count": 22,
   "id": "c0fb9eaa",
   "metadata": {},
   "outputs": [],
   "source": [
    "from sklearn import linear_model\n",
    "from sklearn.metrics import mean_squared_error, r2_score\n",
    "from sklearn.model_selection import train_test_split"
   ]
  },
  {
   "cell_type": "code",
   "execution_count": 61,
   "id": "e66e4f3f",
   "metadata": {},
   "outputs": [],
   "source": [
    "x_train,x_test,y_train,y_test = train_test_split(X,Y,test_size=0.3,random_state=10000)"
   ]
  },
  {
   "cell_type": "code",
   "execution_count": 62,
   "id": "6e90af1b",
   "metadata": {},
   "outputs": [
    {
     "data": {
      "text/plain": [
       "0.028087925020839455"
      ]
     },
     "execution_count": 62,
     "metadata": {},
     "output_type": "execute_result"
    }
   ],
   "source": [
    "lm = linear_model.LinearRegression()\n",
    "model = lm.fit(x_train,y_train)\n",
    "predictions  = lm.predict(x_test)\n",
    "r2_score(y_test, predictions)"
   ]
  },
  {
   "cell_type": "markdown",
   "id": "ca327de5",
   "metadata": {},
   "source": [
    "r2_score with log transformation:     0.03185955208560132\n",
    "r2_score without log transformation:  0.028087925020839455"
   ]
  },
  {
   "cell_type": "code",
   "execution_count": 28,
   "id": "fd151970",
   "metadata": {},
   "outputs": [
    {
     "data": {
      "text/plain": [
       "<matplotlib.collections.PathCollection at 0x15890006880>"
      ]
     },
     "execution_count": 28,
     "metadata": {},
     "output_type": "execute_result"
    },
    {
     "data": {
      "image/png": "[encoded data removed]",
      "text/plain": [
       "<Figure size 432x288 with 1 Axes>"
      ]
     },
     "metadata": {
      "needs_background": "light"
     },
     "output_type": "display_data"
    }
   ],
   "source": [
    "# With log transformation\n",
    "plt.scatter(x=y_test,y=predictions)"
   ]
  },
  {
   "cell_type": "code",
   "execution_count": 63,
   "id": "157335fc",
   "metadata": {},
   "outputs": [
    {
     "data": {
      "text/plain": [
       "<matplotlib.collections.PathCollection at 0x15891e88b80>"
      ]
     },
     "execution_count": 63,
     "metadata": {},
     "output_type": "execute_result"
    },
    {
     "data": {
      "image/png": "[encoded data removed]",
      "text/plain": [
       "<Figure size 432x288 with 1 Axes>"
      ]
     },
     "metadata": {
      "needs_background": "light"
     },
     "output_type": "display_data"
    }
   ],
   "source": [
    "#without log transformation\n",
    "plt.scatter(x=y_test,y=predictions)"
   ]
  },
  {
   "cell_type": "markdown",
   "id": "a120af37",
   "metadata": {},
   "source": [
    "# KNeighbors Regressor"
   ]
  },
  {
   "cell_type": "code",
   "execution_count": 58,
   "id": "24bb43e2",
   "metadata": {},
   "outputs": [
    {
     "data": {
      "text/plain": [
       "0.021021668237591218"
      ]
     },
     "execution_count": 58,
     "metadata": {},
     "output_type": "execute_result"
    }
   ],
   "source": [
    "model = KNeighborsRegressor(n_neighbors=3)\n",
    "model.fit(x_train,y_train)\n",
    "predictions  = model.predict(x_test)\n",
    "score = model.score(x_test,y_test)\n",
    "lm = linear_model.LinearRegression()\n",
    "model1 = lm.fit(x_train,y_train)\n",
    "r2_score(y_test, predictions)"
   ]
  },
  {
   "cell_type": "markdown",
   "id": "20374d4d",
   "metadata": {},
   "source": [
    "n_neighbors count accuracy: \n",
    "2:   0.021021668237591218\n",
    "3:   0.03710902186072107\n",
    "4:   0.03388681650020786\n",
    "5:   0.03337706848563726\n",
    "6:   0.03317562871899604\n",
    "7:   0.028337390416451225\n",
    "10: -0.16765101206296174"
   ]
  },
  {
   "cell_type": "markdown",
   "id": "f2e0a799",
   "metadata": {},
   "source": [
    "# Random Forest"
   ]
  },
  {
   "cell_type": "code",
   "execution_count": 49,
   "id": "bbb0e7bb",
   "metadata": {},
   "outputs": [
    {
     "name": "stderr",
     "output_type": "stream",
     "text": [
      "<ipython-input-49-f9f9d45c6794>:2: DataConversionWarning: A column-vector y was passed when a 1d array was expected. Please change the shape of y to (n_samples,), for example using ravel().\n",
      "  regr.fit(x_train, y_train)\n"
     ]
    },
    {
     "name": "stdout",
     "output_type": "stream",
     "text": [
      "[130.38523662  51.25813672  63.23170814 ...   8.51727839  63.23170814\n",
      " 130.38523662]\n"
     ]
    }
   ],
   "source": [
    "regr = RandomForestRegressor(n_estimators=90, random_state=0)\n",
    "regr.fit(x_train, y_train)\n",
    "print(regr.predict(x_test))"
   ]
  },
  {
   "cell_type": "code",
   "execution_count": 50,
   "id": "817c42b3",
   "metadata": {},
   "outputs": [
    {
     "data": {
      "text/plain": [
       "0.04265824954418418"
      ]
     },
     "execution_count": 50,
     "metadata": {},
     "output_type": "execute_result"
    }
   ],
   "source": [
    "regr.score(x_test,y_test, sample_weight=None)"
   ]
  },
  {
   "cell_type": "markdown",
   "id": "a6b7f4f6",
   "metadata": {},
   "source": [
    "n_estimators accuracy:\n",
    "50:  0.042636722717288134\n",
    "90:  0.04265824954418418\n",
    "100: 0.042667083712491616\n",
    "150: 0.04265332770337327\n",
    "200: 0.0426598189600198\n",
    "500: 0.0426488324527311\n",
    "\n",
    "\n"
   ]
  },
  {
   "cell_type": "markdown",
   "id": "3ae1c457",
   "metadata": {},
   "source": [
    "# Basic Math"
   ]
  },
  {
   "cell_type": "code",
   "execution_count": 80,
   "id": "71b4b250",
   "metadata": {},
   "outputs": [
    {
     "data": {
      "text/html": [
       "<div>\n",
       "<style scoped>\n",
       "    .dataframe tbody tr th:only-of-type {\n",
       "        vertical-align: middle;\n",
       "    }\n",
       "\n",
       "    .dataframe tbody tr th {\n",
       "        vertical-align: top;\n",
       "    }\n",
       "\n",
       "    .dataframe thead th {\n",
       "        text-align: right;\n",
       "    }\n",
       "</style>\n",
       "<table border=\"1\" class=\"dataframe\">\n",
       "  <thead>\n",
       "    <tr style=\"text-align: right;\">\n",
       "      <th></th>\n",
       "      <th>Total Bottle Cost</th>\n",
       "    </tr>\n",
       "  </thead>\n",
       "  <tbody>\n",
       "    <tr>\n",
       "      <th>count</th>\n",
       "      <td>7.300000e+01</td>\n",
       "    </tr>\n",
       "    <tr>\n",
       "      <th>mean</th>\n",
       "      <td>2.753957e+05</td>\n",
       "    </tr>\n",
       "    <tr>\n",
       "      <th>std</th>\n",
       "      <td>8.545859e+05</td>\n",
       "    </tr>\n",
       "    <tr>\n",
       "      <th>min</th>\n",
       "      <td>4.562870e+03</td>\n",
       "    </tr>\n",
       "    <tr>\n",
       "      <th>25%</th>\n",
       "      <td>2.361854e+04</td>\n",
       "    </tr>\n",
       "    <tr>\n",
       "      <th>50%</th>\n",
       "      <td>8.197887e+04</td>\n",
       "    </tr>\n",
       "    <tr>\n",
       "      <th>75%</th>\n",
       "      <td>1.750184e+05</td>\n",
       "    </tr>\n",
       "    <tr>\n",
       "      <th>max</th>\n",
       "      <td>5.565212e+06</td>\n",
       "    </tr>\n",
       "  </tbody>\n",
       "</table>\n",
       "</div>"
      ],
      "text/plain": [
       "       Total Bottle Cost\n",
       "count       7.300000e+01\n",
       "mean        2.753957e+05\n",
       "std         8.545859e+05\n",
       "min         4.562870e+03\n",
       "25%         2.361854e+04\n",
       "50%         8.197887e+04\n",
       "75%         1.750184e+05\n",
       "max         5.565212e+06"
      ]
     },
     "execution_count": 80,
     "metadata": {},
     "output_type": "execute_result"
    }
   ],
   "source": [
    "m12tester=m12merge.groupby(['Store Number']).agg({'Cost Total':['sum']})\n",
    "m12tester.reset_index(inplace=True)\n",
    "m12tester.columns=['Store','Total Bottle Cost']\n",
    "m12tester.sort_values('Total Bottle Cost')\n",
    "m12tester.describe()"
   ]
  },
  {
   "cell_type": "markdown",
   "id": "57fd242a",
   "metadata": {},
   "source": [
    "# Simple statistics suggest  82,000 dollars as a median material cost value, with 175,000 dollars covering 75% of the competition in the area"
   ]
  },
  {
   "cell_type": "code",
   "execution_count": 3,
   "id": "b2e2d0aa",
   "metadata": {},
   "outputs": [],
   "source": [
    "f13=pd.read_csv('C://Users//Matthew//DA//Activities//Final_Project//Final Cuts//Des_Moines_Liquor_Store//csv files//cleaned//final_2013.csv')\n",
    "f14=pd.read_csv('C://Users//Matthew//DA//Activities//Final_Project//Final Cuts//Des_Moines_Liquor_Store//csv files//cleaned//final_2014.csv')\n",
    "f15=pd.read_csv('C://Users//Matthew//DA//Activities//Final_Project//Final Cuts//Des_Moines_Liquor_Store//csv files//cleaned//final_2015.csv')\n",
    "f16=pd.read_csv('C://Users//Matthew//DA//Activities//Final_Project//Final Cuts//Des_Moines_Liquor_Store//csv files//cleaned//final_2016.csv')\n",
    "f17=pd.read_csv('C://Users//Matthew//DA//Activities//Final_Project//Final Cuts//Des_Moines_Liquor_Store//csv files//cleaned//final_2017.csv')\n",
    "f13=f13.drop('Unnamed: 0',axis=1)\n",
    "f14=f14.drop('Unnamed: 0',axis=1)\n",
    "f15=f15.drop('Unnamed: 0',axis=1)\n",
    "f16=f16.drop('Unnamed: 0',axis=1)\n",
    "f17=f17.drop('Unnamed: 0',axis=1)"
   ]
  },
  {
   "cell_type": "code",
   "execution_count": 4,
   "id": "680241f1",
   "metadata": {},
   "outputs": [],
   "source": [
    "# convert data to appropriate dtypes\n",
    "def change_dtypes(x):\n",
    "    x['Date']=pd.to_datetime(x['Date'])\n",
    "    x['Vendor Number']=x['Vendor Number'].astype(str)\n",
    "    x['Store Number']=x['Store Number'].astype(str)\n",
    "    x['Item Number']=x['Item Number'].astype(str)\n",
    "    return x\n",
    "\n",
    "# drop following stores due to extremely low sales (4115) and extremely high cost per bottle (4669)\n",
    "def drop_bad_stores(x):\n",
    "    x[x['Store Number']!='4115']['Store Number']\n",
    "    x[x['Store Number']!='4669']['Store Number']\n",
    "    \n",
    "    return x\n",
    "#drop outlier of item Remy Martin Louis Xiii Cognac (skews cost)\n",
    "def drop_item_outlier(x):\n",
    "    x[x['Item Number']!='903056']['Item Number']\n",
    "    return x\n",
    "\n",
    "def costtot(x,y):\n",
    "    return x*y"
   ]
  },
  {
   "cell_type": "code",
   "execution_count": 5,
   "id": "626a5f42",
   "metadata": {},
   "outputs": [],
   "source": [
    "f13=change_dtypes(f13)\n",
    "f14=change_dtypes(f14)\n",
    "f15=change_dtypes(f15)\n",
    "f16=change_dtypes(f16)\n",
    "f17=change_dtypes(f17)\n",
    "\n",
    "f13=drop_bad_stores(f13)\n",
    "f14=drop_bad_stores(f14)\n",
    "f15=drop_bad_stores(f15)\n",
    "f16=drop_bad_stores(f16)\n",
    "f17=drop_bad_stores(f17)\n",
    "\n",
    "f13['Cost Total']=list(map(costtot,f13['Bottles Sold'],f13['State Bottle Cost']))\n",
    "f14['Cost Total']=list(map(costtot,f14['Bottles Sold'],f14['State Bottle Cost']))\n",
    "f15['Cost Total']=list(map(costtot,f15['Bottles Sold'],f15['State Bottle Cost']))\n",
    "f16['Cost Total']=list(map(costtot,f16['Bottles Sold'],f16['State Bottle Cost']))\n",
    "f17['Cost Total']=list(map(costtot,f17['Bottles Sold'],f17['State Bottle Cost']))"
   ]
  },
  {
   "cell_type": "code",
   "execution_count": 91,
   "id": "70cef02c",
   "metadata": {},
   "outputs": [
    {
     "data": {
      "text/html": [
       "<div>\n",
       "<style scoped>\n",
       "    .dataframe tbody tr th:only-of-type {\n",
       "        vertical-align: middle;\n",
       "    }\n",
       "\n",
       "    .dataframe tbody tr th {\n",
       "        vertical-align: top;\n",
       "    }\n",
       "\n",
       "    .dataframe thead th {\n",
       "        text-align: right;\n",
       "    }\n",
       "</style>\n",
       "<table border=\"1\" class=\"dataframe\">\n",
       "  <thead>\n",
       "    <tr style=\"text-align: right;\">\n",
       "      <th></th>\n",
       "      <th>Total Bottle Cost</th>\n",
       "    </tr>\n",
       "  </thead>\n",
       "  <tbody>\n",
       "    <tr>\n",
       "      <th>count</th>\n",
       "      <td>8.200000e+01</td>\n",
       "    </tr>\n",
       "    <tr>\n",
       "      <th>mean</th>\n",
       "      <td>2.544020e+05</td>\n",
       "    </tr>\n",
       "    <tr>\n",
       "      <th>std</th>\n",
       "      <td>8.294309e+05</td>\n",
       "    </tr>\n",
       "    <tr>\n",
       "      <th>min</th>\n",
       "      <td>1.914630e+03</td>\n",
       "    </tr>\n",
       "    <tr>\n",
       "      <th>25%</th>\n",
       "      <td>3.262923e+04</td>\n",
       "    </tr>\n",
       "    <tr>\n",
       "      <th>50%</th>\n",
       "      <td>6.251919e+04</td>\n",
       "    </tr>\n",
       "    <tr>\n",
       "      <th>75%</th>\n",
       "      <td>1.634681e+05</td>\n",
       "    </tr>\n",
       "    <tr>\n",
       "      <th>max</th>\n",
       "      <td>5.809776e+06</td>\n",
       "    </tr>\n",
       "  </tbody>\n",
       "</table>\n",
       "</div>"
      ],
      "text/plain": [
       "       Total Bottle Cost\n",
       "count       8.200000e+01\n",
       "mean        2.544020e+05\n",
       "std         8.294309e+05\n",
       "min         1.914630e+03\n",
       "25%         3.262923e+04\n",
       "50%         6.251919e+04\n",
       "75%         1.634681e+05\n",
       "max         5.809776e+06"
      ]
     },
     "execution_count": 91,
     "metadata": {},
     "output_type": "execute_result"
    }
   ],
   "source": [
    "f13=f13.groupby(['Store Number']).agg({'Cost Total':['sum']})\n",
    "f13.reset_index(inplace=True)\n",
    "f13.columns=['Store','Total Bottle Cost']\n",
    "f13.sort_values('Total Bottle Cost')\n",
    "f13.describe()"
   ]
  },
  {
   "cell_type": "code",
   "execution_count": 92,
   "id": "bf90e5af",
   "metadata": {},
   "outputs": [
    {
     "data": {
      "text/html": [
       "<div>\n",
       "<style scoped>\n",
       "    .dataframe tbody tr th:only-of-type {\n",
       "        vertical-align: middle;\n",
       "    }\n",
       "\n",
       "    .dataframe tbody tr th {\n",
       "        vertical-align: top;\n",
       "    }\n",
       "\n",
       "    .dataframe thead th {\n",
       "        text-align: right;\n",
       "    }\n",
       "</style>\n",
       "<table border=\"1\" class=\"dataframe\">\n",
       "  <thead>\n",
       "    <tr style=\"text-align: right;\">\n",
       "      <th></th>\n",
       "      <th>Total Bottle Cost</th>\n",
       "    </tr>\n",
       "  </thead>\n",
       "  <tbody>\n",
       "    <tr>\n",
       "      <th>count</th>\n",
       "      <td>8.300000e+01</td>\n",
       "    </tr>\n",
       "    <tr>\n",
       "      <th>mean</th>\n",
       "      <td>2.696088e+05</td>\n",
       "    </tr>\n",
       "    <tr>\n",
       "      <th>std</th>\n",
       "      <td>8.857028e+05</td>\n",
       "    </tr>\n",
       "    <tr>\n",
       "      <th>min</th>\n",
       "      <td>3.233950e+03</td>\n",
       "    </tr>\n",
       "    <tr>\n",
       "      <th>25%</th>\n",
       "      <td>3.403960e+04</td>\n",
       "    </tr>\n",
       "    <tr>\n",
       "      <th>50%</th>\n",
       "      <td>5.606083e+04</td>\n",
       "    </tr>\n",
       "    <tr>\n",
       "      <th>75%</th>\n",
       "      <td>1.615821e+05</td>\n",
       "    </tr>\n",
       "    <tr>\n",
       "      <th>max</th>\n",
       "      <td>6.163137e+06</td>\n",
       "    </tr>\n",
       "  </tbody>\n",
       "</table>\n",
       "</div>"
      ],
      "text/plain": [
       "       Total Bottle Cost\n",
       "count       8.300000e+01\n",
       "mean        2.696088e+05\n",
       "std         8.857028e+05\n",
       "min         3.233950e+03\n",
       "25%         3.403960e+04\n",
       "50%         5.606083e+04\n",
       "75%         1.615821e+05\n",
       "max         6.163137e+06"
      ]
     },
     "execution_count": 92,
     "metadata": {},
     "output_type": "execute_result"
    }
   ],
   "source": [
    "f14=f14.groupby(['Store Number']).agg({'Cost Total':['sum']})\n",
    "f14.reset_index(inplace=True)\n",
    "f14.columns=['Store','Total Bottle Cost']\n",
    "f14.sort_values('Total Bottle Cost')\n",
    "f14.describe()"
   ]
  },
  {
   "cell_type": "code",
   "execution_count": 93,
   "id": "577bd39c",
   "metadata": {},
   "outputs": [
    {
     "data": {
      "text/html": [
       "<div>\n",
       "<style scoped>\n",
       "    .dataframe tbody tr th:only-of-type {\n",
       "        vertical-align: middle;\n",
       "    }\n",
       "\n",
       "    .dataframe tbody tr th {\n",
       "        vertical-align: top;\n",
       "    }\n",
       "\n",
       "    .dataframe thead th {\n",
       "        text-align: right;\n",
       "    }\n",
       "</style>\n",
       "<table border=\"1\" class=\"dataframe\">\n",
       "  <thead>\n",
       "    <tr style=\"text-align: right;\">\n",
       "      <th></th>\n",
       "      <th>Total Bottle Cost</th>\n",
       "    </tr>\n",
       "  </thead>\n",
       "  <tbody>\n",
       "    <tr>\n",
       "      <th>count</th>\n",
       "      <td>9.000000e+01</td>\n",
       "    </tr>\n",
       "    <tr>\n",
       "      <th>mean</th>\n",
       "      <td>2.632542e+05</td>\n",
       "    </tr>\n",
       "    <tr>\n",
       "      <th>std</th>\n",
       "      <td>9.185732e+05</td>\n",
       "    </tr>\n",
       "    <tr>\n",
       "      <th>min</th>\n",
       "      <td>5.507300e+02</td>\n",
       "    </tr>\n",
       "    <tr>\n",
       "      <th>25%</th>\n",
       "      <td>3.277139e+04</td>\n",
       "    </tr>\n",
       "    <tr>\n",
       "      <th>50%</th>\n",
       "      <td>5.547094e+04</td>\n",
       "    </tr>\n",
       "    <tr>\n",
       "      <th>75%</th>\n",
       "      <td>1.339071e+05</td>\n",
       "    </tr>\n",
       "    <tr>\n",
       "      <th>max</th>\n",
       "      <td>6.557253e+06</td>\n",
       "    </tr>\n",
       "  </tbody>\n",
       "</table>\n",
       "</div>"
      ],
      "text/plain": [
       "       Total Bottle Cost\n",
       "count       9.000000e+01\n",
       "mean        2.632542e+05\n",
       "std         9.185732e+05\n",
       "min         5.507300e+02\n",
       "25%         3.277139e+04\n",
       "50%         5.547094e+04\n",
       "75%         1.339071e+05\n",
       "max         6.557253e+06"
      ]
     },
     "execution_count": 93,
     "metadata": {},
     "output_type": "execute_result"
    }
   ],
   "source": [
    "f15=f15.groupby(['Store Number']).agg({'Cost Total':['sum']})\n",
    "f15.reset_index(inplace=True)\n",
    "f15.columns=['Store','Total Bottle Cost']\n",
    "f15.sort_values('Total Bottle Cost')\n",
    "f15.describe()"
   ]
  },
  {
   "cell_type": "code",
   "execution_count": 6,
   "id": "4e7e6f32",
   "metadata": {},
   "outputs": [
    {
     "data": {
      "text/html": [
       "<div>\n",
       "<style scoped>\n",
       "    .dataframe tbody tr th:only-of-type {\n",
       "        vertical-align: middle;\n",
       "    }\n",
       "\n",
       "    .dataframe tbody tr th {\n",
       "        vertical-align: top;\n",
       "    }\n",
       "\n",
       "    .dataframe thead th {\n",
       "        text-align: right;\n",
       "    }\n",
       "</style>\n",
       "<table border=\"1\" class=\"dataframe\">\n",
       "  <thead>\n",
       "    <tr style=\"text-align: right;\">\n",
       "      <th></th>\n",
       "      <th>Total Bottle Cost</th>\n",
       "    </tr>\n",
       "  </thead>\n",
       "  <tbody>\n",
       "    <tr>\n",
       "      <th>count</th>\n",
       "      <td>8.400000e+01</td>\n",
       "    </tr>\n",
       "    <tr>\n",
       "      <th>mean</th>\n",
       "      <td>2.115668e+05</td>\n",
       "    </tr>\n",
       "    <tr>\n",
       "      <th>std</th>\n",
       "      <td>6.948624e+05</td>\n",
       "    </tr>\n",
       "    <tr>\n",
       "      <th>min</th>\n",
       "      <td>3.176470e+03</td>\n",
       "    </tr>\n",
       "    <tr>\n",
       "      <th>25%</th>\n",
       "      <td>3.161324e+04</td>\n",
       "    </tr>\n",
       "    <tr>\n",
       "      <th>50%</th>\n",
       "      <td>4.985196e+04</td>\n",
       "    </tr>\n",
       "    <tr>\n",
       "      <th>75%</th>\n",
       "      <td>1.223662e+05</td>\n",
       "    </tr>\n",
       "    <tr>\n",
       "      <th>max</th>\n",
       "      <td>4.783093e+06</td>\n",
       "    </tr>\n",
       "  </tbody>\n",
       "</table>\n",
       "</div>"
      ],
      "text/plain": [
       "       Total Bottle Cost\n",
       "count       8.400000e+01\n",
       "mean        2.115668e+05\n",
       "std         6.948624e+05\n",
       "min         3.176470e+03\n",
       "25%         3.161324e+04\n",
       "50%         4.985196e+04\n",
       "75%         1.223662e+05\n",
       "max         4.783093e+06"
      ]
     },
     "execution_count": 6,
     "metadata": {},
     "output_type": "execute_result"
    }
   ],
   "source": [
    "f16=f16.groupby(['Store Number']).agg({'Cost Total':['sum']})\n",
    "f16.reset_index(inplace=True)\n",
    "f16.columns=['Store','Total Bottle Cost']\n",
    "f16.sort_values('Total Bottle Cost')\n",
    "f16.describe()"
   ]
  },
  {
   "cell_type": "markdown",
   "id": "dd1be9b9",
   "metadata": {},
   "source": [
    "# Year        Median Cost       75th Percentile Cost\n",
    "\n",
    "# 2012        82,000                 175,000\n",
    "# 2013        62,000                 163,000\n",
    "# 2014        56,000                 162,000\n",
    "# 2015        55,000                 134,000\n",
    "# 2016        50,000                 122,000\n",
    "# 2017 N/A, only has 10 months recorded "
   ]
  },
  {
   "cell_type": "code",
   "execution_count": 7,
   "id": "296117b7",
   "metadata": {},
   "outputs": [],
   "source": [
    "Year = [2012,2013,2014,2015,2016]\n",
    "median_Cost_in_Thousands = [82,62,56,55,50]\n",
    "cost__75th_percentile_in_Thousands = [175,163,162,134,122]"
   ]
  },
  {
   "cell_type": "code",
   "execution_count": 22,
   "id": "5e47879c",
   "metadata": {},
   "outputs": [],
   "source": [
    "Year = np.array([2012,2013,2014,2015,2016])\n",
    "median_Cost_in_Thousands = np.array([82,62,56,55,50])\n",
    "m, b = np.polyfit(Year, median_Cost_in_Thousands, 1)\n",
    "cost__75th_percentile_in_Thousands = np.array([175,163,162,134,122])\n",
    "n, c = np.polyfit(Year, cost__75th_percentile_in_Thousands, 1)"
   ]
  },
  {
   "cell_type": "code",
   "execution_count": 14,
   "id": "528a97e3",
   "metadata": {},
   "outputs": [
    {
     "data": {
      "image/png": "[encoded data removed]",
      "text/plain": [
       "<Figure size 432x288 with 1 Axes>"
      ]
     },
     "metadata": {
      "needs_background": "light"
     },
     "output_type": "display_data"
    }
   ],
   "source": [
    "plt.plot(Year,median_Cost_in_Thousands,marker='o')\n",
    "plt.plot(Year, m*Year + b)\n",
    "plt.plot(Year,cost__75th_percentile_in_Thousands,marker='o')\n",
    "plt.plot(Year, n*Year + c)\n",
    "plt.title('Total Material Costs Per Year')\n",
    "plt.xlabel('Year')\n",
    "plt.ylabel('Cost in Thousands')\n",
    "plt.show()"
   ]
  },
  {
   "cell_type": "code",
   "execution_count": 21,
   "id": "f34a9223",
   "metadata": {},
   "outputs": [
    {
     "name": "stdout",
     "output_type": "stream",
     "text": [
      "The line of best fit for annual median material costs is: y= -7.1 x + 14360.4  while for annual material costs for stores at the 75th percentile it is y= -13.5 x + 27340.2\n"
     ]
    }
   ],
   "source": [
    "print('The line of best fit for annual median material costs is: y=',round(m,3),'x +',round(b,3),' while for annual material costs for stores at the 75th percentile it is y=',round(n,3),'x +',round(c,3))"
   ]
  },
  {
   "cell_type": "markdown",
   "id": "cb41ceae",
   "metadata": {},
   "source": [
    "# Costs are dropping annually, and this model predicts median costs to be 39,000 dollars in 2022 and 110,000 dollars for the 75th percentile. This appears low especially for the median cost due to slightly nonlinear tendencies from the data"
   ]
  }
 ],
 "metadata": {
  "kernelspec": {
   "display_name": "Python 3",
   "language": "python",
   "name": "python3"
  },
  "language_info": {
   "codemirror_mode": {
    "name": "ipython",
    "version": 3
   },
   "file_extension": ".py",
   "mimetype": "text/x-python",
   "name": "python",
   "nbconvert_exporter": "python",
   "pygments_lexer": "ipython3",
   "version": "3.8.8"
  }
 },
 "nbformat": 4,
 "nbformat_minor": 5
}

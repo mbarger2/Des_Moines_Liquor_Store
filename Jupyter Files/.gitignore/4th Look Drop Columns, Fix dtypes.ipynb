{
 "cells": [
  {
   "cell_type": "code",
   "execution_count": 1,
   "id": "f1849e68",
   "metadata": {},
   "outputs": [],
   "source": [
    "import pandas as pd\n",
    "import numpy as np\n",
    "import chunk\n",
    "import re\n",
    "from datetime import datetime\n",
    "\n",
    "#pd.set_option('display.max_columns',30)\n",
    "#pd.set_option('display.max_rows',300)"
   ]
  },
  {
   "cell_type": "code",
   "execution_count": null,
   "id": "b2c7b5d2",
   "metadata": {},
   "outputs": [],
   "source": [
    "# Clean versions (here for visibility, they are individually imported in the code below)\n",
    "c12=pd.read_csv('C://Users//Owner//DA//Classwork//0 Activities//Final_Project//Final Cuts//2 cleaned//clean_2012.csv')\n",
    "c13=pd.read_csv('C://Users//Owner//DA//Classwork//0 Activities//Final_Project//Final Cuts//2 cleaned//clean_2013.csv')\n",
    "c14=pd.read_csv('C://Users//Owner//DA//Classwork//0 Activities//Final_Project//Final Cuts//2 cleaned//clean_2014.csv')\n",
    "c15=pd.read_csv('C://Users//Owner//DA//Classwork//0 Activities//Final_Project//Final Cuts//2 cleaned//clean_2015.csv')\n",
    "c16=pd.read_csv('C://Users//Owner//DA//Classwork//0 Activities//Final_Project//Final Cuts//2 cleaned//clean_2016.csv')\n",
    "c17=pd.read_csv('C://Users//Owner//DA//Classwork//0 Activities//Final_Project//Final Cuts//2 cleaned//clean_2017.csv')"
   ]
  },
  {
   "cell_type": "markdown",
   "id": "badfc4bf",
   "metadata": {},
   "source": [
    "## For more accurate information, I will focus on liquor stores only in the city of Des Moines. The following cells import each of the 6 portions of the now clean dataset and determine how many stores are in Des Moines."
   ]
  },
  {
   "cell_type": "code",
   "execution_count": 2,
   "id": "f3c31580",
   "metadata": {},
   "outputs": [],
   "source": [
    "c12=pd.read_csv('C://Users//Matthew//DA//Activities//Final_Project//Final Cuts//clean_2012.csv')\n",
    "c12['City']=list(map(lambda x: x.upper(),c12['City']))\n",
    "len(c12[c12['City']=='DES MOINES'])"
   ]
  },
  {
   "cell_type": "code",
   "execution_count": null,
   "id": "3af86d08",
   "metadata": {},
   "outputs": [],
   "source": [
    "listof6 = (c12,c13,c14,c15,c16,c17)\n",
    "for i in listof6:\n",
    "    i['City']=list(map(lambda x: x.upper(),i['City']))\n",
    "    print('The number of stores in Des Moines in ',i, 'is: ',i['Store Number'].nunique())"
   ]
  },
  {
   "cell_type": "code",
   "execution_count": 83,
   "id": "8996ffb3",
   "metadata": {},
   "outputs": [
    {
     "data": {
      "text/plain": [
       "75"
      ]
     },
     "execution_count": 83,
     "metadata": {},
     "output_type": "execute_result"
    }
   ],
   "source": [
    "c12['Store Number'].nunique()"
   ]
  },
  {
   "cell_type": "code",
   "execution_count": 62,
   "id": "bcf77970",
   "metadata": {},
   "outputs": [],
   "source": [
    "c13=pd.read_csv('C://Users//Matthew//DA//Activities//Final_Project//Final Cuts//clean_2013.csv')\n",
    "c13['City']=list(map(lambda x: x.upper(),c13['City']))\n",
    "len(c13[c13['City']=='DES MOINES'])"
   ]
  },
  {
   "cell_type": "code",
   "execution_count": 82,
   "id": "5c071ed5",
   "metadata": {},
   "outputs": [
    {
     "data": {
      "text/plain": [
       "82"
      ]
     },
     "execution_count": 82,
     "metadata": {},
     "output_type": "execute_result"
    }
   ],
   "source": [
    "c13['Store Number'].nunique()"
   ]
  },
  {
   "cell_type": "code",
   "execution_count": 4,
   "id": "1cf7368e",
   "metadata": {},
   "outputs": [
    {
     "name": "stderr",
     "output_type": "stream",
     "text": [
      "C:\\ProgramData\\Anaconda3\\lib\\site-packages\\IPython\\core\\interactiveshell.py:3165: DtypeWarning: Columns (10) have mixed types.Specify dtype option on import or set low_memory=False.\n",
      "  has_raised = await self.run_ast_nodes(code_ast.body, cell_name,\n"
     ]
    }
   ],
   "source": [
    "c14=pd.read_csv('C://Users//Matthew//DA//Activities//Final_Project//Final Cuts//clean_2014.csv')\n",
    "c14['City']=list(map(lambda x: x.upper(),c14['City']))\n",
    "len(c14[c14['City']=='DES MOINES'])"
   ]
  },
  {
   "cell_type": "code",
   "execution_count": 81,
   "id": "0ba9731f",
   "metadata": {},
   "outputs": [
    {
     "data": {
      "text/plain": [
       "83"
      ]
     },
     "execution_count": 81,
     "metadata": {},
     "output_type": "execute_result"
    }
   ],
   "source": [
    "c14['Store Number'].nunique()"
   ]
  },
  {
   "cell_type": "code",
   "execution_count": 5,
   "id": "0ccea3c6",
   "metadata": {},
   "outputs": [],
   "source": [
    "c15=pd.read_csv('C://Users//Matthew//DA//Activities//Final_Project//Final Cuts//clean_2015.csv')\n",
    "c15['City']=list(map(lambda x: x.upper(),c15['City']))\n",
    "len(c15[c15['City']=='DES MOINES'])"
   ]
  },
  {
   "cell_type": "code",
   "execution_count": 80,
   "id": "563a069f",
   "metadata": {},
   "outputs": [
    {
     "data": {
      "text/plain": [
       "90"
      ]
     },
     "execution_count": 80,
     "metadata": {},
     "output_type": "execute_result"
    }
   ],
   "source": [
    "c15['Store Number'].nunique()"
   ]
  },
  {
   "cell_type": "code",
   "execution_count": 6,
   "id": "4c5ed1af",
   "metadata": {},
   "outputs": [
    {
     "name": "stderr",
     "output_type": "stream",
     "text": [
      "C:\\ProgramData\\Anaconda3\\lib\\site-packages\\IPython\\core\\interactiveshell.py:3165: DtypeWarning: Columns (8) have mixed types.Specify dtype option on import or set low_memory=False.\n",
      "  has_raised = await self.run_ast_nodes(code_ast.body, cell_name,\n"
     ]
    }
   ],
   "source": [
    "c16=pd.read_csv('C://Users//Matthew//DA//Activities//Final_Project//Final Cuts//clean_2016.csv')\n",
    "c16['City']=list(map(lambda x: x.upper(),c16['City']))\n",
    "len(c16[c16['City']=='DES MOINES'])"
   ]
  },
  {
   "cell_type": "code",
   "execution_count": 79,
   "id": "d5e7d4a1",
   "metadata": {},
   "outputs": [
    {
     "data": {
      "text/plain": [
       "84"
      ]
     },
     "execution_count": 79,
     "metadata": {},
     "output_type": "execute_result"
    }
   ],
   "source": [
    "c16['Store Number'].nunique()"
   ]
  },
  {
   "cell_type": "code",
   "execution_count": 7,
   "id": "7e562639",
   "metadata": {},
   "outputs": [],
   "source": [
    "c17=pd.read_csv('C://Users//Matthew//DA//Activities//Final_Project//Final Cuts//clean_2017.csv')\n",
    "c17['City']=list(map(lambda x: x.upper(),c17['City']))\n",
    "len(c17[c17['City']=='DES MOINES'])"
   ]
  },
  {
   "cell_type": "code",
   "execution_count": 78,
   "id": "f5c94887",
   "metadata": {},
   "outputs": [
    {
     "data": {
      "text/plain": [
       "82"
      ]
     },
     "execution_count": 78,
     "metadata": {},
     "output_type": "execute_result"
    }
   ],
   "source": [
    "c17['Store Number'].nunique()"
   ]
  },
  {
   "cell_type": "markdown",
   "id": "ba13bb80",
   "metadata": {},
   "source": [
    "### Confirming status of each file's na values and dtypes"
   ]
  },
  {
   "cell_type": "code",
   "execution_count": 9,
   "id": "64e497bd",
   "metadata": {},
   "outputs": [
    {
     "name": "stdout",
     "output_type": "stream",
     "text": [
      "Unnamed: 0               0\n",
      "Unnamed: 0.1             0\n",
      "Invoice/Item Number      0\n",
      "Date                     0\n",
      "Store Number             0\n",
      "Store Name               0\n",
      "Address                  0\n",
      "City                     0\n",
      "Zip Code                 0\n",
      "Store Location           0\n",
      "County Number            0\n",
      "County                   0\n",
      "Category                 0\n",
      "Category Name            0\n",
      "Vendor Number            0\n",
      "Vendor Name              0\n",
      "Item Number              0\n",
      "Item Description         0\n",
      "Pack                     0\n",
      "Bottle Volume (ml)       0\n",
      "State Bottle Cost        0\n",
      "State Bottle Retail      0\n",
      "Bottles Sold             0\n",
      "Sale (Dollars)           0\n",
      "Volume Sold (Liters)     0\n",
      "Volume Sold (Gallons)    0\n",
      "Year                     0\n",
      "dtype: int64 Unnamed: 0               0\n",
      "Unnamed: 0.1             0\n",
      "Invoice/Item Number      0\n",
      "Date                     0\n",
      "Store Number             0\n",
      "Store Name               0\n",
      "Address                  0\n",
      "City                     0\n",
      "Zip Code                 0\n",
      "Store Location           0\n",
      "County Number            0\n",
      "County                   0\n",
      "Category                 0\n",
      "Category Name            0\n",
      "Vendor Number            0\n",
      "Vendor Name              0\n",
      "Item Number              0\n",
      "Item Description         0\n",
      "Pack                     0\n",
      "Bottle Volume (ml)       0\n",
      "State Bottle Cost        0\n",
      "State Bottle Retail      0\n",
      "Bottles Sold             0\n",
      "Sale (Dollars)           0\n",
      "Volume Sold (Liters)     0\n",
      "Volume Sold (Gallons)    0\n",
      "Year                     0\n",
      "dtype: int64 Unnamed: 0               0\n",
      "Unnamed: 0.1             0\n",
      "Invoice/Item Number      0\n",
      "Date                     0\n",
      "Store Number             0\n",
      "Store Name               0\n",
      "Address                  0\n",
      "City                     0\n",
      "Zip Code                 0\n",
      "Store Location           0\n",
      "County Number            0\n",
      "County                   0\n",
      "Category                 0\n",
      "Category Name            0\n",
      "Vendor Number            0\n",
      "Vendor Name              0\n",
      "Item Number              0\n",
      "Item Description         0\n",
      "Pack                     0\n",
      "Bottle Volume (ml)       0\n",
      "State Bottle Cost        0\n",
      "State Bottle Retail      0\n",
      "Bottles Sold             0\n",
      "Sale (Dollars)           0\n",
      "Volume Sold (Liters)     0\n",
      "Volume Sold (Gallons)    0\n",
      "Year                     0\n",
      "dtype: int64 Unnamed: 0                 0\n",
      "Unnamed: 0.1               0\n",
      "Invoice/Item Number        0\n",
      "Date                       0\n",
      "Store Number               0\n",
      "Store Name                 0\n",
      "Address                    0\n",
      "City                       0\n",
      "Zip Code                   0\n",
      "Store Location             0\n",
      "County Number              0\n",
      "County                     0\n",
      "Category                 231\n",
      "Category Name            280\n",
      "Vendor Number              0\n",
      "Vendor Name                0\n",
      "Item Number                0\n",
      "Item Description           0\n",
      "Pack                       0\n",
      "Bottle Volume (ml)         0\n",
      "State Bottle Cost          0\n",
      "State Bottle Retail        0\n",
      "Bottles Sold               0\n",
      "Sale (Dollars)             0\n",
      "Volume Sold (Liters)       0\n",
      "Volume Sold (Gallons)      0\n",
      "Year                       0\n",
      "dtype: int64 Unnamed: 0                 0\n",
      "Unnamed: 0.1               0\n",
      "Invoice/Item Number        0\n",
      "Date                       0\n",
      "Store Number               0\n",
      "Store Name                 0\n",
      "Address                    0\n",
      "City                       0\n",
      "Zip Code                   0\n",
      "Store Location             0\n",
      "County Number              0\n",
      "County                     0\n",
      "Category                   5\n",
      "Category Name            121\n",
      "Vendor Number              2\n",
      "Vendor Name                0\n",
      "Item Number                0\n",
      "Item Description           0\n",
      "Pack                       0\n",
      "Bottle Volume (ml)         0\n",
      "State Bottle Cost          0\n",
      "State Bottle Retail        0\n",
      "Bottles Sold               0\n",
      "Sale (Dollars)             0\n",
      "Volume Sold (Liters)       0\n",
      "Volume Sold (Gallons)      0\n",
      "Year                       0\n",
      "dtype: int64 Unnamed: 0                 0\n",
      "Unnamed: 0.1               0\n",
      "Invoice/Item Number        0\n",
      "Date                       0\n",
      "Store Number               0\n",
      "Store Name                 0\n",
      "Address                    1\n",
      "City                       0\n",
      "Zip Code                   0\n",
      "Store Location             0\n",
      "County Number              0\n",
      "County                     0\n",
      "Category                 128\n",
      "Category Name            126\n",
      "Vendor Number              0\n",
      "Vendor Name                0\n",
      "Item Number                0\n",
      "Item Description           0\n",
      "Pack                       0\n",
      "Bottle Volume (ml)         0\n",
      "State Bottle Cost          0\n",
      "State Bottle Retail        0\n",
      "Bottles Sold               0\n",
      "Sale (Dollars)             0\n",
      "Volume Sold (Liters)       0\n",
      "Volume Sold (Gallons)      0\n",
      "Year                       0\n",
      "dtype: int64\n"
     ]
    }
   ],
   "source": [
    "print(c12.isna().sum(),c13.isna().sum(),c14.isna().sum(),c15.isna().sum(),c16.isna().sum(),c17.isna().sum())"
   ]
  },
  {
   "cell_type": "code",
   "execution_count": 27,
   "id": "07cb2104",
   "metadata": {},
   "outputs": [
    {
     "name": "stdout",
     "output_type": "stream",
     "text": [
      "Unnamed: 0                 int64\n",
      "Unnamed: 0.1               int64\n",
      "Invoice/Item Number       object\n",
      "Date                      object\n",
      "Store Number               int64\n",
      "Store Name                object\n",
      "Address                   object\n",
      "City                      object\n",
      "Zip Code                  object\n",
      "Store Location            object\n",
      "County Number             object\n",
      "County                    object\n",
      "Category                 float64\n",
      "Category Name             object\n",
      "Vendor Number            float64\n",
      "Vendor Name               object\n",
      "Item Number                int64\n",
      "Item Description          object\n",
      "Pack                       int64\n",
      "Bottle Volume (ml)         int64\n",
      "State Bottle Cost         object\n",
      "State Bottle Retail       object\n",
      "Bottles Sold               int64\n",
      "Sale (Dollars)            object\n",
      "Volume Sold (Liters)     float64\n",
      "Volume Sold (Gallons)    float64\n",
      "Year                       int64\n",
      "dtype: object Unnamed: 0                 int64\n",
      "Unnamed: 0.1               int64\n",
      "Invoice/Item Number       object\n",
      "Date                      object\n",
      "Store Number               int64\n",
      "Store Name                object\n",
      "Address                   object\n",
      "City                      object\n",
      "Zip Code                  object\n",
      "Store Location            object\n",
      "County Number             object\n",
      "County                    object\n",
      "Category                 float64\n",
      "Category Name             object\n",
      "Vendor Number            float64\n",
      "Vendor Name               object\n",
      "Item Number                int64\n",
      "Item Description          object\n",
      "Pack                       int64\n",
      "Bottle Volume (ml)         int64\n",
      "State Bottle Cost         object\n",
      "State Bottle Retail       object\n",
      "Bottles Sold               int64\n",
      "Sale (Dollars)            object\n",
      "Volume Sold (Liters)     float64\n",
      "Volume Sold (Gallons)    float64\n",
      "Year                       int64\n",
      "dtype: object Unnamed: 0                 int64\n",
      "Unnamed: 0.1               int64\n",
      "Invoice/Item Number       object\n",
      "Date                      object\n",
      "Store Number               int64\n",
      "Store Name                object\n",
      "Address                   object\n",
      "City                      object\n",
      "Zip Code                  object\n",
      "Store Location            object\n",
      "County Number             object\n",
      "County                    object\n",
      "Category                 float64\n",
      "Category Name             object\n",
      "Vendor Number            float64\n",
      "Vendor Name               object\n",
      "Item Number                int64\n",
      "Item Description          object\n",
      "Pack                       int64\n",
      "Bottle Volume (ml)         int64\n",
      "State Bottle Cost         object\n",
      "State Bottle Retail       object\n",
      "Bottles Sold               int64\n",
      "Sale (Dollars)            object\n",
      "Volume Sold (Liters)     float64\n",
      "Volume Sold (Gallons)    float64\n",
      "Year                       int64\n",
      "dtype: object Unnamed: 0                 int64\n",
      "Unnamed: 0.1               int64\n",
      "Invoice/Item Number       object\n",
      "Date                      object\n",
      "Store Number               int64\n",
      "Store Name                object\n",
      "Address                   object\n",
      "City                      object\n",
      "Zip Code                  object\n",
      "Store Location            object\n",
      "County Number            float64\n",
      "County                    object\n",
      "Category                 float64\n",
      "Category Name             object\n",
      "Vendor Number            float64\n",
      "Vendor Name               object\n",
      "Item Number                int64\n",
      "Item Description          object\n",
      "Pack                       int64\n",
      "Bottle Volume (ml)         int64\n",
      "State Bottle Cost         object\n",
      "State Bottle Retail       object\n",
      "Bottles Sold               int64\n",
      "Sale (Dollars)            object\n",
      "Volume Sold (Liters)     float64\n",
      "Volume Sold (Gallons)    float64\n",
      "Year                       int64\n",
      "dtype: object Unnamed: 0                 int64\n",
      "Unnamed: 0.1               int64\n",
      "Invoice/Item Number       object\n",
      "Date                      object\n",
      "Store Number               int64\n",
      "Store Name                object\n",
      "Address                   object\n",
      "City                      object\n",
      "Zip Code                  object\n",
      "Store Location            object\n",
      "County Number            float64\n",
      "County                    object\n",
      "Category                 float64\n",
      "Category Name             object\n",
      "Vendor Number            float64\n",
      "Vendor Name               object\n",
      "Item Number                int64\n",
      "Item Description          object\n",
      "Pack                       int64\n",
      "Bottle Volume (ml)         int64\n",
      "State Bottle Cost         object\n",
      "State Bottle Retail       object\n",
      "Bottles Sold               int64\n",
      "Sale (Dollars)            object\n",
      "Volume Sold (Liters)     float64\n",
      "Volume Sold (Gallons)    float64\n",
      "Year                       int64\n",
      "dtype: object Unnamed: 0                 int64\n",
      "Unnamed: 0.1               int64\n",
      "Invoice/Item Number       object\n",
      "Date                      object\n",
      "Store Number               int64\n",
      "Store Name                object\n",
      "Address                   object\n",
      "City                      object\n",
      "Zip Code                 float64\n",
      "Store Location            object\n",
      "County Number            float64\n",
      "County                    object\n",
      "Category                 float64\n",
      "Category Name             object\n",
      "Vendor Number            float64\n",
      "Vendor Name               object\n",
      "Item Number                int64\n",
      "Item Description          object\n",
      "Pack                       int64\n",
      "Bottle Volume (ml)         int64\n",
      "State Bottle Cost         object\n",
      "State Bottle Retail       object\n",
      "Bottles Sold               int64\n",
      "Sale (Dollars)            object\n",
      "Volume Sold (Liters)     float64\n",
      "Volume Sold (Gallons)    float64\n",
      "Year                       int64\n",
      "dtype: object\n"
     ]
    }
   ],
   "source": [
    "print(c12.dtypes,c13.dtypes,c14.dtypes,c15.dtypes,c16.dtypes,c17.dtypes)"
   ]
  },
  {
   "cell_type": "markdown",
   "id": "e4278aa0",
   "metadata": {},
   "source": [
    "## Remove excess columns, confirm appropriate dtypes"
   ]
  },
  {
   "cell_type": "code",
   "execution_count": 84,
   "id": "820ab2e7",
   "metadata": {},
   "outputs": [],
   "source": [
    "c12=c12.reset_index(drop=True)"
   ]
  },
  {
   "cell_type": "code",
   "execution_count": 85,
   "id": "e2256e2c",
   "metadata": {},
   "outputs": [
    {
     "data": {
      "text/plain": [
       "Index(['Unnamed: 0', 'Unnamed: 0.1', 'Invoice/Item Number', 'Date',\n",
       "       'Store Number', 'Store Name', 'Address', 'City', 'Zip Code',\n",
       "       'Store Location', 'County Number', 'County', 'Category',\n",
       "       'Category Name', 'Vendor Number', 'Vendor Name', 'Item Number',\n",
       "       'Item Description', 'Pack', 'Bottle Volume (ml)', 'State Bottle Cost',\n",
       "       'State Bottle Retail', 'Bottles Sold', 'Sale (Dollars)',\n",
       "       'Volume Sold (Liters)', 'Volume Sold (Gallons)', 'Year'],\n",
       "      dtype='object')"
      ]
     },
     "execution_count": 85,
     "metadata": {},
     "output_type": "execute_result"
    }
   ],
   "source": [
    "c12.columns"
   ]
  },
  {
   "cell_type": "markdown",
   "id": "d0a830c5",
   "metadata": {},
   "source": [
    "### Are unique Item Description, Item Number, State Bottle Cost, State Bottle Retail values occuring in the same pattern?"
   ]
  },
  {
   "cell_type": "code",
   "execution_count": 90,
   "id": "c2c6f047",
   "metadata": {},
   "outputs": [
    {
     "data": {
      "text/plain": [
       "1779"
      ]
     },
     "execution_count": 90,
     "metadata": {},
     "output_type": "execute_result"
    }
   ],
   "source": [
    "c12['Item Description'].nunique()"
   ]
  },
  {
   "cell_type": "code",
   "execution_count": 92,
   "id": "70fadf7d",
   "metadata": {},
   "outputs": [
    {
     "data": {
      "text/plain": [
       "2484"
      ]
     },
     "execution_count": 92,
     "metadata": {},
     "output_type": "execute_result"
    }
   ],
   "source": [
    "c12['Item Number'].nunique()"
   ]
  },
  {
   "cell_type": "code",
   "execution_count": 108,
   "id": "e891d871",
   "metadata": {},
   "outputs": [
    {
     "data": {
      "text/plain": [
       "1395"
      ]
     },
     "execution_count": 108,
     "metadata": {},
     "output_type": "execute_result"
    }
   ],
   "source": [
    "c12['State Bottle Cost'].nunique()"
   ]
  },
  {
   "cell_type": "code",
   "execution_count": 109,
   "id": "68522cd6",
   "metadata": {},
   "outputs": [
    {
     "data": {
      "text/plain": [
       "1587"
      ]
     },
     "execution_count": 109,
     "metadata": {},
     "output_type": "execute_result"
    }
   ],
   "source": [
    "c12['State Bottle Retail'].nunique()"
   ]
  },
  {
   "cell_type": "markdown",
   "id": "7ec1faa3",
   "metadata": {},
   "source": [
    "### no they are not: they have individual value in the data"
   ]
  },
  {
   "cell_type": "markdown",
   "id": "ca567f97",
   "metadata": {},
   "source": [
    "### Need to see if different Item Numbers means different sale/cost values per item"
   ]
  },
  {
   "cell_type": "code",
   "execution_count": 206,
   "id": "c8699e80",
   "metadata": {},
   "outputs": [],
   "source": [
    "iddf=c12[['Item Description','Item Number','State Bottle Cost',\n",
    "       'State Bottle Retail','Vendor Number']]"
   ]
  },
  {
   "cell_type": "code",
   "execution_count": 207,
   "id": "a7820543",
   "metadata": {},
   "outputs": [
    {
     "name": "stderr",
     "output_type": "stream",
     "text": [
      "<ipython-input-207-d640498d7573>:1: SettingWithCopyWarning: \n",
      "A value is trying to be set on a copy of a slice from a DataFrame\n",
      "\n",
      "See the caveats in the documentation: https://pandas.pydata.org/pandas-docs/stable/user_guide/indexing.html#returning-a-view-versus-a-copy\n",
      "  iddf.drop_duplicates(subset=['Item Number'],inplace=True)\n"
     ]
    }
   ],
   "source": [
    "iddf.drop_duplicates(subset=['Item Number'],inplace=True)"
   ]
  },
  {
   "cell_type": "code",
   "execution_count": 209,
   "id": "b987e1f7",
   "metadata": {},
   "outputs": [
    {
     "data": {
      "text/plain": [
       "1779"
      ]
     },
     "execution_count": 209,
     "metadata": {},
     "output_type": "execute_result"
    }
   ],
   "source": [
    "c12['Item Description'].nunique()"
   ]
  },
  {
   "cell_type": "code",
   "execution_count": 210,
   "id": "aa15b537",
   "metadata": {},
   "outputs": [
    {
     "data": {
      "text/plain": [
       "2484"
      ]
     },
     "execution_count": 210,
     "metadata": {},
     "output_type": "execute_result"
    }
   ],
   "source": [
    "c12['Item Number'].nunique()"
   ]
  },
  {
   "cell_type": "code",
   "execution_count": 211,
   "id": "854d2cc9",
   "metadata": {},
   "outputs": [
    {
     "data": {
      "text/plain": [
       "101"
      ]
     },
     "execution_count": 211,
     "metadata": {},
     "output_type": "execute_result"
    }
   ],
   "source": [
    "c12['Vendor Number'].nunique()"
   ]
  },
  {
   "cell_type": "code",
   "execution_count": 212,
   "id": "5ed638e8",
   "metadata": {},
   "outputs": [
    {
     "data": {
      "text/plain": [
       "1395"
      ]
     },
     "execution_count": 212,
     "metadata": {},
     "output_type": "execute_result"
    }
   ],
   "source": [
    "c12['State Bottle Cost'].nunique()"
   ]
  },
  {
   "cell_type": "code",
   "execution_count": 213,
   "id": "b45829e1",
   "metadata": {},
   "outputs": [
    {
     "data": {
      "text/plain": [
       "2484"
      ]
     },
     "execution_count": 213,
     "metadata": {},
     "output_type": "execute_result"
    }
   ],
   "source": [
    "len(iddf)"
   ]
  },
  {
   "cell_type": "code",
   "execution_count": 115,
   "id": "8f2593bf",
   "metadata": {},
   "outputs": [
    {
     "data": {
      "text/plain": [
       "1587"
      ]
     },
     "execution_count": 115,
     "metadata": {},
     "output_type": "execute_result"
    }
   ],
   "source": [
    "c12['State Bottle Retail'].nunique()"
   ]
  },
  {
   "cell_type": "code",
   "execution_count": 214,
   "id": "9587f4c7",
   "metadata": {},
   "outputs": [
    {
     "data": {
      "text/html": [
       "<div>\n",
       "<style scoped>\n",
       "    .dataframe tbody tr th:only-of-type {\n",
       "        vertical-align: middle;\n",
       "    }\n",
       "\n",
       "    .dataframe tbody tr th {\n",
       "        vertical-align: top;\n",
       "    }\n",
       "\n",
       "    .dataframe thead th {\n",
       "        text-align: right;\n",
       "    }\n",
       "</style>\n",
       "<table border=\"1\" class=\"dataframe\">\n",
       "  <thead>\n",
       "    <tr style=\"text-align: right;\">\n",
       "      <th></th>\n",
       "      <th>Item Description</th>\n",
       "      <th>Item Number</th>\n",
       "      <th>State Bottle Cost</th>\n",
       "      <th>State Bottle Retail</th>\n",
       "      <th>Vendor Number</th>\n",
       "    </tr>\n",
       "  </thead>\n",
       "  <tbody>\n",
       "    <tr>\n",
       "      <th>0</th>\n",
       "      <td>Jagermeister Liqueur</td>\n",
       "      <td>65256</td>\n",
       "      <td>11.58</td>\n",
       "      <td>17.37</td>\n",
       "      <td>192.0</td>\n",
       "    </tr>\n",
       "    <tr>\n",
       "      <th>1</th>\n",
       "      <td>J &amp; B Rare Scotch</td>\n",
       "      <td>5289</td>\n",
       "      <td>14.98</td>\n",
       "      <td>22.47</td>\n",
       "      <td>260.0</td>\n",
       "    </tr>\n",
       "    <tr>\n",
       "      <th>2</th>\n",
       "      <td>Bacardi Gold Rum</td>\n",
       "      <td>43038</td>\n",
       "      <td>14.67</td>\n",
       "      <td>22.00</td>\n",
       "      <td>35.0</td>\n",
       "    </tr>\n",
       "    <tr>\n",
       "      <th>3</th>\n",
       "      <td>Tanqueray Gin</td>\n",
       "      <td>28866</td>\n",
       "      <td>12.00</td>\n",
       "      <td>17.99</td>\n",
       "      <td>260.0</td>\n",
       "    </tr>\n",
       "    <tr>\n",
       "      <th>4</th>\n",
       "      <td>Williams Pear Brandy</td>\n",
       "      <td>901167</td>\n",
       "      <td>19.87</td>\n",
       "      <td>29.81</td>\n",
       "      <td>885.0</td>\n",
       "    </tr>\n",
       "    <tr>\n",
       "      <th>...</th>\n",
       "      <td>...</td>\n",
       "      <td>...</td>\n",
       "      <td>...</td>\n",
       "      <td>...</td>\n",
       "      <td>...</td>\n",
       "    </tr>\n",
       "    <tr>\n",
       "      <th>2479</th>\n",
       "      <td>Ardbeg Uigeadail</td>\n",
       "      <td>902707</td>\n",
       "      <td>51.98</td>\n",
       "      <td>77.97</td>\n",
       "      <td>420.0</td>\n",
       "    </tr>\n",
       "    <tr>\n",
       "      <th>2480</th>\n",
       "      <td>Grappa Chianti Classico</td>\n",
       "      <td>901662</td>\n",
       "      <td>4.28</td>\n",
       "      <td>6.42</td>\n",
       "      <td>885.0</td>\n",
       "    </tr>\n",
       "    <tr>\n",
       "      <th>2481</th>\n",
       "      <td>Rogue Pink Spruce Gin</td>\n",
       "      <td>904562</td>\n",
       "      <td>18.67</td>\n",
       "      <td>28.01</td>\n",
       "      <td>399.0</td>\n",
       "    </tr>\n",
       "    <tr>\n",
       "      <th>2482</th>\n",
       "      <td>Compass Box Spice Tree Whisky</td>\n",
       "      <td>904224</td>\n",
       "      <td>34.67</td>\n",
       "      <td>52.01</td>\n",
       "      <td>305.0</td>\n",
       "    </tr>\n",
       "    <tr>\n",
       "      <th>2483</th>\n",
       "      <td>Seagrams Seven Crown Dark Honey Mini</td>\n",
       "      <td>904701</td>\n",
       "      <td>8.09</td>\n",
       "      <td>12.14</td>\n",
       "      <td>260.0</td>\n",
       "    </tr>\n",
       "  </tbody>\n",
       "</table>\n",
       "<p>2484 rows × 5 columns</p>\n",
       "</div>"
      ],
      "text/plain": [
       "                          Item Description Item Number  State Bottle Cost  \\\n",
       "0                     Jagermeister Liqueur       65256              11.58   \n",
       "1                        J & B Rare Scotch        5289              14.98   \n",
       "2                         Bacardi Gold Rum       43038              14.67   \n",
       "3                            Tanqueray Gin       28866              12.00   \n",
       "4                     Williams Pear Brandy      901167              19.87   \n",
       "...                                    ...         ...                ...   \n",
       "2479                      Ardbeg Uigeadail      902707              51.98   \n",
       "2480               Grappa Chianti Classico      901662               4.28   \n",
       "2481                 Rogue Pink Spruce Gin      904562              18.67   \n",
       "2482         Compass Box Spice Tree Whisky      904224              34.67   \n",
       "2483  Seagrams Seven Crown Dark Honey Mini      904701               8.09   \n",
       "\n",
       "      State Bottle Retail Vendor Number  \n",
       "0                   17.37         192.0  \n",
       "1                   22.47         260.0  \n",
       "2                   22.00          35.0  \n",
       "3                   17.99         260.0  \n",
       "4                   29.81         885.0  \n",
       "...                   ...           ...  \n",
       "2479                77.97         420.0  \n",
       "2480                 6.42         885.0  \n",
       "2481                28.01         399.0  \n",
       "2482                52.01         305.0  \n",
       "2483                12.14         260.0  \n",
       "\n",
       "[2484 rows x 5 columns]"
      ]
     },
     "execution_count": 214,
     "metadata": {},
     "output_type": "execute_result"
    }
   ],
   "source": [
    "iddf.reset_index(drop=True)"
   ]
  },
  {
   "cell_type": "code",
   "execution_count": 216,
   "id": "c9077110",
   "metadata": {},
   "outputs": [
    {
     "name": "stdout",
     "output_type": "stream",
     "text": [
      "Jagermeister Liqueur ['192.0']\n",
      "J & B Rare Scotch ['260.0']\n",
      "Bacardi Gold Rum ['35.0']\n",
      "Tanqueray Gin ['260.0']\n",
      "Williams Pear Brandy ['885.0']\n",
      "Jim Beam ['65.0']\n",
      "Ciroc Red Berry ['260.0']\n",
      "Juarez Tequila Silver ['434.0']\n",
      "Burnett's Vodka 80 Prf ['259.0']\n",
      "Jose Cuervo Especial Reposado Tequila ['395.0']\n",
      "Yukon Jack Canadian Liqueur ['260.0']\n",
      "Ciroc Super Premium Vodka ['260.0']\n",
      "Rumchata ['305.0']\n",
      "Crown Royal Canadian Whisky ['260.0']\n",
      "Black Velvet ['115.0']\n",
      "Hawkeye Vodka ['434.0']\n",
      "Seagrams 7 Crown Bl Whiskey ['260.0']\n",
      "Tequila Rose Liqueur ['300.0']\n",
      "Arrow Spearmint Schnapps ['434.0']\n",
      "Skyy Vodka ['461.0']\n",
      "Admiral Nelson Spiced Rum ['259.0']\n",
      "Juarez Tequila Gold ['434.0']\n",
      "E & J Vsop Superior Reserve ['205.0']\n",
      "Nikolai Vodka ['421.0']\n",
      "Paul Masson Grande Amber Brandy ['115.0']\n",
      "Bushmills Irish Whiskey ['395.0']\n",
      "Ten High ['55.0']\n",
      "Dekuyper Watermelon Pucker ['65.0']\n",
      "Dekuyper Sour Apple Pucker ['65.0']\n",
      "Paramount White Rum ['434.0']\n",
      "Fleischmann's Royal Vodka ['55.0']\n",
      "Fireball Cinnamon Whiskey ['421.0']\n",
      "Five Star ['297.0']\n",
      "Southern Comfort 100 Prf ['85.0']\n",
      "New Amsterdam Vodka ['205.0']\n",
      "Paramount Gin ['434.0']\n",
      "Dr. Mcgillicuddy's Cherry Schnapps ['421.0']\n",
      "1800 Reposado Tequila ['395.0']\n",
      "Hennessy Vs Cognac ['420.0']\n",
      "Kessler Blend Whiskey ['65.0']\n",
      "Crown Royal Black ['260.0']\n",
      "Popov Vodka 80 Prf ['260.0']\n",
      "Five O'clock Vodka ['297.0']\n",
      "Lauder's ['55.0']\n",
      "Grey Goose Vodka ['35.0']\n",
      "Beam's 8 Star Bl Whiskey ['65.0']\n",
      "Patron Tequila Silver ['410.0']\n",
      "Southern Comfort ['85.0']\n",
      "Smirnoff Vodka 80 Prf ['260.0']\n",
      "Lord Calvert Canadian Whisky ['434.0']\n",
      "Barton Vodka ['55.0']\n",
      "E & J Vs Brandy ['205.0']\n",
      "Myers's Rum Original Dark ['260.0']\n",
      "Lady Bligh Spiced Rum ['434.0']\n",
      "Hawkeye Blend Whiskey ['434.0']\n",
      "Jose Cuervo Authentic Lime Margarita ['395.0']\n",
      "Juarez Triple Sec ['434.0']\n",
      "Ketel One Imported Vodka ['260.0']\n",
      "Cutty Sark Scotch ['305.0']\n",
      "Seagrams Extra Dry Gin ['370.0']\n",
      "Mccormick Vodka Pet ['300.0']\n",
      "Captain Morgan Spiced Rum ['260.0']\n",
      "New Amsterdam Gin ['205.0']\n",
      "Paramount Peppermint Schnapps ['434.0']\n",
      "Grand Marnier Cordon Rouge ['420.0']\n",
      "Malibu Coconut Rum ['370.0']\n",
      "Uv Blue (raspberry) Vodka ['380.0']\n",
      "Maker's Mark ['65.0']\n",
      "Sauza Blanco Silver ['65.0']\n",
      "Absolut Swedish Vodka 80 Prf ['370.0']\n",
      "Disaronno Amaretto ['130.0']\n",
      "La Prima Tequila/gold ['434.0']\n",
      "Carolan's Irish Cream Liqueur ['461.0']\n",
      "Dekuyper Blustery Peppermint Burst Schnapps ['65.0']\n",
      "Bailey's Original Irish Cream ['260.0']\n",
      "Sailor Jerry Spiced Navy Rum ['240.0']\n",
      "Goldschlager Cinnamon Schnapps ['260.0']\n",
      "Arrow Raspberry Schnapps ['434.0']\n",
      "Canadian Mist Whisky ['85.0']\n",
      "Seagrams Vodka ['255.0']\n",
      "Jack Daniels Old #7 Black Lbl ['85.0']\n",
      "Ryan's Cream Liqueur ['330.0']\n",
      "Paramount Long Island Iced Tea ['434.0' '350.0']\n",
      "Skol Vodka ['55.0']\n",
      "Phillips Gin ['380.0']\n",
      "Smirnoff Orange Vodka ['260.0']\n",
      "Paramount Triple Sec ['434.0']\n",
      "Bacardi Limon ['35.0']\n",
      "Jose Cuervo Authentic Strawberry Margarita ['395.0']\n",
      "Blair Athol Cask ['885.0']\n",
      "Isle of Jura ['885.0']\n",
      "Ice 101, Peppermint Schnapps ['421.0']\n",
      "Phillips White Rum ['380.0']\n",
      "Canadian Club Whisky ['65.0']\n",
      "Beefeater Gin ['370.0']\n",
      "Johnnie Walker Red ['260.0']\n",
      "Smirnoff Vanilla Vodka ['260.0']\n",
      "Clan Macgregor Scotch ['240.0']\n",
      "El Jimador Reposado Tequila ['85.0']\n",
      "Kahlua Coffee Liqueur ['370.0']\n",
      "Patron Silver Tequila ['410.0']\n",
      "Paramount Gold Rum ['434.0']\n",
      "Nuvo ['305.0']\n",
      "Windsor Canadian ['65.0']\n",
      "Absolut Vanilia ['370.0']\n",
      "St. Brendan's Superior Irish Cream Liqueur ['434.0']\n",
      "Scoresby Rare Scotch ['260.0']\n",
      "Ciroc Luxury Vodka ['260.0']\n",
      "Courvoisier Vs Cognac ['65.0']\n",
      "Phillips Vodka ['380.0']\n",
      "E & J Vs ['205.0']\n",
      "Pendleton Canadian Whisky ['971.0']\n",
      "Bacardi Superior Rum ['35.0']\n",
      "Three Olives Vodka ['395.0']\n",
      "Cazadores Reposado ['35.0']\n",
      "Svedka Vodka ['115.0']\n",
      "Mccormick Vodka ['300.0']\n",
      "UV Cake Vodka ['380.0']\n",
      "Glenlivet 12 Yr Malt Scotch ['370.0']\n",
      "Absolut Mandrin ['370.0']\n",
      "Old Crow ['65.0']\n",
      "Red Stag By Jim Beam ['65.0']\n",
      "Tortilla White Tequila ['421.0']\n",
      "Five O'clock Gin ['297.0']\n",
      "Bacardi Dragon Berry ['35.0']\n",
      "Sobieski Vodka ['267.0']\n",
      "Remy Martin Vsop Cognac ['389.0']\n",
      "Christian Bros Brandy ['259.0']\n",
      "Barton Gin ['55.0']\n",
      "Seagrams V.o. Bl Canadian Whisky ['260.0']\n",
      "Arrow Apricot Flav Brandy ['434.0']\n",
      "Jameson ['370.0']\n",
      "Hennessy VS ['420.0']\n",
      "Jeremiah Weed Sweet Tea Vodka ['260.0']\n",
      "Bombay Sapphire Gin ['35.0']\n",
      "Sunny Brook Blend Whiskey ['65.0']\n",
      "Hennessy Black ['420.0']\n",
      "Hpnotiq ['259.0']\n",
      "Paramount Amaretto ['434.0']\n",
      "Remy Martin Vs Cognac ['389.0']\n",
      "Black Velvet Reserve ['115.0']\n",
      "Famous Grouse Scotch ['305.0']\n",
      "Framboise Raspberry Liqueur ['885.0']\n",
      "Belvedere Vodka ['420.0']\n",
      "Ginger Liqueur ['885.0']\n",
      "Ancient Age Bourbon ['421.0']\n",
      "Skinnygirl White Cranberry Cosmo ['65.0']\n",
      "Hawkeye Light Rum ['434.0']\n",
      "Wild Turkey American Honey ['461.0']\n",
      "Pinnacle Whipped ['65.0']\n",
      "Bacardi Oakheart ['35.0']\n",
      "Jose Cuervo Golden Margarita ['395.0']\n",
      "Rumple Minze Peppermint Schnapps Liqueur ['260.0']\n",
      "Gilbey's Gin London Dry ['65.0']\n",
      "Smirnoff Strawberry Vodka ['260.0']\n",
      "Canadian Ltd Whisky ['55.0']\n",
      "Three Olives Cherry Vodka ['395.0']\n",
      "Captain Morgan Spiced Rum Pet ['260.0']\n",
      "Hawkeye Gin ['434.0']\n",
      "1800 Silver Tequila ['395.0']\n",
      "Jose Cuervo Especial Silver ['395.0']\n",
      "Dekuyper Hot Damn! ['65.0']\n",
      "St. Charles Brandy ['65.0']\n",
      "Sauza Gold ['65.0']\n",
      "Smirnoff Vodka 100 Prf ['260.0']\n",
      "Titos Handmade Vodka ['301.0']\n",
      "Burnett's Gin London Dry ['259.0']\n",
      "Absolut Citron (lemon Vodka) ['370.0']\n",
      "Uv Pink Lemonade Vodka ['380.0']\n",
      "Johnnie Walker Black ['260.0']\n",
      "Dekuyper Raspberry Pucker ['65.0']\n",
      "Arrow Peppermint Schnapps ['434.0']\n",
      "Dewars White Label Scotch ['35.0']\n",
      "Jack Daniel's Tennessee Honey ['85.0']\n",
      "Paramount Blackberry Brandy ['434.0']\n",
      "Absolut Raspberri ['370.0']\n",
      "Bacardi Select Rum ['35.0']\n",
      "Cruzan Dark Rum ['65.0']\n",
      "Crystal Head Vodka ['255.0']\n",
      "Hornitos Gold ['65.0']\n",
      "Canadian Reserve Whisky ['434.0']\n",
      "Paramount Apricot Flavored Brandy ['434.0']\n",
      "Dr. Mcgillicuddy's Mentholmint ['421.0']\n",
      "Castillo Silver Rum ['35.0']\n",
      "Smirnoff Raspberry Vodka ['260.0']\n",
      "Uv Cake Vodka ['380.0']\n",
      "Gordon's Gin London Dry ['260.0']\n",
      "Korski Vodka ['434.0']\n",
      "Maui Blue Hawaiian Schnapps ['421.0']\n",
      "Pinnacle Vodka ['65.0']\n",
      "Galliano Liqueur ['305.0']\n",
      "Uv Red (cherry) Vodka ['380.0']\n",
      "Phillips Root Beer Schnapps ['380.0']\n",
      "Stolichnaya Russian Vodka 80 Prf ['277.0']\n",
      "Absolut Apeach ['370.0']\n",
      "Gentleman Jack ['85.0']\n",
      "Wild Turkey 101 ['461.0']\n",
      "El Jimador Silver Tequila ['85.0']\n",
      "Bacardi Torched Cherry ['35.0']\n",
      "Bacardi O ['35.0']\n",
      "Fleischmann's Gin ['55.0']\n",
      "Don Q Cristal Rum ['451.0']\n",
      "Dr. Mcgillicuddy's Vanilla ['421.0']\n",
      "After Shock Cinnamon Liqueur ['65.0']\n",
      "Kamora Coffee Liqueur ['65.0']\n",
      "Bourbon Supreme Bourbon ['434.0']\n",
      "Ursus Blue Raspberry Vodka ['260.0']\n",
      "Arrow Blackberry Flav Brandy ['434.0']\n",
      "Smirnoff Citrus Vodka ['260.0']\n",
      "Arrow Peach Schnapps ['434.0']\n",
      "Uv Grape Vodka ['380.0']\n",
      "Paramount Sloe Gin ['434.0']\n",
      "Captain Morgan Parrot Bay Coconut ['260.0']\n",
      "Five O'clock ['297.0']\n",
      "Firewater Cinnamon Schnapps ['421.0']\n",
      "Skinnygirl Bare Naked ['65.0']\n",
      "Fris Danish Vodka ['370.0']\n",
      "Passport Scotch ['370.0']\n",
      "Paramount Peach Schnapps ['434.0']\n",
      "Bacardi Razz ['35.0']\n",
      "Admiral Nelson Coconut Rum ['259.0']\n",
      "Chivas Regal 12 Yr ['370.0']\n",
      "Calvert Extra Bl Whiskey ['434.0']\n",
      "Ciroc Coconut ['260.0']\n",
      "Nut Chocolate ['885.0']\n",
      "Don Julio Reposado ['260.0']\n",
      "Irish Single Malt Whiskey ['885.0']\n",
      "Wild Rose Liqueur ['885.0']\n",
      "X Rated Fusion Liqueur ['461.0']\n",
      "Grappa Di Recioto Amarone ['885.0']\n",
      "Sauza Blue Silver ['65.0']\n",
      "Captain Morgan Lime Bite ['260.0']\n",
      "Remy Martin 1738 Accord Royal ['389.0']\n",
      "Armagnac XO 10 YR ['885.0']\n",
      "Dekuyper Island Punch Pucker ['65.0']\n",
      "Italian Brandy ['885.0']\n",
      "Skinnygirl Island Coconut ['65.0']\n",
      "Laphroaig ['885.0']\n",
      "10 Cane Rum ['420.0']\n",
      "Yahara Bay Gin ['885.0']\n",
      "Irish Peated Single Malt Whiskey ['885.0']\n",
      "Bartenders Hot Sex ['285.0']\n",
      "Skinnygirl Tangerine ['65.0']\n",
      "Cerises Rogue(Cherry Liqueur) ['885.0']\n",
      "Sour Cherry ['885.0']\n",
      "Paramount Vodka ['434.0' '350.0']\n",
      "Apricot Grappa ['885.0']\n",
      "Grappa Moscato ['885.0']\n",
      "Admiral Nelson Cherry Spiced Rum ['259.0']\n",
      "Effen Cucumber ['65.0']\n",
      "Grappa Chianti Classico ['885.0']\n",
      "Caol Ila 15yr ['885.0']\n",
      "Kahlua Sampler Pack ['370.0']\n",
      "Pearl Vodka ['434.0']\n",
      "Caipirinha Lime ['885.0']\n",
      "Pearl Red Berry Vodka ['434.0']\n",
      "Yahara Bay Aged Rum ['885.0']\n",
      "Blair Athol ['885.0']\n",
      "Tullibardine 20YR ['885.0']\n",
      "Absinthe Verde ['885.0']\n",
      "Pina Colada ['885.0']\n",
      "Isle of Arran ['885.0']\n",
      "Libertine Absinthe(French Absinthe) ['885.0']\n",
      "Whiskey Liqueur ['885.0']\n",
      "Hiram Walker Orange Curacao ['370.0']\n",
      "Jesse James Bourbon ['294.0']\n",
      "Mango Limes ['885.0']\n",
      "Yahara Bay Cocoa Liqueur ['885.0']\n",
      "Old St. Nick''s Egg Nog ['421.0']\n"
     ]
    },
    {
     "name": "stdout",
     "output_type": "stream",
     "text": [
      "Cruzan Pineapple Rum ['65.0']\n",
      "Yahara Bay American Rye Whiskey ['885.0']\n",
      "Ursus Green Apple Vodka ['260.0']\n",
      "Glen Garioch ['885.0']\n",
      "Ardmore ['885.0']\n",
      "Orange Liqueur ['885.0']\n",
      "Cognac Napoleon XO ['885.0']\n",
      "Absinthe Blanco ['885.0']\n",
      "Fernandez Brandy De Jerez ['885.0']\n",
      "Latte Machiatto ['885.0']\n",
      "Skinnygirl Cucumber ['65.0']\n",
      "G & W Bourbon ['297.0']\n",
      "Hunters Herbal Liqueur ['885.0']\n",
      "Armagnac XO 25yr ['885.0']\n",
      "Calvados ['885.0']\n",
      "Kirsch Cherry Brandy ['885.0']\n",
      "Skinnygirl Pina Colada ['65.0']\n",
      "Glengoyne ['885.0']\n",
      "Yahara Bay Apple Crisp(Apple Pie) ['885.0']\n",
      "Grappa Nebbiolo ['885.0']\n",
      "Yahara Bay Apple Brandy ['885.0']\n",
      "Christian Brothers Holiday Nog ['259.0']\n",
      "Yahara Bay Lemoncello ['885.0']\n",
      "Yahara Bay Vodka ['885.0']\n",
      "Absolut Zing Zang Bloody Mary Mix ['370.0']\n",
      "Hacienda Vieja ['310.0']\n",
      "Yahara Bay American Whiskey ['885.0']\n",
      "Don Q Limon ['451.0']\n",
      "Dailuaine 29yr ['885.0']\n",
      "Casa Noble Anejo ['115.0']\n",
      "Uv Red(cherry) Vodka ['380.0']\n",
      "Gentian Aperitif ['885.0']\n",
      "Yahara Bay Orangecello ['885.0']\n",
      "Yahara Bay Rum ['885.0']\n",
      "White Horse Scotch ['260.0']\n",
      "Paul Masson Vsop Brandy ['115.0']\n",
      "Alize Blue ['295.0']\n",
      "Milagro Reposado Tequila ['240.0']\n"
     ]
    }
   ],
   "source": [
    "for i in iddf['Item Description'].unique():\n",
    "    if len(iddf[iddf['Item Description']==i]['Item Number'].unique())>1:\n",
    "                print(i,iddf[iddf['Item Description']==i]['Vendor Number'].unique())\n",
    "  #      print(i,iddf[iddf['Item Description']==i]['Item Number'].unique(),iddf[iddf['Item Description']==i]['State Bottle Cost'].unique(),iddf[iddf['Item Description']==i]['State Bottle Retail'].unique(),iddf[iddf['Item Description']==i]['Vendor Number'].unique())"
   ]
  },
  {
   "cell_type": "markdown",
   "id": "445d46b2",
   "metadata": {},
   "source": [
    "### The answer is yes, Item number matters"
   ]
  },
  {
   "cell_type": "markdown",
   "id": "c5dc4d9d",
   "metadata": {},
   "source": [
    "### With this in mind: dropping unnecessary columns: Keeping Pack, Vendor Number, Bottle Volume (ml), Bottles Sold, Volume Sold (Liters) for future math, not for modeling"
   ]
  },
  {
   "cell_type": "code",
   "execution_count": 88,
   "id": "e9e0b88d",
   "metadata": {},
   "outputs": [
    {
     "data": {
      "text/html": [
       "<div>\n",
       "<style scoped>\n",
       "    .dataframe tbody tr th:only-of-type {\n",
       "        vertical-align: middle;\n",
       "    }\n",
       "\n",
       "    .dataframe tbody tr th {\n",
       "        vertical-align: top;\n",
       "    }\n",
       "\n",
       "    .dataframe thead th {\n",
       "        text-align: right;\n",
       "    }\n",
       "</style>\n",
       "<table border=\"1\" class=\"dataframe\">\n",
       "  <thead>\n",
       "    <tr style=\"text-align: right;\">\n",
       "      <th></th>\n",
       "      <th>Unnamed: 0</th>\n",
       "      <th>Unnamed: 0.1</th>\n",
       "      <th>Invoice/Item Number</th>\n",
       "      <th>Date</th>\n",
       "      <th>Store Number</th>\n",
       "      <th>Store Name</th>\n",
       "      <th>Address</th>\n",
       "      <th>City</th>\n",
       "      <th>Zip Code</th>\n",
       "      <th>Store Location</th>\n",
       "      <th>County Number</th>\n",
       "      <th>County</th>\n",
       "      <th>Category</th>\n",
       "      <th>Category Name</th>\n",
       "      <th>Vendor Number</th>\n",
       "      <th>Vendor Name</th>\n",
       "      <th>Item Number</th>\n",
       "      <th>Item Description</th>\n",
       "      <th>Pack</th>\n",
       "      <th>Bottle Volume (ml)</th>\n",
       "      <th>State Bottle Cost</th>\n",
       "      <th>State Bottle Retail</th>\n",
       "      <th>Bottles Sold</th>\n",
       "      <th>Sale (Dollars)</th>\n",
       "      <th>Volume Sold (Liters)</th>\n",
       "      <th>Volume Sold (Gallons)</th>\n",
       "      <th>Year</th>\n",
       "    </tr>\n",
       "  </thead>\n",
       "  <tbody>\n",
       "    <tr>\n",
       "      <th>0</th>\n",
       "      <td>11</td>\n",
       "      <td>135</td>\n",
       "      <td>S04414100075</td>\n",
       "      <td>03/06/2012</td>\n",
       "      <td>2532</td>\n",
       "      <td>Hy-Vee Food Store #2 / Des Moines</td>\n",
       "      <td>2540 E EUCLID</td>\n",
       "      <td>DES MOINES</td>\n",
       "      <td>50317</td>\n",
       "      <td>2540 E EUCLID\\nDES MOINES 50317\\n(41.627842, -...</td>\n",
       "      <td>77.0</td>\n",
       "      <td>Polk</td>\n",
       "      <td>1082900.0</td>\n",
       "      <td>MISC. IMPORTED CORDIALS &amp; LIQUEURS</td>\n",
       "      <td>192.0</td>\n",
       "      <td>Sidney Frank Importing Co.</td>\n",
       "      <td>65256</td>\n",
       "      <td>Jagermeister Liqueur</td>\n",
       "      <td>12</td>\n",
       "      <td>750</td>\n",
       "      <td>$11.58</td>\n",
       "      <td>$17.37</td>\n",
       "      <td>12</td>\n",
       "      <td>$208.44</td>\n",
       "      <td>9.0</td>\n",
       "      <td>2.38</td>\n",
       "      <td>12</td>\n",
       "    </tr>\n",
       "    <tr>\n",
       "      <th>1</th>\n",
       "      <td>31</td>\n",
       "      <td>190</td>\n",
       "      <td>S04958800091</td>\n",
       "      <td>04/09/2012</td>\n",
       "      <td>2633</td>\n",
       "      <td>Hy-Vee #3 / BDI / Des Moines</td>\n",
       "      <td>3221 SE 14TH ST</td>\n",
       "      <td>DES MOINES</td>\n",
       "      <td>50320</td>\n",
       "      <td>3221 SE 14TH ST\\nDES MOINES 50320\\n(41.554101,...</td>\n",
       "      <td>77.0</td>\n",
       "      <td>Polk</td>\n",
       "      <td>1012200.0</td>\n",
       "      <td>SCOTCH WHISKIES</td>\n",
       "      <td>260.0</td>\n",
       "      <td>Diageo Americas</td>\n",
       "      <td>5289</td>\n",
       "      <td>J &amp; B Rare Scotch</td>\n",
       "      <td>12</td>\n",
       "      <td>1000</td>\n",
       "      <td>$14.98</td>\n",
       "      <td>$22.47</td>\n",
       "      <td>12</td>\n",
       "      <td>$269.64</td>\n",
       "      <td>12.0</td>\n",
       "      <td>3.17</td>\n",
       "      <td>12</td>\n",
       "    </tr>\n",
       "    <tr>\n",
       "      <th>2</th>\n",
       "      <td>36</td>\n",
       "      <td>215</td>\n",
       "      <td>S03613800042</td>\n",
       "      <td>01/17/2012</td>\n",
       "      <td>2959</td>\n",
       "      <td>Dahl's / Merle Hay</td>\n",
       "      <td>4343 MERLE HAY ROAD</td>\n",
       "      <td>DES MOINES</td>\n",
       "      <td>50310</td>\n",
       "      <td>4343 MERLE HAY ROAD\\nDES MOINES 50310\\n(41.637...</td>\n",
       "      <td>77.0</td>\n",
       "      <td>Polk</td>\n",
       "      <td>1062200.0</td>\n",
       "      <td>PUERTO RICO &amp; VIRGIN ISLANDS RUM</td>\n",
       "      <td>35.0</td>\n",
       "      <td>Bacardi U.S.A., Inc.</td>\n",
       "      <td>43038</td>\n",
       "      <td>Bacardi Gold Rum</td>\n",
       "      <td>6</td>\n",
       "      <td>1750</td>\n",
       "      <td>$14.67</td>\n",
       "      <td>$22.00</td>\n",
       "      <td>6</td>\n",
       "      <td>$132.00</td>\n",
       "      <td>10.5</td>\n",
       "      <td>2.77</td>\n",
       "      <td>12</td>\n",
       "    </tr>\n",
       "  </tbody>\n",
       "</table>\n",
       "</div>"
      ],
      "text/plain": [
       "   Unnamed: 0  Unnamed: 0.1 Invoice/Item Number        Date  Store Number  \\\n",
       "0          11           135        S04414100075  03/06/2012          2532   \n",
       "1          31           190        S04958800091  04/09/2012          2633   \n",
       "2          36           215        S03613800042  01/17/2012          2959   \n",
       "\n",
       "                          Store Name              Address        City  \\\n",
       "0  Hy-Vee Food Store #2 / Des Moines        2540 E EUCLID  DES MOINES   \n",
       "1       Hy-Vee #3 / BDI / Des Moines      3221 SE 14TH ST  DES MOINES   \n",
       "2                 Dahl's / Merle Hay  4343 MERLE HAY ROAD  DES MOINES   \n",
       "\n",
       "  Zip Code                                     Store Location County Number  \\\n",
       "0    50317  2540 E EUCLID\\nDES MOINES 50317\\n(41.627842, -...          77.0   \n",
       "1    50320  3221 SE 14TH ST\\nDES MOINES 50320\\n(41.554101,...          77.0   \n",
       "2    50310  4343 MERLE HAY ROAD\\nDES MOINES 50310\\n(41.637...          77.0   \n",
       "\n",
       "  County   Category                       Category Name  Vendor Number  \\\n",
       "0   Polk  1082900.0  MISC. IMPORTED CORDIALS & LIQUEURS          192.0   \n",
       "1   Polk  1012200.0                     SCOTCH WHISKIES          260.0   \n",
       "2   Polk  1062200.0    PUERTO RICO & VIRGIN ISLANDS RUM           35.0   \n",
       "\n",
       "                  Vendor Name  Item Number      Item Description  Pack  \\\n",
       "0  Sidney Frank Importing Co.        65256  Jagermeister Liqueur    12   \n",
       "1             Diageo Americas         5289     J & B Rare Scotch    12   \n",
       "2        Bacardi U.S.A., Inc.        43038      Bacardi Gold Rum     6   \n",
       "\n",
       "   Bottle Volume (ml) State Bottle Cost State Bottle Retail  Bottles Sold  \\\n",
       "0                 750            $11.58              $17.37            12   \n",
       "1                1000            $14.98              $22.47            12   \n",
       "2                1750            $14.67              $22.00             6   \n",
       "\n",
       "  Sale (Dollars)  Volume Sold (Liters)  Volume Sold (Gallons)  Year  \n",
       "0        $208.44                   9.0                   2.38    12  \n",
       "1        $269.64                  12.0                   3.17    12  \n",
       "2        $132.00                  10.5                   2.77    12  "
      ]
     },
     "execution_count": 88,
     "metadata": {},
     "output_type": "execute_result"
    }
   ],
   "source": [
    "c12.head(3)"
   ]
  },
  {
   "cell_type": "code",
   "execution_count": 119,
   "id": "b02ba99a",
   "metadata": {},
   "outputs": [],
   "source": [
    "c12=c12.drop(['Unnamed: 0','Unnamed: 0.1','Invoice/Item Number','Store Name','Address','City','Zip Code', 'Store Location','County Number','County','Category','Vendor Name','Volume Sold (Gallons)','Year'] ,axis=1)"
   ]
  },
  {
   "cell_type": "code",
   "execution_count": 120,
   "id": "d168e305",
   "metadata": {},
   "outputs": [
    {
     "data": {
      "text/plain": [
       "(2082059, 27)"
      ]
     },
     "execution_count": 120,
     "metadata": {},
     "output_type": "execute_result"
    }
   ],
   "source": [
    "c12.shape"
   ]
  },
  {
   "cell_type": "code",
   "execution_count": 121,
   "id": "4d6bed87",
   "metadata": {},
   "outputs": [
    {
     "data": {
      "text/plain": [
       "(184093, 13)"
      ]
     },
     "execution_count": 121,
     "metadata": {},
     "output_type": "execute_result"
    }
   ],
   "source": [
    "c12.shape"
   ]
  },
  {
   "cell_type": "markdown",
   "id": "0de7c093",
   "metadata": {},
   "source": [
    "## Next: Converting to correct dtypes (Date, Vendor Number, Item Number, State Bottle Cost, State Bottle Retail, Sale (Dollars)"
   ]
  },
  {
   "cell_type": "markdown",
   "id": "85de3533",
   "metadata": {},
   "source": [
    "#  2012 Data dtypes"
   ]
  },
  {
   "cell_type": "code",
   "execution_count": 122,
   "id": "f90f269b",
   "metadata": {},
   "outputs": [
    {
     "data": {
      "text/plain": [
       "Date                     object\n",
       "Store Number              int64\n",
       "Category Name            object\n",
       "Vendor Number           float64\n",
       "Item Number               int64\n",
       "Item Description         object\n",
       "Pack                      int64\n",
       "Bottle Volume (ml)        int64\n",
       "State Bottle Cost        object\n",
       "State Bottle Retail      object\n",
       "Bottles Sold              int64\n",
       "Sale (Dollars)           object\n",
       "Volume Sold (Liters)    float64\n",
       "dtype: object"
      ]
     },
     "execution_count": 122,
     "metadata": {},
     "output_type": "execute_result"
    }
   ],
   "source": [
    "c12.dtypes"
   ]
  },
  {
   "cell_type": "code",
   "execution_count": 123,
   "id": "1e3791d2",
   "metadata": {},
   "outputs": [],
   "source": [
    "c12['Date']=pd.to_datetime(c12['Date'])\n",
    "c12['Vendor Number']=c12['Vendor Number'].astype(str)\n",
    "c12['Store Number']=c12['Store Number'].astype(str)\n",
    "c12['Item Number']=c12['Item Number'].astype(str)\n",
    "c12['State Bottle Cost']=list(map(lambda x:x[1:],c12['State Bottle Cost']))\n",
    "c12['State Bottle Cost']=pd.to_numeric(c12['State Bottle Cost'])\n",
    "c12['State Bottle Retail']=list(map(lambda x:x[1:],c12['State Bottle Retail']))\n",
    "c12['State Bottle Retail']=pd.to_numeric(c12['State Bottle Retail'])\n",
    "c12['Sale (Dollars)']=list(map(lambda x:x[1:],c12['Sale (Dollars)']))\n",
    "c12['Sale (Dollars)']=pd.to_numeric(c12['Sale (Dollars)'])"
   ]
  },
  {
   "cell_type": "code",
   "execution_count": 191,
   "id": "1f185c7c",
   "metadata": {},
   "outputs": [
    {
     "data": {
      "text/plain": [
       "Date                    datetime64[ns]\n",
       "Store Number                    object\n",
       "Category Name                   object\n",
       "Vendor Number                   object\n",
       "Item Number                     object\n",
       "Item Description                object\n",
       "Pack                             int64\n",
       "Bottle Volume (ml)               int64\n",
       "State Bottle Cost              float64\n",
       "State Bottle Retail            float64\n",
       "Bottles Sold                     int64\n",
       "Sale (Dollars)                 float64\n",
       "Volume Sold (Liters)           float64\n",
       "dtype: object"
      ]
     },
     "execution_count": 191,
     "metadata": {},
     "output_type": "execute_result"
    }
   ],
   "source": [
    "c12.dtypes"
   ]
  },
  {
   "cell_type": "code",
   "execution_count": 193,
   "id": "86a1b5d2",
   "metadata": {},
   "outputs": [],
   "source": [
    "c12.to_csv('final_2012.csv')"
   ]
  },
  {
   "cell_type": "markdown",
   "id": "3cb1e304",
   "metadata": {},
   "source": [
    "#  2013 Data dtypes"
   ]
  },
  {
   "cell_type": "code",
   "execution_count": 142,
   "id": "f68610b4",
   "metadata": {},
   "outputs": [
    {
     "data": {
      "text/plain": [
       "Index(['Unnamed: 0', 'Unnamed: 0.1', 'Invoice/Item Number', 'Date',\n",
       "       'Store Number', 'Store Name', 'Address', 'City', 'Zip Code',\n",
       "       'Store Location', 'County Number', 'County', 'Category',\n",
       "       'Category Name', 'Vendor Number', 'Vendor Name', 'Item Number',\n",
       "       'Item Description', 'Pack', 'Bottle Volume (ml)', 'State Bottle Cost',\n",
       "       'State Bottle Retail', 'Bottles Sold', 'Sale (Dollars)',\n",
       "       'Volume Sold (Liters)', 'Volume Sold (Gallons)', 'Year'],\n",
       "      dtype='object')"
      ]
     },
     "execution_count": 142,
     "metadata": {},
     "output_type": "execute_result"
    }
   ],
   "source": [
    "c13.columns"
   ]
  },
  {
   "cell_type": "code",
   "execution_count": 144,
   "id": "64baa9c1",
   "metadata": {},
   "outputs": [],
   "source": [
    "c13=c13.drop(['Unnamed: 0','Unnamed: 0.1','Invoice/Item Number','Store Name','Address','City','Zip Code', 'Store Location','County Number','County','Category','Vendor Name','Volume Sold (Gallons)','Year'] ,axis=1)\n",
    "flen(c13.columns)"
   ]
  },
  {
   "cell_type": "code",
   "execution_count": 148,
   "id": "c5ecd7ed",
   "metadata": {},
   "outputs": [
    {
     "data": {
      "text/plain": [
       "Date                     object\n",
       "Store Number              int64\n",
       "Category Name            object\n",
       "Vendor Number           float64\n",
       "Item Number               int64\n",
       "Item Description         object\n",
       "Pack                      int64\n",
       "Bottle Volume (ml)        int64\n",
       "State Bottle Cost        object\n",
       "State Bottle Retail      object\n",
       "Bottles Sold              int64\n",
       "Sale (Dollars)           object\n",
       "Volume Sold (Liters)    float64\n",
       "dtype: object"
      ]
     },
     "execution_count": 148,
     "metadata": {},
     "output_type": "execute_result"
    }
   ],
   "source": [
    "c13.dtypes"
   ]
  },
  {
   "cell_type": "code",
   "execution_count": 151,
   "id": "71eed713",
   "metadata": {},
   "outputs": [],
   "source": [
    "c13['Date']=pd.to_datetime(c13['Date'])\n",
    "c13['Vendor Number']=c13['Vendor Number'].astype(str)\n",
    "c13['Store Number']=c13['Store Number'].astype(str)\n",
    "c13['Item Number']=c13['Item Number'].astype(str)\n",
    "c13['State Bottle Cost']=list(map(lambda x:x[1:],c13['State Bottle Cost']))\n",
    "c13['State Bottle Cost']=pd.to_numeric(c13['State Bottle Cost'])\n",
    "c13['State Bottle Retail']=list(map(lambda x:x[1:],c13['State Bottle Retail']))\n",
    "c13['State Bottle Retail']=pd.to_numeric(c13['State Bottle Retail'])\n",
    "c13['Sale (Dollars)']=list(map(lambda x:x[1:],c13['Sale (Dollars)']))\n",
    "c13['Sale (Dollars)']=pd.to_numeric(c13['Sale (Dollars)'])"
   ]
  },
  {
   "cell_type": "code",
   "execution_count": 189,
   "id": "2734852f",
   "metadata": {},
   "outputs": [
    {
     "data": {
      "text/plain": [
       "Date                    datetime64[ns]\n",
       "Store Number                    object\n",
       "Category Name                   object\n",
       "Vendor Number                   object\n",
       "Item Number                     object\n",
       "Item Description                object\n",
       "Pack                             int64\n",
       "Bottle Volume (ml)               int64\n",
       "State Bottle Cost              float64\n",
       "State Bottle Retail            float64\n",
       "Bottles Sold                     int64\n",
       "Sale (Dollars)                 float64\n",
       "Volume Sold (Liters)           float64\n",
       "dtype: object"
      ]
     },
     "execution_count": 189,
     "metadata": {},
     "output_type": "execute_result"
    }
   ],
   "source": [
    "c13.dtypes"
   ]
  },
  {
   "cell_type": "code",
   "execution_count": 190,
   "id": "b9baf7a2",
   "metadata": {},
   "outputs": [],
   "source": [
    "c13.to_csv('final_2013.csv')"
   ]
  },
  {
   "cell_type": "markdown",
   "id": "c6cbdb89",
   "metadata": {},
   "source": [
    "#  2014 Data dtypes"
   ]
  },
  {
   "cell_type": "code",
   "execution_count": 154,
   "id": "0f706bf3",
   "metadata": {},
   "outputs": [
    {
     "data": {
      "text/plain": [
       "Index(['Unnamed: 0', 'Unnamed: 0.1', 'Invoice/Item Number', 'Date',\n",
       "       'Store Number', 'Store Name', 'Address', 'City', 'Zip Code',\n",
       "       'Store Location', 'County Number', 'County', 'Category',\n",
       "       'Category Name', 'Vendor Number', 'Vendor Name', 'Item Number',\n",
       "       'Item Description', 'Pack', 'Bottle Volume (ml)', 'State Bottle Cost',\n",
       "       'State Bottle Retail', 'Bottles Sold', 'Sale (Dollars)',\n",
       "       'Volume Sold (Liters)', 'Volume Sold (Gallons)', 'Year'],\n",
       "      dtype='object')"
      ]
     },
     "execution_count": 154,
     "metadata": {},
     "output_type": "execute_result"
    }
   ],
   "source": [
    "c14.columns"
   ]
  },
  {
   "cell_type": "code",
   "execution_count": 155,
   "id": "a1fe9eb1",
   "metadata": {},
   "outputs": [],
   "source": [
    "c14=c14.reset_index(drop=True)\n",
    "c14=c14.drop(['Unnamed: 0','Unnamed: 0.1','Invoice/Item Number','Store Name','Address','City','Zip Code', 'Store Location','County Number','County','Category','Vendor Name','Volume Sold (Gallons)','Year'] ,axis=1)\n",
    "len(c14.columns)"
   ]
  },
  {
   "cell_type": "code",
   "execution_count": 158,
   "id": "b4d843f0",
   "metadata": {},
   "outputs": [
    {
     "data": {
      "text/plain": [
       "Date                     object\n",
       "Store Number              int64\n",
       "Category Name            object\n",
       "Vendor Number           float64\n",
       "Item Number               int64\n",
       "Item Description         object\n",
       "Pack                      int64\n",
       "Bottle Volume (ml)        int64\n",
       "State Bottle Cost        object\n",
       "State Bottle Retail      object\n",
       "Bottles Sold              int64\n",
       "Sale (Dollars)           object\n",
       "Volume Sold (Liters)    float64\n",
       "dtype: object"
      ]
     },
     "execution_count": 158,
     "metadata": {},
     "output_type": "execute_result"
    }
   ],
   "source": [
    "c14.dtypes"
   ]
  },
  {
   "cell_type": "code",
   "execution_count": 159,
   "id": "216fd8fc",
   "metadata": {},
   "outputs": [],
   "source": [
    "c14['Date']=pd.to_datetime(c14['Date'])\n",
    "c14['Vendor Number']=c14['Vendor Number'].astype(str)\n",
    "c14['Store Number']=c14['Store Number'].astype(str)\n",
    "c14['Item Number']=c14['Item Number'].astype(str)\n",
    "c14['State Bottle Cost']=list(map(lambda x:x[1:],c14['State Bottle Cost']))\n",
    "c14['State Bottle Cost']=pd.to_numeric(c14['State Bottle Cost'])\n",
    "c14['State Bottle Retail']=list(map(lambda x:x[1:],c14['State Bottle Retail']))\n",
    "c14['State Bottle Retail']=pd.to_numeric(c14['State Bottle Retail'])\n",
    "c14['Sale (Dollars)']=list(map(lambda x:x[1:],c14['Sale (Dollars)']))\n",
    "c14['Sale (Dollars)']=pd.to_numeric(c14['Sale (Dollars)'])"
   ]
  },
  {
   "cell_type": "code",
   "execution_count": 187,
   "id": "a1d7e9ff",
   "metadata": {},
   "outputs": [
    {
     "data": {
      "text/plain": [
       "Date                    datetime64[ns]\n",
       "Store Number                    object\n",
       "Category Name                   object\n",
       "Vendor Number                   object\n",
       "Item Number                     object\n",
       "Item Description                object\n",
       "Pack                             int64\n",
       "Bottle Volume (ml)               int64\n",
       "State Bottle Cost              float64\n",
       "State Bottle Retail            float64\n",
       "Bottles Sold                     int64\n",
       "Sale (Dollars)                 float64\n",
       "Volume Sold (Liters)           float64\n",
       "dtype: object"
      ]
     },
     "execution_count": 187,
     "metadata": {},
     "output_type": "execute_result"
    }
   ],
   "source": [
    "c14.dtypes"
   ]
  },
  {
   "cell_type": "code",
   "execution_count": 188,
   "id": "e229d9f3",
   "metadata": {},
   "outputs": [],
   "source": [
    "c14.to_csv('final_2014.csv')"
   ]
  },
  {
   "cell_type": "markdown",
   "id": "58e3fde9",
   "metadata": {},
   "source": [
    "#  2015 column drops"
   ]
  },
  {
   "cell_type": "code",
   "execution_count": 165,
   "id": "d33f22f5",
   "metadata": {},
   "outputs": [
    {
     "data": {
      "text/plain": [
       "13"
      ]
     },
     "execution_count": 165,
     "metadata": {},
     "output_type": "execute_result"
    }
   ],
   "source": [
    "c15=c15.reset_index(drop=True)\n",
    "c15=c15.drop(['Unnamed: 0','Unnamed: 0.1','Invoice/Item Number','Store Name','Address','City','Zip Code', 'Store Location','County Number','County','Category','Vendor Name','Volume Sold (Gallons)','Year'] ,axis=1)\n",
    "len(c15.columns)"
   ]
  },
  {
   "cell_type": "code",
   "execution_count": 166,
   "id": "bb1c5836",
   "metadata": {},
   "outputs": [],
   "source": [
    "c15['Date']=pd.to_datetime(c15['Date'])\n",
    "c15['Vendor Number']=c15['Vendor Number'].astype(str)\n",
    "c15['Store Number']=c15['Store Number'].astype(str)\n",
    "c15['Item Number']=c15['Item Number'].astype(str)\n",
    "c15['State Bottle Cost']=list(map(lambda x:x[1:],c15['State Bottle Cost']))\n",
    "c15['State Bottle Cost']=pd.to_numeric(c15['State Bottle Cost'])\n",
    "c15['State Bottle Retail']=list(map(lambda x:x[1:],c15['State Bottle Retail']))\n",
    "c15['State Bottle Retail']=pd.to_numeric(c15['State Bottle Retail'])\n",
    "c15['Sale (Dollars)']=list(map(lambda x:x[1:],c15['Sale (Dollars)']))\n",
    "c15['Sale (Dollars)']=pd.to_numeric(c15['Sale (Dollars)'])"
   ]
  },
  {
   "cell_type": "code",
   "execution_count": 185,
   "id": "dccdcc4b",
   "metadata": {},
   "outputs": [
    {
     "data": {
      "text/plain": [
       "Date                    datetime64[ns]\n",
       "Store Number                    object\n",
       "Category Name                   object\n",
       "Vendor Number                   object\n",
       "Item Number                     object\n",
       "Item Description                object\n",
       "Pack                             int64\n",
       "Bottle Volume (ml)               int64\n",
       "State Bottle Cost              float64\n",
       "State Bottle Retail            float64\n",
       "Bottles Sold                     int64\n",
       "Sale (Dollars)                 float64\n",
       "Volume Sold (Liters)           float64\n",
       "dtype: object"
      ]
     },
     "execution_count": 185,
     "metadata": {},
     "output_type": "execute_result"
    }
   ],
   "source": [
    "c15.dtypes"
   ]
  },
  {
   "cell_type": "code",
   "execution_count": 186,
   "id": "d20b6f13",
   "metadata": {},
   "outputs": [],
   "source": [
    "c15.to_csv('final_2015.csv')"
   ]
  },
  {
   "cell_type": "markdown",
   "id": "f1d43867",
   "metadata": {},
   "source": [
    "#  2016 column drops"
   ]
  },
  {
   "cell_type": "code",
   "execution_count": 168,
   "id": "074bdd14",
   "metadata": {},
   "outputs": [
    {
     "data": {
      "text/plain": [
       "13"
      ]
     },
     "execution_count": 168,
     "metadata": {},
     "output_type": "execute_result"
    }
   ],
   "source": [
    "c16=c16.reset_index(drop=True)\n",
    "c16=c16.drop(['Unnamed: 0','Unnamed: 0.1','Invoice/Item Number','Store Name','Address','City','Zip Code', 'Store Location','County Number','County','Category','Vendor Name','Volume Sold (Gallons)','Year'] ,axis=1)\n",
    "len(c16.columns)"
   ]
  },
  {
   "cell_type": "code",
   "execution_count": 169,
   "id": "37362d43",
   "metadata": {},
   "outputs": [],
   "source": [
    "c16['Date']=pd.to_datetime(c16['Date'])\n",
    "c16['Vendor Number']=c16['Vendor Number'].astype(str)\n",
    "c16['Store Number']=c16['Store Number'].astype(str)\n",
    "c16['Item Number']=c16['Item Number'].astype(str)\n",
    "c16['State Bottle Cost']=list(map(lambda x:x[1:],c16['State Bottle Cost']))\n",
    "c16['State Bottle Cost']=pd.to_numeric(c16['State Bottle Cost'])\n",
    "c16['State Bottle Retail']=list(map(lambda x:x[1:],c16['State Bottle Retail']))\n",
    "c16['State Bottle Retail']=pd.to_numeric(c16['State Bottle Retail'])\n",
    "c16['Sale (Dollars)']=list(map(lambda x:x[1:],c16['Sale (Dollars)']))\n",
    "c16['Sale (Dollars)']=pd.to_numeric(c16['Sale (Dollars)'])"
   ]
  },
  {
   "cell_type": "code",
   "execution_count": 181,
   "id": "f20e5b64",
   "metadata": {},
   "outputs": [
    {
     "data": {
      "text/plain": [
       "Date                    datetime64[ns]\n",
       "Store Number                    object\n",
       "Category Name                   object\n",
       "Vendor Number                   object\n",
       "Item Number                     object\n",
       "Item Description                object\n",
       "Pack                             int64\n",
       "Bottle Volume (ml)               int64\n",
       "State Bottle Cost              float64\n",
       "State Bottle Retail            float64\n",
       "Bottles Sold                     int64\n",
       "Sale (Dollars)                 float64\n",
       "Volume Sold (Liters)           float64\n",
       "dtype: object"
      ]
     },
     "execution_count": 181,
     "metadata": {},
     "output_type": "execute_result"
    }
   ],
   "source": [
    "c16.dtypes"
   ]
  },
  {
   "cell_type": "code",
   "execution_count": 180,
   "id": "62e7da97",
   "metadata": {},
   "outputs": [
    {
     "data": {
      "text/html": [
       "<div>\n",
       "<style scoped>\n",
       "    .dataframe tbody tr th:only-of-type {\n",
       "        vertical-align: middle;\n",
       "    }\n",
       "\n",
       "    .dataframe tbody tr th {\n",
       "        vertical-align: top;\n",
       "    }\n",
       "\n",
       "    .dataframe thead th {\n",
       "        text-align: right;\n",
       "    }\n",
       "</style>\n",
       "<table border=\"1\" class=\"dataframe\">\n",
       "  <thead>\n",
       "    <tr style=\"text-align: right;\">\n",
       "      <th></th>\n",
       "      <th>Date</th>\n",
       "      <th>Store Number</th>\n",
       "      <th>Category Name</th>\n",
       "      <th>Vendor Number</th>\n",
       "      <th>Item Number</th>\n",
       "      <th>Item Description</th>\n",
       "      <th>Pack</th>\n",
       "      <th>Bottle Volume (ml)</th>\n",
       "      <th>State Bottle Cost</th>\n",
       "      <th>State Bottle Retail</th>\n",
       "      <th>Bottles Sold</th>\n",
       "      <th>Sale (Dollars)</th>\n",
       "      <th>Volume Sold (Liters)</th>\n",
       "    </tr>\n",
       "  </thead>\n",
       "  <tbody>\n",
       "    <tr>\n",
       "      <th>0</th>\n",
       "      <td>2016-01-28</td>\n",
       "      <td>2248</td>\n",
       "      <td>DECANTERS &amp; SPECIALTY PACKAGES</td>\n",
       "      <td>65.0</td>\n",
       "      <td>173</td>\n",
       "      <td>Laphroaig w/ Whiskey Stones</td>\n",
       "      <td>12</td>\n",
       "      <td>750</td>\n",
       "      <td>19.58</td>\n",
       "      <td>29.37</td>\n",
       "      <td>36</td>\n",
       "      <td>1057.32</td>\n",
       "      <td>27.00</td>\n",
       "    </tr>\n",
       "    <tr>\n",
       "      <th>1</th>\n",
       "      <td>2016-01-05</td>\n",
       "      <td>5126</td>\n",
       "      <td>CREAM LIQUEURS</td>\n",
       "      <td>305.0</td>\n",
       "      <td>258</td>\n",
       "      <td>Rumchata \"GoChatas\"</td>\n",
       "      <td>1</td>\n",
       "      <td>6000</td>\n",
       "      <td>99.00</td>\n",
       "      <td>148.50</td>\n",
       "      <td>1</td>\n",
       "      <td>148.50</td>\n",
       "      <td>6.00</td>\n",
       "    </tr>\n",
       "    <tr>\n",
       "      <th>2</th>\n",
       "      <td>2016-01-13</td>\n",
       "      <td>4062</td>\n",
       "      <td>DECANTERS &amp; SPECIALTY PACKAGES</td>\n",
       "      <td>370.0</td>\n",
       "      <td>316</td>\n",
       "      <td>Absolut with Ginger Beer</td>\n",
       "      <td>6</td>\n",
       "      <td>750</td>\n",
       "      <td>11.49</td>\n",
       "      <td>17.24</td>\n",
       "      <td>6</td>\n",
       "      <td>103.44</td>\n",
       "      <td>4.50</td>\n",
       "    </tr>\n",
       "    <tr>\n",
       "      <th>3</th>\n",
       "      <td>2016-01-19</td>\n",
       "      <td>5126</td>\n",
       "      <td>DECANTERS &amp; SPECIALTY PACKAGES</td>\n",
       "      <td>259.0</td>\n",
       "      <td>352</td>\n",
       "      <td>Blackheart Playboy Edition</td>\n",
       "      <td>12</td>\n",
       "      <td>750</td>\n",
       "      <td>7.94</td>\n",
       "      <td>11.91</td>\n",
       "      <td>12</td>\n",
       "      <td>142.92</td>\n",
       "      <td>9.00</td>\n",
       "    </tr>\n",
       "    <tr>\n",
       "      <th>4</th>\n",
       "      <td>2016-01-21</td>\n",
       "      <td>2190</td>\n",
       "      <td>DECANTERS &amp; SPECIALTY PACKAGES</td>\n",
       "      <td>259.0</td>\n",
       "      <td>352</td>\n",
       "      <td>Blackheart Playboy Edition</td>\n",
       "      <td>12</td>\n",
       "      <td>750</td>\n",
       "      <td>7.94</td>\n",
       "      <td>11.91</td>\n",
       "      <td>2</td>\n",
       "      <td>23.82</td>\n",
       "      <td>1.50</td>\n",
       "    </tr>\n",
       "    <tr>\n",
       "      <th>...</th>\n",
       "      <td>...</td>\n",
       "      <td>...</td>\n",
       "      <td>...</td>\n",
       "      <td>...</td>\n",
       "      <td>...</td>\n",
       "      <td>...</td>\n",
       "      <td>...</td>\n",
       "      <td>...</td>\n",
       "      <td>...</td>\n",
       "      <td>...</td>\n",
       "      <td>...</td>\n",
       "      <td>...</td>\n",
       "      <td>...</td>\n",
       "    </tr>\n",
       "    <tr>\n",
       "      <th>202134</th>\n",
       "      <td>2016-12-30</td>\n",
       "      <td>2190</td>\n",
       "      <td>Imported Vodka</td>\n",
       "      <td>368.0</td>\n",
       "      <td>36171</td>\n",
       "      <td>Cooranbong Vodka</td>\n",
       "      <td>6</td>\n",
       "      <td>750</td>\n",
       "      <td>11.50</td>\n",
       "      <td>17.25</td>\n",
       "      <td>2</td>\n",
       "      <td>17.25</td>\n",
       "      <td>1.50</td>\n",
       "    </tr>\n",
       "    <tr>\n",
       "      <th>202135</th>\n",
       "      <td>2016-12-30</td>\n",
       "      <td>2190</td>\n",
       "      <td>Imported Vodka</td>\n",
       "      <td>115.0</td>\n",
       "      <td>34820</td>\n",
       "      <td>Svedka Vodka</td>\n",
       "      <td>12</td>\n",
       "      <td>750</td>\n",
       "      <td>8.25</td>\n",
       "      <td>12.38</td>\n",
       "      <td>2</td>\n",
       "      <td>12.38</td>\n",
       "      <td>1.50</td>\n",
       "    </tr>\n",
       "    <tr>\n",
       "      <th>202136</th>\n",
       "      <td>2016-12-30</td>\n",
       "      <td>2190</td>\n",
       "      <td>Cocktails / RTD</td>\n",
       "      <td>395.0</td>\n",
       "      <td>59154</td>\n",
       "      <td>1800 Ultimate Margarita</td>\n",
       "      <td>6</td>\n",
       "      <td>1750</td>\n",
       "      <td>9.50</td>\n",
       "      <td>14.25</td>\n",
       "      <td>1</td>\n",
       "      <td>14.25</td>\n",
       "      <td>1.75</td>\n",
       "    </tr>\n",
       "    <tr>\n",
       "      <th>202137</th>\n",
       "      <td>2016-12-30</td>\n",
       "      <td>2190</td>\n",
       "      <td>100% Agave Tequila</td>\n",
       "      <td>260.0</td>\n",
       "      <td>87485</td>\n",
       "      <td>Don Julio Blanco Tequila</td>\n",
       "      <td>6</td>\n",
       "      <td>750</td>\n",
       "      <td>26.99</td>\n",
       "      <td>40.49</td>\n",
       "      <td>2</td>\n",
       "      <td>40.49</td>\n",
       "      <td>1.50</td>\n",
       "    </tr>\n",
       "    <tr>\n",
       "      <th>202138</th>\n",
       "      <td>2016-12-30</td>\n",
       "      <td>2190</td>\n",
       "      <td>100% Agave Tequila</td>\n",
       "      <td>35.0</td>\n",
       "      <td>89099</td>\n",
       "      <td>Cazadores Anejo</td>\n",
       "      <td>6</td>\n",
       "      <td>750</td>\n",
       "      <td>23.33</td>\n",
       "      <td>35.00</td>\n",
       "      <td>1</td>\n",
       "      <td>35.00</td>\n",
       "      <td>0.75</td>\n",
       "    </tr>\n",
       "  </tbody>\n",
       "</table>\n",
       "<p>202139 rows × 13 columns</p>\n",
       "</div>"
      ],
      "text/plain": [
       "             Date Store Number                   Category Name Vendor Number  \\\n",
       "0      2016-01-28         2248  DECANTERS & SPECIALTY PACKAGES          65.0   \n",
       "1      2016-01-05         5126                  CREAM LIQUEURS         305.0   \n",
       "2      2016-01-13         4062  DECANTERS & SPECIALTY PACKAGES         370.0   \n",
       "3      2016-01-19         5126  DECANTERS & SPECIALTY PACKAGES         259.0   \n",
       "4      2016-01-21         2190  DECANTERS & SPECIALTY PACKAGES         259.0   \n",
       "...           ...          ...                             ...           ...   \n",
       "202134 2016-12-30         2190                  Imported Vodka         368.0   \n",
       "202135 2016-12-30         2190                  Imported Vodka         115.0   \n",
       "202136 2016-12-30         2190                 Cocktails / RTD         395.0   \n",
       "202137 2016-12-30         2190              100% Agave Tequila         260.0   \n",
       "202138 2016-12-30         2190              100% Agave Tequila          35.0   \n",
       "\n",
       "       Item Number             Item Description  Pack  Bottle Volume (ml)  \\\n",
       "0              173  Laphroaig w/ Whiskey Stones    12                 750   \n",
       "1              258          Rumchata \"GoChatas\"     1                6000   \n",
       "2              316     Absolut with Ginger Beer     6                 750   \n",
       "3              352   Blackheart Playboy Edition    12                 750   \n",
       "4              352   Blackheart Playboy Edition    12                 750   \n",
       "...            ...                          ...   ...                 ...   \n",
       "202134       36171             Cooranbong Vodka     6                 750   \n",
       "202135       34820                 Svedka Vodka    12                 750   \n",
       "202136       59154      1800 Ultimate Margarita     6                1750   \n",
       "202137       87485     Don Julio Blanco Tequila     6                 750   \n",
       "202138       89099              Cazadores Anejo     6                 750   \n",
       "\n",
       "        State Bottle Cost  State Bottle Retail  Bottles Sold  Sale (Dollars)  \\\n",
       "0                   19.58                29.37            36         1057.32   \n",
       "1                   99.00               148.50             1          148.50   \n",
       "2                   11.49                17.24             6          103.44   \n",
       "3                    7.94                11.91            12          142.92   \n",
       "4                    7.94                11.91             2           23.82   \n",
       "...                   ...                  ...           ...             ...   \n",
       "202134              11.50                17.25             2           17.25   \n",
       "202135               8.25                12.38             2           12.38   \n",
       "202136               9.50                14.25             1           14.25   \n",
       "202137              26.99                40.49             2           40.49   \n",
       "202138              23.33                35.00             1           35.00   \n",
       "\n",
       "        Volume Sold (Liters)  \n",
       "0                      27.00  \n",
       "1                       6.00  \n",
       "2                       4.50  \n",
       "3                       9.00  \n",
       "4                       1.50  \n",
       "...                      ...  \n",
       "202134                  1.50  \n",
       "202135                  1.50  \n",
       "202136                  1.75  \n",
       "202137                  1.50  \n",
       "202138                  0.75  \n",
       "\n",
       "[202139 rows x 13 columns]"
      ]
     },
     "execution_count": 180,
     "metadata": {},
     "output_type": "execute_result"
    }
   ],
   "source": [
    "c16.head(2)"
   ]
  },
  {
   "cell_type": "code",
   "execution_count": 182,
   "id": "11a08441",
   "metadata": {},
   "outputs": [],
   "source": [
    "c16.to_csv('final_2016.csv')"
   ]
  },
  {
   "cell_type": "markdown",
   "id": "0c116fe2",
   "metadata": {},
   "source": [
    "#  2017 column drops"
   ]
  },
  {
   "cell_type": "code",
   "execution_count": 171,
   "id": "277ce4b9",
   "metadata": {},
   "outputs": [
    {
     "data": {
      "text/plain": [
       "13"
      ]
     },
     "execution_count": 171,
     "metadata": {},
     "output_type": "execute_result"
    }
   ],
   "source": [
    "c17=c17.reset_index(drop=True)\n",
    "c17=c17.drop(['Unnamed: 0','Unnamed: 0.1','Invoice/Item Number','Store Name','Address','City','Zip Code', 'Store Location','County Number','County','Category','Vendor Name','Volume Sold (Gallons)','Year'] ,axis=1)\n",
    "len(c17.columns)"
   ]
  },
  {
   "cell_type": "code",
   "execution_count": 172,
   "id": "ed5f7eed",
   "metadata": {},
   "outputs": [],
   "source": [
    "c17['Date']=pd.to_datetime(c17['Date'])\n",
    "c17['Vendor Number']=c17['Vendor Number'].astype(str)\n",
    "c17['Store Number']=c17['Store Number'].astype(str)\n",
    "c17['Item Number']=c17['Item Number'].astype(str)\n",
    "c17['State Bottle Cost']=list(map(lambda x:x[1:],c17['State Bottle Cost']))\n",
    "c17['State Bottle Cost']=pd.to_numeric(c17['State Bottle Cost'])\n",
    "c17['State Bottle Retail']=list(map(lambda x:x[1:],c17['State Bottle Retail']))\n",
    "c17['State Bottle Retail']=pd.to_numeric(c17['State Bottle Retail'])\n",
    "c17['Sale (Dollars)']=list(map(lambda x:x[1:],c17['Sale (Dollars)']))\n",
    "c17['Sale (Dollars)']=pd.to_numeric(c17['Sale (Dollars)'])"
   ]
  },
  {
   "cell_type": "code",
   "execution_count": 183,
   "id": "24452ac1",
   "metadata": {},
   "outputs": [
    {
     "data": {
      "text/plain": [
       "Date                    datetime64[ns]\n",
       "Store Number                    object\n",
       "Category Name                   object\n",
       "Vendor Number                   object\n",
       "Item Number                     object\n",
       "Item Description                object\n",
       "Pack                             int64\n",
       "Bottle Volume (ml)               int64\n",
       "State Bottle Cost              float64\n",
       "State Bottle Retail            float64\n",
       "Bottles Sold                     int64\n",
       "Sale (Dollars)                 float64\n",
       "Volume Sold (Liters)           float64\n",
       "dtype: object"
      ]
     },
     "execution_count": 183,
     "metadata": {},
     "output_type": "execute_result"
    }
   ],
   "source": [
    "c17.dtypes"
   ]
  },
  {
   "cell_type": "code",
   "execution_count": 184,
   "id": "9a9c8d30",
   "metadata": {},
   "outputs": [],
   "source": [
    "c17.to_csv('final_2017.csv')"
   ]
  },
  {
   "cell_type": "code",
   "execution_count": 196,
   "id": "eed6f674",
   "metadata": {},
   "outputs": [
    {
     "data": {
      "text/plain": [
       "Index(['Date', 'Store Number', 'Category Name', 'Vendor Number', 'Item Number',\n",
       "       'Item Description', 'Pack', 'Bottle Volume (ml)', 'State Bottle Cost',\n",
       "       'State Bottle Retail', 'Bottles Sold', 'Sale (Dollars)',\n",
       "       'Volume Sold (Liters)'],\n",
       "      dtype='object')"
      ]
     },
     "execution_count": 196,
     "metadata": {},
     "output_type": "execute_result"
    }
   ],
   "source": [
    "c12.columns"
   ]
  },
  {
   "cell_type": "code",
   "execution_count": null,
   "id": "123ad36b",
   "metadata": {},
   "outputs": [],
   "source": []
  }
 ],
 "metadata": {
  "kernelspec": {
   "display_name": "Python 3 (ipykernel)",
   "language": "python",
   "name": "python3"
  },
  "language_info": {
   "codemirror_mode": {
    "name": "ipython",
    "version": 3
   },
   "file_extension": ".py",
   "mimetype": "text/x-python",
   "name": "python",
   "nbconvert_exporter": "python",
   "pygments_lexer": "ipython3",
   "version": "3.9.7"
  }
 },
 "nbformat": 4,
 "nbformat_minor": 5
}

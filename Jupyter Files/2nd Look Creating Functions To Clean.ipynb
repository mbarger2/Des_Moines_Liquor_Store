{
 "cells": [
  {
   "cell_type": "code",
   "execution_count": 1,
   "id": "29249852",
   "metadata": {},
   "outputs": [],
   "source": [
    "import pandas as pd\n",
    "import numpy as np\n",
    "import chunk\n",
    "import re\n",
    "from datetime import datetime\n",
    "\n",
    "pd.set_option('display.max_columns',30)"
   ]
  },
  {
   "cell_type": "code",
   "execution_count": 2,
   "id": "dd75748b",
   "metadata": {},
   "outputs": [],
   "source": [
    "y12=pd.read_csv('C://Users//Matthew//DA//Activities//Final_Project//Final Cuts//year2012.csv')\n",
    "y13=pd.read_csv('C://Users//Matthew//DA//Activities//Final_Project//Final Cuts//year2013.csv')\n",
    "y14=pd.read_csv('C://Users//Matthew//DA//Activities//Final_Project//Final Cuts//year2014.csv')\n",
    "y15=pd.read_csv('C://Users//Matthew//DA//Activities//Final_Project//Final Cuts//year2015.csv')\n",
    "y16=pd.read_csv('C://Users//Matthew//DA//Activities//Final_Project//Final Cuts//year2016.csv')\n",
    "y17=pd.read_csv('C://Users//Matthew//DA//Activities//Final_Project//Final Cuts//year2017.csv')"
   ]
  },
  {
   "cell_type": "code",
   "execution_count": 44,
   "id": "425d3e0c",
   "metadata": {},
   "outputs": [],
   "source": [
    "#dummy dataframe to test functions\n",
    "ytest17=y17"
   ]
  },
  {
   "cell_type": "markdown",
   "id": "b1e544eb",
   "metadata": {},
   "source": [
    "# Setting Up Dictionaries in each column with Na values to Use in Functions to Clean Data"
   ]
  },
  {
   "cell_type": "markdown",
   "id": "7ff65c1e",
   "metadata": {},
   "source": [
    "### Address"
   ]
  },
  {
   "cell_type": "code",
   "execution_count": null,
   "id": "ca686b8d",
   "metadata": {},
   "outputs": [],
   "source": [
    "sall=pd.concat([y17[['Store Number','Address']],y16[['Store Number','Address']],y15[['Store Number','Address']],y14[['Store Number','Address']],y13[['Store Number','Address']],y12[['Store Number','Address']]])\n",
    "sall=sall[sall['Address'].notna()]\n",
    "sall.drop_duplicates(subset=['Store Number'],inplace=True)\n",
    "sall.to_csv('storenumaddress.csv')"
   ]
  },
  {
   "cell_type": "code",
   "execution_count": 40,
   "id": "eedc8a6c",
   "metadata": {},
   "outputs": [],
   "source": [
    "salldict={}\n",
    "for i in sall['Store Number']:\n",
    "    salldict[i]=sall[sall['Store Number']==i]['Address'].values[0]"
   ]
  },
  {
   "cell_type": "code",
   "execution_count": 354,
   "id": "f9a272b4",
   "metadata": {},
   "outputs": [
    {
     "ename": "AttributeError",
     "evalue": "'dict' object has no attribute 'to_json'",
     "output_type": "error",
     "traceback": [
      "\u001b[1;31m---------------------------------------------------------------------------\u001b[0m",
      "\u001b[1;31mAttributeError\u001b[0m                            Traceback (most recent call last)",
      "\u001b[1;32m<ipython-input-354-e29eaed57ac1>\u001b[0m in \u001b[0;36m<module>\u001b[1;34m\u001b[0m\n\u001b[1;32m----> 1\u001b[1;33m \u001b[0msalldict\u001b[0m\u001b[1;33m.\u001b[0m\u001b[0mto_json\u001b[0m\u001b[1;33m(\u001b[0m\u001b[1;34m'allstoredict.json'\u001b[0m\u001b[1;33m)\u001b[0m\u001b[1;33m\u001b[0m\u001b[1;33m\u001b[0m\u001b[0m\n\u001b[0m",
      "\u001b[1;31mAttributeError\u001b[0m: 'dict' object has no attribute 'to_json'"
     ]
    }
   ],
   "source": [
    "salldict.to_csv('allstoredict.csv')"
   ]
  },
  {
   "cell_type": "code",
   "execution_count": 47,
   "id": "69d31d57",
   "metadata": {},
   "outputs": [],
   "source": [
    "def get_address(x,y):\n",
    "    storelist=list(salldict.keys())\n",
    "    if (pd.isna(x)) & (y in storelist):\n",
    "        return salldict[y]\n",
    "    else:\n",
    "        return x"
   ]
  },
  {
   "cell_type": "code",
   "execution_count": 241,
   "id": "e2a2dc21",
   "metadata": {},
   "outputs": [],
   "source": [
    "ytest17['Address']=list(map(get_address,ytest17['Address'],ytest17['Store Number']))"
   ]
  },
  {
   "cell_type": "markdown",
   "id": "0d6d9555",
   "metadata": {},
   "source": [
    "### Store Location"
   ]
  },
  {
   "cell_type": "code",
   "execution_count": 181,
   "id": "2d0141fa",
   "metadata": {},
   "outputs": [],
   "source": [
    "slall=pd.concat([y17[['Store Number','Store Location']],y16[['Store Number','Store Location']],y15[['Store Number','Store Location']],y14[['Store Number','Store Location']],y13[['Store Number','Store Location']],y12[['Store Number','Store Location']]])\n",
    "slall=slall[slall['Store Location'].notna()]\n",
    "slall.drop_duplicates(subset=['Store Number'],inplace=True)\n",
    "slall.to_csv('storenumlocation.csv')"
   ]
  },
  {
   "cell_type": "code",
   "execution_count": 184,
   "id": "590f0475",
   "metadata": {},
   "outputs": [
    {
     "data": {
      "text/plain": [
       "1884"
      ]
     },
     "execution_count": 184,
     "metadata": {},
     "output_type": "execute_result"
    }
   ],
   "source": [
    "len(slall)"
   ]
  },
  {
   "cell_type": "code",
   "execution_count": 185,
   "id": "1a12f6c2",
   "metadata": {},
   "outputs": [],
   "source": [
    "slalldict={}\n",
    "for i in slall['Store Number']:\n",
    "    slalldict[i]=slall[slall['Store Number']==i]['Store Location'].values[0]"
   ]
  },
  {
   "cell_type": "code",
   "execution_count": 186,
   "id": "fac4ca50",
   "metadata": {},
   "outputs": [],
   "source": [
    "def get_store_location(x,y):\n",
    "    storelist=list(slalldict.keys())\n",
    "    if (pd.isna(x)) & (y in storelist):\n",
    "        return slalldict[y]\n",
    "    else:\n",
    "        return x"
   ]
  },
  {
   "cell_type": "code",
   "execution_count": 196,
   "id": "ae701da8",
   "metadata": {},
   "outputs": [],
   "source": [
    "ytest17['Store Location']=list(map(get_store_location,ytest17['Store Location'],ytest17['Store Number']))"
   ]
  },
  {
   "cell_type": "markdown",
   "id": "1f1d2d25",
   "metadata": {},
   "source": [
    "### Zip Code"
   ]
  },
  {
   "cell_type": "code",
   "execution_count": 129,
   "id": "c76c6570",
   "metadata": {},
   "outputs": [],
   "source": [
    "zipna=pd.concat([y17[['Store Number','Zip Code']],y16[['Store Number','Zip Code']],y15[['Store Number','Zip Code']],y14[['Store Number','Zip Code']],y13[['Store Number','Zip Code']],y12[['Store Number','Zip Code']]])\n",
    "zipna=zipna[zipna['Zip Code'].notna()]\n",
    "zipna.drop_duplicates(subset=['Store Number'],inplace=True)\n",
    "zipna.to_csv('storenumzip.csv')"
   ]
  },
  {
   "cell_type": "code",
   "execution_count": 132,
   "id": "463cad72",
   "metadata": {},
   "outputs": [
    {
     "data": {
      "text/plain": [
       "1884"
      ]
     },
     "execution_count": 132,
     "metadata": {},
     "output_type": "execute_result"
    }
   ],
   "source": [
    "len(zipna)"
   ]
  },
  {
   "cell_type": "code",
   "execution_count": 133,
   "id": "e8c849ca",
   "metadata": {},
   "outputs": [],
   "source": [
    "zipdict={}\n",
    "for i in zipna['Store Number']:\n",
    "    zipdict[i]=zipna[zipna['Store Number']==i]['Zip Code'].values[0]"
   ]
  },
  {
   "cell_type": "code",
   "execution_count": 134,
   "id": "a63255b0",
   "metadata": {},
   "outputs": [],
   "source": [
    "def get_zip(x,y):\n",
    "    storelist=list(zipdict.keys())\n",
    "    if (pd.isna(x)) and (y in storelist):\n",
    "        return zipdict[y]\n",
    "    else:\n",
    "        return x"
   ]
  },
  {
   "cell_type": "code",
   "execution_count": null,
   "id": "5fab145f",
   "metadata": {},
   "outputs": [],
   "source": [
    "ytest17['Zip Code']=list(map(get_zip,ytest17['Zip Code'],ytest17['Store Number']))"
   ]
  },
  {
   "cell_type": "markdown",
   "id": "8a5d1857",
   "metadata": {},
   "source": [
    "### County"
   ]
  },
  {
   "cell_type": "code",
   "execution_count": 136,
   "id": "b4ddb2b2",
   "metadata": {},
   "outputs": [],
   "source": [
    "countyna=pd.concat([y17[['Store Number','County']],y16[['Store Number','County']],y15[['Store Number','County']],y14[['Store Number','County']],y13[['Store Number','County']],y12[['Store Number','County']]])\n",
    "countyna=countyna[countyna['County'].notna()]\n",
    "countyna.drop_duplicates(subset=['Store Number'],inplace=True)\n",
    "countyna.to_csv('storenumcounty.csv')"
   ]
  },
  {
   "cell_type": "code",
   "execution_count": 139,
   "id": "b2816637",
   "metadata": {},
   "outputs": [
    {
     "data": {
      "text/plain": [
       "1883"
      ]
     },
     "execution_count": 139,
     "metadata": {},
     "output_type": "execute_result"
    }
   ],
   "source": [
    "len(countyna)"
   ]
  },
  {
   "cell_type": "code",
   "execution_count": 465,
   "id": "2916626d",
   "metadata": {},
   "outputs": [
    {
     "data": {
      "text/plain": [
       "array(['CERRO GORD'], dtype=object)"
      ]
     },
     "execution_count": 465,
     "metadata": {},
     "output_type": "execute_result"
    }
   ],
   "source": [
    "ytest17[ytest17['City']=='Mason City']['County'].unique()"
   ]
  },
  {
   "cell_type": "code",
   "execution_count": 466,
   "id": "6f1623ff",
   "metadata": {},
   "outputs": [
    {
     "data": {
      "text/plain": [
       "27745"
      ]
     },
     "execution_count": 466,
     "metadata": {},
     "output_type": "execute_result"
    }
   ],
   "source": [
    "len(ytest17[ytest17['County']=='CERRO GORD'])"
   ]
  },
  {
   "cell_type": "code",
   "execution_count": 140,
   "id": "141d2e9a",
   "metadata": {},
   "outputs": [],
   "source": [
    "countydict={}\n",
    "for i in countyna['Store Number']:\n",
    "    countydict[i]=countyna[countyna['Store Number']==i]['County'].values[0]"
   ]
  },
  {
   "cell_type": "code",
   "execution_count": 141,
   "id": "944601ae",
   "metadata": {},
   "outputs": [],
   "source": [
    "def get_county(x,y):\n",
    "    storelist=list(countydict.keys())\n",
    "    if (pd.isna(x)) and (y in storelist):\n",
    "        return countydict[y]\n",
    "    else:\n",
    "        return x"
   ]
  },
  {
   "cell_type": "code",
   "execution_count": null,
   "id": "61dc4cac",
   "metadata": {},
   "outputs": [],
   "source": [
    "ytest17['County']=list(map(get_county,ytest17['County'],ytest17['Store Number']))"
   ]
  },
  {
   "cell_type": "markdown",
   "id": "c2a48ac1",
   "metadata": {},
   "source": [
    "### County Number"
   ]
  },
  {
   "cell_type": "code",
   "execution_count": 150,
   "id": "08682b0b",
   "metadata": {},
   "outputs": [],
   "source": [
    "countynumna=pd.concat([y17[['Store Number','County Number']],y16[['Store Number','County Number']],y15[['Store Number','County Number']],y14[['Store Number','County Number']],y13[['Store Number','County Number']],y12[['Store Number','County Number']]])\n",
    "countynumna=countynumna[countynumna['County Number'].notna()]\n",
    "countynumna.drop_duplicates(subset=['Store Number'],inplace=True)\n",
    "countynumna.to_csv('storenumcountynum.csv')"
   ]
  },
  {
   "cell_type": "code",
   "execution_count": 153,
   "id": "9cb1d2df",
   "metadata": {},
   "outputs": [
    {
     "data": {
      "text/plain": [
       "1883"
      ]
     },
     "execution_count": 153,
     "metadata": {},
     "output_type": "execute_result"
    }
   ],
   "source": [
    "len(countynumna)"
   ]
  },
  {
   "cell_type": "code",
   "execution_count": 154,
   "id": "c019bd16",
   "metadata": {},
   "outputs": [],
   "source": [
    "countynumdict={}\n",
    "for i in countynumna['Store Number']:\n",
    "    countynumdict[i]=countynumna[countynumna['Store Number']==i]['County Number'].values[0]"
   ]
  },
  {
   "cell_type": "code",
   "execution_count": 155,
   "id": "ed4a897f",
   "metadata": {},
   "outputs": [],
   "source": [
    "def get_county_number(x,y):\n",
    "    storelist=list(countynumdict.keys())\n",
    "    if (pd.isna(x)) and (y in storelist):\n",
    "        return countynumdict[y]\n",
    "    else:\n",
    "        return x"
   ]
  },
  {
   "cell_type": "code",
   "execution_count": null,
   "id": "28dbf693",
   "metadata": {},
   "outputs": [],
   "source": [
    "ytest17['County Number']=list(map(get_county_number,ytest17['County Number'],ytest17['Store Number']))"
   ]
  },
  {
   "cell_type": "markdown",
   "id": "fe6dcf09",
   "metadata": {},
   "source": [
    "### City"
   ]
  },
  {
   "cell_type": "code",
   "execution_count": 157,
   "id": "a652c6b7",
   "metadata": {},
   "outputs": [],
   "source": [
    "cityna=pd.concat([y17[['Store Number','City']],y16[['Store Number','City']],y15[['Store Number','City']],y14[['Store Number','City']],y13[['Store Number','City']],y12[['Store Number','City']]])\n",
    "cityna=cityna[cityna['City'].notna()]\n",
    "cityna.drop_duplicates(subset=['Store Number'],inplace=True)\n",
    "cityna.to_csv('storenumcity.csv')"
   ]
  },
  {
   "cell_type": "code",
   "execution_count": 160,
   "id": "20ea5cce",
   "metadata": {},
   "outputs": [
    {
     "data": {
      "text/plain": [
       "1884"
      ]
     },
     "execution_count": 160,
     "metadata": {},
     "output_type": "execute_result"
    }
   ],
   "source": [
    "len(cityna)"
   ]
  },
  {
   "cell_type": "code",
   "execution_count": 161,
   "id": "83b2f9ab",
   "metadata": {},
   "outputs": [],
   "source": [
    "citydict={}\n",
    "for i in cityna['Store Number']:\n",
    "    citydict[i]=cityna[cityna['Store Number']==i]['City'].values[0]"
   ]
  },
  {
   "cell_type": "code",
   "execution_count": 162,
   "id": "7440cf98",
   "metadata": {},
   "outputs": [],
   "source": [
    "def get_city(x,y):\n",
    "    storelist=list(citydict.keys())\n",
    "    if (pd.isna(x)) and (y in storelist):\n",
    "        return citydict[y]\n",
    "    else:\n",
    "        return x"
   ]
  },
  {
   "cell_type": "code",
   "execution_count": null,
   "id": "32b7ddb5",
   "metadata": {},
   "outputs": [],
   "source": [
    "ytest17['City']=list(map(get_city,ytest17['City'],ytest17['Store Number']))"
   ]
  },
  {
   "cell_type": "markdown",
   "id": "712de852",
   "metadata": {},
   "source": [
    "### Category "
   ]
  },
  {
   "cell_type": "code",
   "execution_count": 328,
   "id": "98d4b2bc",
   "metadata": {},
   "outputs": [],
   "source": [
    "catna=pd.concat([y17[['Item Description','Category']],y16[['Item Description','Category']],y15[['Item Description','Category']],y14[['Item Description','Category']],y13[['Item Description','Category']],y12[['Item Description','Category']]])\n",
    "catna=catna[catna['Category'].notna()]\n",
    "catna.drop_duplicates(subset=['Item Description'],inplace=True)\n",
    "catna.to_csv('idcategory.csv')"
   ]
  },
  {
   "cell_type": "code",
   "execution_count": 332,
   "id": "35d8ec40",
   "metadata": {},
   "outputs": [
    {
     "data": {
      "text/plain": [
       "5795"
      ]
     },
     "execution_count": 332,
     "metadata": {},
     "output_type": "execute_result"
    }
   ],
   "source": [
    "len(catna)"
   ]
  },
  {
   "cell_type": "code",
   "execution_count": 333,
   "id": "1d68423e",
   "metadata": {},
   "outputs": [],
   "source": [
    "catdict={}\n",
    "for i in catna['Item Description']:\n",
    "    catdict[i]=catna[catna['Item Description']==i]['Category'].values[0]"
   ]
  },
  {
   "cell_type": "code",
   "execution_count": 334,
   "id": "1e547f12",
   "metadata": {},
   "outputs": [],
   "source": [
    "def get_category(x,y):\n",
    "    storelist=list(catdict.keys())\n",
    "    if (pd.isna(x)) and (y in storelist):\n",
    "        return catdict[y]\n",
    "    else:\n",
    "        return x"
   ]
  },
  {
   "cell_type": "code",
   "execution_count": 335,
   "id": "70ee4a3d",
   "metadata": {},
   "outputs": [],
   "source": [
    "ytest17['Category']=list(map(get_category,ytest17['Category'],ytest17['Item Description']))"
   ]
  },
  {
   "cell_type": "code",
   "execution_count": 336,
   "id": "00750a8d",
   "metadata": {},
   "outputs": [
    {
     "data": {
      "text/plain": [
       "827"
      ]
     },
     "execution_count": 336,
     "metadata": {},
     "output_type": "execute_result"
    }
   ],
   "source": [
    "ytest17['Category'].isna().sum()"
   ]
  },
  {
   "cell_type": "code",
   "execution_count": 337,
   "id": "d7466ce5",
   "metadata": {},
   "outputs": [
    {
     "data": {
      "text/plain": [
       "array([\"Galliano L'Autentico\", 'Bains Cape Mountain Whiskey',\n",
       "       'Don Pancho Origenes 8YR Rum', 'Barbados Rum 100ml',\n",
       "       'Barbados Rum 1 Liter', 'Barbados Rum 200 ml',\n",
       "       'Barbados Rum 375ml', 'Barbados Rum 50ml', 'Barbados Rum 750ml',\n",
       "       'Spanish Single Malt 100ml', 'Spanish Single Malt 1 Liter',\n",
       "       'Spanish Single Malt 375ml', 'Spanish Single Malt 50ml',\n",
       "       'Spanish Single Malt 750ml', 'Spanish Single Malt 200ml',\n",
       "       'Deep Eddy  Lemon Vodka', 'Diplomatico Reserva Exclusiva',\n",
       "       'Grand Teton Vodka', '\"Beefeater \"\"24\"\"\"', 'Athena Liq Ouzo Rum',\n",
       "       'Glenmorangie Bacalta HA', 'Valentine Vodka', 'Ansac VS  Cognac',\n",
       "       'Aalborg Jubilaeums Aquavit', 'Patron Silver 750 Box Tray Pack',\n",
       "       'Patron Citronge Mango', 'Lairds Old Apple Brandy 7YR',\n",
       "       'Green Absinthe', 'Red Absinthe', 'Deanston Organic 14YR',\n",
       "       'Calvados Morin Selection 3YR',\n",
       "       'Seven Devils Straight Bourbon Whiskey HA', 'HA Seven Devils',\n",
       "       'Don Amado Mezcal Rustico', 'HA Michters US*1 Small Batch',\n",
       "       'HA Orphan Barrel Barterhouse', 'HA Orphan Barrel Forged Oak',\n",
       "       'Rothman & Winter Orchard Peach',\n",
       "       'HA Abraham Bowman Wine Finish Whiskey',\n",
       "       'HA Highland Park Ice Edition', 'HA Pikesville Rye 110prf',\n",
       "       'HA Johnnie Walker Private Collection 2014 Smoke',\n",
       "       'Old Forester 1920', 'Jose Cuervo Especial Silver/Flask',\n",
       "       'Jose Cuervo Especial Gold /Flask', 'Ron Abuelo Anejo 7YR',\n",
       "       \"Aberlour A''bunadh\", 'El Mayor Extra Anejo 100% Agave',\n",
       "       'Ezra Brooks Bourbon Cream Mini', \"Michter's US*1 SB Rye\",\n",
       "       'Glen Moray Scotch Classic Port Cask w/2 Glasses',\n",
       "       'HA Laphroaig 25YR Cask Strength', 'Ron Abuelo 12YR',\n",
       "       'Zaya Gran Reserva Rum w/2 Rocks Glasses',\n",
       "       'Corralejo Silver w/2 Sangrita Glasses',\n",
       "       'Southern Comfort w/2 Rock Glasses',\n",
       "       'Crystal Head Vodka w/2 Skull Glasses', 'Hornitos Plata w/Glasses',\n",
       "       'Hornitos Reposado w/Glasses',\n",
       "       'Glen Moray Classic Chardonnay Cask Finish w/2 Glasses'],\n",
       "      dtype=object)"
      ]
     },
     "execution_count": 337,
     "metadata": {},
     "output_type": "execute_result"
    }
   ],
   "source": [
    "ytest17[ytest17['Category'].isna()]['Item Description'].unique()"
   ]
  },
  {
   "cell_type": "markdown",
   "id": "6161a03f",
   "metadata": {},
   "source": [
    "### Category Name"
   ]
  },
  {
   "cell_type": "code",
   "execution_count": 250,
   "id": "cde45071",
   "metadata": {},
   "outputs": [],
   "source": [
    "catnamena=pd.concat([y17[['Item Description','Category Name']],y16[['Item Description','Category Name']],y15[['Item Description','Category Name']],y14[['Item Description','Category Name']],y13[['Item Description','Category Name']],y12[['Item Description','Category Name']]])\n",
    "catnamena=catnamena[catnamena['Category Name'].notna()]\n",
    "catnamena.drop_duplicates(subset=['Item Description'],inplace=True)\n",
    "catnamena.to_csv('idcategoryname.csv')"
   ]
  },
  {
   "cell_type": "code",
   "execution_count": 253,
   "id": "f20d4351",
   "metadata": {},
   "outputs": [
    {
     "data": {
      "text/plain": [
       "5758"
      ]
     },
     "execution_count": 253,
     "metadata": {},
     "output_type": "execute_result"
    }
   ],
   "source": [
    "len(catnamena)"
   ]
  },
  {
   "cell_type": "code",
   "execution_count": 254,
   "id": "0def6df9",
   "metadata": {},
   "outputs": [],
   "source": [
    "catnamedict={}\n",
    "for i in catnamena['Item Description']:\n",
    "    catnamedict[i]=catnamena[catnamena['Item Description']==i]['Category Name'].values[0]"
   ]
  },
  {
   "cell_type": "code",
   "execution_count": 255,
   "id": "0d3d40f5",
   "metadata": {},
   "outputs": [],
   "source": [
    "def get_category_name(x,y):\n",
    "    storelist=list(catnamedict.keys())\n",
    "    if (pd.isna(x)) and (y in storelist):\n",
    "        return catnamedict[y]\n",
    "    else:\n",
    "        return x"
   ]
  },
  {
   "cell_type": "code",
   "execution_count": 287,
   "id": "ba772223",
   "metadata": {},
   "outputs": [],
   "source": [
    "ytest17['Category Name']=list(map(get_category_name,ytest17['Category Name'],ytest17['Item Description']))"
   ]
  },
  {
   "cell_type": "code",
   "execution_count": 249,
   "id": "2b85250b",
   "metadata": {},
   "outputs": [
    {
     "ename": "AttributeError",
     "evalue": "'list' object has no attribute 'isna'",
     "output_type": "error",
     "traceback": [
      "\u001b[1;31m---------------------------------------------------------------------------\u001b[0m",
      "\u001b[1;31mAttributeError\u001b[0m                            Traceback (most recent call last)",
      "\u001b[1;32m<ipython-input-249-7ad8997a7072>\u001b[0m in \u001b[0;36m<module>\u001b[1;34m\u001b[0m\n\u001b[1;32m----> 1\u001b[1;33m \u001b[0mytest17\u001b[0m\u001b[1;33m.\u001b[0m\u001b[0misna\u001b[0m\u001b[1;33m(\u001b[0m\u001b[1;33m)\u001b[0m\u001b[1;33m.\u001b[0m\u001b[0msum\u001b[0m\u001b[1;33m(\u001b[0m\u001b[1;33m)\u001b[0m\u001b[1;33m\u001b[0m\u001b[1;33m\u001b[0m\u001b[0m\n\u001b[0m",
      "\u001b[1;31mAttributeError\u001b[0m: 'list' object has no attribute 'isna'"
     ]
    }
   ],
   "source": [
    "ytest17.isna().sum()"
   ]
  },
  {
   "cell_type": "markdown",
   "id": "61dad74e",
   "metadata": {},
   "source": [
    "### Vendor Name"
   ]
  },
  {
   "cell_type": "code",
   "execution_count": 268,
   "id": "6d78be45",
   "metadata": {},
   "outputs": [],
   "source": [
    "vennumna=pd.concat([y17[['Item Description','Vendor Name']],y16[['Item Description','Vendor Name']],y15[['Item Description','Vendor Name']],y14[['Item Description','Vendor Name']],y13[['Item Description','Vendor Name']],y12[['Item Description','Vendor Name']]])\n",
    "vennumna=vennumna[vennumna['Vendor Name'].notna()]\n",
    "vennumna.drop_duplicates(subset=['Item Description'],inplace=True)\n",
    "vennumna.to_csv('storenumvendorname.csv')"
   ]
  },
  {
   "cell_type": "code",
   "execution_count": 271,
   "id": "fc7d1082",
   "metadata": {},
   "outputs": [
    {
     "data": {
      "text/plain": [
       "5865"
      ]
     },
     "execution_count": 271,
     "metadata": {},
     "output_type": "execute_result"
    }
   ],
   "source": [
    "len(vennumna)"
   ]
  },
  {
   "cell_type": "code",
   "execution_count": 272,
   "id": "0843f545",
   "metadata": {},
   "outputs": [],
   "source": [
    "vennumnadict={}\n",
    "for i in vennumna['Item Description']:\n",
    "    vennumnadict[i]=vennumna[vennumna['Item Description']==i]['Vendor Name'].values[0]"
   ]
  },
  {
   "cell_type": "code",
   "execution_count": 273,
   "id": "f3c968ec",
   "metadata": {},
   "outputs": [],
   "source": [
    "def get_vendor_name(x,y):\n",
    "    storelist=list(vennumnadict.keys())\n",
    "    if (pd.isna(x)) and (y in storelist):\n",
    "        return vennumnadict[y]\n",
    "    else:\n",
    "        return x"
   ]
  },
  {
   "cell_type": "code",
   "execution_count": 274,
   "id": "1546c4ba",
   "metadata": {},
   "outputs": [],
   "source": [
    "ytest17['Vendor Name']=list(map(get_vendor_name,ytest17['Vendor Name'],ytest17['Item Description']))"
   ]
  },
  {
   "cell_type": "markdown",
   "id": "ded05743",
   "metadata": {},
   "source": [
    "### Vendor Number"
   ]
  },
  {
   "cell_type": "code",
   "execution_count": 257,
   "id": "a419f441",
   "metadata": {},
   "outputs": [],
   "source": [
    "vennum=pd.concat([y17[['Item Description','Vendor Number']],y16[['Item Description','Vendor Number']],y15[['Item Description','Vendor Number']],y14[['Item Description','Vendor Number']],y13[['Item Description','Vendor Number']],y12[['Item Description','Vendor Number']]])\n",
    "vennum=vennum[vennum['Vendor Number'].notna()]\n",
    "vennum.drop_duplicates(subset=['Item Description'],inplace=True)\n",
    "vennum.to_csv('storenumvendornumber.csv')"
   ]
  },
  {
   "cell_type": "code",
   "execution_count": 260,
   "id": "f6cd646b",
   "metadata": {},
   "outputs": [
    {
     "data": {
      "text/plain": [
       "5863"
      ]
     },
     "execution_count": 260,
     "metadata": {},
     "output_type": "execute_result"
    }
   ],
   "source": [
    "len(vennum)"
   ]
  },
  {
   "cell_type": "code",
   "execution_count": 261,
   "id": "12ebffba",
   "metadata": {},
   "outputs": [],
   "source": [
    "vennumdict={}\n",
    "for i in vennum['Item Description']:\n",
    "    vennumdict[i]=vennum[vennum['Item Description']==i]['Vendor Number'].values[0]"
   ]
  },
  {
   "cell_type": "code",
   "execution_count": 262,
   "id": "e8098d97",
   "metadata": {},
   "outputs": [],
   "source": [
    "def get_vendor_number(x,y):\n",
    "    storelist=list(vennumdict.keys())\n",
    "    if (pd.isna(x)) and (y in storelist):\n",
    "        return vennumdict[y]\n",
    "    else:\n",
    "        return x"
   ]
  },
  {
   "cell_type": "markdown",
   "id": "c1c928d5",
   "metadata": {},
   "source": [
    "# Combining all functions and dictionaries"
   ]
  },
  {
   "cell_type": "code",
   "execution_count": 185,
   "id": "2ff892c8",
   "metadata": {},
   "outputs": [],
   "source": [
    "vennumdict={}\n",
    "for i in vennum['Item Description']:\n",
    "    vennumdict[i]=vennum[vennum['Item Description']==i]['Vendor Number'].values[0]\n",
    "vennumnadict={}\n",
    "for i in vennumna['Item Description']:\n",
    "    vennumnadict[i]=vennumna[vennumna['Item Description']==i]['Vendor Name'].values[0]\n",
    "catnamedict={}\n",
    "for i in catnamena['Item Description']:\n",
    "    catnamedict[i]=catnamena[catnamena['Item Description']==i]['Category Name'].values[0]\n",
    "catdict={}\n",
    "for i in catna['Item Description']:\n",
    "    catdict[i]=catna[catna['Item Description']==i]['Category'].values[0]\n",
    "citydict={}\n",
    "for i in cityna['Store Number']:\n",
    "    citydict[i]=cityna[cityna['Store Number']==i]['City'].values[0]\n",
    "countynumdict={}\n",
    "for i in countynumna['Store Number']:\n",
    "    countynumdict[i]=countynumna[countynumna['Store Number']==i]['County Number'].values[0]\n",
    "slalldict={}\n",
    "for i in slall['Store Number']:\n",
    "    slalldict[i]=slall[slall['Store Number']==i]['Store Location'].values[0]\n",
    "salldict={}\n",
    "for i in sall['Store Number']:\n",
    "    salldict[i]=sall[sall['Store Number']==i]['Address'].values[0]\n",
    "zipdict={}\n",
    "for i in zipna['Store Number']:\n",
    "    zipdict[i]=zipna[zipna['Store Number']==i]['Zip Code'].values[0]\n",
    "countydict={}\n",
    "for i in countyna['Store Number']:\n",
    "    countydict[i]=countyna[countyna['Store Number']==i]['County'].values[0]"
   ]
  },
  {
   "cell_type": "code",
   "execution_count": 47,
   "id": "546afbaf",
   "metadata": {},
   "outputs": [],
   "source": [
    "def get_category_name(x,y):\n",
    "    storelist=list(catnamedict.keys())\n",
    "    if (pd.isna(x)) and (y in storelist):\n",
    "        return catnamedict[y]\n",
    "    else:\n",
    "        return x\n",
    "def get_category(x,y):\n",
    "    storelist=list(catdict.keys())\n",
    "    if (pd.isna(x)) and (y in storelist):\n",
    "        return catdict[y]\n",
    "    else:\n",
    "        return x\n",
    "def get_address(x,y):\n",
    "    storelist=list(salldict.keys())\n",
    "    if (pd.isna(x)) & (y in storelist):\n",
    "        return salldict[y]\n",
    "    else:\n",
    "        return x\n",
    "def get_store_location(x,y):\n",
    "    storelist=list(slalldict.keys())\n",
    "    if (pd.isna(x)) & (y in storelist):\n",
    "        return slalldict[y]\n",
    "    else:\n",
    "        return x\n",
    "def get_zip(x,y):\n",
    "    storelist=list(zipdict.keys())\n",
    "    if (pd.isna(x)) and (y in storelist):\n",
    "        return zipdict[y]\n",
    "    else:\n",
    "        return x\n",
    "def get_county(x,y):\n",
    "    storelist=list(countydict.keys())\n",
    "    if (pd.isna(x)) and (y in storelist):\n",
    "        return countydict[y]\n",
    "    else:\n",
    "        return x\n",
    "def get_county_number(x,y):\n",
    "    storelist=list(countynumdict.keys())\n",
    "    if (pd.isna(x)) and (y in storelist):\n",
    "        return countynumdict[y]\n",
    "    else:\n",
    "        return x\n",
    "def get_city(x,y):\n",
    "    storelist=list(citydict.keys())\n",
    "    if (pd.isna(x)) and (y in storelist):\n",
    "        return citydict[y]\n",
    "    else:\n",
    "        return x\n",
    "def get_vendor_name(x,y):\n",
    "    storelist=list(vennumnadict.keys())\n",
    "    if (pd.isna(x)) and (y in storelist):\n",
    "        return vennumnadict[y]\n",
    "    else:\n",
    "        return x\n",
    "def get_vendor_number(x,y):\n",
    "    storelist=list(vennumdict.keys())\n",
    "    if (pd.isna(x)) and (y in storelist):\n",
    "        return vennumdict[y]\n",
    "    else:\n",
    "        return x"
   ]
  },
  {
   "cell_type": "markdown",
   "id": "d2012ff0",
   "metadata": {},
   "source": [
    "# For exceptions with Nan Values where the dictionary method did not work, functions are made to manually replace Nan values "
   ]
  },
  {
   "cell_type": "code",
   "execution_count": 200,
   "id": "d0b88973",
   "metadata": {},
   "outputs": [
    {
     "data": {
      "text/plain": [
       "array(['Laphroaig Quarter Cask'], dtype=object)"
      ]
     },
     "execution_count": 200,
     "metadata": {},
     "output_type": "execute_result"
    }
   ],
   "source": [
    "ytest17[ytest17['Vendor Number'].isna()]['Item Description'].unique()"
   ]
  },
  {
   "cell_type": "code",
   "execution_count": 201,
   "id": "ff348c48",
   "metadata": {},
   "outputs": [
    {
     "data": {
      "text/plain": [
       "array(['Laphroaig Quarter Cask'], dtype=object)"
      ]
     },
     "execution_count": 201,
     "metadata": {},
     "output_type": "execute_result"
    }
   ],
   "source": [
    "ytest17[ytest17['Vendor Name'].isna()]['Item Description'].unique()"
   ]
  },
  {
   "cell_type": "code",
   "execution_count": 213,
   "id": "445fc173",
   "metadata": {},
   "outputs": [
    {
     "data": {
      "text/plain": [
       "array([nan, 'Jim Beam Brands'], dtype=object)"
      ]
     },
     "execution_count": 213,
     "metadata": {},
     "output_type": "execute_result"
    }
   ],
   "source": [
    "ytest17[ytest17['Item Description']=='Laphroaig Quarter Cask']['Vendor Name'].unique()"
   ]
  },
  {
   "cell_type": "code",
   "execution_count": 212,
   "id": "375fed48",
   "metadata": {},
   "outputs": [
    {
     "data": {
      "text/plain": [
       "array([nan, 65.])"
      ]
     },
     "execution_count": 212,
     "metadata": {},
     "output_type": "execute_result"
    }
   ],
   "source": [
    "ytest17[ytest17['Item Description']=='Laphroaig Quarter Cask']['Vendor Number'].unique()"
   ]
  },
  {
   "cell_type": "code",
   "execution_count": null,
   "id": "0256b41c",
   "metadata": {},
   "outputs": [],
   "source": [
    "def vendor_name(x,y):\n",
    "    if (pd.isna(x)) and (y=='Laphroaig Quarter Cask'):\n",
    "        return 'Jim Beam Brands'\n",
    "    else:\n",
    "        return x\n",
    "\n",
    "def vendor_number(x,y):\n",
    "    if (pd.isna(x)) and (y=='Laphroaig Quarter Cask'):\n",
    "        return '65.'\n",
    "    else:\n",
    "        return x"
   ]
  },
  {
   "cell_type": "code",
   "execution_count": 211,
   "id": "c864c9b0",
   "metadata": {},
   "outputs": [
    {
     "data": {
      "text/html": [
       "<div>\n",
       "<style scoped>\n",
       "    .dataframe tbody tr th:only-of-type {\n",
       "        vertical-align: middle;\n",
       "    }\n",
       "\n",
       "    .dataframe tbody tr th {\n",
       "        vertical-align: top;\n",
       "    }\n",
       "\n",
       "    .dataframe thead th {\n",
       "        text-align: right;\n",
       "    }\n",
       "</style>\n",
       "<table border=\"1\" class=\"dataframe\">\n",
       "  <thead>\n",
       "    <tr style=\"text-align: right;\">\n",
       "      <th></th>\n",
       "      <th>Unnamed: 0</th>\n",
       "      <th>Invoice/Item Number</th>\n",
       "      <th>Date</th>\n",
       "      <th>Store Number</th>\n",
       "      <th>Store Name</th>\n",
       "      <th>Address</th>\n",
       "      <th>City</th>\n",
       "      <th>Zip Code</th>\n",
       "      <th>Store Location</th>\n",
       "      <th>County Number</th>\n",
       "      <th>County</th>\n",
       "      <th>Category</th>\n",
       "      <th>Category Name</th>\n",
       "      <th>Vendor Number</th>\n",
       "      <th>Vendor Name</th>\n",
       "      <th>Item Number</th>\n",
       "      <th>Item Description</th>\n",
       "      <th>Pack</th>\n",
       "      <th>Bottle Volume (ml)</th>\n",
       "      <th>State Bottle Cost</th>\n",
       "      <th>State Bottle Retail</th>\n",
       "      <th>Bottles Sold</th>\n",
       "      <th>Sale (Dollars)</th>\n",
       "      <th>Volume Sold (Liters)</th>\n",
       "      <th>Volume Sold (Gallons)</th>\n",
       "      <th>Year</th>\n",
       "    </tr>\n",
       "  </thead>\n",
       "  <tbody>\n",
       "    <tr>\n",
       "      <th>462689</th>\n",
       "      <td>11170669</td>\n",
       "      <td>INV-03923100001</td>\n",
       "      <td>03/22/2017</td>\n",
       "      <td>2556</td>\n",
       "      <td>Hy-Vee Wine and Spirits / Estherville</td>\n",
       "      <td>2608 E. Central Avenue\\nEstherville 51334\\n</td>\n",
       "      <td>Estherville</td>\n",
       "      <td>51334.0</td>\n",
       "      <td>2608 E. Central Avenue\\nEstherville 51334\\n</td>\n",
       "      <td>32.0</td>\n",
       "      <td>EMMET</td>\n",
       "      <td>1012200.0</td>\n",
       "      <td>Scotch Whiskies</td>\n",
       "      <td>NaN</td>\n",
       "      <td>NaN</td>\n",
       "      <td>905433</td>\n",
       "      <td>Laphroaig Quarter Cask</td>\n",
       "      <td>6</td>\n",
       "      <td>750</td>\n",
       "      <td>$4.17</td>\n",
       "      <td>$47.24</td>\n",
       "      <td>1</td>\n",
       "      <td>$283.44</td>\n",
       "      <td>0.75</td>\n",
       "      <td>0.19</td>\n",
       "      <td>17</td>\n",
       "    </tr>\n",
       "    <tr>\n",
       "      <th>1495748</th>\n",
       "      <td>12203728</td>\n",
       "      <td>INV-06985200114</td>\n",
       "      <td>08/30/2017</td>\n",
       "      <td>2614</td>\n",
       "      <td>Hy-Vee #3 Food and Drugstore</td>\n",
       "      <td>1823 E Kimberly Rd\\nDavenport 52807\\n(41.55678...</td>\n",
       "      <td>Davenport</td>\n",
       "      <td>52807.0</td>\n",
       "      <td>1823 E Kimberly Rd\\nDavenport 52807\\n(41.55678...</td>\n",
       "      <td>82.0</td>\n",
       "      <td>SCOTT</td>\n",
       "      <td>1012200.0</td>\n",
       "      <td>Scotch Whiskies</td>\n",
       "      <td>65.0</td>\n",
       "      <td>Jim Beam Brands</td>\n",
       "      <td>5433</td>\n",
       "      <td>Laphroaig Quarter Cask</td>\n",
       "      <td>6</td>\n",
       "      <td>750</td>\n",
       "      <td>$31.49</td>\n",
       "      <td>$47.24</td>\n",
       "      <td>1</td>\n",
       "      <td>$283.44</td>\n",
       "      <td>0.75</td>\n",
       "      <td>0.19</td>\n",
       "      <td>17</td>\n",
       "    </tr>\n",
       "    <tr>\n",
       "      <th>1532764</th>\n",
       "      <td>12240744</td>\n",
       "      <td>INV-07086700037</td>\n",
       "      <td>09/06/2017</td>\n",
       "      <td>2625</td>\n",
       "      <td>Hy-Vee Wine and Spirits #2</td>\n",
       "      <td>3301 W Kimberly Rd\\nDavenport 52804\\n</td>\n",
       "      <td>Davenport</td>\n",
       "      <td>52804.0</td>\n",
       "      <td>3301 W Kimberly Rd\\nDavenport 52804\\n</td>\n",
       "      <td>82.0</td>\n",
       "      <td>SCOTT</td>\n",
       "      <td>1012200.0</td>\n",
       "      <td>Scotch Whiskies</td>\n",
       "      <td>65.0</td>\n",
       "      <td>Jim Beam Brands</td>\n",
       "      <td>5433</td>\n",
       "      <td>Laphroaig Quarter Cask</td>\n",
       "      <td>6</td>\n",
       "      <td>750</td>\n",
       "      <td>$31.49</td>\n",
       "      <td>$47.24</td>\n",
       "      <td>1</td>\n",
       "      <td>$47.24</td>\n",
       "      <td>0.75</td>\n",
       "      <td>0.19</td>\n",
       "      <td>17</td>\n",
       "    </tr>\n",
       "    <tr>\n",
       "      <th>1533550</th>\n",
       "      <td>12241530</td>\n",
       "      <td>INV-07088500003</td>\n",
       "      <td>09/06/2017</td>\n",
       "      <td>5003</td>\n",
       "      <td>Famous Liquors</td>\n",
       "      <td>2604 W Locust St\\nDavenport 52804\\n(41.538186,...</td>\n",
       "      <td>Davenport</td>\n",
       "      <td>52804.0</td>\n",
       "      <td>2604 W Locust St\\nDavenport 52804\\n(41.538186,...</td>\n",
       "      <td>82.0</td>\n",
       "      <td>SCOTT</td>\n",
       "      <td>1012200.0</td>\n",
       "      <td>Scotch Whiskies</td>\n",
       "      <td>65.0</td>\n",
       "      <td>Jim Beam Brands</td>\n",
       "      <td>5433</td>\n",
       "      <td>Laphroaig Quarter Cask</td>\n",
       "      <td>6</td>\n",
       "      <td>750</td>\n",
       "      <td>$31.49</td>\n",
       "      <td>$47.24</td>\n",
       "      <td>2</td>\n",
       "      <td>$47.24</td>\n",
       "      <td>1.50</td>\n",
       "      <td>0.39</td>\n",
       "      <td>17</td>\n",
       "    </tr>\n",
       "    <tr>\n",
       "      <th>1578417</th>\n",
       "      <td>12286397</td>\n",
       "      <td>INV-07219300028</td>\n",
       "      <td>09/13/2017</td>\n",
       "      <td>4129</td>\n",
       "      <td>Cyclone Liquors</td>\n",
       "      <td>626 Lincoln Way\\nAmes 50010\\n(42.022854, -93.6...</td>\n",
       "      <td>Ames</td>\n",
       "      <td>50010.0</td>\n",
       "      <td>626 Lincoln Way\\nAmes 50010\\n(42.022854, -93.6...</td>\n",
       "      <td>85.0</td>\n",
       "      <td>STORY</td>\n",
       "      <td>1012200.0</td>\n",
       "      <td>Scotch Whiskies</td>\n",
       "      <td>65.0</td>\n",
       "      <td>Jim Beam Brands</td>\n",
       "      <td>5433</td>\n",
       "      <td>Laphroaig Quarter Cask</td>\n",
       "      <td>6</td>\n",
       "      <td>750</td>\n",
       "      <td>$31.49</td>\n",
       "      <td>$47.24</td>\n",
       "      <td>1</td>\n",
       "      <td>$283.44</td>\n",
       "      <td>0.75</td>\n",
       "      <td>0.19</td>\n",
       "      <td>17</td>\n",
       "    </tr>\n",
       "    <tr>\n",
       "      <th>1620576</th>\n",
       "      <td>12328556</td>\n",
       "      <td>INV-07348800002</td>\n",
       "      <td>09/20/2017</td>\n",
       "      <td>2233</td>\n",
       "      <td>Forbes Liquor Locker / remi</td>\n",
       "      <td>2508 Enterprise Ave\\nSpirit Lake 51360\\n(43.41...</td>\n",
       "      <td>Spirit Lake</td>\n",
       "      <td>51360.0</td>\n",
       "      <td>2508 Enterprise Ave\\nSpirit Lake 51360\\n(43.41...</td>\n",
       "      <td>30.0</td>\n",
       "      <td>DICKINSON</td>\n",
       "      <td>1012200.0</td>\n",
       "      <td>Scotch Whiskies</td>\n",
       "      <td>65.0</td>\n",
       "      <td>Jim Beam Brands</td>\n",
       "      <td>5433</td>\n",
       "      <td>Laphroaig Quarter Cask</td>\n",
       "      <td>6</td>\n",
       "      <td>750</td>\n",
       "      <td>$31.49</td>\n",
       "      <td>$47.24</td>\n",
       "      <td>2</td>\n",
       "      <td>$47.24</td>\n",
       "      <td>1.50</td>\n",
       "      <td>0.39</td>\n",
       "      <td>17</td>\n",
       "    </tr>\n",
       "    <tr>\n",
       "      <th>1663941</th>\n",
       "      <td>12371921</td>\n",
       "      <td>INV-07485100010</td>\n",
       "      <td>09/27/2017</td>\n",
       "      <td>2501</td>\n",
       "      <td>Hy-Vee  #2 / Ames</td>\n",
       "      <td>640 Lincolnway\\nAmes 50010\\n(42.022848, -93.61...</td>\n",
       "      <td>Ames</td>\n",
       "      <td>50010.0</td>\n",
       "      <td>640 Lincolnway\\nAmes 50010\\n(42.022848, -93.61...</td>\n",
       "      <td>85.0</td>\n",
       "      <td>STORY</td>\n",
       "      <td>1012200.0</td>\n",
       "      <td>Scotch Whiskies</td>\n",
       "      <td>65.0</td>\n",
       "      <td>Jim Beam Brands</td>\n",
       "      <td>5433</td>\n",
       "      <td>Laphroaig Quarter Cask</td>\n",
       "      <td>6</td>\n",
       "      <td>750</td>\n",
       "      <td>$31.49</td>\n",
       "      <td>$47.24</td>\n",
       "      <td>1</td>\n",
       "      <td>$283.44</td>\n",
       "      <td>0.75</td>\n",
       "      <td>0.19</td>\n",
       "      <td>17</td>\n",
       "    </tr>\n",
       "    <tr>\n",
       "      <th>1705681</th>\n",
       "      <td>12413661</td>\n",
       "      <td>INV-07650100011</td>\n",
       "      <td>10/04/2017</td>\n",
       "      <td>2233</td>\n",
       "      <td>Forbes Liquor Locker / remi</td>\n",
       "      <td>2508 Enterprise Ave\\nSpirit Lake 51360\\n(43.41...</td>\n",
       "      <td>Spirit Lake</td>\n",
       "      <td>51360.0</td>\n",
       "      <td>2508 Enterprise Ave\\nSpirit Lake 51360\\n(43.41...</td>\n",
       "      <td>30.0</td>\n",
       "      <td>DICKINSON</td>\n",
       "      <td>1012200.0</td>\n",
       "      <td>Scotch Whiskies</td>\n",
       "      <td>65.0</td>\n",
       "      <td>Jim Beam Brands</td>\n",
       "      <td>5433</td>\n",
       "      <td>Laphroaig Quarter Cask</td>\n",
       "      <td>6</td>\n",
       "      <td>750</td>\n",
       "      <td>$31.49</td>\n",
       "      <td>$47.24</td>\n",
       "      <td>1</td>\n",
       "      <td>$47.24</td>\n",
       "      <td>0.75</td>\n",
       "      <td>0.19</td>\n",
       "      <td>17</td>\n",
       "    </tr>\n",
       "    <tr>\n",
       "      <th>1767730</th>\n",
       "      <td>12475710</td>\n",
       "      <td>INV-07946500008</td>\n",
       "      <td>10/12/2017</td>\n",
       "      <td>2535</td>\n",
       "      <td>Hy-Vee Food Store #1 / WDM</td>\n",
       "      <td>1700 Valley West Dr\\nWest Des Moines 50265\\n</td>\n",
       "      <td>West Des Moines</td>\n",
       "      <td>50265.0</td>\n",
       "      <td>1700 Valley West Dr\\nWest Des Moines 50265\\n</td>\n",
       "      <td>77.0</td>\n",
       "      <td>POLK</td>\n",
       "      <td>1012200.0</td>\n",
       "      <td>Scotch Whiskies</td>\n",
       "      <td>65.0</td>\n",
       "      <td>Jim Beam Brands</td>\n",
       "      <td>5433</td>\n",
       "      <td>Laphroaig Quarter Cask</td>\n",
       "      <td>6</td>\n",
       "      <td>750</td>\n",
       "      <td>$31.49</td>\n",
       "      <td>$47.24</td>\n",
       "      <td>2</td>\n",
       "      <td>$47.24</td>\n",
       "      <td>1.50</td>\n",
       "      <td>0.39</td>\n",
       "      <td>17</td>\n",
       "    </tr>\n",
       "    <tr>\n",
       "      <th>1790130</th>\n",
       "      <td>12498110</td>\n",
       "      <td>INV-08049400116</td>\n",
       "      <td>10/17/2017</td>\n",
       "      <td>2619</td>\n",
       "      <td>Hy-Vee Wine and Spirits / WDM</td>\n",
       "      <td>1725 74th St\\nWest Des Moines 50266\\n(41.59851...</td>\n",
       "      <td>West Des Moines</td>\n",
       "      <td>50266.0</td>\n",
       "      <td>1725 74th St\\nWest Des Moines 50266\\n(41.59851...</td>\n",
       "      <td>77.0</td>\n",
       "      <td>POLK</td>\n",
       "      <td>1012200.0</td>\n",
       "      <td>Scotch Whiskies</td>\n",
       "      <td>65.0</td>\n",
       "      <td>Jim Beam Brands</td>\n",
       "      <td>5433</td>\n",
       "      <td>Laphroaig Quarter Cask</td>\n",
       "      <td>6</td>\n",
       "      <td>750</td>\n",
       "      <td>$31.49</td>\n",
       "      <td>$47.24</td>\n",
       "      <td>2</td>\n",
       "      <td>$47.24</td>\n",
       "      <td>1.50</td>\n",
       "      <td>0.39</td>\n",
       "      <td>17</td>\n",
       "    </tr>\n",
       "  </tbody>\n",
       "</table>\n",
       "</div>"
      ],
      "text/plain": [
       "         Unnamed: 0 Invoice/Item Number        Date  Store Number  \\\n",
       "462689     11170669     INV-03923100001  03/22/2017          2556   \n",
       "1495748    12203728     INV-06985200114  08/30/2017          2614   \n",
       "1532764    12240744     INV-07086700037  09/06/2017          2625   \n",
       "1533550    12241530     INV-07088500003  09/06/2017          5003   \n",
       "1578417    12286397     INV-07219300028  09/13/2017          4129   \n",
       "1620576    12328556     INV-07348800002  09/20/2017          2233   \n",
       "1663941    12371921     INV-07485100010  09/27/2017          2501   \n",
       "1705681    12413661     INV-07650100011  10/04/2017          2233   \n",
       "1767730    12475710     INV-07946500008  10/12/2017          2535   \n",
       "1790130    12498110     INV-08049400116  10/17/2017          2619   \n",
       "\n",
       "                                    Store Name  \\\n",
       "462689   Hy-Vee Wine and Spirits / Estherville   \n",
       "1495748           Hy-Vee #3 Food and Drugstore   \n",
       "1532764             Hy-Vee Wine and Spirits #2   \n",
       "1533550                         Famous Liquors   \n",
       "1578417                        Cyclone Liquors   \n",
       "1620576            Forbes Liquor Locker / remi   \n",
       "1663941                      Hy-Vee  #2 / Ames   \n",
       "1705681            Forbes Liquor Locker / remi   \n",
       "1767730             Hy-Vee Food Store #1 / WDM   \n",
       "1790130          Hy-Vee Wine and Spirits / WDM   \n",
       "\n",
       "                                                   Address             City  \\\n",
       "462689         2608 E. Central Avenue\\nEstherville 51334\\n      Estherville   \n",
       "1495748  1823 E Kimberly Rd\\nDavenport 52807\\n(41.55678...        Davenport   \n",
       "1532764              3301 W Kimberly Rd\\nDavenport 52804\\n        Davenport   \n",
       "1533550  2604 W Locust St\\nDavenport 52804\\n(41.538186,...        Davenport   \n",
       "1578417  626 Lincoln Way\\nAmes 50010\\n(42.022854, -93.6...             Ames   \n",
       "1620576  2508 Enterprise Ave\\nSpirit Lake 51360\\n(43.41...      Spirit Lake   \n",
       "1663941  640 Lincolnway\\nAmes 50010\\n(42.022848, -93.61...             Ames   \n",
       "1705681  2508 Enterprise Ave\\nSpirit Lake 51360\\n(43.41...      Spirit Lake   \n",
       "1767730       1700 Valley West Dr\\nWest Des Moines 50265\\n  West Des Moines   \n",
       "1790130  1725 74th St\\nWest Des Moines 50266\\n(41.59851...  West Des Moines   \n",
       "\n",
       "         Zip Code                                     Store Location  \\\n",
       "462689    51334.0        2608 E. Central Avenue\\nEstherville 51334\\n   \n",
       "1495748   52807.0  1823 E Kimberly Rd\\nDavenport 52807\\n(41.55678...   \n",
       "1532764   52804.0              3301 W Kimberly Rd\\nDavenport 52804\\n   \n",
       "1533550   52804.0  2604 W Locust St\\nDavenport 52804\\n(41.538186,...   \n",
       "1578417   50010.0  626 Lincoln Way\\nAmes 50010\\n(42.022854, -93.6...   \n",
       "1620576   51360.0  2508 Enterprise Ave\\nSpirit Lake 51360\\n(43.41...   \n",
       "1663941   50010.0  640 Lincolnway\\nAmes 50010\\n(42.022848, -93.61...   \n",
       "1705681   51360.0  2508 Enterprise Ave\\nSpirit Lake 51360\\n(43.41...   \n",
       "1767730   50265.0       1700 Valley West Dr\\nWest Des Moines 50265\\n   \n",
       "1790130   50266.0  1725 74th St\\nWest Des Moines 50266\\n(41.59851...   \n",
       "\n",
       "         County Number     County   Category    Category Name  Vendor Number  \\\n",
       "462689            32.0      EMMET  1012200.0  Scotch Whiskies            NaN   \n",
       "1495748           82.0      SCOTT  1012200.0  Scotch Whiskies           65.0   \n",
       "1532764           82.0      SCOTT  1012200.0  Scotch Whiskies           65.0   \n",
       "1533550           82.0      SCOTT  1012200.0  Scotch Whiskies           65.0   \n",
       "1578417           85.0      STORY  1012200.0  Scotch Whiskies           65.0   \n",
       "1620576           30.0  DICKINSON  1012200.0  Scotch Whiskies           65.0   \n",
       "1663941           85.0      STORY  1012200.0  Scotch Whiskies           65.0   \n",
       "1705681           30.0  DICKINSON  1012200.0  Scotch Whiskies           65.0   \n",
       "1767730           77.0       POLK  1012200.0  Scotch Whiskies           65.0   \n",
       "1790130           77.0       POLK  1012200.0  Scotch Whiskies           65.0   \n",
       "\n",
       "             Vendor Name  Item Number        Item Description  Pack  \\\n",
       "462689               NaN       905433  Laphroaig Quarter Cask     6   \n",
       "1495748  Jim Beam Brands         5433  Laphroaig Quarter Cask     6   \n",
       "1532764  Jim Beam Brands         5433  Laphroaig Quarter Cask     6   \n",
       "1533550  Jim Beam Brands         5433  Laphroaig Quarter Cask     6   \n",
       "1578417  Jim Beam Brands         5433  Laphroaig Quarter Cask     6   \n",
       "1620576  Jim Beam Brands         5433  Laphroaig Quarter Cask     6   \n",
       "1663941  Jim Beam Brands         5433  Laphroaig Quarter Cask     6   \n",
       "1705681  Jim Beam Brands         5433  Laphroaig Quarter Cask     6   \n",
       "1767730  Jim Beam Brands         5433  Laphroaig Quarter Cask     6   \n",
       "1790130  Jim Beam Brands         5433  Laphroaig Quarter Cask     6   \n",
       "\n",
       "         Bottle Volume (ml) State Bottle Cost State Bottle Retail  \\\n",
       "462689                  750             $4.17              $47.24   \n",
       "1495748                 750            $31.49              $47.24   \n",
       "1532764                 750            $31.49              $47.24   \n",
       "1533550                 750            $31.49              $47.24   \n",
       "1578417                 750            $31.49              $47.24   \n",
       "1620576                 750            $31.49              $47.24   \n",
       "1663941                 750            $31.49              $47.24   \n",
       "1705681                 750            $31.49              $47.24   \n",
       "1767730                 750            $31.49              $47.24   \n",
       "1790130                 750            $31.49              $47.24   \n",
       "\n",
       "         Bottles Sold Sale (Dollars)  Volume Sold (Liters)  \\\n",
       "462689              1        $283.44                  0.75   \n",
       "1495748             1        $283.44                  0.75   \n",
       "1532764             1         $47.24                  0.75   \n",
       "1533550             2         $47.24                  1.50   \n",
       "1578417             1        $283.44                  0.75   \n",
       "1620576             2         $47.24                  1.50   \n",
       "1663941             1        $283.44                  0.75   \n",
       "1705681             1         $47.24                  0.75   \n",
       "1767730             2         $47.24                  1.50   \n",
       "1790130             2         $47.24                  1.50   \n",
       "\n",
       "         Volume Sold (Gallons)  Year  \n",
       "462689                    0.19    17  \n",
       "1495748                   0.19    17  \n",
       "1532764                   0.19    17  \n",
       "1533550                   0.39    17  \n",
       "1578417                   0.19    17  \n",
       "1620576                   0.39    17  \n",
       "1663941                   0.19    17  \n",
       "1705681                   0.19    17  \n",
       "1767730                   0.39    17  \n",
       "1790130                   0.39    17  "
      ]
     },
     "execution_count": 211,
     "metadata": {},
     "output_type": "execute_result"
    }
   ],
   "source": [
    "#checking results of manual replacement\n",
    "ytest17[ytest17['Item Description']=='Laphroaig Quarter Cask']"
   ]
  },
  {
   "cell_type": "code",
   "execution_count": 286,
   "id": "31484929",
   "metadata": {},
   "outputs": [
    {
     "data": {
      "text/plain": [
       "array([], dtype=object)"
      ]
     },
     "execution_count": 286,
     "metadata": {},
     "output_type": "execute_result"
    }
   ],
   "source": [
    "catnamena[catnamena['Item Description']=='Barbados Rum']['Category Name'].unique()"
   ]
  },
  {
   "cell_type": "code",
   "execution_count": 358,
   "id": "48694201",
   "metadata": {},
   "outputs": [
    {
     "data": {
      "text/plain": [
       "array([], dtype=object)"
      ]
     },
     "execution_count": 358,
     "metadata": {},
     "output_type": "execute_result"
    }
   ],
   "source": [
    "catnamena[catnamena['Item Description'].str.contains('thena')]['Item Description'].unique()"
   ]
  },
  {
   "cell_type": "code",
   "execution_count": 303,
   "id": "196f35d3",
   "metadata": {},
   "outputs": [
    {
     "data": {
      "text/plain": [
       "array(['White Rum', 'Spiced Rum', 'Gold Rum', 'Flavored Rum',\n",
       "       'Aged Dark Rum'], dtype=object)"
      ]
     },
     "execution_count": 303,
     "metadata": {},
     "output_type": "execute_result"
    }
   ],
   "source": [
    "y17[y17['Category Name'].notna() & y17['Category Name'].str.contains('Rum')]['Category Name'].unique()"
   ]
  },
  {
   "cell_type": "code",
   "execution_count": 307,
   "id": "21fb7736",
   "metadata": {},
   "outputs": [
    {
     "data": {
      "text/plain": [
       "array(['Barton Rum Light', 'Captain Morgan Spiced Rum',\n",
       "       'Bacardi Superior Rum', 'Bacardi Oakheart',\n",
       "       'Appleton Signature Blend', 'Sailor Jerry Spiced Navy Rum',\n",
       "       'Paramount White Rum', 'Malibu Coconut Rum',\n",
       "       'Bacardi Gold Rum Mini', 'Captain Morgan Silver Spiced Rum',\n",
       "       'Captain Morgan Spiced Rum Pet', 'Captain Morgan Spiced Rum Mini',\n",
       "       'Captain Morgan Original Spiced', 'Blue Chair Bay Coconut',\n",
       "       'Bacardi Limon', 'Bacardi Mango',\n",
       "       'Captain Morgan Parrot Bay Pineapple', 'Bacardi Dragon Berry',\n",
       "       'Bacardi Pineapple', 'Bacardi Gold Rum',\n",
       "       'Captain Morgan Cannon Blast', 'Admiral Nelson Spiced Rum',\n",
       "       'Captain Morgan Black Spiced',\n",
       "       'Captain Morgan Original Spiced Rum Pet', 'Captain Morgan White',\n",
       "       'Cruzan Dark Rum', 'Rondiaz Rum White', 'Malibu Coconut Rum Mini',\n",
       "       'Malibu Pineapple Rum', 'Bacardi Superior Rum Mini',\n",
       "       'Captain Morgan 100 Proof Spiced Rum', 'Captain Morgan Pineapple',\n",
       "       'Malibu Pineapple Upside Down Cake',\n",
       "       'Captain Morgan Spiced Barrel',\n",
       "       'Captain Morgan Parrot Bay Coconut', 'Bacardi Superior PET',\n",
       "       'Lady Bligh Spiced Rum', 'Bacardi Superior Rum Pet',\n",
       "       'Admiral Nelson Cherry Spiced Rum', 'Phillips White Rum',\n",
       "       'Cruzan Mango Rum', 'Paramount Gold Rum',\n",
       "       'Malibu Passion Fruit Rum', 'Malibu Black', 'Bacardi Black',\n",
       "       'Captain Morgan Private Stock', 'Kraken Black Spiced Rum',\n",
       "       'Admiral Nelson Spiced Rum Mini', 'Hawkeye Light Rum',\n",
       "       \"Myers's Rum Original Dark\", 'Admiral Nelson Spiced Rum Traveler',\n",
       "       'Ronrico Silver Label Rum (pr)', 'Rondiaz Rum Spiced',\n",
       "       'Kraken Black Spiced 70prf', 'Kraken Black Spiced Rum 70prf',\n",
       "       'Blackheart Premium Spiced Rum', 'Calico Jack Spiced',\n",
       "       'Admiral Nelson Coconut Rum', 'Cruzan Black Cherry Rum',\n",
       "       'Paramount Gold Rum Traveler', 'Captain Morgan Cannon Blast Mini',\n",
       "       'Bacardi Grapefruit', 'Mt. Gay Eclipse Rum', 'Bacardi O',\n",
       "       'Captain Morgan White Mini', 'Castillo Silver Rum',\n",
       "       'Rondiaz Rum Spiced Black Cherry', \"Gosling's Black Seal\",\n",
       "       'Admiral Nelson Spiced 101', 'Captain Morgan 1671',\n",
       "       'Cruzan Coconut Rum', 'Paramount White Rum Traveler',\n",
       "       'Don Q Cristal Rum', 'Cruzan 151', 'Cruzan Vanilla Rum',\n",
       "       'Paradise Island Bay', 'Captain Morgan Parrot Bay Passion Fruit',\n",
       "       'Captain Morgan Lime Bite', 'Bacardi 8 Rum', 'Zaya Guatemalan Rum',\n",
       "       'Cruzan Raspberry Rum', 'Cruzan Strawberry Rum',\n",
       "       'Paradise Distilling Raspberry Bay Liqueur', 'Malibu Island Melon',\n",
       "       'Captain Morgan White PET', 'Captain Morgan Coconut',\n",
       "       'Paradise Distilling Coconut Bay Liqueur', 'Malibu Mango Rum',\n",
       "       'Bacardi Raspberry', 'Bacardi Torched Cherry',\n",
       "       'Cedar Ridge Dark Rum', 'Cedar Ridge Lost Pirate Port Finish Rum',\n",
       "       'Ron Zacapa 23 Year', 'Mt. Gay Black Barrel',\n",
       "       'Blue Chair Bay Banana', 'Blue Chair Bay Coconut Spiced',\n",
       "       'Bacardi Gran Reserva Maestro',\n",
       "       'Trader Vics Private Selection Spiced Rum', \"Five O'clock\",\n",
       "       'Calico Jack Cherry', 'Captain Morgan Parrot Bay Orange',\n",
       "       'Captain Morgan Parrot Bay Mango', 'Bacardi Gold Rum Pet',\n",
       "       'Captain Morgan Grapefruit', 'Cruzan Light Rum',\n",
       "       'Blue Chair Bay White', 'Havana Club Anejo Clasico Mini',\n",
       "       'Havana Club Anejo Blanco Mini', 'Captain Morgan Pineapple Mini',\n",
       "       'Havana Club Anejo Blanco', 'Calico Jack', 'Rondiaz Mini',\n",
       "       'Captain Morgan Parrot Bay Key Lime',\n",
       "       'Captain Morgan Parrot Bay Strawberry',\n",
       "       'Cruzan Blueberry Lemonade', 'Admiral Nelson Black Patch',\n",
       "       'Admiral Nelson Black Patch Mini', 'Malibu Red',\n",
       "       'Bacardi Gold Rum PET', 'Captain Morgan Private Stock Rum',\n",
       "       'Clearheart Rum', 'Castillo Spiced Rum',\n",
       "       'Havana Club Anejo Clasico', 'Steel Drum', 'Bacardi Tangerine',\n",
       "       \"British Navy Pusser's Rum\", 'Cane Rune White Rum Mini',\n",
       "       'Cane Run White Rum', 'Havana Judge Spiced Rum',\n",
       "       'Kraken Black Mini', 'Flor De Cana White', 'Artisan Grain Silver',\n",
       "       'Paradise White Sand', 'Paradise Distilling Mango Bay Liqueur',\n",
       "       'Bayou Spiced Rum', 'Cachaca 51', 'Artisan Grain Gold Rum',\n",
       "       'Captain Morgan Loconut Mini', 'Captain Morgan Loconut',\n",
       "       \"Caribbean's Finest Rum Caramel\", \"Caribbean's Finest Rum Coconut\",\n",
       "       \"Caribbean's Finest Rum Ginger\",\n",
       "       \"Caribbean's Finest Rum Gran Reserva\",\n",
       "       \"Caribbean's Finest Rum Orange\",\n",
       "       \"Caribbean's Finest Rum Pineapple\", 'Brugal Especial Extra Dry',\n",
       "       'El Dorado Special Reserve 12YR', 'Don Q 151',\n",
       "       'Paradise Caribbean Mist', 'Breckenridge Spiced Rum',\n",
       "       'Goslings Gold Seal', 'Kirk & Sweeney 12YR Old Anejo',\n",
       "       'Bayou Satsuma Rum Liqueur', 'Ron Barcelo Gran Anejo',\n",
       "       'Vizcaya Black Rum',\n",
       "       \"Sammy's Beach Bar Rum Red Head (Macadamia Nut)\",\n",
       "       'Barton Gold Rum 1.75', 'Bayou Silver White Rum',\n",
       "       'Cruzan Light Mini', 'Koloa Hawaiian Kauai Coffee Rum',\n",
       "       'Cruzan Citrus', 'Bacardi Banana Mini', 'Bacardi Oakheart Mini',\n",
       "       'Don Q Limon', \"Pusser's Gunpowder Proof Rum\",\n",
       "       'El Dorado 15 Year Old Special Reserve Rum', 'Bacardi Banana',\n",
       "       'Bacardi Classic Cocktail Rum Punch', 'Cruzan Passion Fruit',\n",
       "       'Rondiaz DSS Lemon Rum', 'Blue Chair Bay Vanilla Rum',\n",
       "       \"Caribbean's Finest Rum Grapefruit\", 'Sugar Island Rum Coconut',\n",
       "       'Cruzan Tropical Fruit', 'Rondiaz Rum Dark',\n",
       "       'Beach Bonfire Cinnamon Whiskey', 'Beach Island Coconut Whiskey',\n",
       "       'Malibu w/Dole Pineapple Juice',\n",
       "       'Starr Oak Aged 7 year African Rum', 'J Wray Silver',\n",
       "       \"Holstein Single Barrel Sippin' Rum\", 'Prichards Peach Mango Rum',\n",
       "       'Malibu 1.75L w/Pineapple VAP Giant Tray Pack',\n",
       "       'Cruzan Black Cherry', 'La Hechicera Aged Rum', 'Rogue Dark Rum',\n",
       "       'Kirkland Signature Original Spiced Rum', 'Flor De Cana Gold',\n",
       "       'Admiral Nelson Pineapple Rum', 'Caliber Spiced Rum',\n",
       "       'Caliber Silver Rum', 'Holy Hell',\n",
       "       'Blue Chair Bay Coconut Spiced Rum Cream', 'JM VSOP',\n",
       "       'Novo Fogo Silver Cacha�a', 'Flor De Cana 12yr Centenario',\n",
       "       'Admiral Nelson Pineapple', 'RumHaven', 'Admiral Nelson Vanilla',\n",
       "       'Admiral Nelson  101 Mini', 'Members Mark Silver Rum Tray Pack',\n",
       "       'Ron Abuelo Anejo', 'Cruzan Blackstrap', 'Clement VSOP Aged Rum',\n",
       "       'Sailor Jerry Game Day VAP', 'Captain Morgan Jack-O Blast Mini',\n",
       "       'Papas Pilar Dark Rum',\n",
       "       'Captain Morgan 1.75L Retail Ready 3pk Shipper',\n",
       "       'Tattersall Distilling Blackstrap Rum', 'Commanders Spiced Rum',\n",
       "       'Commanders Silver Aged 1YR', 'Papas Pilar Blonde Rum', 'Cruzan 9',\n",
       "       'Bumbu Rum', 'El Dorado 8YR', 'Ron Barcelo Imperial',\n",
       "       'Lemon Hart 1804 Original', 'Lemon Hart 151'], dtype=object)"
      ]
     },
     "execution_count": 307,
     "metadata": {},
     "output_type": "execute_result"
    }
   ],
   "source": [
    "y17[(y17['Category Name']=='White Rum') | (y17['Category Name']=='Spiced Rum') | (y17['Category Name']=='Gold Rum') | (y17['Category Name']=='Flavored Rum') | (y17['Category Name']=='Aged Dark Rum')]['Item Description'].unique()"
   ]
  },
  {
   "cell_type": "code",
   "execution_count": 379,
   "id": "67f64a09",
   "metadata": {},
   "outputs": [
    {
     "data": {
      "text/plain": [
       "array(['100% Agave Tequila'], dtype=object)"
      ]
     },
     "execution_count": 379,
     "metadata": {},
     "output_type": "execute_result"
    }
   ],
   "source": [
    "y17[y17['Item Description'].str.contains('Patron Guillermo Del Toro Extra Anejo & Orange')]['Category Name'].unique()"
   ]
  },
  {
   "cell_type": "code",
   "execution_count": 446,
   "id": "41066ab2",
   "metadata": {},
   "outputs": [
    {
     "data": {
      "text/plain": [
       "array(['El Mayor Extra Anejo', 'El Mayor Extra Anejo 100% Agave HA'],\n",
       "      dtype=object)"
      ]
     },
     "execution_count": 446,
     "metadata": {},
     "output_type": "execute_result"
    }
   ],
   "source": [
    "catnamena[catnamena['Item Description'].str.contains('El Mayor Extra Anejo')]['Item Description'].unique()"
   ]
  },
  {
   "cell_type": "code",
   "execution_count": 448,
   "id": "b978af8b",
   "metadata": {},
   "outputs": [
    {
     "data": {
      "text/plain": [
       "array(['TEQUILA'], dtype=object)"
      ]
     },
     "execution_count": 448,
     "metadata": {},
     "output_type": "execute_result"
    }
   ],
   "source": [
    "catnamena[catnamena['Item Description'].str.contains('El Mayor Extra Anejo 100% Agave HA')]['Category Name'].unique()"
   ]
  },
  {
   "cell_type": "code",
   "execution_count": 439,
   "id": "430b039f",
   "metadata": {},
   "outputs": [
    {
     "data": {
      "text/plain": [
       "array([1011200., 1901200., 1011600., 1011500.])"
      ]
     },
     "execution_count": 439,
     "metadata": {},
     "output_type": "execute_result"
    }
   ],
   "source": [
    "catna[catna['Item Description'].str.contains('Michter')]['Category'].unique()"
   ]
  },
  {
   "cell_type": "code",
   "execution_count": 449,
   "id": "27bbb0c0",
   "metadata": {},
   "outputs": [
    {
     "data": {
      "text/plain": [
       "array([1022100.])"
      ]
     },
     "execution_count": 449,
     "metadata": {},
     "output_type": "execute_result"
    }
   ],
   "source": [
    "y17[y17['Category Name']=='TEQUILA']['Category'].unique()"
   ]
  },
  {
   "cell_type": "markdown",
   "id": "c033e58a",
   "metadata": {},
   "source": [
    "## Compiling results of manual search and replacement of nan values"
   ]
  },
  {
   "cell_type": "code",
   "execution_count": 454,
   "id": "7c8d9bd9",
   "metadata": {},
   "outputs": [],
   "source": [
    "def category_name2(x,y):\n",
    "    if (pd.isna(x)):\n",
    "        if (y==\"Galliano L'Autentico\"):\n",
    "            return 'MISC. IMPORTED CORDIALS & LIQUEURS'\n",
    "        elif (y=='Spanish Single Malt 100ml'):\n",
    "            return 'SINGLE MALT SCOTCH'\n",
    "        elif (y=='Spanish Single Malt 1 Liter'):\n",
    "            return 'SINGLE MALT SCOTCH'\n",
    "        elif (y=='Spanish Single Malt 375ml'):\n",
    "            return 'SINGLE MALT SCOTCH'\n",
    "        elif (y=='Spanish Single Malt 50ml'):\n",
    "            return 'SINGLE MALT SCOTCH'\n",
    "        elif (y=='Spanish Single Malt 750ml'):\n",
    "            return 'SINGLE MALT SCOTCH'\n",
    "        elif (y=='Spanish Single Malt 200ml'):\n",
    "            return 'SINGLE MALT SCOTCH'\n",
    "        elif (y=='Deep Eddy  Lemon Vodka'):\n",
    "            return 'VODKA FLAVORED'\n",
    "        elif (y=='\"Beefeater \"\"24\"\"\"'):\n",
    "            return 'IMPORTED DRY GINS'\n",
    "        elif (y=='Ansac VS  Cognac'):\n",
    "            return 'Imported Brandies'\n",
    "        elif (y=='Aalborg Jubilaeums Aquavit'):\n",
    "            return 'Imported Cordials & Liqueur'\n",
    "        elif (y=='Patron Silver 750 Box Tray Pack'):\n",
    "            return 'DECANTERS & SPECIALTY PACKAGES'\n",
    "        elif (y=='Patron Citronge Mango'):\n",
    "            return '100% Agave Tequila'\n",
    "        elif (y=='Deanston Organic 14YR'):\n",
    "            return 'SINGLE MALT SCOTCH'\n",
    "        elif (y=='HA Orphan Barrel Barterhouse'):\n",
    "            return 'STRAIGHT BOURBON WHISKIES'\n",
    "        elif (y=='HA Orphan Barrel Forged Oak'):\n",
    "            return 'STRAIGHT BOURBON WHISKIES'\n",
    "        elif (y=='Rothman & Winter Orchard Peach'):\n",
    "            return 'MISC. IMPORTED CORDIALS & LIQUEURS'\n",
    "        elif (y=='HA Pikesville Rye 110prf'):\n",
    "            return 'STRAIGHT RYE WHISKIES'\n",
    "        elif (y=='HA Johnnie Walker Private Collection 2014 Smoke'):\n",
    "            return 'SCOTCH WHISKIES'\n",
    "        elif (y=='Jose Cuervo Especial Silver/Flask'):\n",
    "            return 'DECANTERS & SPECIALTY PACKAGES'\n",
    "        elif (y=='Jose Cuervo Especial Gold /Flask'):\n",
    "            return  'DECANTERS & SPECIALTY PACKAGES'\n",
    "        elif (y==\"Aberlour A''bunadh\"):\n",
    "            return 'SINGLE MALT SCOTCH'\n",
    "        elif (y=='El Mayor Extra Anejo 100% Agave'):\n",
    "            return 'TEQUILA'\n",
    "        elif (y=='Ezra Brooks Bourbon Cream Mini'):\n",
    "            return 'Temporary & Specialty Packages'\n",
    "        elif (y==\"Michter's US*1 SB Rye\"):\n",
    "            return 'STRAIGHT RYE WHISKIES'\n",
    "        elif (y=='Glen Moray Scotch Classic Port Cask w/2 Glasses'):\n",
    "            return  'DECANTERS & SPECIALTY PACKAGES'\n",
    "        elif (y=='Zaya Gran Reserva Rum w/2 Rocks Glasses'):\n",
    "            return   'DECANTERS & SPECIALTY PACKAGES'\n",
    "        elif (y=='Corralejo Silver w/2 Sangrita Glasses'):\n",
    "            return  'DECANTERS & SPECIALTY PACKAGES'\n",
    "        elif (y=='Southern Comfort w/2 Rock Glasses'):\n",
    "            return  'DECANTERS & SPECIALTY PACKAGES'\n",
    "        elif (y=='Crystal Head Vodka w/2 Skull Glasses'):\n",
    "            return  'DECANTERS & SPECIALTY PACKAGES'\n",
    "        elif (y=='Hornitos Plata w/Glasses'):\n",
    "            return  'DECANTERS & SPECIALTY PACKAGES'\n",
    "        elif (y=='Hornitos Reposado w/Glasses'):\n",
    "            return   'DECANTERS & SPECIALTY PACKAGES'\n",
    "        elif (y=='Glen Moray Classic Chardonnay Cask Finish w/2 Glasses'):\n",
    "            return  'DECANTERS & SPECIALTY PACKAGES'\n",
    "        else:\n",
    "            return x\n",
    "    else:\n",
    "        return x\n",
    "              \n",
    "\n",
    "def category2(x,y):\n",
    "    if (pd.isna(x)):\n",
    "        if (y==\"Galliano L'Autentico\"):\n",
    "            return '1082900.'\n",
    "        elif (y=='Spanish Single Malt 100ml'):\n",
    "            return '1012210.'\n",
    "        elif (y=='Spanish Single Malt 1 Liter'):\n",
    "            return  '1012210.'\n",
    "        elif (y=='Spanish Single Malt 375ml'):\n",
    "            return  '1012210.'\n",
    "        elif (y=='Spanish Single Malt 50ml'):\n",
    "            return  '1012210.'\n",
    "        elif (y=='Spanish Single Malt 750ml'):\n",
    "            return  '1012210.'\n",
    "        elif (y=='Spanish Single Malt 200ml'):\n",
    "            return  '1012210.'\n",
    "        elif (y=='Deep Eddy Lemon Vodka'):\n",
    "            return '1031200.'\n",
    "        elif (y=='\"Beefeater \"\"24\"\"\"'):\n",
    "            return '1042100.'\n",
    "        elif (y=='Ansac VS  Cognac'):\n",
    "            return '1052100.'\n",
    "        elif (y=='Aalborg Jubilaeums Aquavit'):\n",
    "            return '1082100.'\n",
    "        elif (y=='Patron Silver 750 Box Tray Pack'):\n",
    "            return  '1701100.'\n",
    "        elif (y=='Patron Citronge Mango'):\n",
    "            return '1022200.'\n",
    "        elif (y=='Deanston Organic 14YR'):\n",
    "            return '1012210.'\n",
    "        elif (y=='HA Orphan Barrel Barterhouse'):\n",
    "            return '1011200.'\n",
    "        elif (y=='HA Orphan Barrel Forged Oak'):\n",
    "            return '1011200.'\n",
    "        elif (y=='Rothman & Winter Orchard Peach'):\n",
    "            return '1082900.'\n",
    "        elif (y=='HA Pikesville Rye 110prf'):\n",
    "            return '1011500.'\n",
    "        elif (y=='HA Johnnie Walker Private Collection 2014 Smoke'):\n",
    "            return '1012200.'\n",
    "        elif (y=='Jose Cuervo Especial Silver/Flask'):\n",
    "            return '1701100.'\n",
    "        elif (y=='Jose Cuervo Especial Gold /Flask'):\n",
    "            return '1701100.'\n",
    "        elif (y==\"Aberlour A''bunadh\"):\n",
    "            return '1012210.'\n",
    "        elif (y=='El Mayor Extra Anejo 100% Agave'):\n",
    "            return '1022100.'\n",
    "        elif (y=='Ezra Brooks Bourbon Cream Mini'):\n",
    "            return '1701100.'\n",
    "        elif (y==\"Michter's US*1 SB Rye\"):\n",
    "            return '1011500.'\n",
    "        elif (y=='Glen Moray Scotch Classic Port Cask w/2 Glasses'):\n",
    "            return '1701100.'\n",
    "        elif (y=='Zaya Gran Reserva Rum w/2 Rocks Glasses'):\n",
    "            return  '1701100.'\n",
    "        elif (y=='Corralejo Silver w/2 Sangrita Glasses'):\n",
    "            return '1701100.'\n",
    "        elif (y=='Southern Comfort w/2 Rock Glasses'):\n",
    "            return '1701100.'\n",
    "        elif (y=='Crystal Head Vodka w/2 Skull Glasses'):\n",
    "            return '1701100.'\n",
    "        elif (y=='Hornitos Plata w/Glasses'):\n",
    "            return '1701100.'\n",
    "        elif (y=='Hornitos Reposado w/Glasses'):\n",
    "            return  '1701100.'\n",
    "        elif (y=='Glen Moray Classic Chardonnay Cask Finish w/2 Glasses'):\n",
    "            return '1701100.'\n",
    "        else:\n",
    "            return x\n",
    "    else:\n",
    "        return x\n",
    "              "
   ]
  },
  {
   "cell_type": "code",
   "execution_count": 456,
   "id": "a85bd4c5",
   "metadata": {},
   "outputs": [],
   "source": [
    "# testing results of manual replacements\n",
    "ytest17['Category']=list(map(category2,ytest17['Category'],ytest17['Item Description']))"
   ]
  },
  {
   "cell_type": "code",
   "execution_count": 457,
   "id": "df1be283",
   "metadata": {},
   "outputs": [],
   "source": [
    "ytest17['Category Name']=list(map(category_name2,ytest17['Category Name'],ytest17['Item Description']))"
   ]
  },
  {
   "cell_type": "code",
   "execution_count": 458,
   "id": "69b3902f",
   "metadata": {},
   "outputs": [
    {
     "data": {
      "text/plain": [
       "Unnamed: 0                 0\n",
       "Invoice/Item Number        0\n",
       "Date                       0\n",
       "Store Number               0\n",
       "Store Name                 0\n",
       "Address                    0\n",
       "City                       0\n",
       "Zip Code                   0\n",
       "Store Location             0\n",
       "County Number              0\n",
       "County                     0\n",
       "Category                 128\n",
       "Category Name            126\n",
       "Vendor Number              0\n",
       "Vendor Name                0\n",
       "Item Number                0\n",
       "Item Description           0\n",
       "Pack                       0\n",
       "Bottle Volume (ml)         0\n",
       "State Bottle Cost          0\n",
       "State Bottle Retail        0\n",
       "Bottles Sold               0\n",
       "Sale (Dollars)             0\n",
       "Volume Sold (Liters)       0\n",
       "Volume Sold (Gallons)      0\n",
       "Year                       0\n",
       "dtype: int64"
      ]
     },
     "execution_count": 458,
     "metadata": {},
     "output_type": "execute_result"
    }
   ],
   "source": [
    "# much much better\n",
    "ytest17.isna().sum()"
   ]
  },
  {
   "cell_type": "code",
   "execution_count": 320,
   "id": "782d075c",
   "metadata": {},
   "outputs": [
    {
     "data": {
      "text/plain": [
       "array([], dtype=object)"
      ]
     },
     "execution_count": 320,
     "metadata": {},
     "output_type": "execute_result"
    }
   ],
   "source": [
    "ytest17[ytest17['Category']=='Bains Cape Mountain Whiskey']['Category Name'].unique()"
   ]
  },
  {
   "cell_type": "code",
   "execution_count": null,
   "id": "8dfa0ddf",
   "metadata": {},
   "outputs": [],
   "source": [
    "############################################################################################################################"
   ]
  },
  {
   "cell_type": "markdown",
   "id": "1d2f4a0e",
   "metadata": {},
   "source": [
    "# BELOW IS ALL SCRATCH WORK LEADING UP TO THE ABOVE RESULTS"
   ]
  },
  {
   "cell_type": "code",
   "execution_count": null,
   "id": "0c2f10f0",
   "metadata": {},
   "outputs": [],
   "source": [
    "############################################################################################################################"
   ]
  },
  {
   "cell_type": "markdown",
   "id": "0c4f5823",
   "metadata": {},
   "source": [
    "# Creating dictionary functions to address year '15-'17 nans"
   ]
  },
  {
   "cell_type": "code",
   "execution_count": 61,
   "id": "777c56ee",
   "metadata": {},
   "outputs": [
    {
     "data": {
      "text/plain": [
       "Unnamed: 0                  0\n",
       "Invoice/Item Number         0\n",
       "Date                        0\n",
       "Store Number                0\n",
       "Store Name                  0\n",
       "Address                     1\n",
       "City                     1410\n",
       "Zip Code                 1410\n",
       "Store Location           1410\n",
       "County Number            1410\n",
       "County                   1410\n",
       "Category                 5835\n",
       "Category Name            5835\n",
       "Vendor Number               1\n",
       "Vendor Name                 1\n",
       "Item Number                 0\n",
       "Item Description            0\n",
       "Pack                        0\n",
       "Bottle Volume (ml)          0\n",
       "State Bottle Cost           0\n",
       "State Bottle Retail         0\n",
       "Bottles Sold                0\n",
       "Sale (Dollars)              0\n",
       "Volume Sold (Liters)        0\n",
       "Volume Sold (Gallons)       0\n",
       "Year                        0\n",
       "dtype: int64"
      ]
     },
     "execution_count": 61,
     "metadata": {},
     "output_type": "execute_result"
    }
   ],
   "source": [
    "y17.isna().sum()"
   ]
  },
  {
   "cell_type": "code",
   "execution_count": 65,
   "id": "38967d42",
   "metadata": {},
   "outputs": [],
   "source": [
    "all_na_city=pd.concat([y17[['Store Number','City']],y16[['Store Number','City']],y15[['Store Number','City']],y14[['Store Number','City']],y13[['Store Number','City']],y12[['Store Number','City']]])"
   ]
  },
  {
   "cell_type": "code",
   "execution_count": 78,
   "id": "b0a48dd4",
   "metadata": {},
   "outputs": [],
   "source": [
    "all_na_city=all_na_city[all_na_city['City'].notna()]"
   ]
  },
  {
   "cell_type": "code",
   "execution_count": 79,
   "id": "1b59a212",
   "metadata": {},
   "outputs": [],
   "source": [
    "all_na_city.drop_duplicates(subset=['Store Number'],inplace=True)"
   ]
  },
  {
   "cell_type": "code",
   "execution_count": 90,
   "id": "9c229e2b",
   "metadata": {},
   "outputs": [],
   "source": [
    "all_na_city.to_csv('storenumcity.csv')"
   ]
  },
  {
   "cell_type": "code",
   "execution_count": 66,
   "id": "c2fde860",
   "metadata": {},
   "outputs": [],
   "source": [
    "all_na_zip=pd.concat([y17[['Store Number','Zip Code']],y16[['Store Number','Zip Code']],y15[['Store Number','Zip Code']],y14[['Store Number','Zip Code']],y13[['Store Number','Zip Code']],y12[['Store Number','Zip Code']]])"
   ]
  },
  {
   "cell_type": "code",
   "execution_count": 77,
   "id": "178241f7",
   "metadata": {},
   "outputs": [],
   "source": [
    "all_na_zip=all_na_zip[all_na_zip['Zip Code'].notna()]"
   ]
  },
  {
   "cell_type": "code",
   "execution_count": 80,
   "id": "0cc37e8f",
   "metadata": {},
   "outputs": [],
   "source": [
    "all_na_zip.drop_duplicates(subset=['Store Number'],inplace=True)"
   ]
  },
  {
   "cell_type": "code",
   "execution_count": 91,
   "id": "f6fbb5d1",
   "metadata": {},
   "outputs": [],
   "source": [
    "all_na_zip.to_csv('storenumzip.csv')"
   ]
  },
  {
   "cell_type": "code",
   "execution_count": 67,
   "id": "53b689f8",
   "metadata": {},
   "outputs": [],
   "source": [
    "all_na_storeloc=pd.concat([y17[['Store Number','Store Location']],y16[['Store Number','Store Location']],y15[['Store Number','Store Location']],y14[['Store Number','Store Location']],y13[['Store Number','Store Location']],y12[['Store Number','Store Location']]])"
   ]
  },
  {
   "cell_type": "code",
   "execution_count": 81,
   "id": "66e28182",
   "metadata": {},
   "outputs": [],
   "source": [
    "all_na_storeloc=all_na_storeloc[all_na_storeloc['Store Location'].notna()]"
   ]
  },
  {
   "cell_type": "code",
   "execution_count": 87,
   "id": "05a6a202",
   "metadata": {},
   "outputs": [],
   "source": [
    "all_na_storeloc.drop_duplicates(subset=['Store Number'],inplace=True)"
   ]
  },
  {
   "cell_type": "code",
   "execution_count": 88,
   "id": "146ae8d9",
   "metadata": {},
   "outputs": [
    {
     "data": {
      "text/html": [
       "<div>\n",
       "<style scoped>\n",
       "    .dataframe tbody tr th:only-of-type {\n",
       "        vertical-align: middle;\n",
       "    }\n",
       "\n",
       "    .dataframe tbody tr th {\n",
       "        vertical-align: top;\n",
       "    }\n",
       "\n",
       "    .dataframe thead th {\n",
       "        text-align: right;\n",
       "    }\n",
       "</style>\n",
       "<table border=\"1\" class=\"dataframe\">\n",
       "  <thead>\n",
       "    <tr style=\"text-align: right;\">\n",
       "      <th></th>\n",
       "      <th>Store Number</th>\n",
       "      <th>Store Location</th>\n",
       "    </tr>\n",
       "  </thead>\n",
       "  <tbody>\n",
       "    <tr>\n",
       "      <th>35</th>\n",
       "      <td>4312</td>\n",
       "      <td>2411 S 24TH ST #1\\nCouncil Bluffs 51501\\n(41.2...</td>\n",
       "    </tr>\n",
       "    <tr>\n",
       "      <th>117</th>\n",
       "      <td>5244</td>\n",
       "      <td>708 2nd AVE SE\\nCresco 52136\\n(43.371131, -92....</td>\n",
       "    </tr>\n",
       "    <tr>\n",
       "      <th>164</th>\n",
       "      <td>4829</td>\n",
       "      <td>1501 Michigan Ave\\nDes Moines 50314\\n(41.60572...</td>\n",
       "    </tr>\n",
       "    <tr>\n",
       "      <th>184</th>\n",
       "      <td>4361</td>\n",
       "      <td>4575 NW 2nd\\nDes Moines 50313\\n(41.643664, -93...</td>\n",
       "    </tr>\n",
       "    <tr>\n",
       "      <th>195</th>\n",
       "      <td>2478</td>\n",
       "      <td>One Prairie Meadows Drive\\nAltoona 50009\\n</td>\n",
       "    </tr>\n",
       "    <tr>\n",
       "      <th>...</th>\n",
       "      <td>...</td>\n",
       "      <td>...</td>\n",
       "    </tr>\n",
       "    <tr>\n",
       "      <th>37582</th>\n",
       "      <td>3832</td>\n",
       "      <td>211 MAIN ST\\nALVORD 51230\\n(43.344357, -96.301...</td>\n",
       "    </tr>\n",
       "    <tr>\n",
       "      <th>44455</th>\n",
       "      <td>2260</td>\n",
       "      <td>509 FIRST AVE\\nPERRY 50220\\n(41.83226, -94.106...</td>\n",
       "    </tr>\n",
       "    <tr>\n",
       "      <th>140583</th>\n",
       "      <td>4226</td>\n",
       "      <td>21 W MAIN ST\\nWAUKON 52172\\n(43.269279, -91.47...</td>\n",
       "    </tr>\n",
       "    <tr>\n",
       "      <th>142813</th>\n",
       "      <td>4830</td>\n",
       "      <td>7600, UNIVERSITY AVE\\nCLIVE 50325\\n(41.600394,...</td>\n",
       "    </tr>\n",
       "    <tr>\n",
       "      <th>143579</th>\n",
       "      <td>4314</td>\n",
       "      <td>304 4TH ST\\nFONTANELLE 50846\\n(41.289877, -94....</td>\n",
       "    </tr>\n",
       "  </tbody>\n",
       "</table>\n",
       "<p>1884 rows × 2 columns</p>\n",
       "</div>"
      ],
      "text/plain": [
       "        Store Number                                     Store Location\n",
       "35              4312  2411 S 24TH ST #1\\nCouncil Bluffs 51501\\n(41.2...\n",
       "117             5244  708 2nd AVE SE\\nCresco 52136\\n(43.371131, -92....\n",
       "164             4829  1501 Michigan Ave\\nDes Moines 50314\\n(41.60572...\n",
       "184             4361  4575 NW 2nd\\nDes Moines 50313\\n(41.643664, -93...\n",
       "195             2478         One Prairie Meadows Drive\\nAltoona 50009\\n\n",
       "...              ...                                                ...\n",
       "37582           3832  211 MAIN ST\\nALVORD 51230\\n(43.344357, -96.301...\n",
       "44455           2260  509 FIRST AVE\\nPERRY 50220\\n(41.83226, -94.106...\n",
       "140583          4226  21 W MAIN ST\\nWAUKON 52172\\n(43.269279, -91.47...\n",
       "142813          4830  7600, UNIVERSITY AVE\\nCLIVE 50325\\n(41.600394,...\n",
       "143579          4314  304 4TH ST\\nFONTANELLE 50846\\n(41.289877, -94....\n",
       "\n",
       "[1884 rows x 2 columns]"
      ]
     },
     "execution_count": 88,
     "metadata": {},
     "output_type": "execute_result"
    }
   ],
   "source": [
    "all_na_storeloc"
   ]
  },
  {
   "cell_type": "code",
   "execution_count": 92,
   "id": "6909c52e",
   "metadata": {},
   "outputs": [],
   "source": [
    "all_na_storeloc.to_csv('storenumlocation.csv')"
   ]
  },
  {
   "cell_type": "code",
   "execution_count": 89,
   "id": "5753f076",
   "metadata": {},
   "outputs": [
    {
     "data": {
      "text/plain": [
       "1050009    Dubuque 52002\\n(42.516027, -90.766335)\n",
       "Name: Store Location, dtype: object"
      ]
     },
     "execution_count": 89,
     "metadata": {},
     "output_type": "execute_result"
    }
   ],
   "source": [
    "all_na_storeloc[all_na_storeloc['Store Number']==9932]['Store Location']"
   ]
  },
  {
   "cell_type": "code",
   "execution_count": 68,
   "id": "ce1132af",
   "metadata": {},
   "outputs": [],
   "source": [
    "all_na_countynum=pd.concat([y17[['Store Number','County Number']],y16[['Store Number','County Number']],y15[['Store Number','County Number']],y14[['Store Number','County Number']],y13[['Store Number','County Number']],y12[['Store Number','County Number']]])"
   ]
  },
  {
   "cell_type": "code",
   "execution_count": 75,
   "id": "67ad99c5",
   "metadata": {},
   "outputs": [],
   "source": [
    "all_na_countynum=all_na_countynum[all_na_countynum['County Number'].notna()]"
   ]
  },
  {
   "cell_type": "code",
   "execution_count": 82,
   "id": "7b7ff4ff",
   "metadata": {},
   "outputs": [],
   "source": [
    "all_na_countynum.drop_duplicates(subset=['Store Number'],inplace=True)"
   ]
  },
  {
   "cell_type": "code",
   "execution_count": 85,
   "id": "522291b4",
   "metadata": {},
   "outputs": [
    {
     "data": {
      "text/html": [
       "<div>\n",
       "<style scoped>\n",
       "    .dataframe tbody tr th:only-of-type {\n",
       "        vertical-align: middle;\n",
       "    }\n",
       "\n",
       "    .dataframe tbody tr th {\n",
       "        vertical-align: top;\n",
       "    }\n",
       "\n",
       "    .dataframe thead th {\n",
       "        text-align: right;\n",
       "    }\n",
       "</style>\n",
       "<table border=\"1\" class=\"dataframe\">\n",
       "  <thead>\n",
       "    <tr style=\"text-align: right;\">\n",
       "      <th></th>\n",
       "      <th>Store Number</th>\n",
       "      <th>County Number</th>\n",
       "    </tr>\n",
       "  </thead>\n",
       "  <tbody>\n",
       "    <tr>\n",
       "      <th>35</th>\n",
       "      <td>4312</td>\n",
       "      <td>78.0</td>\n",
       "    </tr>\n",
       "    <tr>\n",
       "      <th>117</th>\n",
       "      <td>5244</td>\n",
       "      <td>45.0</td>\n",
       "    </tr>\n",
       "    <tr>\n",
       "      <th>164</th>\n",
       "      <td>4829</td>\n",
       "      <td>77.0</td>\n",
       "    </tr>\n",
       "    <tr>\n",
       "      <th>184</th>\n",
       "      <td>4361</td>\n",
       "      <td>77.0</td>\n",
       "    </tr>\n",
       "    <tr>\n",
       "      <th>195</th>\n",
       "      <td>2478</td>\n",
       "      <td>77.0</td>\n",
       "    </tr>\n",
       "    <tr>\n",
       "      <th>...</th>\n",
       "      <td>...</td>\n",
       "      <td>...</td>\n",
       "    </tr>\n",
       "    <tr>\n",
       "      <th>37582</th>\n",
       "      <td>3832</td>\n",
       "      <td>60.0</td>\n",
       "    </tr>\n",
       "    <tr>\n",
       "      <th>44455</th>\n",
       "      <td>2260</td>\n",
       "      <td>25.0</td>\n",
       "    </tr>\n",
       "    <tr>\n",
       "      <th>140583</th>\n",
       "      <td>4226</td>\n",
       "      <td>3.0</td>\n",
       "    </tr>\n",
       "    <tr>\n",
       "      <th>142813</th>\n",
       "      <td>4830</td>\n",
       "      <td>77.0</td>\n",
       "    </tr>\n",
       "    <tr>\n",
       "      <th>143579</th>\n",
       "      <td>4314</td>\n",
       "      <td>1.0</td>\n",
       "    </tr>\n",
       "  </tbody>\n",
       "</table>\n",
       "<p>1883 rows × 2 columns</p>\n",
       "</div>"
      ],
      "text/plain": [
       "        Store Number  County Number\n",
       "35              4312           78.0\n",
       "117             5244           45.0\n",
       "164             4829           77.0\n",
       "184             4361           77.0\n",
       "195             2478           77.0\n",
       "...              ...            ...\n",
       "37582           3832           60.0\n",
       "44455           2260           25.0\n",
       "140583          4226            3.0\n",
       "142813          4830           77.0\n",
       "143579          4314            1.0\n",
       "\n",
       "[1883 rows x 2 columns]"
      ]
     },
     "execution_count": 85,
     "metadata": {},
     "output_type": "execute_result"
    }
   ],
   "source": [
    "all_na_countynum"
   ]
  },
  {
   "cell_type": "code",
   "execution_count": 93,
   "id": "980982f6",
   "metadata": {},
   "outputs": [],
   "source": [
    "all_na_countynum.to_csv('storenumcountynum.csv')"
   ]
  },
  {
   "cell_type": "code",
   "execution_count": 64,
   "id": "e6ee45c4",
   "metadata": {},
   "outputs": [],
   "source": [
    "all_na_county=pd.concat([y17[['Store Number','County']],y16[['Store Number','County']],y15[['Store Number','County']],y14[['Store Number','County']],y13[['Store Number','County']],y12[['Store Number','County']]])"
   ]
  },
  {
   "cell_type": "code",
   "execution_count": 73,
   "id": "9e2596a1",
   "metadata": {},
   "outputs": [],
   "source": [
    "all_na_county=all_na_county[all_na_county['County'].notna()]"
   ]
  },
  {
   "cell_type": "code",
   "execution_count": 83,
   "id": "633f13e4",
   "metadata": {},
   "outputs": [
    {
     "name": "stderr",
     "output_type": "stream",
     "text": [
      "<ipython-input-83-32a0e3051c40>:1: SettingWithCopyWarning: \n",
      "A value is trying to be set on a copy of a slice from a DataFrame\n",
      "\n",
      "See the caveats in the documentation: https://pandas.pydata.org/pandas-docs/stable/user_guide/indexing.html#returning-a-view-versus-a-copy\n",
      "  all_na_county.drop_duplicates(subset=['Store Number'],inplace=True)\n"
     ]
    }
   ],
   "source": [
    "all_na_county.drop_duplicates(subset=['Store Number'],inplace=True)"
   ]
  },
  {
   "cell_type": "code",
   "execution_count": 94,
   "id": "34107a88",
   "metadata": {},
   "outputs": [],
   "source": [
    "all_na_county.to_csv('storenumcounty.csv')"
   ]
  },
  {
   "cell_type": "code",
   "execution_count": 84,
   "id": "cfcff262",
   "metadata": {},
   "outputs": [
    {
     "data": {
      "text/html": [
       "<div>\n",
       "<style scoped>\n",
       "    .dataframe tbody tr th:only-of-type {\n",
       "        vertical-align: middle;\n",
       "    }\n",
       "\n",
       "    .dataframe tbody tr th {\n",
       "        vertical-align: top;\n",
       "    }\n",
       "\n",
       "    .dataframe thead th {\n",
       "        text-align: right;\n",
       "    }\n",
       "</style>\n",
       "<table border=\"1\" class=\"dataframe\">\n",
       "  <thead>\n",
       "    <tr style=\"text-align: right;\">\n",
       "      <th></th>\n",
       "      <th>Store Number</th>\n",
       "      <th>County</th>\n",
       "    </tr>\n",
       "  </thead>\n",
       "  <tbody>\n",
       "    <tr>\n",
       "      <th>35</th>\n",
       "      <td>4312</td>\n",
       "      <td>POTTAWATTA</td>\n",
       "    </tr>\n",
       "    <tr>\n",
       "      <th>117</th>\n",
       "      <td>5244</td>\n",
       "      <td>HOWARD</td>\n",
       "    </tr>\n",
       "    <tr>\n",
       "      <th>164</th>\n",
       "      <td>4829</td>\n",
       "      <td>POLK</td>\n",
       "    </tr>\n",
       "    <tr>\n",
       "      <th>184</th>\n",
       "      <td>4361</td>\n",
       "      <td>POLK</td>\n",
       "    </tr>\n",
       "    <tr>\n",
       "      <th>195</th>\n",
       "      <td>2478</td>\n",
       "      <td>POLK</td>\n",
       "    </tr>\n",
       "    <tr>\n",
       "      <th>...</th>\n",
       "      <td>...</td>\n",
       "      <td>...</td>\n",
       "    </tr>\n",
       "    <tr>\n",
       "      <th>37582</th>\n",
       "      <td>3832</td>\n",
       "      <td>Lyon</td>\n",
       "    </tr>\n",
       "    <tr>\n",
       "      <th>44455</th>\n",
       "      <td>2260</td>\n",
       "      <td>Dallas</td>\n",
       "    </tr>\n",
       "    <tr>\n",
       "      <th>140583</th>\n",
       "      <td>4226</td>\n",
       "      <td>Allamakee</td>\n",
       "    </tr>\n",
       "    <tr>\n",
       "      <th>142813</th>\n",
       "      <td>4830</td>\n",
       "      <td>Polk</td>\n",
       "    </tr>\n",
       "    <tr>\n",
       "      <th>143579</th>\n",
       "      <td>4314</td>\n",
       "      <td>Adair</td>\n",
       "    </tr>\n",
       "  </tbody>\n",
       "</table>\n",
       "<p>1883 rows × 2 columns</p>\n",
       "</div>"
      ],
      "text/plain": [
       "        Store Number      County\n",
       "35              4312  POTTAWATTA\n",
       "117             5244      HOWARD\n",
       "164             4829        POLK\n",
       "184             4361        POLK\n",
       "195             2478        POLK\n",
       "...              ...         ...\n",
       "37582           3832        Lyon\n",
       "44455           2260      Dallas\n",
       "140583          4226   Allamakee\n",
       "142813          4830        Polk\n",
       "143579          4314       Adair\n",
       "\n",
       "[1883 rows x 2 columns]"
      ]
     },
     "execution_count": 84,
     "metadata": {},
     "output_type": "execute_result"
    }
   ],
   "source": [
    "all_na_county"
   ]
  },
  {
   "cell_type": "code",
   "execution_count": 74,
   "id": "850c22e9",
   "metadata": {},
   "outputs": [
    {
     "data": {
      "text/plain": [
       "Store Number    0\n",
       "County          0\n",
       "dtype: int64"
      ]
     },
     "execution_count": 74,
     "metadata": {},
     "output_type": "execute_result"
    }
   ],
   "source": [
    "all_na_county.isna().sum()"
   ]
  },
  {
   "cell_type": "code",
   "execution_count": 36,
   "id": "cfbf3f13",
   "metadata": {},
   "outputs": [],
   "source": [
    "sall=pd.concat([y17[['Store Number','Address']],y16[['Store Number','Address']],y15[['Store Number','Address']],y14[['Store Number','Address']],y13[['Store Number','Address']],y12[['Store Number','Address']]])"
   ]
  },
  {
   "cell_type": "code",
   "execution_count": 37,
   "id": "ed53f6a0",
   "metadata": {},
   "outputs": [],
   "source": [
    "sall=sall[sall['Address'].notna()]"
   ]
  },
  {
   "cell_type": "code",
   "execution_count": 25,
   "id": "0b20ee1c",
   "metadata": {},
   "outputs": [
    {
     "data": {
      "text/html": [
       "<div>\n",
       "<style scoped>\n",
       "    .dataframe tbody tr th:only-of-type {\n",
       "        vertical-align: middle;\n",
       "    }\n",
       "\n",
       "    .dataframe tbody tr th {\n",
       "        vertical-align: top;\n",
       "    }\n",
       "\n",
       "    .dataframe thead th {\n",
       "        text-align: right;\n",
       "    }\n",
       "</style>\n",
       "<table border=\"1\" class=\"dataframe\">\n",
       "  <thead>\n",
       "    <tr style=\"text-align: right;\">\n",
       "      <th></th>\n",
       "      <th>Store Number</th>\n",
       "      <th>Address</th>\n",
       "    </tr>\n",
       "  </thead>\n",
       "  <tbody>\n",
       "    <tr>\n",
       "      <th>35</th>\n",
       "      <td>4312</td>\n",
       "      <td>2411 S 24TH ST #1</td>\n",
       "    </tr>\n",
       "    <tr>\n",
       "      <th>36</th>\n",
       "      <td>4312</td>\n",
       "      <td>2411 S 24TH ST #1</td>\n",
       "    </tr>\n",
       "    <tr>\n",
       "      <th>37</th>\n",
       "      <td>4312</td>\n",
       "      <td>2411 S 24TH ST #1</td>\n",
       "    </tr>\n",
       "    <tr>\n",
       "      <th>38</th>\n",
       "      <td>4312</td>\n",
       "      <td>2411 S 24TH ST #1</td>\n",
       "    </tr>\n",
       "    <tr>\n",
       "      <th>39</th>\n",
       "      <td>4312</td>\n",
       "      <td>2411 S 24TH ST #1</td>\n",
       "    </tr>\n",
       "    <tr>\n",
       "      <th>...</th>\n",
       "      <td>...</td>\n",
       "      <td>...</td>\n",
       "    </tr>\n",
       "    <tr>\n",
       "      <th>2082054</th>\n",
       "      <td>4386</td>\n",
       "      <td>613 N. 3RD AVE N</td>\n",
       "    </tr>\n",
       "    <tr>\n",
       "      <th>2082055</th>\n",
       "      <td>2806</td>\n",
       "      <td>1307 N SECOND</td>\n",
       "    </tr>\n",
       "    <tr>\n",
       "      <th>2082056</th>\n",
       "      <td>2510</td>\n",
       "      <td>2405 MT VERNON RD SE</td>\n",
       "    </tr>\n",
       "    <tr>\n",
       "      <th>2082057</th>\n",
       "      <td>2500</td>\n",
       "      <td>3800 W LINCOLN WAY</td>\n",
       "    </tr>\n",
       "    <tr>\n",
       "      <th>2082058</th>\n",
       "      <td>3842</td>\n",
       "      <td>107 N PORTLAND ST PO BX 222</td>\n",
       "    </tr>\n",
       "  </tbody>\n",
       "</table>\n",
       "<p>12588701 rows × 2 columns</p>\n",
       "</div>"
      ],
      "text/plain": [
       "         Store Number                      Address\n",
       "35               4312            2411 S 24TH ST #1\n",
       "36               4312            2411 S 24TH ST #1\n",
       "37               4312            2411 S 24TH ST #1\n",
       "38               4312            2411 S 24TH ST #1\n",
       "39               4312            2411 S 24TH ST #1\n",
       "...               ...                          ...\n",
       "2082054          4386             613 N. 3RD AVE N\n",
       "2082055          2806                1307 N SECOND\n",
       "2082056          2510         2405 MT VERNON RD SE\n",
       "2082057          2500           3800 W LINCOLN WAY\n",
       "2082058          3842  107 N PORTLAND ST PO BX 222\n",
       "\n",
       "[12588701 rows x 2 columns]"
      ]
     },
     "execution_count": 25,
     "metadata": {},
     "output_type": "execute_result"
    }
   ],
   "source": [
    "sall"
   ]
  },
  {
   "cell_type": "code",
   "execution_count": 26,
   "id": "e9292b24",
   "metadata": {},
   "outputs": [
    {
     "data": {
      "text/plain": [
       "Store Number    0\n",
       "Address         0\n",
       "dtype: int64"
      ]
     },
     "execution_count": 26,
     "metadata": {},
     "output_type": "execute_result"
    }
   ],
   "source": [
    "sall.isna().sum()"
   ]
  },
  {
   "cell_type": "code",
   "execution_count": 38,
   "id": "681415d7",
   "metadata": {},
   "outputs": [],
   "source": [
    "sall.drop_duplicates(subset=['Store Number'],inplace=True)"
   ]
  },
  {
   "cell_type": "code",
   "execution_count": 39,
   "id": "59012b27",
   "metadata": {},
   "outputs": [
    {
     "data": {
      "text/html": [
       "<div>\n",
       "<style scoped>\n",
       "    .dataframe tbody tr th:only-of-type {\n",
       "        vertical-align: middle;\n",
       "    }\n",
       "\n",
       "    .dataframe tbody tr th {\n",
       "        vertical-align: top;\n",
       "    }\n",
       "\n",
       "    .dataframe thead th {\n",
       "        text-align: right;\n",
       "    }\n",
       "</style>\n",
       "<table border=\"1\" class=\"dataframe\">\n",
       "  <thead>\n",
       "    <tr style=\"text-align: right;\">\n",
       "      <th></th>\n",
       "      <th>Store Number</th>\n",
       "      <th>Address</th>\n",
       "    </tr>\n",
       "  </thead>\n",
       "  <tbody>\n",
       "    <tr>\n",
       "      <th>35</th>\n",
       "      <td>4312</td>\n",
       "      <td>2411 S 24TH ST #1</td>\n",
       "    </tr>\n",
       "    <tr>\n",
       "      <th>117</th>\n",
       "      <td>5244</td>\n",
       "      <td>708 2nd  AVE  SE</td>\n",
       "    </tr>\n",
       "    <tr>\n",
       "      <th>164</th>\n",
       "      <td>4829</td>\n",
       "      <td>1501 Michigan Ave</td>\n",
       "    </tr>\n",
       "    <tr>\n",
       "      <th>184</th>\n",
       "      <td>4361</td>\n",
       "      <td>4575 NW 2nd</td>\n",
       "    </tr>\n",
       "    <tr>\n",
       "      <th>195</th>\n",
       "      <td>2478</td>\n",
       "      <td>One Prairie Meadows Drive</td>\n",
       "    </tr>\n",
       "    <tr>\n",
       "      <th>...</th>\n",
       "      <td>...</td>\n",
       "      <td>...</td>\n",
       "    </tr>\n",
       "    <tr>\n",
       "      <th>37582</th>\n",
       "      <td>3832</td>\n",
       "      <td>211 MAIN ST</td>\n",
       "    </tr>\n",
       "    <tr>\n",
       "      <th>44455</th>\n",
       "      <td>2260</td>\n",
       "      <td>509 FIRST AVE</td>\n",
       "    </tr>\n",
       "    <tr>\n",
       "      <th>140583</th>\n",
       "      <td>4226</td>\n",
       "      <td>21 W MAIN ST</td>\n",
       "    </tr>\n",
       "    <tr>\n",
       "      <th>142813</th>\n",
       "      <td>4830</td>\n",
       "      <td>7600, UNIVERSITY AVE</td>\n",
       "    </tr>\n",
       "    <tr>\n",
       "      <th>143579</th>\n",
       "      <td>4314</td>\n",
       "      <td>304  4TH ST</td>\n",
       "    </tr>\n",
       "  </tbody>\n",
       "</table>\n",
       "<p>1883 rows × 2 columns</p>\n",
       "</div>"
      ],
      "text/plain": [
       "        Store Number                    Address\n",
       "35              4312          2411 S 24TH ST #1\n",
       "117             5244           708 2nd  AVE  SE\n",
       "164             4829          1501 Michigan Ave\n",
       "184             4361                4575 NW 2nd\n",
       "195             2478  One Prairie Meadows Drive\n",
       "...              ...                        ...\n",
       "37582           3832                211 MAIN ST\n",
       "44455           2260              509 FIRST AVE\n",
       "140583          4226               21 W MAIN ST\n",
       "142813          4830       7600, UNIVERSITY AVE\n",
       "143579          4314                304  4TH ST\n",
       "\n",
       "[1883 rows x 2 columns]"
      ]
     },
     "execution_count": 39,
     "metadata": {},
     "output_type": "execute_result"
    }
   ],
   "source": [
    "sall"
   ]
  },
  {
   "cell_type": "code",
   "execution_count": 29,
   "id": "d0807248",
   "metadata": {},
   "outputs": [],
   "source": [
    "sall.to_csv('store_num_and_address.csv')"
   ]
  },
  {
   "cell_type": "code",
   "execution_count": 34,
   "id": "2949c269",
   "metadata": {},
   "outputs": [
    {
     "data": {
      "text/plain": [
       "'21 W MAIN ST'"
      ]
     },
     "execution_count": 34,
     "metadata": {},
     "output_type": "execute_result"
    }
   ],
   "source": [
    "sall[sall['Store Number']==4226]['Address'].values[0]"
   ]
  },
  {
   "cell_type": "code",
   "execution_count": 40,
   "id": "e9daad16",
   "metadata": {},
   "outputs": [],
   "source": [
    "salldict={}\n",
    "for i in sall['Store Number']:\n",
    "    salldict[i]=sall[sall['Store Number']==i]['Address'].values[0]"
   ]
  },
  {
   "cell_type": "code",
   "execution_count": 43,
   "id": "18dea660",
   "metadata": {},
   "outputs": [
    {
     "data": {
      "text/plain": [
       "1883"
      ]
     },
     "execution_count": 43,
     "metadata": {},
     "output_type": "execute_result"
    }
   ],
   "source": [
    "len(salldict)"
   ]
  },
  {
   "cell_type": "code",
   "execution_count": 47,
   "id": "3e2245fc",
   "metadata": {},
   "outputs": [],
   "source": [
    "def get_address(x,y):\n",
    "    storelist=list(salldict.keys())\n",
    "    if (pd.isna(x)) & (y in storelist):\n",
    "        return salldict[y]\n",
    "    else:\n",
    "        return x"
   ]
  },
  {
   "cell_type": "markdown",
   "id": "fabbafce",
   "metadata": {},
   "source": [
    "# Cleaning Year 2013"
   ]
  },
  {
   "cell_type": "code",
   "execution_count": 27,
   "id": "42529154",
   "metadata": {},
   "outputs": [],
   "source": [
    "y13=pd.read_csv('C://Users//Matthew//DA//Activities//Final_Project//Final Cuts//year2013.csv')"
   ]
  },
  {
   "cell_type": "code",
   "execution_count": 4,
   "id": "c255a70b",
   "metadata": {},
   "outputs": [
    {
     "data": {
      "text/plain": [
       "Unnamed: 0                  0\n",
       "Invoice/Item Number         0\n",
       "Date                        0\n",
       "Store Number                0\n",
       "Store Name                  0\n",
       "Address                     0\n",
       "City                        0\n",
       "Zip Code                    0\n",
       "Store Location              0\n",
       "County Number            2660\n",
       "County                   2660\n",
       "Category                  298\n",
       "Category Name             810\n",
       "Vendor Number               0\n",
       "Vendor Name                 0\n",
       "Item Number                 0\n",
       "Item Description            0\n",
       "Pack                        0\n",
       "Bottle Volume (ml)          0\n",
       "State Bottle Cost           0\n",
       "State Bottle Retail         0\n",
       "Bottles Sold                0\n",
       "Sale (Dollars)              0\n",
       "Volume Sold (Liters)        0\n",
       "Volume Sold (Gallons)       0\n",
       "Year                        0\n",
       "dtype: int64"
      ]
     },
     "execution_count": 4,
     "metadata": {},
     "output_type": "execute_result"
    }
   ],
   "source": [
    "y13.isna().sum()"
   ]
  },
  {
   "cell_type": "code",
   "execution_count": 5,
   "id": "01b82438",
   "metadata": {},
   "outputs": [
    {
     "data": {
      "text/plain": [
       "array(['GUTTENBERG', 'BELMOND'], dtype=object)"
      ]
     },
     "execution_count": 5,
     "metadata": {},
     "output_type": "execute_result"
    }
   ],
   "source": [
    "y13[y13['County'].isna()]['City'].unique()"
   ]
  },
  {
   "cell_type": "code",
   "execution_count": 6,
   "id": "d50a49cd",
   "metadata": {},
   "outputs": [
    {
     "data": {
      "text/plain": [
       "array(['GUTTENBERG', 'BELMOND'], dtype=object)"
      ]
     },
     "execution_count": 6,
     "metadata": {},
     "output_type": "execute_result"
    }
   ],
   "source": [
    "y13[y13['County Number'].isna()]['City'].unique()"
   ]
  },
  {
   "cell_type": "code",
   "execution_count": 7,
   "id": "647f2d40",
   "metadata": {},
   "outputs": [
    {
     "data": {
      "text/plain": [
       "array(['Evan Williams Egg Nog', 'Wild Turkey American Honey Shot Tap',\n",
       "       'Gentleman Jack w/2 Glasses', 'Caravella Limoncello w/Glass'],\n",
       "      dtype=object)"
      ]
     },
     "execution_count": 7,
     "metadata": {},
     "output_type": "execute_result"
    }
   ],
   "source": [
    "y13[y13['Category'].isna()]['Item Description'].unique()"
   ]
  },
  {
   "cell_type": "code",
   "execution_count": 8,
   "id": "8c078bf6",
   "metadata": {},
   "outputs": [
    {
     "data": {
      "text/plain": [
       "array(['Herradura Gold Reposado 6pak', 'Evan Williams Egg Nog',\n",
       "       'Wild Turkey American Honey Shot Tap',\n",
       "       'Gentleman Jack w/2 Glasses', 'Herradura Anejo Tequila',\n",
       "       'Ultimat Vodka', 'Rogue Dark Rum', 'Craigellachie',\n",
       "       \"Whaler's Original Dark Rum\", 'Caravella Limoncello w/Glass'],\n",
       "      dtype=object)"
      ]
     },
     "execution_count": 8,
     "metadata": {},
     "output_type": "execute_result"
    }
   ],
   "source": [
    "y13[y13['Category Name'].isna()]['Item Description'].unique()"
   ]
  },
  {
   "cell_type": "code",
   "execution_count": 9,
   "id": "e264372e",
   "metadata": {},
   "outputs": [
    {
     "data": {
      "text/plain": [
       "array([1012200.,  101220.])"
      ]
     },
     "execution_count": 9,
     "metadata": {},
     "output_type": "execute_result"
    }
   ],
   "source": [
    "y13[y13['Item Description']=='Craigellachie']['Category'].unique()"
   ]
  },
  {
   "cell_type": "code",
   "execution_count": 13,
   "id": "957c9390",
   "metadata": {},
   "outputs": [
    {
     "data": {
      "text/plain": [
       "array(['SCOTCH WHISKIES'], dtype=object)"
      ]
     },
     "execution_count": 13,
     "metadata": {},
     "output_type": "execute_result"
    }
   ],
   "source": [
    "y13[y13['Category']==1012200]['Category Name'].unique()"
   ]
  },
  {
   "cell_type": "code",
   "execution_count": 15,
   "id": "ab3f20d2",
   "metadata": {},
   "outputs": [],
   "source": [
    "y13['County']=list(map(county_name,y13['County'],y13['City']))\n",
    "y13['County Number']=list(map(county_name,y13['County Number'],y13['City']))\n",
    "y13['Category Name']=list(map(category_name,y13['Category Name'],y13['Item Description']))\n",
    "y13['Category']=list(map(category,y13['Category'],y13['Item Description']))"
   ]
  },
  {
   "cell_type": "code",
   "execution_count": 16,
   "id": "24698f03",
   "metadata": {},
   "outputs": [
    {
     "data": {
      "text/plain": [
       "Unnamed: 0               0\n",
       "Invoice/Item Number      0\n",
       "Date                     0\n",
       "Store Number             0\n",
       "Store Name               0\n",
       "Address                  0\n",
       "City                     0\n",
       "Zip Code                 0\n",
       "Store Location           0\n",
       "County Number            0\n",
       "County                   0\n",
       "Category                 0\n",
       "Category Name            0\n",
       "Vendor Number            0\n",
       "Vendor Name              0\n",
       "Item Number              0\n",
       "Item Description         0\n",
       "Pack                     0\n",
       "Bottle Volume (ml)       0\n",
       "State Bottle Cost        0\n",
       "State Bottle Retail      0\n",
       "Bottles Sold             0\n",
       "Sale (Dollars)           0\n",
       "Volume Sold (Liters)     0\n",
       "Volume Sold (Gallons)    0\n",
       "Year                     0\n",
       "dtype: int64"
      ]
     },
     "execution_count": 16,
     "metadata": {},
     "output_type": "execute_result"
    }
   ],
   "source": [
    "y13.isna().sum()"
   ]
  },
  {
   "cell_type": "code",
   "execution_count": 17,
   "id": "4845aeb7",
   "metadata": {},
   "outputs": [],
   "source": [
    "y13.to_csv('clean_2013.csv')"
   ]
  },
  {
   "cell_type": "markdown",
   "id": "0bc24e30",
   "metadata": {},
   "source": [
    "# Cleaning Year 2014 "
   ]
  },
  {
   "cell_type": "code",
   "execution_count": 26,
   "id": "70cd22bf",
   "metadata": {},
   "outputs": [],
   "source": [
    "y14=pd.read_csv('C://Users//Matthew//DA//Activities//Final_Project//Final Cuts//year2014.csv')"
   ]
  },
  {
   "cell_type": "code",
   "execution_count": 19,
   "id": "0651cd1c",
   "metadata": {},
   "outputs": [
    {
     "data": {
      "text/plain": [
       "Unnamed: 0                  0\n",
       "Invoice/Item Number         0\n",
       "Date                        0\n",
       "Store Number                0\n",
       "Store Name                  0\n",
       "Address                     0\n",
       "City                        0\n",
       "Zip Code                    0\n",
       "Store Location              0\n",
       "County Number            1054\n",
       "County                   1054\n",
       "Category                  480\n",
       "Category Name            1057\n",
       "Vendor Number               0\n",
       "Vendor Name                 0\n",
       "Item Number                 0\n",
       "Item Description            0\n",
       "Pack                        0\n",
       "Bottle Volume (ml)          0\n",
       "State Bottle Cost           0\n",
       "State Bottle Retail         0\n",
       "Bottles Sold                0\n",
       "Sale (Dollars)              0\n",
       "Volume Sold (Liters)        0\n",
       "Volume Sold (Gallons)       0\n",
       "Year                        0\n",
       "dtype: int64"
      ]
     },
     "execution_count": 19,
     "metadata": {},
     "output_type": "execute_result"
    }
   ],
   "source": [
    "y14.isna().sum()"
   ]
  },
  {
   "cell_type": "code",
   "execution_count": 21,
   "id": "ddc801c2",
   "metadata": {},
   "outputs": [
    {
     "data": {
      "text/plain": [
       "array(['BELMOND'], dtype=object)"
      ]
     },
     "execution_count": 21,
     "metadata": {},
     "output_type": "execute_result"
    }
   ],
   "source": [
    "y14[y14['County'].isna()]['City'].unique()"
   ]
  },
  {
   "cell_type": "code",
   "execution_count": 23,
   "id": "a287f740",
   "metadata": {},
   "outputs": [
    {
     "data": {
      "text/plain": [
       "array(['Gentleman Jack w/2 Glasses', 'Evan Williams Egg Nog',\n",
       "       'Caravella Limoncello w/Glass', 'Pinnacle Candy Cane Trial Pack',\n",
       "       'Chambord Liqueur w/2 Glasses', 'Glenfiddich 1963 Replica HA',\n",
       "       'Wild Turkey American Honey Shot Tap', 'Dry Fly Gin',\n",
       "       \"Galliano L'Autentico\", \"Carolan's Irish Cream w/2 Bowls\",\n",
       "       '1800 Reposado'], dtype=object)"
      ]
     },
     "execution_count": 23,
     "metadata": {},
     "output_type": "execute_result"
    }
   ],
   "source": [
    "y14[y14['Category'].isna()]['Item Description'].unique()"
   ]
  },
  {
   "cell_type": "code",
   "execution_count": 22,
   "id": "78c08158",
   "metadata": {},
   "outputs": [
    {
     "data": {
      "text/plain": [
       "array(['Gentleman Jack w/2 Glasses', 'Herradura Gold Reposado 6pak',\n",
       "       'Evan Williams Egg Nog', 'Caravella Limoncello w/Glass',\n",
       "       'Pinnacle Candy Cane Trial Pack', 'Chambord Liqueur w/2 Glasses',\n",
       "       'Glenfiddich 1963 Replica HA', 'Ardbeg Auriverdes HA',\n",
       "       'Wild Turkey American Honey Shot Tap', 'Dry Fly Gin',\n",
       "       \"Galliano L'Autentico\", \"Carolan's Irish Cream w/2 Bowls\",\n",
       "       'Ultimat Vodka', '1800 Reposado', 'Grand Marnier Cuvee 1880 HA',\n",
       "       \"Whaler's Original Dark Rum\", 'Courvoisier Gold', 'Craigellachie'],\n",
       "      dtype=object)"
      ]
     },
     "execution_count": 22,
     "metadata": {},
     "output_type": "execute_result"
    }
   ],
   "source": [
    "y14[y14['Category Name'].isna()]['Item Description'].unique()"
   ]
  },
  {
   "cell_type": "code",
   "execution_count": 9,
   "id": "1182f72b",
   "metadata": {},
   "outputs": [
    {
     "data": {
      "text/plain": [
       "array([1012200.,  101220.])"
      ]
     },
     "execution_count": 9,
     "metadata": {},
     "output_type": "execute_result"
    }
   ],
   "source": [
    "y13[y13['Item Description']=='Craigellachie']['Category'].unique()"
   ]
  },
  {
   "cell_type": "code",
   "execution_count": 24,
   "id": "8043da55",
   "metadata": {},
   "outputs": [
    {
     "data": {
      "text/plain": [
       "array(['SCOTCH WHISKIES'], dtype=object)"
      ]
     },
     "execution_count": 24,
     "metadata": {},
     "output_type": "execute_result"
    }
   ],
   "source": [
    "y13[y13['Item Description']=='Craigellachie']['Category Name'].unique()"
   ]
  },
  {
   "cell_type": "code",
   "execution_count": 27,
   "id": "457da8b6",
   "metadata": {},
   "outputs": [
    {
     "data": {
      "text/plain": [
       "array([], dtype=object)"
      ]
     },
     "execution_count": 27,
     "metadata": {},
     "output_type": "execute_result"
    }
   ],
   "source": [
    "y13[y13['Item Description']=='Pinnacle Candy Cane Trial Pack']['Category'].unique()"
   ]
  },
  {
   "cell_type": "code",
   "execution_count": 28,
   "id": "c636cca3",
   "metadata": {},
   "outputs": [
    {
     "data": {
      "text/plain": [
       "array([], dtype=object)"
      ]
     },
     "execution_count": 28,
     "metadata": {},
     "output_type": "execute_result"
    }
   ],
   "source": [
    "y13[y13['Item Description']=='Pinnacle Candy Cane Trial Pack']['Category Name'].unique()"
   ]
  },
  {
   "cell_type": "code",
   "execution_count": 451,
   "id": "d94a73e5",
   "metadata": {},
   "outputs": [],
   "source": [
    "def county_name(x,y):\n",
    "    if (pd.isna(x)) and (y=='GUTTENBERG'):\n",
    "        return 'Clayton'\n",
    "    elif (pd.isna(x)) and (y=='BELMOND'):\n",
    "        return 'Wright'\n",
    "    else:\n",
    "        return x\n",
    "    \n",
    "def county_number(x,y):\n",
    "    if (pd.isna(x)) and (y=='GUTTENBERG'):\n",
    "        return '22.'\n",
    "    elif (pd.isna(x)) and (y=='BELMOND'):\n",
    "        return '99.'\n",
    "    else:\n",
    "        return x\n",
    "\n",
    "    \n",
    "def category_name(x,y):\n",
    "    if (pd.isna(x)) and (y=='Herradura Gold Reposado 6pak'):\n",
    "        return 'TEQUILA'\n",
    "    elif (pd.isna(x)) and (y=='Evan Williams Egg Nog'):\n",
    "        return 'CREAM LIQUEURS'\n",
    "    elif (pd.isna(x)) and (y==\"Carolan's Irish Cream w/2 Bowls\"):\n",
    "        return 'DECANTERS & SPECIALTY PACKAGES'\n",
    "    elif (pd.isna(x)) and (y=='Rogue Dark Rum'):\n",
    "        return 'AGED DARK RUM'\n",
    "    elif (pd.isna(x)) and (y=='Ultimat Vodka'):\n",
    "        return 'IMPORTED VODKA'\n",
    "    elif (pd.isna(x)) and (y=='Herradura Anejo Tequila'):\n",
    "        return 'TEQUILA'\n",
    "    elif (pd.isna(x)) and (y==\"Whaler's Original Dark Rum\"):\n",
    "        return 'SPECIAL ORDER ITEMS'\n",
    "    elif (pd.isna(x)) and (y==\"Wild Turkey American Honey Shot Tap\"):\n",
    "        return 'DECANTERS & SPECIALTY PACKAGES'\n",
    "    elif (pd.isna(x)) and (y==\"Chambord Liqueur w/2 Glasses\"):\n",
    "        return 'DECANTERS & SPECIALTY PACKAGES'\n",
    "    elif (pd.isna(x)) and (y=='Gentleman Jack w/2 Glasses'):\n",
    "        return 'DECANTERS & SPECIALTY PACKAGES'\n",
    "    elif (pd.isna(x)) and (y=='Caravella Limoncello w/Glass'):\n",
    "        return 'DECANTERS & SPECIALTY PACKAGES'\n",
    "    elif (pd.isna(x)) and (y=='Craigellachie'):\n",
    "        return 'SCOTCH WHISKIES'\n",
    "    elif (pd.isna(x)) and (y=='Glenfiddich 1963 Replica HA'):\n",
    "        return 'SINGLE MALT SCOTCH'\n",
    "    elif (pd.isna(x)) and (y=='Pinnacle Candy Cane Trial Pack'):\n",
    "        return 'Holiday VAP'\n",
    "    elif (pd.isna(x)) and (y=='Dry Fly Gin'):\n",
    "        return 'AMERICAN DRY GINS'\n",
    "    elif (pd.isna(x)) and (y==\"Galliano L'Autentico\"):\n",
    "        return 'MISC. IMPORTED CORDIALS & LIQUEURS'\n",
    "    elif (pd.isna(x)) and (y=='1800 Reposado'):\n",
    "        return 'TEQUILA'\n",
    "    elif (pd.isna(x)) and (y=='Grand Marnier Cuvee 1880 HA'):\n",
    "        return 'Imported Cordials & Liqueur'\n",
    "    elif (pd.isna(x)) and (y=='Courvoisier Gold'):\n",
    "        return 'MISC. IMPORTED CORDIALS & LIQUEURS'\n",
    "    elif (pd.isna(x)) and (y=='Ardbeg Auriverdes HA'):\n",
    "        return 'SINGLE MALT SCOTCH'\n",
    "    else:\n",
    "        return x\n",
    "    \n",
    "def category(x,y):\n",
    "    if (pd.isna(x)) and (y=='Evan Williams Egg Nog'):\n",
    "        return '1081200.'\n",
    "    elif (pd.isna(x)) and (y==\"Carolan's Irish Cream w/2 Bowls\"):\n",
    "        return '1701100.'\n",
    "    elif (pd.isna(x)) and (y==\"Wild Turkey American Honey Shot Tap\"):\n",
    "        return '1701100.'\n",
    "    elif (pd.isna(x)) and (y==\"Chambord Liqueur w/2 Glasses\"):\n",
    "        return '1701100.'\n",
    "    elif (pd.isna(x)) and (y=='Gentleman Jack w/2 Glasses'):\n",
    "        return '1701100.'\n",
    "    elif (pd.isna(x)) and (y=='Caravella Limoncello w/Glass'):\n",
    "        return '1701100.'\n",
    "    elif (pd.isna(x)) and (y=='Craigellachie'):\n",
    "        return '1012200.'\n",
    "    elif (pd.isna(x)) and (y=='Glenfiddich 1963 Replica HA'):\n",
    "        return '1012210.'\n",
    "    elif (pd.isna(x)) and (y=='Pinnacle Candy Cane Trial Pack'):\n",
    "        return '1701200.'\n",
    "    elif (pd.isna(x)) and (y=='Dry Fly Gin'):\n",
    "        return '1041100.'\n",
    "    elif (pd.isna(x)) and (y==\"Galliano L'Autentico\"):\n",
    "        return '1082900.'\n",
    "    elif (pd.isna(x)) and (y=='1800 Reposado'):\n",
    "        return '1022200.'\n",
    "    elif (pd.isna(x)) and (y=='Grand Marnier Cuvee 1880 HA'):\n",
    "        return '1082100.'\n",
    "    elif (pd.isna(x)) and (y=='Courvoisier Gold'):\n",
    "        return '1082900.'\n",
    "    elif (pd.isna(x)) and (y=='Ardbeg Auriverdes HA'):\n",
    "        return '1012210.'\n",
    "    else:\n",
    "        return x"
   ]
  },
  {
   "cell_type": "code",
   "execution_count": 36,
   "id": "7fe88ae0",
   "metadata": {},
   "outputs": [],
   "source": [
    "y14['County']=list(map(county_name,y14['County'],y14['City']))\n",
    "y14['County Number']=list(map(county_name,y14['County Number'],y14['City']))\n",
    "y14['Category Name']=list(map(category_name,y14['Category Name'],y14['Item Description']))\n",
    "y14['Category']=list(map(category,y14['Category'],y14['Item Description']))"
   ]
  },
  {
   "cell_type": "code",
   "execution_count": 37,
   "id": "44015f52",
   "metadata": {},
   "outputs": [
    {
     "data": {
      "text/plain": [
       "Unnamed: 0               0\n",
       "Invoice/Item Number      0\n",
       "Date                     0\n",
       "Store Number             0\n",
       "Store Name               0\n",
       "Address                  0\n",
       "City                     0\n",
       "Zip Code                 0\n",
       "Store Location           0\n",
       "County Number            0\n",
       "County                   0\n",
       "Category                 0\n",
       "Category Name            0\n",
       "Vendor Number            0\n",
       "Vendor Name              0\n",
       "Item Number              0\n",
       "Item Description         0\n",
       "Pack                     0\n",
       "Bottle Volume (ml)       0\n",
       "State Bottle Cost        0\n",
       "State Bottle Retail      0\n",
       "Bottles Sold             0\n",
       "Sale (Dollars)           0\n",
       "Volume Sold (Liters)     0\n",
       "Volume Sold (Gallons)    0\n",
       "Year                     0\n",
       "dtype: int64"
      ]
     },
     "execution_count": 37,
     "metadata": {},
     "output_type": "execute_result"
    }
   ],
   "source": [
    "y14.isna().sum()"
   ]
  },
  {
   "cell_type": "code",
   "execution_count": 38,
   "id": "f7f9549a",
   "metadata": {},
   "outputs": [],
   "source": [
    "y14.to_csv('clean_2014.csv')"
   ]
  },
  {
   "cell_type": "markdown",
   "id": "8e22140f",
   "metadata": {},
   "source": [
    "# Cleaning Year 2015"
   ]
  },
  {
   "cell_type": "code",
   "execution_count": 25,
   "id": "91ec2944",
   "metadata": {},
   "outputs": [],
   "source": [
    "y15=pd.read_csv('C://Users//Matthew//DA//Activities//Final_Project//Final Cuts//year2015.csv')"
   ]
  },
  {
   "cell_type": "code",
   "execution_count": 40,
   "id": "bd035b62",
   "metadata": {},
   "outputs": [
    {
     "data": {
      "text/plain": [
       "Unnamed: 0                  0\n",
       "Invoice/Item Number         0\n",
       "Date                        0\n",
       "Store Number                0\n",
       "Store Name                  0\n",
       "Address                     0\n",
       "City                        0\n",
       "Zip Code                    0\n",
       "Store Location              0\n",
       "County Number            1119\n",
       "County                   1119\n",
       "Category                  773\n",
       "Category Name            1462\n",
       "Vendor Number               0\n",
       "Vendor Name                 0\n",
       "Item Number                 0\n",
       "Item Description            0\n",
       "Pack                        0\n",
       "Bottle Volume (ml)          0\n",
       "State Bottle Cost           0\n",
       "State Bottle Retail         0\n",
       "Bottles Sold                0\n",
       "Sale (Dollars)              0\n",
       "Volume Sold (Liters)        0\n",
       "Volume Sold (Gallons)       0\n",
       "Year                        0\n",
       "dtype: int64"
      ]
     },
     "execution_count": 40,
     "metadata": {},
     "output_type": "execute_result"
    }
   ],
   "source": [
    "y15.isna().sum()"
   ]
  },
  {
   "cell_type": "code",
   "execution_count": 42,
   "id": "880719f8",
   "metadata": {},
   "outputs": [
    {
     "data": {
      "text/plain": [
       "array(['BELMOND'], dtype=object)"
      ]
     },
     "execution_count": 42,
     "metadata": {},
     "output_type": "execute_result"
    }
   ],
   "source": [
    "y15[y15['County'].isna()]['City'].unique()"
   ]
  },
  {
   "cell_type": "code",
   "execution_count": 43,
   "id": "9256a07a",
   "metadata": {},
   "outputs": [
    {
     "data": {
      "text/plain": [
       "array(['BELMOND'], dtype=object)"
      ]
     },
     "execution_count": 43,
     "metadata": {},
     "output_type": "execute_result"
    }
   ],
   "source": [
    "y15[y15['County Number'].isna()]['City'].unique()"
   ]
  },
  {
   "cell_type": "code",
   "execution_count": 44,
   "id": "75c3e2c2",
   "metadata": {},
   "outputs": [
    {
     "data": {
      "text/plain": [
       "array(['Templeton Rye w/Flask',\n",
       "       'Disaronno Amaretto Cavalli Mignon 3-50ml Pack',\n",
       "       'Knob Creek w/ Crystal Decanter', 'Pinnacle Candy Cane Trial Pack',\n",
       "       'Gentleman Jack w/2 Glasses', 'Evan Williams Egg Nog',\n",
       "       'Crystal Head Aurora Vodka', 'Wild Turkey American Honey Shot Tap',\n",
       "       'Woodford Reserve MC 1838 White Corn',\n",
       "       'Grey Goose w/2 Martini Glasses', 'Bombay Sapphire w/Glass',\n",
       "       'Glenfiddich 1963 Replica HA',\n",
       "       'Jack Daniels TN Honey & Jack Daniels TN Fire 750mls w/2Gls',\n",
       "       'Southern Comfort w/Shot Glass & Lanyard',\n",
       "       'Chambord Liqueur w/2 Glasses',\n",
       "       'Parkers Heritage Collection Malt Whiskey HA',\n",
       "       'Rothman & Winter Orchard Peach', 'Chivas Regal 18YR Tin HA',\n",
       "       '1800 Reposado', 'Letherbee Gin'], dtype=object)"
      ]
     },
     "execution_count": 44,
     "metadata": {},
     "output_type": "execute_result"
    }
   ],
   "source": [
    "y15[y15['Category'].isna()]['Item Description'].unique()"
   ]
  },
  {
   "cell_type": "code",
   "execution_count": 45,
   "id": "49f38651",
   "metadata": {},
   "outputs": [
    {
     "data": {
      "text/plain": [
       "array(['Templeton Rye w/Flask',\n",
       "       'Disaronno Amaretto Cavalli Mignon 3-50ml Pack',\n",
       "       'Knob Creek w/ Crystal Decanter', 'Pinnacle Candy Cane Trial Pack',\n",
       "       'Gentleman Jack w/2 Glasses', 'Herradura Gold Reposado 6pak',\n",
       "       'Evan Williams Egg Nog', 'Ciroc Ten HA',\n",
       "       'Crystal Head Aurora Vodka', 'Wild Turkey American Honey Shot Tap',\n",
       "       'Woodford Reserve MC 1838 White Corn', 'Gamle Ode Holiday',\n",
       "       'Grey Goose w/2 Martini Glasses', 'Bombay Sapphire w/Glass',\n",
       "       'Glenfiddich 1963 Replica HA',\n",
       "       'Jack Daniels TN Honey & Jack Daniels TN Fire 750mls w/2Gls',\n",
       "       \"Whaler's Original Dark Rum\",\n",
       "       'Southern Comfort w/Shot Glass & Lanyard',\n",
       "       'Three Olives Cake Flavored Vodka', 'Chambord Liqueur w/2 Glasses',\n",
       "       'Parkers Heritage Collection Malt Whiskey HA',\n",
       "       'Rothman & Winter Orchard Peach', 'Chivas Regal 18YR Tin HA',\n",
       "       'Yeni Raki', 'Ultimat Vodka', 'Bacardi Oakheart',\n",
       "       'Cruzan Passion Fruit', '1800 Reposado', 'Letherbee Gin',\n",
       "       'Pearl Caramel', 'The Bitter Truth Pimento Dram',\n",
       "       'Van Gogh Chocolate Vodka', 'Van Gogh Coconut',\n",
       "       'Giffard Creme de Pamplemousse Rose Pink Grapefruit Liqueur',\n",
       "       'Grand Marnier Cuvee 1880 HA', 'Gamle Ode Celebration Aquavit',\n",
       "       'Cocoyac Excellence', 'Van Gogh Rich Dark Chocolate Vodka',\n",
       "       'Cruzan Banana Rum', 'Stolichnaya Premium Vodka 80 Proof (lv)',\n",
       "       'Absolut w/Ginger Beer', 'Absolut Black 100',\n",
       "       'Calico Tropical Punch Jack Rum', 'Terry Centenario',\n",
       "       'The Bitter Truth Apricot Liqueur',\n",
       "       'The Bitter Truth Violet Liqueur', 'Courvoisier Gold',\n",
       "       'Tiramisu Italian Liqueur', 'Kahlua Mocha'], dtype=object)"
      ]
     },
     "execution_count": 45,
     "metadata": {},
     "output_type": "execute_result"
    }
   ],
   "source": [
    "y15[y15['Category Name'].isna()]['Item Description'].unique()"
   ]
  },
  {
   "cell_type": "code",
   "execution_count": 36,
   "id": "d09d43fb",
   "metadata": {},
   "outputs": [],
   "source": [
    "y15['County']=list(map(county_name,y15['County'],y15['City']))\n",
    "y15['County Number']=list(map(county_name,y15['County Number'],y15['City']))\n",
    "y14['Category Name']=list(map(category_name,y14['Category Name'],y14['Item Description']))\n",
    "y14['Category']=list(map(category,y14['Category'],y14['Item Description']))"
   ]
  },
  {
   "cell_type": "markdown",
   "id": "5533e0ee",
   "metadata": {},
   "source": [
    "# Cleaning Year 2016"
   ]
  },
  {
   "cell_type": "code",
   "execution_count": 8,
   "id": "42f40a63",
   "metadata": {},
   "outputs": [
    {
     "name": "stderr",
     "output_type": "stream",
     "text": [
      "C:\\ProgramData\\Anaconda3\\lib\\site-packages\\IPython\\core\\interactiveshell.py:3165: DtypeWarning: Columns (7) have mixed types.Specify dtype option on import or set low_memory=False.\n",
      "  has_raised = await self.run_ast_nodes(code_ast.body, cell_name,\n"
     ]
    }
   ],
   "source": [
    "y16=pd.read_csv('C://Users//Matthew//DA//Activities//Final_Project//Final Cuts//year2016.csv')"
   ]
  },
  {
   "cell_type": "code",
   "execution_count": 47,
   "id": "a27cabae",
   "metadata": {},
   "outputs": [
    {
     "data": {
      "text/plain": [
       "Unnamed: 0                   0\n",
       "Invoice/Item Number          0\n",
       "Date                         0\n",
       "Store Number                 0\n",
       "Store Name                   0\n",
       "Address                    965\n",
       "City                       965\n",
       "Zip Code                  1010\n",
       "Store Location             965\n",
       "County Number            69336\n",
       "County                   69336\n",
       "Category                   350\n",
       "Category Name             6100\n",
       "Vendor Number                2\n",
       "Vendor Name                  0\n",
       "Item Number                  0\n",
       "Item Description             0\n",
       "Pack                         0\n",
       "Bottle Volume (ml)           0\n",
       "State Bottle Cost            0\n",
       "State Bottle Retail          0\n",
       "Bottles Sold                 0\n",
       "Sale (Dollars)               0\n",
       "Volume Sold (Liters)         0\n",
       "Volume Sold (Gallons)        0\n",
       "Year                         0\n",
       "dtype: int64"
      ]
     },
     "execution_count": 47,
     "metadata": {},
     "output_type": "execute_result"
    }
   ],
   "source": [
    "y16.isna().sum()"
   ]
  },
  {
   "cell_type": "code",
   "execution_count": 48,
   "id": "e4dc6e3c",
   "metadata": {},
   "outputs": [
    {
     "data": {
      "text/plain": [
       "array(['CORALVILLE', 'HAMPTON', 'WESLEY', 'ACKLEY', 'CLARINDA', 'BELMOND',\n",
       "       'DUNLAP', 'CEDAR RAPIDS', 'SEYMOUR', 'OSCEOLA', 'ALTOONA',\n",
       "       'EVANSDALE', 'DAVENPORT', 'LARCHWOOD', 'WAVERLY', 'ATLANTIC',\n",
       "       'NORTH LIBERTY', 'DES MOINES', 'CRESCO', 'DUBUQUE', 'SIOUX CITY',\n",
       "       'MASON CITY', 'WATERLOO', 'CLINTON', 'ROCKWELL', 'SIGOURNEY',\n",
       "       'HARLAN', 'AUDUBON', 'TABOR', 'PLEASANTVILLE', 'RUNNELLS',\n",
       "       'CHARITON', 'ANTHON', 'ANAMOSA', 'FORT DODGE', 'NORWALK',\n",
       "       'WEST BRANCH', 'IOWA CITY', 'COLUMBUS JUNCTION', 'INDIANOLA',\n",
       "       'MARSHALLTOWN', 'REINBECK', 'Mason City', 'Des Moines',\n",
       "       'Cedar Rapids', 'CENTRAL CITY', 'Center Point', 'Ottumwa',\n",
       "       'Davenport', 'Ackley', 'Pleasantville', 'Wesley', 'Iowa City',\n",
       "       'Coralville', 'Columbus Junction', 'Dunlap', 'Indianola',\n",
       "       'Hampton', 'Anamosa', 'Sigourney', 'Tabor', 'Dubuque', 'Harlan',\n",
       "       'Cresco', 'Fort Dodge', 'Altoona', 'Larchwood', 'Clarinda',\n",
       "       'Marshalltown', 'Waverly', 'Belmond', 'Central City', 'Runnells',\n",
       "       'Sioux City', 'Anthon', 'Clinton', 'Waterloo', 'Rockwell',\n",
       "       'North English', 'Osceola', 'Reinbeck', 'North Liberty', 'Norwalk',\n",
       "       'Forest City', 'Sac City', 'Evansdale', 'Glenwood', 'Seymour',\n",
       "       'Mitchellville', 'Audubon', 'Atlantic', 'Manson',\n",
       "       'West Des Moines', 'Leon', 'Missouri Valley', 'Council Bluffs',\n",
       "       'Winthrop', 'West Branch', 'Atkins', 'Moravia', 'Cedar Falls',\n",
       "       'Muscatine', 'Waukee', 'Chariton', 'Albert City', 'Pella',\n",
       "       'Bettendorf', 'Urbandale', 'Newton', 'Windsor Heights', 'Clarion',\n",
       "       'Boone', 'Brooklyn', 'Robins', 'Kingsley', 'Story City', 'Spencer',\n",
       "       'Rock Valley', 'Onawa', 'Vinton', 'DeWitt', 'Webster City',\n",
       "       'Stanton', 'Lawler', 'Humboldt', 'Arnolds Park', 'Ames',\n",
       "       'Carter Lake', 'Alburnett', 'Otumwa', nan], dtype=object)"
      ]
     },
     "execution_count": 48,
     "metadata": {},
     "output_type": "execute_result"
    }
   ],
   "source": [
    "y16[y16['County'].isna()]['City'].unique()"
   ]
  },
  {
   "cell_type": "markdown",
   "id": "58373cea",
   "metadata": {},
   "source": [
    "# Cleaning Year 2017"
   ]
  },
  {
   "cell_type": "code",
   "execution_count": 176,
   "id": "b90fbcd2",
   "metadata": {},
   "outputs": [],
   "source": [
    "y17=pd.read_csv('C://Users//Matthew//DA//Activities//Final_Project//Final Cuts//year2017.csv')"
   ]
  },
  {
   "cell_type": "code",
   "execution_count": 44,
   "id": "3dfce5b3",
   "metadata": {},
   "outputs": [],
   "source": [
    "ytest17=y17"
   ]
  },
  {
   "cell_type": "code",
   "execution_count": 45,
   "id": "ce096c2e",
   "metadata": {},
   "outputs": [
    {
     "data": {
      "text/plain": [
       "Unnamed: 0                  0\n",
       "Invoice/Item Number         0\n",
       "Date                        0\n",
       "Store Number                0\n",
       "Store Name                  0\n",
       "Address                  1411\n",
       "City                     1410\n",
       "Zip Code                 1410\n",
       "Store Location           1410\n",
       "County Number            1410\n",
       "County                   1410\n",
       "Category                 5835\n",
       "Category Name            5835\n",
       "Vendor Number               1\n",
       "Vendor Name                 1\n",
       "Item Number                 0\n",
       "Item Description            0\n",
       "Pack                        0\n",
       "Bottle Volume (ml)          0\n",
       "State Bottle Cost           0\n",
       "State Bottle Retail         0\n",
       "Bottles Sold                0\n",
       "Sale (Dollars)              0\n",
       "Volume Sold (Liters)        0\n",
       "Volume Sold (Gallons)       0\n",
       "Year                        0\n",
       "dtype: int64"
      ]
     },
     "execution_count": 45,
     "metadata": {},
     "output_type": "execute_result"
    }
   ],
   "source": [
    "ytest17.isna().sum()"
   ]
  },
  {
   "cell_type": "code",
   "execution_count": 47,
   "id": "500b022a",
   "metadata": {},
   "outputs": [],
   "source": [
    "def get_address(x,y):\n",
    "    storelist=list(salldict.keys())\n",
    "    if (pd.isna(x)) & (y in storelist):\n",
    "        return salldict[y]\n",
    "    else:\n",
    "        return x"
   ]
  },
  {
   "cell_type": "code",
   "execution_count": 48,
   "id": "a5946975",
   "metadata": {},
   "outputs": [],
   "source": [
    "ytest17['Address']=list(map(get_address,ytest17['Address'],ytest17['Store Number']))"
   ]
  },
  {
   "cell_type": "code",
   "execution_count": 49,
   "id": "6a69fb4b",
   "metadata": {},
   "outputs": [
    {
     "data": {
      "text/plain": [
       "Unnamed: 0                  0\n",
       "Invoice/Item Number         0\n",
       "Date                        0\n",
       "Store Number                0\n",
       "Store Name                  0\n",
       "Address                     1\n",
       "City                     1410\n",
       "Zip Code                 1410\n",
       "Store Location           1410\n",
       "County Number            1410\n",
       "County                   1410\n",
       "Category                 5835\n",
       "Category Name            5835\n",
       "Vendor Number               1\n",
       "Vendor Name                 1\n",
       "Item Number                 0\n",
       "Item Description            0\n",
       "Pack                        0\n",
       "Bottle Volume (ml)          0\n",
       "State Bottle Cost           0\n",
       "State Bottle Retail         0\n",
       "Bottles Sold                0\n",
       "Sale (Dollars)              0\n",
       "Volume Sold (Liters)        0\n",
       "Volume Sold (Gallons)       0\n",
       "Year                        0\n",
       "dtype: int64"
      ]
     },
     "execution_count": 49,
     "metadata": {},
     "output_type": "execute_result"
    }
   ],
   "source": [
    "ytest17.isna().sum()"
   ]
  },
  {
   "cell_type": "code",
   "execution_count": 23,
   "id": "58bb68fb",
   "metadata": {},
   "outputs": [
    {
     "data": {
      "text/plain": [
       "array([\"Hennessy Master Blender''s Selection\", \"Galliano L'Autentico\",\n",
       "       'Ezra Brooks Bourbon Cream', 'Jim Beam Black w/2 Glasses',\n",
       "       \"Tim Smith's Climax Fire #32\", 'Deep Eddy 750ml Vodka w/3-50mls',\n",
       "       'Jim Beam White w/2 Glasses', 'Koval Millet',\n",
       "       \"Broker's Gin Holiday w/1 Collins Glass\", 'Irish Mist Whiskey',\n",
       "       'Eagle Rare Single Barrel Buy the Barrel',\n",
       "       'Blue Chair Bay Banana Rum Cream',\n",
       "       'Figenza Mediterranean Fig Vodka', 'Crown Royal w/Glass & Coaster',\n",
       "       'Smirnoff Peppermint Twist',\n",
       "       'Bakon Vodka Sports Box Bloody Mary Kit',\n",
       "       'Gentleman Jack w/2 Glasses', 'Skyy Infusions Blood Orange',\n",
       "       \"Ole Smoky White Lightnin' Moonshine\",\n",
       "       'Jagermeister w/ Mobile Phone Wood Amplifier',\n",
       "       'Revel Stoke Spiced', 'Grapefruit Liqueur',\n",
       "       'Black Currant Liqueur Creme de Cassis',\n",
       "       'Irish Single Malt 14yr-Brother in Arms',\n",
       "       '5 year Irish Single Grain', 'New Amsterdam Peach',\n",
       "       'Laphroaig 25YR Cask Strength HA',\n",
       "       'Southern Comfort w/Cocktail Shaker',\n",
       "       'Caravella Limoncello w/Glass', \"Old St. Nick's Egg Nog\",\n",
       "       'Bacardi O', 'Dekuyper Cranberry Crush',\n",
       "       \"Jefferson's Reserve Groth Cask Finish\",\n",
       "       'Bains Cape Mountain Whiskey', 'Don Pancho Origenes 8YR Rum',\n",
       "       'Haymans Old Tom Gin', 'Burnetts Cherry Limeade',\n",
       "       \"Burnett's Ruby Red Grapefruit\", 'Di Amore Quattro Orange',\n",
       "       'Barbados Rum 100ml', 'Barbados Rum 1 Liter',\n",
       "       'Barbados Rum 200 ml', 'Barbados Rum 375ml', 'Barbados Rum 50ml',\n",
       "       'Barbados Rum 750ml', 'Great Glen 8 yr',\n",
       "       'Spanish Single Malt 100ml', 'Spanish Single Malt 1 Liter',\n",
       "       'Spanish Single Malt 375ml', 'Spanish Single Malt 50ml',\n",
       "       'Spanish Single Malt 750ml', 'Spanish Single Malt 200ml',\n",
       "       'Two Casks- Caol IIa & Speyburn Sherry',\n",
       "       'Red Stag Black Cherry Mini', 'Everclear 190prf', 'Avion Espresso',\n",
       "       'Black Saddle Bourbon', 'Cruzan Key Lime',\n",
       "       'Pikesville Rye 110prf HA', 'Hawkeye Bacon Vodka',\n",
       "       'Deep Eddy  Lemon Vodka', 'Glengoyne 15YR',\n",
       "       'Diplomatico Reserva Exclusiva', 'Grand Teton Vodka',\n",
       "       '\"Beefeater \"\"24\"\"\"', 'Athena Liq Ouzo Rum',\n",
       "       'Glenmorangie Bacalta HA', 'Bastille 1789', 'Titos Vodka',\n",
       "       'Dorda Double Chocolate Liqueur', '99 Whipped', 'Cutty Sark',\n",
       "       'Valentine Vodka', 'Ansac VS  Cognac', 'Fifty Pounds',\n",
       "       'Aalborg Jubilaeums Aquavit', 'Patron Silver 750 Box Tray Pack',\n",
       "       'Nux Alpina', \"Sammy's Beach Bar Rum\", '99 Watermelon Mini',\n",
       "       'Patron Citronge Mango', 'Caliche', 'Pina Colada',\n",
       "       'Lairds Old Apple Brandy 7YR', 'Green Absinthe', 'Red Absinthe',\n",
       "       'Marie Brizard Chocolat Royal', 'Chilled Dills Pickle Vodka',\n",
       "       'Disaronno Party Pack Sour VAP', 'Hiram Walker Coffee Brandy',\n",
       "       '99 Oranges Mini', '99 Grapes', '99 Oranges',\n",
       "       'Laphroaig Quarter Cask', 'Agave Loco', 'Deanston Organic 14YR',\n",
       "       'Calvados Morin Selection 3YR',\n",
       "       'Seven Devils Straight Bourbon Whiskey HA',\n",
       "       'Irish Single Malt 14yr- Brother in Arms', 'HA Seven Devils',\n",
       "       'Casamigos Anejo', 'Ri(1) Whiskey', 'Stolichnaya Hot',\n",
       "       'Cedar Ridge Reserve Bourbon', 'Koval Rye',\n",
       "       'Cedar Ridge American Whiskey Explorer Pack',\n",
       "       'Don Amado Mezcal Rustico', 'Kavalan Classic Single Malt Whiskey',\n",
       "       \"Travis Hasse's Cow Pie\", 'Old Medley 12YR', 'Pride of the Wapsi',\n",
       "       \"Maker's Mark Co-Pack\", 'Kahlua w/Absolut 50ml & Glass',\n",
       "       'Hennessy VS 750ml w/50ml VSOP', 'HA Michters US*1 Small Batch',\n",
       "       'Three Olives Vanilla', 'HA Orphan Barrel Barterhouse',\n",
       "       'HA Orphan Barrel Forged Oak', 'Rothman & Winter Orchard Pear',\n",
       "       'Rothman & Winter Orchard Peach', 'Ketel One Oranje',\n",
       "       'HA Abraham Bowman Wine Finish Whiskey', 'Yellowstone Select',\n",
       "       'Members Mark Silver Tequila',\n",
       "       'Jose Cuervo Gold w/1L Classic Margarita Mix',\n",
       "       'Pinnacle Chocolate Whipped', 'Smirnoff Sours Green Apple Mini',\n",
       "       'Don Q Limon', 'HA Highland Park Ice Edition',\n",
       "       'HA Pikesville Rye 110prf', 'Haymans Sloe Gin',\n",
       "       'Big Peach Liqueur',\n",
       "       'HA Johnnie Walker Private Collection 2014 Smoke',\n",
       "       'Piping Rock Peppermint Schnapps', 'Old Forester 1920',\n",
       "       'Jose Cuervo Especial Silver/Flask',\n",
       "       'Jose Cuervo Especial Gold /Flask', 'Ron Abuelo Anejo 7YR',\n",
       "       'Kavalan Concertmaster', 'Kauai Coconut Hawaiian Rum',\n",
       "       'Hennessy VS Flask', \"Aberlour A''bunadh\",\n",
       "       'El Mayor Extra Anejo 100% Agave', 'Calico Jack Pineapple',\n",
       "       \"Fulton's Harvest Pumpkin Liqueur\", 'Midnight Moon Raspberry',\n",
       "       'Evan Williams Kentucky Cider', 'Koval Oat', 'Burnetts Appleberry',\n",
       "       'Fireball Bag in Box', 'Captain Morgan Jack-O Blast Mini',\n",
       "       'Captain Morgan Jack-O Blast', 'Benromach 10YR',\n",
       "       'Baileys Pumpkin Spice Irish Cream',\n",
       "       'Baileys Pumpkin Spice Irish Cream Mini',\n",
       "       'Rondiaz Rum Spiced Black Cherry Mini',\n",
       "       \"Fulton's Harvest Apple Pie Liqueur\", 'Clix Vodka',\n",
       "       'Ezra Brooks Bourbon Cream Mini',\n",
       "       'Glenmorangie Original w/ Quinta Ruban & Lasanta',\n",
       "       'Smirnoff Peppermint Twist Mini', \"Michter's US*1 SB Rye\",\n",
       "       'Glen Moray Scotch Classic Port Cask w/2 Glasses',\n",
       "       'Di Amore Amaretto w/2 Glasses', 'Drambuie w/2 Glasses',\n",
       "       'Mr. Boston Holiday Nog', 'Gentleman Jack w/ Coaster Set',\n",
       "       \"Jack Daniel's TN Honey w/Flask\",\n",
       "       'HA Laphroaig 25YR Cask Strength', 'Ron Abuelo 12YR',\n",
       "       'Appleton Estate Reserve',\n",
       "       'Corralejo Reposado Tequila w/2 Sangrita Glasses',\n",
       "       'Templeton Rye w/2 Tumbler Glasses',\n",
       "       'Zaya Gran Reserva Rum w/2 Rocks Glasses',\n",
       "       'Jose Cuervo Silver w/1L Classic Margarita Mix',\n",
       "       'Corralejo Silver w/2 Sangrita Glasses',\n",
       "       'Southern Comfort w/2 Rock Glasses',\n",
       "       'Crystal Head Vodka w/2 Skull Glasses', 'Hornitos Plata w/Glasses',\n",
       "       'Woodford Reserve w/Glass', 'Sobieski w/2 Shot Glasses',\n",
       "       'Hornitos Reposado w/Glasses', 'Cedar Ridge Barrel Proof Bourbon',\n",
       "       'Kavalan King Car Conductor',\n",
       "       'Glen Moray Classic Chardonnay Cask Finish w/2 Glasses',\n",
       "       'Hennessy V.S.O.P Privilege w/2 Glasses', 'Double Cross Vodka',\n",
       "       'Deep Eddy'], dtype=object)"
      ]
     },
     "execution_count": 23,
     "metadata": {},
     "output_type": "execute_result"
    }
   ],
   "source": [
    "catid17=y17[y17['Category'].isna()]['Item Description'].unique()\n",
    "catid17"
   ]
  },
  {
   "cell_type": "code",
   "execution_count": 24,
   "id": "c5499532",
   "metadata": {},
   "outputs": [
    {
     "data": {
      "text/plain": [
       "array([\"Hennessy Master Blender''s Selection\", \"Galliano L'Autentico\",\n",
       "       'Ezra Brooks Bourbon Cream', 'Jim Beam Black w/2 Glasses',\n",
       "       \"Tim Smith's Climax Fire #32\", 'Deep Eddy 750ml Vodka w/3-50mls',\n",
       "       'Jim Beam White w/2 Glasses', 'Koval Millet',\n",
       "       \"Broker's Gin Holiday w/1 Collins Glass\", 'Irish Mist Whiskey',\n",
       "       'Eagle Rare Single Barrel Buy the Barrel',\n",
       "       'Blue Chair Bay Banana Rum Cream',\n",
       "       'Figenza Mediterranean Fig Vodka', 'Crown Royal w/Glass & Coaster',\n",
       "       'Smirnoff Peppermint Twist',\n",
       "       'Bakon Vodka Sports Box Bloody Mary Kit',\n",
       "       'Gentleman Jack w/2 Glasses', 'Skyy Infusions Blood Orange',\n",
       "       \"Ole Smoky White Lightnin' Moonshine\",\n",
       "       'Jagermeister w/ Mobile Phone Wood Amplifier',\n",
       "       'Revel Stoke Spiced', 'Grapefruit Liqueur',\n",
       "       'Black Currant Liqueur Creme de Cassis',\n",
       "       'Irish Single Malt 14yr-Brother in Arms',\n",
       "       '5 year Irish Single Grain', 'New Amsterdam Peach',\n",
       "       'Laphroaig 25YR Cask Strength HA',\n",
       "       'Southern Comfort w/Cocktail Shaker',\n",
       "       'Caravella Limoncello w/Glass', \"Old St. Nick's Egg Nog\",\n",
       "       'Bacardi O', 'Dekuyper Cranberry Crush',\n",
       "       \"Jefferson's Reserve Groth Cask Finish\",\n",
       "       'Bains Cape Mountain Whiskey', 'Don Pancho Origenes 8YR Rum',\n",
       "       'Haymans Old Tom Gin', 'Burnetts Cherry Limeade',\n",
       "       \"Burnett's Ruby Red Grapefruit\", 'Di Amore Quattro Orange',\n",
       "       'Barbados Rum 100ml', 'Barbados Rum 1 Liter',\n",
       "       'Barbados Rum 200 ml', 'Barbados Rum 375ml', 'Barbados Rum 50ml',\n",
       "       'Barbados Rum 750ml', 'Great Glen 8 yr',\n",
       "       'Spanish Single Malt 100ml', 'Spanish Single Malt 1 Liter',\n",
       "       'Spanish Single Malt 375ml', 'Spanish Single Malt 50ml',\n",
       "       'Spanish Single Malt 750ml', 'Spanish Single Malt 200ml',\n",
       "       'Two Casks- Caol IIa & Speyburn Sherry',\n",
       "       'Red Stag Black Cherry Mini', 'Everclear 190prf', 'Avion Espresso',\n",
       "       'Black Saddle Bourbon', 'Cruzan Key Lime',\n",
       "       'Pikesville Rye 110prf HA', 'Hawkeye Bacon Vodka',\n",
       "       'Deep Eddy  Lemon Vodka', 'Glengoyne 15YR',\n",
       "       'Diplomatico Reserva Exclusiva', 'Grand Teton Vodka',\n",
       "       '\"Beefeater \"\"24\"\"\"', 'Athena Liq Ouzo Rum',\n",
       "       'Glenmorangie Bacalta HA', 'Bastille 1789', 'Titos Vodka',\n",
       "       'Dorda Double Chocolate Liqueur', '99 Whipped', 'Cutty Sark',\n",
       "       'Valentine Vodka', 'Ansac VS  Cognac', 'Fifty Pounds',\n",
       "       'Aalborg Jubilaeums Aquavit', 'Patron Silver 750 Box Tray Pack',\n",
       "       'Nux Alpina', \"Sammy's Beach Bar Rum\", '99 Watermelon Mini',\n",
       "       'Patron Citronge Mango', 'Caliche', 'Pina Colada',\n",
       "       'Lairds Old Apple Brandy 7YR', 'Green Absinthe', 'Red Absinthe',\n",
       "       'Marie Brizard Chocolat Royal', 'Chilled Dills Pickle Vodka',\n",
       "       'Disaronno Party Pack Sour VAP', 'Hiram Walker Coffee Brandy',\n",
       "       '99 Oranges Mini', '99 Grapes', '99 Oranges',\n",
       "       'Laphroaig Quarter Cask', 'Agave Loco', 'Deanston Organic 14YR',\n",
       "       'Calvados Morin Selection 3YR',\n",
       "       'Seven Devils Straight Bourbon Whiskey HA',\n",
       "       'Irish Single Malt 14yr- Brother in Arms', 'HA Seven Devils',\n",
       "       'Casamigos Anejo', 'Ri(1) Whiskey', 'Stolichnaya Hot',\n",
       "       'Cedar Ridge Reserve Bourbon', 'Koval Rye',\n",
       "       'Cedar Ridge American Whiskey Explorer Pack',\n",
       "       'Don Amado Mezcal Rustico', 'Kavalan Classic Single Malt Whiskey',\n",
       "       \"Travis Hasse's Cow Pie\", 'Old Medley 12YR', 'Pride of the Wapsi',\n",
       "       \"Maker's Mark Co-Pack\", 'Kahlua w/Absolut 50ml & Glass',\n",
       "       'Hennessy VS 750ml w/50ml VSOP', 'HA Michters US*1 Small Batch',\n",
       "       'Three Olives Vanilla', 'HA Orphan Barrel Barterhouse',\n",
       "       'HA Orphan Barrel Forged Oak', 'Rothman & Winter Orchard Pear',\n",
       "       'Rothman & Winter Orchard Peach', 'Ketel One Oranje',\n",
       "       'HA Abraham Bowman Wine Finish Whiskey', 'Yellowstone Select',\n",
       "       'Members Mark Silver Tequila',\n",
       "       'Jose Cuervo Gold w/1L Classic Margarita Mix',\n",
       "       'Pinnacle Chocolate Whipped', 'Smirnoff Sours Green Apple Mini',\n",
       "       'Don Q Limon', 'HA Highland Park Ice Edition',\n",
       "       'HA Pikesville Rye 110prf', 'Haymans Sloe Gin',\n",
       "       'Big Peach Liqueur',\n",
       "       'HA Johnnie Walker Private Collection 2014 Smoke',\n",
       "       'Piping Rock Peppermint Schnapps', 'Old Forester 1920',\n",
       "       'Jose Cuervo Especial Silver/Flask',\n",
       "       'Jose Cuervo Especial Gold /Flask', 'Ron Abuelo Anejo 7YR',\n",
       "       'Kavalan Concertmaster', 'Kauai Coconut Hawaiian Rum',\n",
       "       'Hennessy VS Flask', \"Aberlour A''bunadh\",\n",
       "       'El Mayor Extra Anejo 100% Agave', 'Calico Jack Pineapple',\n",
       "       \"Fulton's Harvest Pumpkin Liqueur\", 'Midnight Moon Raspberry',\n",
       "       'Evan Williams Kentucky Cider', 'Koval Oat', 'Burnetts Appleberry',\n",
       "       'Fireball Bag in Box', 'Captain Morgan Jack-O Blast Mini',\n",
       "       'Captain Morgan Jack-O Blast', 'Benromach 10YR',\n",
       "       'Baileys Pumpkin Spice Irish Cream',\n",
       "       'Baileys Pumpkin Spice Irish Cream Mini',\n",
       "       'Rondiaz Rum Spiced Black Cherry Mini',\n",
       "       \"Fulton's Harvest Apple Pie Liqueur\", 'Clix Vodka',\n",
       "       'Ezra Brooks Bourbon Cream Mini',\n",
       "       'Glenmorangie Original w/ Quinta Ruban & Lasanta',\n",
       "       'Smirnoff Peppermint Twist Mini', \"Michter's US*1 SB Rye\",\n",
       "       'Glen Moray Scotch Classic Port Cask w/2 Glasses',\n",
       "       'Di Amore Amaretto w/2 Glasses', 'Drambuie w/2 Glasses',\n",
       "       'Mr. Boston Holiday Nog', 'Gentleman Jack w/ Coaster Set',\n",
       "       \"Jack Daniel's TN Honey w/Flask\",\n",
       "       'HA Laphroaig 25YR Cask Strength', 'Ron Abuelo 12YR',\n",
       "       'Appleton Estate Reserve',\n",
       "       'Corralejo Reposado Tequila w/2 Sangrita Glasses',\n",
       "       'Templeton Rye w/2 Tumbler Glasses',\n",
       "       'Zaya Gran Reserva Rum w/2 Rocks Glasses',\n",
       "       'Jose Cuervo Silver w/1L Classic Margarita Mix',\n",
       "       'Corralejo Silver w/2 Sangrita Glasses',\n",
       "       'Southern Comfort w/2 Rock Glasses',\n",
       "       'Crystal Head Vodka w/2 Skull Glasses', 'Hornitos Plata w/Glasses',\n",
       "       'Woodford Reserve w/Glass', 'Sobieski w/2 Shot Glasses',\n",
       "       'Hornitos Reposado w/Glasses', 'Cedar Ridge Barrel Proof Bourbon',\n",
       "       'Kavalan King Car Conductor',\n",
       "       'Glen Moray Classic Chardonnay Cask Finish w/2 Glasses',\n",
       "       'Hennessy V.S.O.P Privilege w/2 Glasses', 'Double Cross Vodka',\n",
       "       'Deep Eddy'], dtype=object)"
      ]
     },
     "execution_count": 24,
     "metadata": {},
     "output_type": "execute_result"
    }
   ],
   "source": [
    "catna17=y17[y17['Category Name'].isna()]['Item Description'].unique()\n",
    "catna17"
   ]
  },
  {
   "cell_type": "code",
   "execution_count": 61,
   "id": "f240a225",
   "metadata": {},
   "outputs": [
    {
     "name": "stdout",
     "output_type": "stream",
     "text": [
      "Temporary & Specialty Packages\n",
      "nan\n",
      "Holiday VAP\n",
      "DISTILLED SPIRITS SPECIALTY\n",
      "DECANTERS & SPECIALTY PACKAGES\n",
      "Holiday VAP\n",
      "BLENDED WHISKIES\n",
      "Holiday VAP\n",
      "MISC. IMPORTED CORDIALS & LIQUEURS\n",
      "SINGLE BARREL BOURBON WHISKIES\n",
      "Cream Liqueurs\n",
      "IMPORTED VODKA - MISC\n",
      "Holiday VAP\n",
      "VODKA FLAVORED\n",
      "Holiday VAP\n",
      "DECANTERS & SPECIALTY PACKAGES\n",
      "VODKA FLAVORED\n",
      "DISTILLED SPIRITS SPECIALTY\n",
      "Holiday VAP\n",
      "CANADIAN WHISKIES\n",
      "MISC. IMPORTED CORDIALS & LIQUEURS\n",
      "MISC. IMPORTED CORDIALS & LIQUEURS\n",
      "SINGLE MALT SCOTCH\n",
      "IRISH WHISKIES\n",
      "VODKA FLAVORED\n",
      "SCOTCH WHISKIES\n",
      "Whiskey Liqueur\n",
      "DECANTERS & SPECIALTY PACKAGES\n",
      "Holiday VAP\n",
      "FLAVORED RUM\n",
      "PEPPERMINT SCHNAPPS\n",
      "BLENDED WHISKIES\n",
      "IMPORTED DRY GINS\n",
      "VODKA FLAVORED\n",
      "VODKA FLAVORED\n",
      "DISTILLED SPIRITS SPECIALTY\n",
      "SCOTCH WHISKIES\n",
      "SCOTCH WHISKIES\n",
      "STRAIGHT BOURBON WHISKIES\n",
      "AMERICAN ALCOHOL\n",
      "DISTILLED SPIRITS SPECIALTY\n",
      "STRAIGHT BOURBON WHISKIES\n",
      "FLAVORED RUM\n",
      "STRAIGHT RYE WHISKIES\n",
      "VODKA FLAVORED\n",
      "SCOTCH WHISKIES\n",
      "BLENDED WHISKIES\n",
      "VODKA 80 PROOF\n",
      "MISCELLANEOUS SCHNAPPS\n",
      "SCOTCH WHISKIES\n",
      "IMPORTED DRY GINS\n",
      "MISC. IMPORTED CORDIALS & LIQUEURS\n",
      "PUERTO RICO & VIRGIN ISLANDS RUM\n",
      "WATERMELON SCHNAPPS\n",
      "PUERTO RICO & VIRGIN ISLANDS RUM\n",
      "MISC. IMPORTED CORDIALS & LIQUEURS\n",
      "DECANTERS & SPECIALTY PACKAGES\n",
      "COFFEE LIQUEURS\n",
      "SCOTCH WHISKIES\n",
      "nan\n",
      "SINGLE MALT SCOTCH\n",
      "TEQUILA\n",
      "STRAIGHT RYE WHISKIES\n",
      "IMPORTED VODKA - MISC\n",
      "STRAIGHT BOURBON WHISKIES\n",
      "BLENDED WHISKIES\n",
      "Iowa Distillery Whiskies\n",
      "SINGLE MALT SCOTCH\n",
      "MISC. AMERICAN CORDIALS & LIQUEURS\n",
      "VODKA FLAVORED\n",
      "DECANTERS & SPECIALTY PACKAGES\n",
      "Holiday VAP\n",
      "Holiday VAP\n",
      "IMPORTED VODKA - MISC\n",
      "MISC. IMPORTED CORDIALS & LIQUEURS\n",
      "nan\n",
      "IMPORTED VODKA - MISC\n",
      "STRAIGHT BOURBON WHISKIES\n",
      "nan\n",
      "DECANTERS & SPECIALTY PACKAGES\n",
      "nan\n",
      "FLAVORED RUM\n",
      "IMPORTED DRY GINS\n",
      "PEACH SCHNAPPS\n",
      "PEPPERMINT SCHNAPPS\n",
      "nan\n",
      "SINGLE MALT SCOTCH\n",
      "DECANTERS & SPECIALTY PACKAGES\n",
      "nan\n",
      "FLAVORED RUM\n",
      "Cream Liqueurs\n",
      "DISTILLED SPIRITS SPECIALTY\n",
      "DECANTERS & SPECIALTY PACKAGES\n",
      "VODKA FLAVORED\n",
      "Canadian Whiskies\n",
      "Flavored Rum\n",
      "Flavored Rum\n",
      "Cream Liqueurs\n",
      "Cream Liqueurs\n",
      "nan\n",
      "Cream Liqueurs\n",
      "Scotch Whiskies\n",
      "VODKA FLAVORED\n",
      "nan\n",
      "Holiday VAP\n",
      "Holiday VAP\n",
      "DECANTERS & SPECIALTY PACKAGES\n",
      "nan\n",
      "Straight Rye Whiskies\n",
      "DECANTERS & SPECIALTY PACKAGES\n",
      "nan\n",
      "SINGLE MALT SCOTCH\n",
      "Holiday VAP\n",
      "IMPORTED VODKA\n",
      "VODKA 80 PROOF\n"
     ]
    }
   ],
   "source": [
    "pd.set_option('display.max_rows',300)\n",
    "for i in catna17:\n",
    "    idlist=y16[y16['Item Description']==i]['Category Name'].unique()\n",
    "    if (len(idlist)>0):\n",
    "        if(idlist[0]!='nan'):\n",
    "            print(idlist[0])"
   ]
  },
  {
   "cell_type": "code",
   "execution_count": null,
   "id": "d72527e3",
   "metadata": {},
   "outputs": [],
   "source": [
    "pd.set_option('display.max_rows',300)"
   ]
  },
  {
   "cell_type": "code",
   "execution_count": 70,
   "id": "5169d0b7",
   "metadata": {},
   "outputs": [],
   "source": [
    "def category_name2(x,y):\n",
    "    for i in catna17:\n",
    "        idlist=y16[y16['Item Description']==i]['Category Name'].unique()\n",
    "        if len(idlist)>1:\n",
    "            return idlist[0]"
   ]
  },
  {
   "cell_type": "code",
   "execution_count": 93,
   "id": "7ac42f44",
   "metadata": {},
   "outputs": [
    {
     "data": {
      "text/plain": [
       "[5259,\n",
       " 4482,\n",
       " 5107,\n",
       " 5070,\n",
       " 5242,\n",
       " 5197,\n",
       " 5340,\n",
       " 5088,\n",
       " 5235,\n",
       " 5185,\n",
       " 5248,\n",
       " 2641,\n",
       " 5169,\n",
       " 5307,\n",
       " 5305,\n",
       " 4478,\n",
       " 4983,\n",
       " 4416,\n",
       " 5167,\n",
       " 5388,\n",
       " 4319,\n",
       " 9932,\n",
       " 9911,\n",
       " 5230,\n",
       " 2556,\n",
       " 3822,\n",
       " 4378]"
      ]
     },
     "execution_count": 93,
     "metadata": {},
     "output_type": "execute_result"
    }
   ],
   "source": [
    "snumna=list(y17[y17['Address'].isna()]['Store Number'].unique())\n",
    "snumna"
   ]
  },
  {
   "cell_type": "code",
   "execution_count": 83,
   "id": "0ea7d1bb",
   "metadata": {},
   "outputs": [
    {
     "data": {
      "text/plain": [
       "5259"
      ]
     },
     "execution_count": 83,
     "metadata": {},
     "output_type": "execute_result"
    }
   ],
   "source": [
    "snumna[0]"
   ]
  },
  {
   "cell_type": "code",
   "execution_count": 92,
   "id": "c2920bde",
   "metadata": {},
   "outputs": [
    {
     "data": {
      "text/plain": [
       "[nan, '924 Locust St']"
      ]
     },
     "execution_count": 92,
     "metadata": {},
     "output_type": "execute_result"
    }
   ],
   "source": [
    "slist=list(y17[y17['Store Number']==snumna[0]]['Address'].unique())\n",
    "slist"
   ]
  },
  {
   "cell_type": "code",
   "execution_count": 89,
   "id": "0361b7d2",
   "metadata": {},
   "outputs": [
    {
     "data": {
      "text/plain": [
       "4"
      ]
     },
     "execution_count": 89,
     "metadata": {},
     "output_type": "execute_result"
    }
   ],
   "source": [
    "idk=[1,2,3,4]\n",
    "len(idk)"
   ]
  },
  {
   "cell_type": "code",
   "execution_count": null,
   "id": "2ad56050",
   "metadata": {},
   "outputs": [],
   "source": [
    "sndict={}\n",
    "for i in snumna:\n",
    "    slist=list(y17[y17['Store Number']==i]['Address'].unique())\n",
    "    for j in slist:\n",
    "        if pd.notna(j):\n",
    "            Store_Num = j"
   ]
  },
  {
   "cell_type": "code",
   "execution_count": 130,
   "id": "169a63ed",
   "metadata": {},
   "outputs": [],
   "source": [
    "storedf=y17[['Store Number','Address']]"
   ]
  },
  {
   "cell_type": "code",
   "execution_count": 163,
   "id": "46f42086",
   "metadata": {},
   "outputs": [
    {
     "data": {
      "text/plain": [
       "Store Number    0\n",
       "Address         0\n",
       "dtype: int64"
      ]
     },
     "execution_count": 163,
     "metadata": {},
     "output_type": "execute_result"
    }
   ],
   "source": [
    "storedf.isna().sum()"
   ]
  },
  {
   "cell_type": "code",
   "execution_count": 124,
   "id": "81aecf25",
   "metadata": {},
   "outputs": [
    {
     "data": {
      "text/html": [
       "<div>\n",
       "<style scoped>\n",
       "    .dataframe tbody tr th:only-of-type {\n",
       "        vertical-align: middle;\n",
       "    }\n",
       "\n",
       "    .dataframe tbody tr th {\n",
       "        vertical-align: top;\n",
       "    }\n",
       "\n",
       "    .dataframe thead th {\n",
       "        text-align: right;\n",
       "    }\n",
       "</style>\n",
       "<table border=\"1\" class=\"dataframe\">\n",
       "  <thead>\n",
       "    <tr style=\"text-align: right;\">\n",
       "      <th></th>\n",
       "      <th>Store Number</th>\n",
       "      <th>Address</th>\n",
       "    </tr>\n",
       "  </thead>\n",
       "  <tbody>\n",
       "    <tr>\n",
       "      <th>0</th>\n",
       "      <td>5259</td>\n",
       "      <td>924 Locust St</td>\n",
       "    </tr>\n",
       "    <tr>\n",
       "      <th>1</th>\n",
       "      <td>5259</td>\n",
       "      <td>924 Locust St</td>\n",
       "    </tr>\n",
       "    <tr>\n",
       "      <th>2</th>\n",
       "      <td>5259</td>\n",
       "      <td>924 Locust St</td>\n",
       "    </tr>\n",
       "    <tr>\n",
       "      <th>3</th>\n",
       "      <td>5259</td>\n",
       "      <td>924 Locust St</td>\n",
       "    </tr>\n",
       "    <tr>\n",
       "      <th>4</th>\n",
       "      <td>5259</td>\n",
       "      <td>924 Locust St</td>\n",
       "    </tr>\n",
       "  </tbody>\n",
       "</table>\n",
       "</div>"
      ],
      "text/plain": [
       "   Store Number        Address\n",
       "0          5259  924 Locust St\n",
       "1          5259  924 Locust St\n",
       "2          5259  924 Locust St\n",
       "3          5259  924 Locust St\n",
       "4          5259  924 Locust St"
      ]
     },
     "execution_count": 124,
     "metadata": {},
     "output_type": "execute_result"
    }
   ],
   "source": [
    "storedf.head()"
   ]
  },
  {
   "cell_type": "code",
   "execution_count": 131,
   "id": "4efda5d0",
   "metadata": {},
   "outputs": [
    {
     "data": {
      "text/plain": [
       "1883097"
      ]
     },
     "execution_count": 131,
     "metadata": {},
     "output_type": "execute_result"
    }
   ],
   "source": [
    "len(storedf)"
   ]
  },
  {
   "cell_type": "code",
   "execution_count": 133,
   "id": "6a8b939b",
   "metadata": {},
   "outputs": [
    {
     "data": {
      "text/plain": [
       "1883097"
      ]
     },
     "execution_count": 133,
     "metadata": {},
     "output_type": "execute_result"
    }
   ],
   "source": [
    "len(y17)"
   ]
  },
  {
   "cell_type": "code",
   "execution_count": 134,
   "id": "bf320641",
   "metadata": {},
   "outputs": [],
   "source": [
    "storedf=storedf[storedf['Address'].notna()]"
   ]
  },
  {
   "cell_type": "code",
   "execution_count": 135,
   "id": "f4580859",
   "metadata": {},
   "outputs": [
    {
     "data": {
      "text/plain": [
       "1881686"
      ]
     },
     "execution_count": 135,
     "metadata": {},
     "output_type": "execute_result"
    }
   ],
   "source": [
    "len(storedf)"
   ]
  },
  {
   "cell_type": "code",
   "execution_count": 136,
   "id": "6f5273ea",
   "metadata": {},
   "outputs": [
    {
     "data": {
      "text/plain": [
       "1411"
      ]
     },
     "execution_count": 136,
     "metadata": {},
     "output_type": "execute_result"
    }
   ],
   "source": [
    "1883097-1881686"
   ]
  },
  {
   "cell_type": "code",
   "execution_count": 139,
   "id": "6059bbb0",
   "metadata": {},
   "outputs": [],
   "source": [
    "storedf.drop_duplicates(subset=['Store Number'],inplace=True)"
   ]
  },
  {
   "cell_type": "code",
   "execution_count": 140,
   "id": "6a35c808",
   "metadata": {},
   "outputs": [
    {
     "data": {
      "text/plain": [
       "1493"
      ]
     },
     "execution_count": 140,
     "metadata": {},
     "output_type": "execute_result"
    }
   ],
   "source": [
    "len(storedf)"
   ]
  },
  {
   "cell_type": "code",
   "execution_count": 149,
   "id": "f2564368",
   "metadata": {},
   "outputs": [],
   "source": [
    "storedict={}\n",
    "for i in storedf['Store Number']:\n",
    "    storedict[i]=storedf[storedf['Store Number']==i]['Address'].values[0]"
   ]
  },
  {
   "cell_type": "code",
   "execution_count": 148,
   "id": "29c9e989",
   "metadata": {},
   "outputs": [
    {
     "data": {
      "text/plain": [
       "'2411 S 24TH ST #1'"
      ]
     },
     "execution_count": 148,
     "metadata": {},
     "output_type": "execute_result"
    }
   ],
   "source": [
    "storedf[storedf['Store Number']==4312]['Address'].values[0]"
   ]
  },
  {
   "cell_type": "code",
   "execution_count": 177,
   "id": "e8d5a127",
   "metadata": {},
   "outputs": [],
   "source": [
    "ytest17=y17"
   ]
  },
  {
   "cell_type": "code",
   "execution_count": 162,
   "id": "fdd0ca5f",
   "metadata": {},
   "outputs": [
    {
     "data": {
      "text/plain": [
       "array([nan], dtype=object)"
      ]
     },
     "execution_count": 162,
     "metadata": {},
     "output_type": "execute_result"
    }
   ],
   "source": [
    "ytest17[ytest17['Store Number']==9932]['Address'].unique()"
   ]
  },
  {
   "cell_type": "code",
   "execution_count": 150,
   "id": "8e007ea6",
   "metadata": {},
   "outputs": [
    {
     "data": {
      "text/plain": [
       "{4312: '2411 S 24TH ST #1',\n",
       " 5244: '708 2nd  AVE  SE',\n",
       " 4829: '1501 Michigan Ave',\n",
       " 4361: '4575 NW 2nd',\n",
       " 2478: 'One Prairie Meadows Drive',\n",
       " 4819: '2635 Adventureland Dr',\n",
       " 3644: '3501  8th St SW',\n",
       " 3870: '3414 8th St SW',\n",
       " 5057: '4960 E Broadway Ave',\n",
       " 2532: '2540 E Euclid',\n",
       " 5318: '2839 East University Ave',\n",
       " 4799: '2930 E University Ave',\n",
       " 2636: '2310 Hubbell Ave',\n",
       " 3696: '5101 SE 14th St',\n",
       " 4622: '3941, SE 14th St',\n",
       " 3651: '1500 North Jefferson',\n",
       " 4684: '1201 N Jefferson',\n",
       " 2448: '705 E. SECOND',\n",
       " 5359: '8400 NICC Drive',\n",
       " 2549: '910 N Jefferson',\n",
       " 2527: '1107 SE Army Post Rd',\n",
       " 4617: '2501 HUBBELL AVE',\n",
       " 5313: '2424 SW 9th St # 1',\n",
       " 2536: '4815 Maple Drive',\n",
       " 3816: '200 E Oak St',\n",
       " 9013: '4349 Cumming Ave.',\n",
       " 9913: '4349 Cumming Ave.',\n",
       " 3618: '3601 29th Ave SW',\n",
       " 2509: '1520 6th St SW',\n",
       " 4845: '216, 3rd St SE',\n",
       " 5142: '2315, Mt Vernon Rd SE',\n",
       " 2588: '4035 Mt Vernon Rd SE',\n",
       " 2590: '3235 Oakland Road NE',\n",
       " 4487: '1661 32nd St NE',\n",
       " 4636: '2904 Center Point Rd NE',\n",
       " 3385: '2605 Blairs Ferry Rd NE',\n",
       " 3628: '2645 Blairs Ferry Rd NE',\n",
       " 2647: '5050 Edgewood Rd',\n",
       " 4154: '885 Miller Rd',\n",
       " 2605: '2001 Blairs Ferry Road NE',\n",
       " 4624: '300 E Blairs Ferry Rd',\n",
       " 5097: '3717 1st Ave SE',\n",
       " 4687: '3132 1st Ave NE',\n",
       " 4771: '502, E Ave NW',\n",
       " 5214: '550 Wilson Ave SW',\n",
       " 2622: '1125 N Dodge St',\n",
       " 2627: '3424 Martin Luther King Jr Pkw',\n",
       " 4677: '2900 Heartland Dr',\n",
       " 2285: '401 East Market St',\n",
       " 4161: '2530 Westwinds Dr',\n",
       " 5286: '108, College',\n",
       " 5060: '504, E Burlington St',\n",
       " 5014: '22 S Van Buren St',\n",
       " 3896: '1901 Broadway St',\n",
       " 5111: '2601 Hwy 6 East',\n",
       " 4160: '2765 Commerce Dr',\n",
       " 2513: '812  S 1st Ave',\n",
       " 4728: '2214 Muscatine Ave',\n",
       " 2844: '2425 Muscatine Ave',\n",
       " 2545: '310 N 1st St',\n",
       " 4697: '601 Hollywood Blvd',\n",
       " 3980: '919 Hwy 1 West',\n",
       " 4844: '2580, Naples Ave',\n",
       " 3926: '315 S Gilbert St',\n",
       " 5224: '517 2nd St',\n",
       " 4134: '105 W Monroe St',\n",
       " 3849: '711  16th Ave SE',\n",
       " 2624: '2395 NW Arterial Rd',\n",
       " 3944: '4400 Asbury Rd',\n",
       " 3632: '4200 Dodge St',\n",
       " 2524: '3500 Dodge St',\n",
       " 4106: '2255 John F Kennedy Rd',\n",
       " 4334: '2050 John F Kennedy Rd',\n",
       " 2413: '1691 Asbury Road',\n",
       " 3959: '1600 University Ave',\n",
       " 5258: '535, Hill Street',\n",
       " 3841: '157 Locust St',\n",
       " 4167: '1256 Iowa St',\n",
       " 3774: '1800 Elm St',\n",
       " 4712: '345 E 20th St',\n",
       " 5042: '1101 Rhomberg Ave',\n",
       " 3738: '2225 Central Ave',\n",
       " 4535: '4003 Peru Rd',\n",
       " 2649: '400 Locust St',\n",
       " 3495: '228 N Main St',\n",
       " 4252: '433 N Farley St',\n",
       " 4137: '200 SE Laurel St',\n",
       " 4299: '9 Waterhouse Ave',\n",
       " 2666: '2510 SW State St',\n",
       " 4136: '351 Gateway Dr',\n",
       " 9911: '501 7th ave SE',\n",
       " 4599: '3700 Hubbell Ave',\n",
       " 3625: '1002 SE National Dr',\n",
       " 5124: '5440 NW  86th St',\n",
       " 4131: '8450 Meredith Dr',\n",
       " 3691: '11148 Plum Dr',\n",
       " 4449: '12041 Douglas Pkwy',\n",
       " 4450: '4585 156th St',\n",
       " 2665: '1005 E Hickman Rd',\n",
       " 3943: '519 Lincolnway',\n",
       " 4378: '85  4th St',\n",
       " 4384: '409 Nile Kinnick Dr',\n",
       " 4623: '700 Debra Dr',\n",
       " 5092: '7265 Vista Dr',\n",
       " 2619: '1725  74th St',\n",
       " 2200: '619 E Main St',\n",
       " 4098: '2485 Hwy 92',\n",
       " 4021: '2701 W Burlington Ave',\n",
       " 3811: '300 North Park Dr',\n",
       " 3562: '324 West Agency Rd',\n",
       " 3790: '1045 N Grand Ave',\n",
       " 2552: '20 Wilson Avenue West',\n",
       " 4492: '3625 Edgewood Rd SW',\n",
       " 3666: '3400 Edgewood Rd SW',\n",
       " 4956: '4920, Johnson Ave NW',\n",
       " 4788: '324 Edgewood Rd NW',\n",
       " 3912: '225 Edgewood Rd',\n",
       " 5176: '455, Edgewood Rd NW',\n",
       " 4443: '1204 1st St',\n",
       " 4895: '5427 Center Point Rd NE',\n",
       " 4634: '4201, Center Point Rd NE',\n",
       " 5230: '4107, Center Point Rd NE',\n",
       " 2843: '4116 Center Pointe Rd',\n",
       " 5254: '2933 1st Ave SE',\n",
       " 4496: '2824, 1st Ave NE',\n",
       " 4660: '1904, Mt Vernon Rd SE',\n",
       " 4637: '3301 J St',\n",
       " 4566: '30 Four Oaks Dr SW',\n",
       " 3822: '1205 Curtis Br Rd NE',\n",
       " 3663: '1334 Flammang Dr',\n",
       " 3889: '700  29 St SW',\n",
       " 3859: '302 Enterprise Dr SW',\n",
       " 4019: '1220 West Main',\n",
       " 2113: '1119 Market St. Box 71',\n",
       " 5141: '1131, Market St',\n",
       " 4998: '820 E Main St',\n",
       " 5010: '106 S 16th St',\n",
       " 4118: '502 5th Street',\n",
       " 4116: '223 Main St',\n",
       " 5354: '129 Center Street',\n",
       " 5151: '500, Hwy 175',\n",
       " 5004: '200 Susan Lawrence Dr',\n",
       " 4097: '108  2nd St',\n",
       " 3932: '311 Main St',\n",
       " 5228: '101, W Main St',\n",
       " 5274: '101 Main St',\n",
       " 3650: '118 South Main St.',\n",
       " 5140: '114, S  2nd  St',\n",
       " 3989: '300 E Main St',\n",
       " 4310: '205 West Bluff St',\n",
       " 2597: '1300 N. Second',\n",
       " 3749: '1831 Lake Ave NW',\n",
       " 2576: '1250 N Lake St',\n",
       " 3635: '302 West Walnut St',\n",
       " 5067: '1101, N  Lake Ave',\n",
       " 5028: '1100, E 5th St',\n",
       " 4163: '731 Seneca St',\n",
       " 5326: '215 W. Milwaukee Ave',\n",
       " 3855: '1201 1/2 Lakeshore Dr',\n",
       " 3876: '1101 MAIN ST PO BOX 535',\n",
       " 4324: '22 North Main',\n",
       " 4831: '320, W Mamie Eisenhower Ave',\n",
       " 2505: '1111  8TH ST',\n",
       " 4935: '1117 E 4th St',\n",
       " 4408: '315 Story St',\n",
       " 4409: '1704 S Story St',\n",
       " 4023: '1515 SE Marshall St',\n",
       " 4107: '1711 Hawkeye Dr',\n",
       " 3769: '525 Brandilynn Blvd',\n",
       " 2572: '6301 University',\n",
       " 3868: '5491 Business Hwy 151',\n",
       " 4902: '821 Broadway St',\n",
       " 2571: '2181 Logan Ave',\n",
       " 4900: '515 Broadway St',\n",
       " 4648: '508 Broadway St',\n",
       " 5063: '735, Logan Ave',\n",
       " 4077: '428 Franklin St',\n",
       " 4647: '1615 Bishop Ave',\n",
       " 5113: '1975 Franklin St',\n",
       " 4502: '2100, Lafayette St',\n",
       " 5243: '1309, Lafayette St',\n",
       " 4265: '1104 Washington St',\n",
       " 5043: '919 W 5th St',\n",
       " 3993: '1625 West 4th St',\n",
       " 5174: '437, Sullivan Ave',\n",
       " 4512: '2332, Falls Ave',\n",
       " 4642: '2844 University Ave',\n",
       " 3773: '501 7th Ave SE',\n",
       " 5236: '600 W Main St',\n",
       " 3934: '103 E Carlisle',\n",
       " 3563: '3003 North Hwy 61',\n",
       " 2633: '3221 SE 14th St',\n",
       " 2564: '4000 University',\n",
       " 4511: '303 SE 30th St',\n",
       " 4068: '136  1ST ST',\n",
       " 5169: '5120, NE 14th Street',\n",
       " 3909: '104 SE  A St',\n",
       " 2551: '2001 West Court',\n",
       " 5059: '207 Front St',\n",
       " 2669: '103, E Jackson St',\n",
       " 4027: '23148 Hwy 5',\n",
       " 4271: '305 S 18th St',\n",
       " 2523: '414 N 18th St',\n",
       " 3013: '207 E Locust St',\n",
       " 4046: '113 W Vanburen',\n",
       " 2559: '301 Hwy. 34 West',\n",
       " 4011: '121 North Clinton',\n",
       " 4789: '419 Merrill St',\n",
       " 4817: '1201, E Main St',\n",
       " 3818: '703 W Pleasant St',\n",
       " 2566: '813 N Lincoln Ste 1',\n",
       " 4275: '1308 S Lincoln St',\n",
       " 5080: '719 2nd Ave W',\n",
       " 3660: '814 W Bell Ave',\n",
       " 5050: '1115, Bluestem Dr',\n",
       " 2190: '1460 2ND AVE',\n",
       " 5309: '1443 2nd Ave',\n",
       " 3783: '14 1/2 E Elm',\n",
       " 3626: '500  11th St',\n",
       " 4234: '104 E Eighth St',\n",
       " 2565: '819 N Grand Ave',\n",
       " 3390: '1610 Okoboji Avenue',\n",
       " 5068: '612 S Highway 71',\n",
       " 5293: '228, N Hwy 71',\n",
       " 5104: '72, N Okoboji Grove Rd',\n",
       " 2233: '2508 Enterprise Ave',\n",
       " 3622: '2600 Hwy 71',\n",
       " 2522: 'Hwy 9 & 71',\n",
       " 4239: '1906 Keokuk',\n",
       " 4387: '300 18th St',\n",
       " 4582: '2402, 17th St',\n",
       " 5154: '201, Market St',\n",
       " 4272: '1108 Central Ave',\n",
       " 2556: '2608 E. Central Avenue',\n",
       " 4269: '610 Cedar St',\n",
       " 4783: '2406 Main St',\n",
       " 3704: '1122 Broadway',\n",
       " 4254: '2008  12th St',\n",
       " 4592: '2401, Main',\n",
       " 2445: '504 South Highway',\n",
       " 2512: '1720 Waterfront Dr',\n",
       " 4013: '1126 Highway 38 North',\n",
       " 5329: '2293 Hwy 30',\n",
       " 5106: '622 10th  St',\n",
       " 5298: '630, 6th Ave',\n",
       " 3920: '1606 Camanche Ave',\n",
       " 2616: '901 South 4th St',\n",
       " 5227: '320, N  4th St',\n",
       " 2806: '1307 N Second',\n",
       " 4204: '1350 11th St NW',\n",
       " 4864: '1641 S Bluff Blvd',\n",
       " 3647: '2715 South 25th St',\n",
       " 4132: '908 7th Ave',\n",
       " 2475: '206 2nd Ave NE',\n",
       " 3732: '425 E Leclaire Rd',\n",
       " 3845: '210 North Hwy',\n",
       " 3592: '3036 1st Ave South',\n",
       " 2562: '115 South 29th St',\n",
       " 2663: '8701 Douglas',\n",
       " 5237: '606, N 15th St',\n",
       " 2644: '1511 2nd Ave North',\n",
       " 4311: '1231  1st Ave S',\n",
       " 5238: '1923, 5th  Ave  S',\n",
       " 5167: '1724, 5th  Ave S',\n",
       " 4805: '902 1st Ave N',\n",
       " 4319: '710 First Ave N',\n",
       " 2606: '1011  13th St North',\n",
       " 3524: '305 Airport Rd',\n",
       " 5005: '410 W Main St',\n",
       " 4542: '520 W Main St',\n",
       " 4527: '105 SE First St',\n",
       " 4757: '1111 SE Lincoln St',\n",
       " 4103: '3619 Stange Rd',\n",
       " 4940: '301 WATER ST',\n",
       " 5279: '3020 Duff Ave',\n",
       " 4428: '4510 Mortensen Rd',\n",
       " 4437: '4506 Lincoln Way',\n",
       " 2500: '3800 W Lincoln Way',\n",
       " 2501: '640 Lincolnway',\n",
       " 4129: '626 Lincoln Way',\n",
       " 2609: '500 Main St',\n",
       " 4438: '111 Duff Ave',\n",
       " 3866: '320 S Duff',\n",
       " 4004: '534 S Duff Ave',\n",
       " 4674: '2108 ISAAC NEWTON DR',\n",
       " 4105: '1505 South B Ave',\n",
       " 5000: '1800 South B Ave',\n",
       " 5135: '911 Hwy 69',\n",
       " 3952: '3780 State St',\n",
       " 4453: '1116, Hwy 69 South',\n",
       " 3772: '2127 M L KING JR PKWY',\n",
       " 4448: '4860 NW Urbandale Dr',\n",
       " 5250: '3804 Hubbell Ave',\n",
       " 2625: '3301 W Kimberly Rd',\n",
       " 3776: '3101 West Kimberly Rd',\n",
       " 2603: '2890 Devils Glen Road',\n",
       " 4192: '3800 Belmont Rd',\n",
       " 5013: '3715 State St',\n",
       " 5335: '1810 State Street',\n",
       " 4717: '3425 Middle Rd',\n",
       " 2840: '2002 Spruce Hills Dr',\n",
       " 3715: '1714 E Kimberly Rd',\n",
       " 2614: '1823 E Kimberly Rd',\n",
       " 4630: '2923 Brady St',\n",
       " 4640: '3527, Spring St',\n",
       " 4652: '3107, Brady St',\n",
       " 5319: '1802 W 7th St',\n",
       " 3853: '3108 West Central Park Ave #2',\n",
       " 2637: '2351 W Locust',\n",
       " 5257: '405, Madison Ave',\n",
       " 5003: '2604 W Locust St',\n",
       " 2502: '410 North Ankeny Blvd',\n",
       " 3723: '1023  9th St',\n",
       " 4971: '5500, E University Ave',\n",
       " 4433: '5970 Morning Star Ct',\n",
       " 3949: '1650 Washington St',\n",
       " 2642: '512 E Oskaloosa',\n",
       " 3990: '309 A Ave West',\n",
       " 3735: '1202 A Ave East',\n",
       " 4300: '311  3rd Ave W',\n",
       " 4821: '901 S Market St',\n",
       " 2596: '2453 North Court',\n",
       " 3726: '1940 Venture Dr',\n",
       " 2543: '1025 North Quincy Ave',\n",
       " 4069: '1325 Albia Rd',\n",
       " 3916: '1115 Albia Rd',\n",
       " 5300: '534 Church St',\n",
       " 2611: '1140 North Jefferson St',\n",
       " 2548: '100 8th Street SW',\n",
       " 2238: '3200 Adventureland Dr',\n",
       " 2594: '4500 Sergeant Road',\n",
       " 5348: '806 W Main St.',\n",
       " 4202: '4267 Sergeant Rd',\n",
       " 3879: '5775 Sunnybrook Dr',\n",
       " 5351: '1203 5th St.',\n",
       " 4879: '4218 MORNINGSIDE AVE',\n",
       " 4884: '4523, Morningside Ave',\n",
       " 4565: '1925 S Lakeport St',\n",
       " 2621: '3301 Gordon Dr',\n",
       " 3808: '300  4th St',\n",
       " 3869: '412  1st Ave',\n",
       " 4452: '2825 Gordon Dr',\n",
       " 2623: '2827 Hamilton Blvd',\n",
       " 3820: '507 W 19th St',\n",
       " 4975: '1900 Hamilton Blvd',\n",
       " 4588: '923 W 7TH ST',\n",
       " 4558: '1373 Pierce St',\n",
       " 2667: '2611 Pierce St',\n",
       " 4200: '4016 Indian Hills Dr',\n",
       " 4568: '4103 Floyd Blvd',\n",
       " 3757: '3101 Floyd Blvd',\n",
       " 5086: '2501, Floyd Blvd',\n",
       " 3447: '4201 S. York St.',\n",
       " 3722: '3400 Singing Hills Blvd',\n",
       " 4201: '4040 War Eagle Dr',\n",
       " 5027: '111 3rd St',\n",
       " 4676: '711 Gordon Dr',\n",
       " 4197: '700  1st St',\n",
       " 4888: '302 1st St',\n",
       " 4444: '1864 Hwy 141',\n",
       " 5264: '309, Center Ave',\n",
       " 3942: '104 Highway 30 West',\n",
       " 4195: '1005 S County Line Rd',\n",
       " 4025: '702 13th St',\n",
       " 4070: '708  13th St',\n",
       " 5268: '188, Parkridge Rd',\n",
       " 2618: '505 Boyson Rd NE',\n",
       " 3417: 'Po Box 261  310 W Dillon',\n",
       " 4439: '800 Ford Lane',\n",
       " 4346: '105 Pearl St',\n",
       " 5292: '814, C Ave',\n",
       " 4228: '501 A Ave',\n",
       " 4298: '305 Crisman St',\n",
       " 5202: '115, 25th  Ave',\n",
       " 4978: '3535 Marigold Dr',\n",
       " 4557: '420 Second St',\n",
       " 5323: '320 2nd St',\n",
       " 5284: '122, Front St.',\n",
       " 3873: '1441 Coral Ridge Ave',\n",
       " 2670: '2004 8th  St',\n",
       " 5009: '1101 2ND ST',\n",
       " 4157: '615 Westwood Dr   P.o Box 96',\n",
       " 3928: '465 Hwy 965 Unit G',\n",
       " 5105: '585 HIGHWAY 965',\n",
       " 2508: '1843 Johnson Avenue, N.W.',\n",
       " 5222: '1500, 1st  Ave NE',\n",
       " 2568: '1556 First Avenue NE',\n",
       " 5356: '1532 Ellis Blvd NW',\n",
       " 3890: '904  1st Ave NW',\n",
       " 5073: '2601, Williams Blvd SW',\n",
       " 2846: '3419 16th Ave SW',\n",
       " 4162: '4220  16th Ave SW',\n",
       " 5190: '200 Hwy 151 E',\n",
       " 4393: '1725 NW 86th St',\n",
       " 5339: '395 Western Avenue',\n",
       " 5150: '901, 3rd  St',\n",
       " 3629: '3200 Manawa Dr',\n",
       " 5360: '1610 Rockingham Rd',\n",
       " 3762: '7690 Hickman Rd',\n",
       " 4773: '2704 Vine St',\n",
       " 9906: '2515 Dean Avenue',\n",
       " 4849: '801, University Ave',\n",
       " 5102: '724 1st  St  SE',\n",
       " 2626: '4100 University Ave',\n",
       " 2635: '4064 E 53rd St',\n",
       " 3731: '5811 Elmore Ave',\n",
       " 3354: '3845 Elmore Ave.',\n",
       " 2838: '1655 W Kimberly Rd',\n",
       " 4751: '1720 W Kimberly Rd',\n",
       " 4694: '3815, West Kimberly Rd',\n",
       " 2567: '2200 West Kimberly',\n",
       " 4638: '4607 N Pine St',\n",
       " 3858: '6723 NW Blvd Unit 2',\n",
       " 5215: '1220, N Cody Rd',\n",
       " 4196: '1635 West 53rd St',\n",
       " 5029: '211, W 53rd St',\n",
       " 4847: '1301 Eagle Ridge Rd',\n",
       " 3420: '1101  73RD STREET',\n",
       " 3645: '1001  73rd St',\n",
       " 4461: '7220 Hickman Rd',\n",
       " 4388: '11925 University Ave',\n",
       " 2854: '14201 Hickman Rd',\n",
       " 4392: '15600 Hickman Rd',\n",
       " 4732: '15601 Hickman Rd',\n",
       " 4733: '4600 86th St',\n",
       " 4661: '1900, SE 37th St',\n",
       " 4374: '1950 Princeton Dr',\n",
       " 4209: '2150 East 1st St',\n",
       " 4375: '801 N 1st St',\n",
       " 4344: '109 East 1st St Ste B',\n",
       " 4901: '1101 S 5th St',\n",
       " 4362: '303 W Broadway St',\n",
       " 4083: '109 SE Oralabor Rd',\n",
       " 4609: '165 SW Magazine Rd',\n",
       " 4397: '802 E 1st St',\n",
       " 4405: '1025 E  1st St',\n",
       " 2106: '2217 College',\n",
       " 2130: '617 Sycamore',\n",
       " 5155: '1459, Ansborough Ave',\n",
       " 4988: '5925 University Ave',\n",
       " 4932: '3105 Hudson Rd',\n",
       " 4959: '2128 College St',\n",
       " 3995: '6027 University Ave Ste 100',\n",
       " 4761: '3910 University Ave',\n",
       " 4958: '809 E 18th St',\n",
       " 3713: '4151  4th St SW',\n",
       " 3528: '3450  4th St SW',\n",
       " 2515: '2400 4th St SW',\n",
       " 3664: '90 10th St S',\n",
       " 2652: '875  4th St SW',\n",
       " 2582: '551 S Illinois Ave',\n",
       " 5034: '18 N Monroe Ave',\n",
       " 5251: '1303, North Federal',\n",
       " 4668: '20 South 4th St',\n",
       " 3456: '904 N 8th St',\n",
       " 4969: '910 N 8th St W',\n",
       " 4091: '910 Hwy 18 W',\n",
       " 5069: '101 N Lake St',\n",
       " 5334: '107 N Mill St',\n",
       " 5115: '204, E South St',\n",
       " 4104: '400 North Delaware Ave',\n",
       " 5280: '1920 Federal Ave S',\n",
       " 5247: '202 4th  ST  N',\n",
       " 3525: '106 W 2nd St',\n",
       " 2517: '1501 First Avenue East',\n",
       " 4807: '103, W Walnut St',\n",
       " 4787: '2722 NE 120th St',\n",
       " 4493: '5655 C St SW',\n",
       " 4500: '595 N Kansas Ave',\n",
       " 4427: '610 N Kansas Ave',\n",
       " 5196: '100 E  OAKDALE BLVD',\n",
       " 4713: '2751 Heartland Dr',\n",
       " 3670: '2801 Commerce Dr',\n",
       " 4366: '101 Village Dr',\n",
       " 5011: '2177 M Ave',\n",
       " 3888: '415 Industrial Ave',\n",
       " 2579: '320 West Street South',\n",
       " 3054: '1026 Main',\n",
       " 4345: '1031 West St',\n",
       " 4185: '727 West St',\n",
       " 5138: '103, Blair St',\n",
       " 4604: '1324, 1st Ave E',\n",
       " 5116: '702, 1st Ave E',\n",
       " 4194: '120 N 3rd Ave E',\n",
       " 3041: '28 E Howard',\n",
       " 3514: '328  2nd Ave S',\n",
       " 9002: '303 N Cody Rd',\n",
       " 9902: '303 N Cody Road',\n",
       " 5321: '606 13th St',\n",
       " 5303: '108 Iowa Ave W',\n",
       " 3719: '2802 S Center St',\n",
       " 2544: '802 South Center',\n",
       " 5248: '114, N  Center  St',\n",
       " 5346: '1116 East Nevada St',\n",
       " 4756: '5 E Anson',\n",
       " 5324: '120 E. Main St.',\n",
       " 5179: '103, N  Main St',\n",
       " 4727: '2702 SE Delaware Ave',\n",
       " 4810: '3603 NE Otterview Circle',\n",
       " 4084: '3205 North Ankeny Blvd',\n",
       " 4404: '1825 N Ankeny Blvd',\n",
       " 4726: '901 N Ankeny Blvd',\n",
       " 4601: '2110 Guthrie Ave',\n",
       " 4598: '2221 E Euclid Ave',\n",
       " 4795: '2545 E Euclid Ave',\n",
       " 5125: '1320 E  Euclid Ave',\n",
       " 4803: '104 E Euclid Ave',\n",
       " 4140: '100 Euclid Ave',\n",
       " 4802: '4415 Douglas Ave',\n",
       " 5162: '6401, Douglas Ave',\n",
       " 3877: '5901 Douglas Ave',\n",
       " 4941: '6990 Douglas Ave',\n",
       " 4447: '9915, Douglas Ave',\n",
       " 2587: '5750 Merle Hay Road',\n",
       " 2648: '555 S 51st St',\n",
       " 4368: '5800 Northglen Dr',\n",
       " 4725: '2905 W  1st St',\n",
       " 2528: '3221 SE 14th St',\n",
       " 4603: '3200 SE 14th St',\n",
       " 2561: '4605 Fleur Drive',\n",
       " 4301: '1805 SE 14th St',\n",
       " 5129: '4121 Fleur Dr',\n",
       " 4595: '4024 Fleur Dr',\n",
       " 4997: '218, 6th Ave #101',\n",
       " 4942: '333 E GRAND AVE',\n",
       " 2849: '3151 SE 14th St',\n",
       " 4798: '3140 SE 14th St',\n",
       " 3678: '1918 SE 14th St',\n",
       " 4877: '1775 NW 86th St',\n",
       " 2248: '3500 Ingersoll Ave',\n",
       " 5127: '3425 Ingersoll Ave',\n",
       " 4804: '3501 Ingersoll Ave',\n",
       " 2535: '1700 Valley West Dr',\n",
       " 4230: '10151 University Ave',\n",
       " 2630: '1010  60th St',\n",
       " 4373: '141 S Jordan Creek Pkwy',\n",
       " 3814: '7205 Mills Civic Pkwy',\n",
       " 3899: '6365 Stagecoach Dr',\n",
       " 5347: '220 50th St',\n",
       " 4927: '3501 Ep True Pkwy',\n",
       " 2521: '1990 Grand Avenue',\n",
       " 5146: '329 Grand Ave',\n",
       " 4718: '1660 22nd St',\n",
       " 4521: '504 16th St N',\n",
       " 4190: '1207 N Elm St',\n",
       " 2671: '106, W Washington St',\n",
       " 5205: '201 Idaho St',\n",
       " 4158: '709 Monterey Dr',\n",
       " 4613: '402 E 6th St',\n",
       " 4688: '105 E 6th St',\n",
       " 2593: '905 US Highway 30 West',\n",
       " 4014: '510 C Ave',\n",
       " 4410: '1219 1st St',\n",
       " 4001: '2014 Kitty Hawk Ave',\n",
       " 2595: '1620  4th Ave, South',\n",
       " 3756: '316 Main St',\n",
       " 5343: '403 Main St.',\n",
       " 4917: '1115 Ia Hwy 141',\n",
       " 2612: '1215  141 St',\n",
       " 4320: '1315 Willis Ave',\n",
       " 5012: '2810, Willis Ave',\n",
       " 3831: '301 Annex Rd',\n",
       " 3987: '111 S Phillips St',\n",
       " 4169: '1824 Hubbell Ave',\n",
       " 4385: '1453 Co Hwy G76',\n",
       " 5144: '4625 SE Delaware Ave',\n",
       " 2628: '1616 Edgington',\n",
       " 4110: '706 Highway 57',\n",
       " 2657: '1604 Bent',\n",
       " 2620: '7101 University Ave',\n",
       " 4893: '105 Grand Ave',\n",
       " 4594: '901 SW 63rd St',\n",
       " 4369: '2992 Sunset Dr',\n",
       " 4092: '1711 Sunset Dr',\n",
       " 4260: '215 S Main St',\n",
       " 2550: '510 West Mclane',\n",
       " 3997: '2400 College Dr',\n",
       " 4419: '2091 E Main St',\n",
       " 2668: '1004 W 1st St',\n",
       " 3826: '777 Casino Dr',\n",
       " 4382: '1293 8th Ave',\n",
       " 4801: '3030 University Ave',\n",
       " 5098: '1621 University Ave',\n",
       " 4165: '113 SE Delaware Ave Ste 101',\n",
       " 4549: '702 Us Hwy 65',\n",
       " 5337: '119 N. Main St',\n",
       " 4659: '409 E Center',\n",
       " 4250: '1232 14th St',\n",
       " 4455: '2359 Edgington Ave',\n",
       " 4657: '308 N Washington',\n",
       " 5206: '1400 G  Ave',\n",
       " 4495: '504, G Ave',\n",
       " 4396: '606 Grundy Ave',\n",
       " 4306: '1208  4th St NE',\n",
       " 4547: '309 Central Ave West',\n",
       " 4421: '609 Central Ave W',\n",
       " 2460: '721 Central Avenue West',\n",
       " 4658: '904 Washington Ave',\n",
       " 4284: '500 Iowa St',\n",
       " 2658: '402 S Hayes St',\n",
       " 3813: '104 North Fillmore',\n",
       " 2655: '1200 S 16TH ST',\n",
       " 4249: '115 Essie Davison Dr',\n",
       " 5210: '900, E  Washington  St',\n",
       " 4246: '1007 S Fremont St',\n",
       " 2607: '520 So Fremont',\n",
       " 4937: '1310 W Sheridan Ave',\n",
       " 4629: '309 N Locust St',\n",
       " 4708: '423 SHARP ST',\n",
       " 4010: '900 S Locust St',\n",
       " 4738: '1030, Veteran Memorial Hwy',\n",
       " 4545: '14151 Wabash Ave',\n",
       " 4510: '701 Main St',\n",
       " 2518: '1607 North Broadway',\n",
       " 4318: '811 Broadway',\n",
       " 2656: '300  10th St',\n",
       " 2327: '801 Hull St',\n",
       " 5110: '200, N Walnut St',\n",
       " 3830: '806 Laurel St',\n",
       " 2553: '600 Sheldon',\n",
       " 2672: '923 N  1st St',\n",
       " 4823: '903 N Sumner Ave',\n",
       " 4291: '105 E Adams St',\n",
       " 4531: '501 N Douglas St',\n",
       " 2228: '53 Green St',\n",
       " 4848: '111 E Jefferson St',\n",
       " 4907: '2323 Main St',\n",
       " 4947: '1420 W First St',\n",
       " 4147: '214 N Magnolia Dr',\n",
       " 3819: '915 Short St',\n",
       " 4631: '2425, Whitetail Dr',\n",
       " 4914: '2728 Center St',\n",
       " 2835: '2302 West First St',\n",
       " 4723: '2509 Whitetail Dr',\n",
       " 5007: '1022 Skylar St',\n",
       " 5181: '1101, Jefferson St',\n",
       " 5352: '600 7th Ave',\n",
       " 3717: '201 W 1st St',\n",
       " 3857: '9th St SW B',\n",
       " 4762: '101 Main St',\n",
       " 4818: '303, College Dr',\n",
       " 4183: '103 E Main',\n",
       " 3721: '1798 Old Stage Rd',\n",
       " 4289: '777  11th Ave SW',\n",
       " 2178: '618 Rossville Road',\n",
       " 5017: '417 Main St',\n",
       " 5330: '124 West Tilden St.',\n",
       " 4973: '303, Hwy 150 N',\n",
       " 4466: '515 W Water St',\n",
       " 5180: '801, E  Charles  St',\n",
       " 4628: '137 2nd Ave SE',\n",
       " 4156: '102  2nd Ave SE',\n",
       " 5199: '701, S  Frederick  Ave',\n",
       " 3584: '1011 S Frederick M/a Po Bx 572',\n",
       " 4395: '1111 Ia Highway 175',\n",
       " 4651: '301 MAIN ST',\n",
       " 5297: '1803 Superior St',\n",
       " 2602: '823  2nd St',\n",
       " 4709: '2719 Grand Ave',\n",
       " 5187: '125 6th ST',\n",
       " 4235: '942  2nd St',\n",
       " 5296: '1102 2nd St',\n",
       " 4133: '1447  2nd St',\n",
       " 4459: '1120 S Commercial',\n",
       " 4236: '205 NW  1st St',\n",
       " 4556: '319 E Hwy 3',\n",
       " 3056: '325 Central Ave W',\n",
       " 4591: '222, Central Ave',\n",
       " 5287: '300 Central Ave W',\n",
       " 5302: '112 River Ave S',\n",
       " 3654: '207 E Main St',\n",
       " 4247: '512 River Ave N',\n",
       " 4172: '1204 Water St Po Box 177',\n",
       " 4355: '1554 Broad St',\n",
       " 4081: '306 Washington',\n",
       " 4102: '619 Burnett Ave',\n",
       " 4675: '2801 E 13th St',\n",
       " 4767: '6981 NE 14th St',\n",
       " 5245: '1516, SE  1st St',\n",
       " 5051: '630 SW  9TH ST',\n",
       " 4478: '3000, SW 9th St',\n",
       " 4597: '850 Army Post Rd',\n",
       " 5145: '1101 Army Post Rd',\n",
       " 4186: '5901 FLEUR DR',\n",
       " 5131: '1401, Buchanan St',\n",
       " 3700: '158 South Elm',\n",
       " 5322: '212 West Wood St.',\n",
       " 4743: '1801 Valley View Dr',\n",
       " 3443: '1141 N Broadway',\n",
       " 3728: '726 Creek Top',\n",
       " 4476: '15 North 16th St',\n",
       " 5182: '1749 W Broadway',\n",
       " 3963: '1925 W Broadway',\n",
       " 4740: '2508 W Broadway',\n",
       " 5327: '3540 W Broadway',\n",
       " 4317: '212 SW Kent',\n",
       " 4626: '3632, Avenue G',\n",
       " 4808: '3500, Ave A',\n",
       " 4474: '3501 W Broadway St',\n",
       " 4608: '510, 23rd Ave',\n",
       " 5314: '3134 Manawa Center Dr. # 9',\n",
       " 4462: '113 1st St NW',\n",
       " 4509: '2515 Chamberlain',\n",
       " 3477: '3221 Manawa Centre Dr',\n",
       " 4503: '102 W Main St',\n",
       " 4516: '205 Brown St',\n",
       " 4463: '145 Us Hwy 18 W',\n",
       " 4780: '576, N Main Ave',\n",
       " 3682: '110 E Main St',\n",
       " 4268: '1905 Highway 18 E',\n",
       " 2585: '1516 Highway 169 North',\n",
       " 3842: '107 N Portland St Po Bx 222',\n",
       " 4650: '202, W 4th Ave',\n",
       " 4073: '306 Hwy 69 South',\n",
       " 3881: '120 E Main St',\n",
       " 5126: '4343 Merle Hay Rd',\n",
       " 2539: 'Highway 65 South',\n",
       " 2651: '1311 4 Street SW',\n",
       " 4146: '220 W Bremer Ave',\n",
       " 4538: '402 North Main St',\n",
       " 4999: '213 S Main St',\n",
       " 4700: '306, N Main',\n",
       " 3676: '107 E Traer',\n",
       " 4203: '620 W Bremer Ave',\n",
       " 4924: '2757 Charles City Rd',\n",
       " 3688: '100 W Main St',\n",
       " 4285: '102 S Water Ave',\n",
       " 4143: '603  E HWY 24',\n",
       " 4233: '112 S Elm St',\n",
       " 4769: '100 Grant St',\n",
       " 4559: '633 CHASE ST',\n",
       " 3542: '244 W 4TH ST',\n",
       " 4986: '68 Monroe St',\n",
       " 5134: '609, S Main St',\n",
       " 5121: '1908, Clark St',\n",
       " 4321: '210  11th St',\n",
       " 2578: '901 Kelly St',\n",
       " 4524: '14 E Congress',\n",
       " 3045: '8 2nd St NW',\n",
       " 4600: '4200 E Hubbell Ave',\n",
       " 4273: '2800 E University Ave',\n",
       " 4057: '1434 Des Moines St Ste 5',\n",
       " 3825: '1372 E 14th St',\n",
       " 4062: '145 University Ave',\n",
       " 5128: '1819 Beaver Ave',\n",
       " 2852: '2303 Merle Hay Rd',\n",
       " 3612: '509 E Platt',\n",
       " 3778: '4538 Lower Beaver Rd',\n",
       " 2850: '215 E Euclid Ave',\n",
       " 5338: '5050 NW 2nd Ave',\n",
       " 3886: '101  115 St',\n",
       " 5333: '402 E Main',\n",
       " 3829: '715  1st Ave S',\n",
       " 4856: '930 Commercial St',\n",
       " 4562: '206 Short St',\n",
       " 4953: '302 Hwy 136',\n",
       " 4051: '110 Westgate Dr',\n",
       " 3488: '400 S Second',\n",
       " 4540: '1104 N Riverview St',\n",
       " 4690: '5358 Hwy 64',\n",
       " 4543: '1100 Eagle View Dr',\n",
       " 4180: '480 7th Ave',\n",
       " 4876: '655, Robbins Rd',\n",
       " 3707: '1030 Blairs Ferry Rd NE',\n",
       " 2569: '279 Collins Road NE',\n",
       " 4605: '1203 Blairs Ferry Rd',\n",
       " 4736: '1225 7th Ave',\n",
       " 2514: '2790 7th Avenue',\n",
       " 2847: '3499, 7th Ave',\n",
       " 4401: '3215 7th Ave',\n",
       " 4155: '3300 10th Ave',\n",
       " 2560: '3600 Business Hwy 151 East',\n",
       " 5039: '1200 S Market St',\n",
       " 4126: '123 E Main St',\n",
       " 3494: '210 East Tower Park Dr',\n",
       " 2538: '1422 Flammang Dr',\n",
       " 4166: '1314  7th St',\n",
       " 5364: '3594 Lafayette Road',\n",
       " 2575: '2834 Ansborough Ave',\n",
       " 2643: '2126 Kimball Ave',\n",
       " 4760: '111 W Ridgeway Ave',\n",
       " 4150: '40  W San Marnan',\n",
       " 3690: '1501 E San Marnan',\n",
       " 3740: '1010 E Mitchell Ave',\n",
       " 4910: '1008 Laporte Rd',\n",
       " 2837: '1825 E San Marnan',\n",
       " 4223: '1119 River Forest Rd',\n",
       " 4153: '215 S Evans Rd',\n",
       " 5031: '101 Commercial St',\n",
       " 5001: '709 First St W',\n",
       " 3784: '200  1st St East',\n",
       " 4148: '1400 3rd Ave SE',\n",
       " 5175: '502, 3rd  St',\n",
       " 5271: '135, Madison Street',\n",
       " 4189: '109 East Marion St',\n",
       " 5054: '900 E Main St',\n",
       " 5171: '110, E Jefferson St',\n",
       " 3744: '733 16th Ave SE',\n",
       " 4182: '1207  12th Ave SE',\n",
       " 4585: '306, 1st St SW',\n",
       " 5148: '882, Main St',\n",
       " 4607: '1131, S Hwy 52',\n",
       " 3782: '619 S Hwy 52',\n",
       " 4869: '7 Goethe Street  Suite B',\n",
       " 3679: '103 Franklin St',\n",
       " 4972: '808 S Main St',\n",
       " 4908: '107 1st St SW',\n",
       " 4130: '20611 Hwy 1 N',\n",
       " 3803: '128 W Mission',\n",
       " 4855: '308, W Mission',\n",
       " 3957: '101 West Madison',\n",
       " 4943: '205, 4th St',\n",
       " 4296: '111 Main St',\n",
       " 2555: '3111 Main',\n",
       " 4993: '1301, Main St',\n",
       " 2191: '1013 Main',\n",
       " 4673: '327 5th St',\n",
       " 4793: '5002 Avenue O',\n",
       " 3549: '1414 48th St',\n",
       " 2584: '2606 Avenue L',\n",
       " 4619: '1737 Ave H',\n",
       " 4258: '920 Lawrence Dr',\n",
       " 4898: '130, S Roosevelt Ave',\n",
       " 4721: '3245 Agency St',\n",
       " 5204: '1812 Osborn St',\n",
       " 4722: '201 S Central Ave',\n",
       " 4424: '1012 Maple St',\n",
       " 4752: '1003 Summer St',\n",
       " 5149: '1900, Summer St',\n",
       " 2507: '939 Angular',\n",
       " 4897: '1703 Mt Pleasant St',\n",
       " 2506: '3140 Agency',\n",
       " 4794: '110 S Roosevelt Hwy 61',\n",
       " 5071: '408 6th Ave',\n",
       " 4698: '201 W Burlington Ave',\n",
       " 4522: '201 Ralph St',\n",
       " 2601: '1300 West Burlington Ave',\n",
       " 5040: '1300 Nicolaus St',\n",
       " 3838: '858 Middle Rd',\n",
       " 5108: '1032 State St',\n",
       " 5249: '1205/1207, Locust St.',\n",
       " 4644: '1136, E Locust St',\n",
       " 5100: '648 N  Marquette St',\n",
       " 4962: '1312 Harrison St',\n",
       " 3917: '1606 W Locust St',\n",
       " 4749: '1660 W Locust St',\n",
       " 3805: '1601 Washington St',\n",
       " 5226: '214 MYRTLE ST',\n",
       " 4892: '1026 W River Dr',\n",
       " 4949: '828, W River Dr',\n",
       " 5320: '234 West 3rd',\n",
       " 2554: '3019 Rockingham Road',\n",
       " 4303: '111 N Wapello',\n",
       " 3918: '3120 Rockingham Rd',\n",
       " 4967: '102, W Mayne St',\n",
       " 2629: '1745 Madison Ave',\n",
       " 2641: '757 W BROADWAY',\n",
       " 2613: '2323 W Broadway',\n",
       " 5315: '110 South Main Street',\n",
       " 5316: '118 South Main Street',\n",
       " 4279: '217 E Broadway',\n",
       " 4580: '304 W. Madison',\n",
       " 2653: '1004 W Madison St',\n",
       " 5163: '309, W  Washington St',\n",
       " 5072: '901, E Washington St',\n",
       " 2558: '1700 E Washington',\n",
       " 4790: '109, Wapello St',\n",
       " 4125: '503 Hwy 61 South',\n",
       " 4413: '303 Us Hwy 61 N',\n",
       " 3710: '219 Main St',\n",
       " 3403: '103 Walnut St. E',\n",
       " 5090: '709 Grandview Ave',\n",
       " 5299: '200, Green Street',\n",
       " 5091: '501 Cedar St',\n",
       " 2662: '522 Mulberry, Suite A',\n",
       " 4467: '1429 PARK AVE',\n",
       " 4984: '2111 Park Ave',\n",
       " 2573: '2400 2nd Ave',\n",
       " 5260: '2881, Highway 61',\n",
       " 3907: '1504 Park Ave',\n",
       " 4184: '2100 Cedar Plaza Dr',\n",
       " 5261: '2307, Lucas Street',\n",
       " 4806: '1006, N Columbus St',\n",
       " 3910: '3184 Highway 22',\n",
       " 4402: '1178 Enterprise Dr',\n",
       " 4067: '268 8th Ave',\n",
       " 5252: '119, Main St',\n",
       " 3712: '109 N 4th St',\n",
       " 3065: '201 S Front St',\n",
       " 4878: '215, S Rerick Ave',\n",
       " 4193: '361  3rd St NW',\n",
       " 3576: '10  3rd St NW',\n",
       " 4485: '101 W 7th St',\n",
       " 4248: '2603 Park St',\n",
       " 2661: '1989 Park St',\n",
       " 3621: '615  2nd Ave',\n",
       " 4589: '1026 2nd Ave',\n",
       " 4891: '109 5th St',\n",
       " 4336: '120 N Main St',\n",
       " 4434: '209 S Union St',\n",
       " 3705: '507 1st Ave #100',\n",
       " 4337: '1415 Grand Falls Blvd',\n",
       " 4006: '913 Brown St Po Box 326',\n",
       " 4904: '832 Broadway St',\n",
       " 4820: '712 S Oak St',\n",
       " 5153: '2403 Us Hwy 18',\n",
       " 5263: '950, West View Dr',\n",
       " 4909: '1004 Main St',\n",
       " 4563: '315 Main St',\n",
       " 3763: '911 Central Ave',\n",
       " 4525: '600 Highway 12 South',\n",
       " 4255: '512  8th SE',\n",
       " 5133: '102, Albany Ave NE',\n",
       " 4256: '115  1st Ave NW',\n",
       " 3981: '255 16th St SW',\n",
       " 2660: '1951 S Main Ave',\n",
       " 3742: '1111 Holton Dr',\n",
       " 2604: '1201 12th Ave SW',\n",
       " 4277: '769 Prospect St SW',\n",
       " 4231: '115 Plymouth St NE',\n",
       " 3695: '623 S Marion St',\n",
       " 3484: '110 W Cedar St',\n",
       " 5311: '132 N. Main',\n",
       " 4569: '202 West Southern St',\n",
       " 4532: '720 Hwy 71',\n",
       " 3964: '621 Hwy 71',\n",
       " 5266: '5101, 230th Street',\n",
       " 3461: '611 S Division St',\n",
       " 4654: '629 S Division St',\n",
       " 4416: '501 Antuque Country Dr',\n",
       " 4417: '109 S 5th St',\n",
       " 4267: '735 Main St',\n",
       " 3833: '1905 East 7th St',\n",
       " 2591: '1602 E. 7th St.',\n",
       " 5081: '701 Poplar St',\n",
       " 4313: '301 Poplar St',\n",
       " 5208: '110, Locust St',\n",
       " 4114: '704 W 7th St Po Box 372',\n",
       " 5082: '911 SW 7th St',\n",
       " 5194: '406, East St',\n",
       " 5177: '33280 335th St',\n",
       " 5195: '1928, Sherwood Dr',\n",
       " 4159: '310 Mckenzie Ave',\n",
       " 4475: '2713 S 24th St',\n",
       " 3521: '2200 River Road',\n",
       " 4867: '430 S 35th St',\n",
       " 5342: '1650 E Locust St',\n",
       " 4633: '1202 East Locust St',\n",
       " 5077: '1800 N 16th St',\n",
       " 3611: '403 E 6th',\n",
       " 5044: '111, Mormon Bridge Rd',\n",
       " 4152: '407 W HURON',\n",
       " 5089: '614, E Erie St',\n",
       " 5087: '107, W  7th St',\n",
       " 4000: '5th And Lincoln Way',\n",
       " 5362: '117 Iowa Ave',\n",
       " 2650: '1808 23rd St',\n",
       " 4995: '618 Durant St',\n",
       " 4229: '1910  23rd St',\n",
       " 5173: '104 Market St',\n",
       " 4473: '113, NE 3rd St',\n",
       " 5094: '201, 8th Ave SE',\n",
       " 4950: '1420 Mt Vernon Rd',\n",
       " 2841: '2711 Mt Vernon Rd',\n",
       " 4491: '3349 Mt Vernon Rd SE',\n",
       " 4517: '3434 1st Ave NE',\n",
       " 4744: '2821 1st Ave SE',\n",
       " 4377: '4801 NE 14th St',\n",
       " 4596: '2945 E University',\n",
       " 4141: '3000 SE 22nd St',\n",
       " 4641: '5830 SE 14th St',\n",
       " 4800: '6200 SE 14th St',\n",
       " 4138: '1309 W 2nd',\n",
       " 4836: '25 W Burlington St',\n",
       " 4457: '731 S Riverside Dr',\n",
       " 4456: '955 Morman Trek Blvd',\n",
       " 3565: '701 Mormon Trek Blvd',\n",
       " 4989: '1904 Broadway St',\n",
       " 5219: '300, Kirkwood Ave',\n",
       " 4837: '323 E Burlington St',\n",
       " 4504: '311 North Jefferson',\n",
       " 5118: '185, Peosta St',\n",
       " 2465: '2727 Dodge St',\n",
       " 4765: '2335 University Ave',\n",
       " 5306: '2175, Central Avenue',\n",
       " 4171: '105 SE Nixon St',\n",
       " 5239: '4649 Hwy 13',\n",
       " 5211: '5225 NW  86th  St',\n",
       " 4853: '6130 NW 86th St',\n",
       " 4678: '804 Nile Kinnick Dr',\n",
       " 4359: '350 SE University Ave',\n",
       " 4411: '1203 Guthrie St',\n",
       " 4872: '975 N Chestnut Ave',\n",
       " 4868: '400 Prairie Bluff Dr',\n",
       " 4446: '4600 Merle Hay Rd',\n",
       " 4458: '5169 Merle Hay Rd',\n",
       " 4923: '100, Pearl St',\n",
       " 4905: '319, Court St',\n",
       " 4930: '1303 SE MARSHALL ST',\n",
       " 5023: '250 16th Ave SW',\n",
       " ...}"
      ]
     },
     "execution_count": 150,
     "metadata": {},
     "output_type": "execute_result"
    }
   ],
   "source": [
    "storedict"
   ]
  },
  {
   "cell_type": "code",
   "execution_count": 180,
   "id": "1d58d043",
   "metadata": {},
   "outputs": [],
   "source": [
    "def get_address(x,y):\n",
    "    storelist=list(storedict.keys())\n",
    "    if (pd.isna(x)) & (y in storelist):\n",
    "        return storedict[y]\n",
    "    else:\n",
    "        return x"
   ]
  },
  {
   "cell_type": "code",
   "execution_count": 169,
   "id": "fadbf5de",
   "metadata": {},
   "outputs": [],
   "source": [
    "storelist=list(storedict.keys())"
   ]
  },
  {
   "cell_type": "code",
   "execution_count": 172,
   "id": "9bb100dc",
   "metadata": {},
   "outputs": [],
   "source": [
    "ytest17=y17"
   ]
  },
  {
   "cell_type": "code",
   "execution_count": 157,
   "id": "d7042c34",
   "metadata": {},
   "outputs": [
    {
     "data": {
      "text/plain": [
       "1411"
      ]
     },
     "execution_count": 157,
     "metadata": {},
     "output_type": "execute_result"
    }
   ],
   "source": [
    "ytest17['Address'].isna().sum()"
   ]
  },
  {
   "cell_type": "code",
   "execution_count": 181,
   "id": "b7d1a55a",
   "metadata": {},
   "outputs": [],
   "source": [
    "ytest17['Address']=list(map(get_address,ytest17['Address'],ytest17['Store Number']))"
   ]
  },
  {
   "cell_type": "code",
   "execution_count": 182,
   "id": "ba30ad86",
   "metadata": {},
   "outputs": [
    {
     "data": {
      "text/plain": [
       "1"
      ]
     },
     "execution_count": 182,
     "metadata": {},
     "output_type": "execute_result"
    }
   ],
   "source": [
    "ytest17['Address'].isna().sum()"
   ]
  },
  {
   "cell_type": "code",
   "execution_count": 184,
   "id": "f6382f62",
   "metadata": {},
   "outputs": [
    {
     "data": {
      "text/plain": [
       "1050009    9932\n",
       "Name: Store Number, dtype: int64"
      ]
     },
     "execution_count": 184,
     "metadata": {},
     "output_type": "execute_result"
    }
   ],
   "source": [
    "ytest17[ytest17['Address'].isna()]['Store Number']"
   ]
  },
  {
   "cell_type": "code",
   "execution_count": 179,
   "id": "df624f4c",
   "metadata": {},
   "outputs": [
    {
     "data": {
      "text/plain": [
       "Unnamed: 0                  0\n",
       "Invoice/Item Number         0\n",
       "Date                        0\n",
       "Store Number                0\n",
       "Store Name                  0\n",
       "Address                  1411\n",
       "City                     1410\n",
       "Zip Code                 1410\n",
       "Store Location           1410\n",
       "County Number            1410\n",
       "County                   1410\n",
       "Category                 5835\n",
       "Category Name            5835\n",
       "Vendor Number               1\n",
       "Vendor Name                 1\n",
       "Item Number                 0\n",
       "Item Description            0\n",
       "Pack                        0\n",
       "Bottle Volume (ml)          0\n",
       "State Bottle Cost           0\n",
       "State Bottle Retail         0\n",
       "Bottles Sold                0\n",
       "Sale (Dollars)              0\n",
       "Volume Sold (Liters)        0\n",
       "Volume Sold (Gallons)       0\n",
       "Year                        0\n",
       "dtype: int64"
      ]
     },
     "execution_count": 179,
     "metadata": {},
     "output_type": "execute_result"
    }
   ],
   "source": [
    "ytest17.isna().sum()"
   ]
  },
  {
   "cell_type": "code",
   "execution_count": 113,
   "id": "adbd8355",
   "metadata": {},
   "outputs": [
    {
     "data": {
      "text/plain": [
       "26"
      ]
     },
     "execution_count": 113,
     "metadata": {},
     "output_type": "execute_result"
    }
   ],
   "source": [
    "len(ytest17[ytest17['Address'].isna()]['Store Number'].unique())"
   ]
  },
  {
   "cell_type": "code",
   "execution_count": 117,
   "id": "40417932",
   "metadata": {},
   "outputs": [
    {
     "data": {
      "text/plain": [
       "1284"
      ]
     },
     "execution_count": 117,
     "metadata": {},
     "output_type": "execute_result"
    }
   ],
   "source": [
    "ytest17['Address'].isna().sum()"
   ]
  },
  {
   "cell_type": "code",
   "execution_count": 119,
   "id": "186f776b",
   "metadata": {},
   "outputs": [
    {
     "data": {
      "text/plain": [
       "27"
      ]
     },
     "execution_count": 119,
     "metadata": {},
     "output_type": "execute_result"
    }
   ],
   "source": [
    "len(y17[y17['Address'].isna()]['Store Number'].unique())"
   ]
  },
  {
   "cell_type": "code",
   "execution_count": 120,
   "id": "b9acd500",
   "metadata": {},
   "outputs": [
    {
     "data": {
      "text/plain": [
       "1411"
      ]
     },
     "execution_count": 120,
     "metadata": {},
     "output_type": "execute_result"
    }
   ],
   "source": [
    "y17['Address'].isna().sum()"
   ]
  },
  {
   "cell_type": "code",
   "execution_count": 100,
   "id": "bd918e74",
   "metadata": {
    "scrolled": true
   },
   "outputs": [
    {
     "name": "stdout",
     "output_type": "stream",
     "text": [
      "924 Locust St\n",
      "2001 W 2nd Ave\n",
      "7229 University Ave\n",
      "101 E 4th St\n",
      "2303 Muscatine Ave\n",
      "822 1st  Ave\n",
      "5901 Mills Civic Pkwy #2000\n",
      "107 IA HWY 60\n",
      "3105 Grand Prairie Pkwy\n",
      "205 2nd St\n",
      "114, N  Center  St\n",
      "757 W BROADWAY\n",
      "5120, NE 14th Street\n",
      "6005, Merle Hay Road\n",
      "3330, 16th Avenue\n",
      "3000, SW 9th St\n",
      "14562, Washington Rd\n",
      "501 Antuque Country Dr\n",
      "1724, 5th  Ave S\n",
      "811 Hwy 105\n",
      "710 First Ave N\n",
      "501 7th ave SE\n",
      "4107, Center Point Rd NE\n",
      "2608 E. Central Avenue\n",
      "1205 Curtis Br Rd NE\n",
      "85  4th St\n"
     ]
    }
   ],
   "source": [
    "c=0\n",
    "for i in snumna:\n",
    "    slist=list(y17[y17['Store Number']==i]['Address'].unique())\n",
    "    for j in slist:\n",
    "        if pd.notna(j):\n",
    "            print(j)\n",
    "            break"
   ]
  },
  {
   "cell_type": "code",
   "execution_count": 7,
   "id": "02ee71bc",
   "metadata": {},
   "outputs": [
    {
     "data": {
      "text/plain": [
       "array([], dtype=object)"
      ]
     },
     "execution_count": 7,
     "metadata": {},
     "output_type": "execute_result"
    }
   ],
   "source": [
    "# does store 9932 have an address in any of the years?\n",
    "print(y17[y17['Store Number']=='9932']['Address'].unique(),\n",
    "y16[y16['Store Number']=='9932']['Address'].unique(),\n",
    "y15[y15['Store Number']=='9932']['Address'].unique(),\n",
    "y14[y14['Store Number']=='9932']['Address'].unique(),\n",
    "y13[y13['Store Number']=='9932']['Address'].unique(),\n",
    "y12[y12['Store Number']=='9932']['Address'].unique())"
   ]
  },
  {
   "cell_type": "code",
   "execution_count": 265,
   "id": "e1f787ef",
   "metadata": {},
   "outputs": [],
   "source": [
    "ytest17=y17"
   ]
  },
  {
   "cell_type": "code",
   "execution_count": 266,
   "id": "aae27a45",
   "metadata": {},
   "outputs": [
    {
     "data": {
      "text/plain": [
       "1883097"
      ]
     },
     "execution_count": 266,
     "metadata": {},
     "output_type": "execute_result"
    }
   ],
   "source": [
    "len(ytest17)"
   ]
  },
  {
   "cell_type": "code",
   "execution_count": 267,
   "id": "90b0156f",
   "metadata": {},
   "outputs": [
    {
     "data": {
      "text/plain": [
       "Unnamed: 0                 0\n",
       "Invoice/Item Number        0\n",
       "Date                       0\n",
       "Store Number               0\n",
       "Store Name                 0\n",
       "Address                    0\n",
       "City                       0\n",
       "Zip Code                   0\n",
       "Store Location             0\n",
       "County Number              0\n",
       "County                     0\n",
       "Category                 827\n",
       "Category Name            827\n",
       "Vendor Number              0\n",
       "Vendor Name                1\n",
       "Item Number                0\n",
       "Item Description           0\n",
       "Pack                       0\n",
       "Bottle Volume (ml)         0\n",
       "State Bottle Cost          0\n",
       "State Bottle Retail        0\n",
       "Bottles Sold               0\n",
       "Sale (Dollars)             0\n",
       "Volume Sold (Liters)       0\n",
       "Volume Sold (Gallons)      0\n",
       "Year                       0\n",
       "dtype: int64"
      ]
     },
     "execution_count": 267,
     "metadata": {},
     "output_type": "execute_result"
    }
   ],
   "source": [
    "ytest17.isna().sum()"
   ]
  },
  {
   "cell_type": "code",
   "execution_count": 89,
   "id": "7c3842a9",
   "metadata": {},
   "outputs": [
    {
     "data": {
      "text/plain": [
       "1050009    Dubuque 52002\\n(42.516027, -90.766335)\n",
       "Name: Store Location, dtype: object"
      ]
     },
     "execution_count": 89,
     "metadata": {},
     "output_type": "execute_result"
    }
   ],
   "source": [
    "all_na_storeloc[all_na_storeloc['Store Number']==9932]['Store Location']"
   ]
  },
  {
   "cell_type": "code",
   "execution_count": 95,
   "id": "8af393c2",
   "metadata": {},
   "outputs": [
    {
     "data": {
      "text/plain": [
       "array(['Dubuque 52002\\n(42.516027, -90.766335)'], dtype=object)"
      ]
     },
     "execution_count": 95,
     "metadata": {},
     "output_type": "execute_result"
    }
   ],
   "source": [
    "y17[y17['Store Number']==9932]['Store Location'].unique()"
   ]
  },
  {
   "cell_type": "code",
   "execution_count": 127,
   "id": "d731972f",
   "metadata": {},
   "outputs": [
    {
     "data": {
      "text/plain": [
       "1883097"
      ]
     },
     "execution_count": 127,
     "metadata": {},
     "output_type": "execute_result"
    }
   ],
   "source": [
    "len(ytest17)"
   ]
  },
  {
   "cell_type": "code",
   "execution_count": 283,
   "id": "09c3c36c",
   "metadata": {},
   "outputs": [
    {
     "data": {
      "text/plain": [
       "Unnamed: 0                 0\n",
       "Invoice/Item Number        0\n",
       "Date                       0\n",
       "Store Number               0\n",
       "Store Name                 0\n",
       "Address                    0\n",
       "City                       0\n",
       "Zip Code                   0\n",
       "Store Location             0\n",
       "County Number              0\n",
       "County                     0\n",
       "Category                 827\n",
       "Category Name            827\n",
       "Vendor Number              0\n",
       "Vendor Name                0\n",
       "Item Number                0\n",
       "Item Description           0\n",
       "Pack                       0\n",
       "Bottle Volume (ml)         0\n",
       "State Bottle Cost          0\n",
       "State Bottle Retail        0\n",
       "Bottles Sold               0\n",
       "Sale (Dollars)             0\n",
       "Volume Sold (Liters)       0\n",
       "Volume Sold (Gallons)      0\n",
       "Year                       0\n",
       "dtype: int64"
      ]
     },
     "execution_count": 283,
     "metadata": {},
     "output_type": "execute_result"
    }
   ],
   "source": [
    "ytest17.isna().sum()"
   ]
  },
  {
   "cell_type": "code",
   "execution_count": 241,
   "id": "e9109a28",
   "metadata": {},
   "outputs": [],
   "source": [
    "ytest17['Address']=list(map(get_address,ytest17['Address'],ytest17['Store Number']))\n",
    "ytest17['Store Location']=list(map(get_store_location,ytest17['Store Location'],ytest17['Store Number']))\n",
    "ytest17['Zip Code']=list(map(get_zip,ytest17['Zip Code'],ytest17['Store Number']))\n",
    "ytest17['County']=list(map(get_county,ytest17['County'],ytest17['Store Number']))\n",
    "ytest17['County Number']=list(map(get_county_number,ytest17['County Number'],ytest17['Store Number']))\n",
    "ytest17['City']=list(map(get_city,ytest17['City'],ytest17['Store Number']))\n",
    "ytest17['Category']=list(map(get_category,ytest17['Category'],ytest17['Item Description']))\n",
    "ytest17['Category Name']=list(map(get_category_name,ytest17['Category Name'],ytest17['Item Description']))\n",
    "ytest17['Vendor Name']=list(map(get_vendor_name,ytest17['Vendor Name'],ytest17['Item Description']))\n",
    "ytest17['Vendor Number']=list(map(get_vendor_number,ytest17['Vendor Number'],ytest17['Item Description']))"
   ]
  }
 ],
 "metadata": {
  "kernelspec": {
   "display_name": "Python 3",
   "language": "python",
   "name": "python3"
  },
  "language_info": {
   "codemirror_mode": {
    "name": "ipython",
    "version": 3
   },
   "file_extension": ".py",
   "mimetype": "text/x-python",
   "name": "python",
   "nbconvert_exporter": "python",
   "pygments_lexer": "ipython3",
   "version": "3.8.8"
  }
 },
 "nbformat": 4,
 "nbformat_minor": 5
}

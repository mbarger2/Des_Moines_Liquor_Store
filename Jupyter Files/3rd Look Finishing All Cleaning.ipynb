{
 "cells": [
  {
   "cell_type": "code",
   "execution_count": 120,
   "id": "7355a473",
   "metadata": {},
   "outputs": [],
   "source": [
    "import pandas as pd\n",
    "import numpy as np\n",
    "import chunk\n",
    "import re\n",
    "from datetime import datetime"
   ]
  },
  {
   "cell_type": "code",
   "execution_count": 109,
   "id": "59c284ec",
   "metadata": {},
   "outputs": [],
   "source": [
    "pd.set_option('display.max_columns',30)\n",
    "#pd.set_option('display.max_rows',300)"
   ]
  },
  {
   "cell_type": "code",
   "execution_count": null,
   "id": "abd4db81",
   "metadata": {},
   "outputs": [],
   "source": [
    "y['Category Name']=list(map(lambda x: x.upper(),y['Category Name']))"
   ]
  },
  {
   "cell_type": "code",
   "execution_count": null,
   "id": "b77e820d",
   "metadata": {},
   "outputs": [],
   "source": [
    "# dataframes to clean\n",
    "y15=pd.read_csv('C://Users//Matthew//DA//Activities//Final_Project//Final Cuts//year2015.csv')\n",
    "y16=pd.read_csv('C://Users//Matthew//DA//Activities//Final_Project//Final Cuts//year2016.csv')\n",
    "y17=pd.read_csv('C://Users//Matthew//DA//Activities//Final_Project//Final Cuts//year2017.csv')\n",
    "# Clean versions\n",
    "c12=pd.read_csv('C://Users//Matthew//DA//Activities//Final_Project//Final Cuts//clean_2012.csv')\n",
    "c13=pd.read_csv('C://Users//Matthew//DA//Activities//Final_Project//Final Cuts//clean_2013.csv')\n",
    "c14=pd.read_csv('C://Users//Matthew//DA//Activities//Final_Project//Final Cuts//clean_2014.csv')\n",
    "c15=pd.read_csv('C://Users//Matthew//DA//Activities//Final_Project//Final Cuts//clean_2015.csv')\n",
    "c16=pd.read_csv('C://Users//Matthew//DA//Activities//Final_Project//Final Cuts//clean_2016.csv')\n",
    "c17=pd.read_csv('C://Users//Matthew//DA//Activities//Final_Project//Final Cuts//clean_2017.csv')"
   ]
  },
  {
   "cell_type": "code",
   "execution_count": null,
   "id": "c0792988",
   "metadata": {},
   "outputs": [],
   "source": [
    "ytest15.to_csv('clean_2015.csv')\n",
    "ytest16.to_csv('clean_2016.csv')\n",
    "ytest17.to_csv('clean_2017.csv')"
   ]
  },
  {
   "cell_type": "code",
   "execution_count": 104,
   "id": "9d571c7c",
   "metadata": {},
   "outputs": [
    {
     "data": {
      "text/plain": [
       "Unnamed: 0                 0\n",
       "Invoice/Item Number        0\n",
       "Date                       0\n",
       "Store Number               0\n",
       "Store Name                 0\n",
       "Address                    0\n",
       "City                       0\n",
       "Zip Code                   0\n",
       "Store Location             0\n",
       "County Number              0\n",
       "County                     0\n",
       "Category                 231\n",
       "Category Name            280\n",
       "Vendor Number              0\n",
       "Vendor Name                0\n",
       "Item Number                0\n",
       "Item Description           0\n",
       "Pack                       0\n",
       "Bottle Volume (ml)         0\n",
       "State Bottle Cost          0\n",
       "State Bottle Retail        0\n",
       "Bottles Sold               0\n",
       "Sale (Dollars)             0\n",
       "Volume Sold (Liters)       0\n",
       "Volume Sold (Gallons)      0\n",
       "Year                       0\n",
       "dtype: int64"
      ]
     },
     "execution_count": 104,
     "metadata": {},
     "output_type": "execute_result"
    }
   ],
   "source": [
    "y15.isna().sum()"
   ]
  },
  {
   "cell_type": "code",
   "execution_count": 6,
   "id": "06026a64",
   "metadata": {},
   "outputs": [],
   "source": [
    "ytest15=y15"
   ]
  },
  {
   "cell_type": "code",
   "execution_count": 9,
   "id": "ba53b57e",
   "metadata": {},
   "outputs": [],
   "source": [
    "ytest16=y16"
   ]
  },
  {
   "cell_type": "code",
   "execution_count": 105,
   "id": "4e5f437f",
   "metadata": {},
   "outputs": [
    {
     "data": {
      "text/plain": [
       "Unnamed: 0                 0\n",
       "Invoice/Item Number        0\n",
       "Date                       0\n",
       "Store Number               0\n",
       "Store Name                 0\n",
       "Address                    0\n",
       "City                       0\n",
       "Zip Code                   0\n",
       "Store Location             0\n",
       "County Number              0\n",
       "County                     0\n",
       "Category                   5\n",
       "Category Name            121\n",
       "Vendor Number              2\n",
       "Vendor Name                0\n",
       "Item Number                0\n",
       "Item Description           0\n",
       "Pack                       0\n",
       "Bottle Volume (ml)         0\n",
       "State Bottle Cost          0\n",
       "State Bottle Retail        0\n",
       "Bottles Sold               0\n",
       "Sale (Dollars)             0\n",
       "Volume Sold (Liters)       0\n",
       "Volume Sold (Gallons)      0\n",
       "Year                       0\n",
       "dtype: int64"
      ]
     },
     "execution_count": 105,
     "metadata": {},
     "output_type": "execute_result"
    }
   ],
   "source": [
    "y16.isna().sum()"
   ]
  },
  {
   "cell_type": "code",
   "execution_count": 11,
   "id": "93932a64",
   "metadata": {},
   "outputs": [],
   "source": [
    "ytest17=y17"
   ]
  },
  {
   "cell_type": "code",
   "execution_count": 106,
   "id": "95987965",
   "metadata": {},
   "outputs": [
    {
     "data": {
      "text/plain": [
       "Unnamed: 0                 0\n",
       "Invoice/Item Number        0\n",
       "Date                       0\n",
       "Store Number               0\n",
       "Store Name                 0\n",
       "Address                    1\n",
       "City                       0\n",
       "Zip Code                   0\n",
       "Store Location             0\n",
       "County Number              0\n",
       "County                     0\n",
       "Category                 128\n",
       "Category Name            126\n",
       "Vendor Number              0\n",
       "Vendor Name                0\n",
       "Item Number                0\n",
       "Item Description           0\n",
       "Pack                       0\n",
       "Bottle Volume (ml)         0\n",
       "State Bottle Cost          0\n",
       "State Bottle Retail        0\n",
       "Bottles Sold               0\n",
       "Sale (Dollars)             0\n",
       "Volume Sold (Liters)       0\n",
       "Volume Sold (Gallons)      0\n",
       "Year                       0\n",
       "dtype: int64"
      ]
     },
     "execution_count": 106,
     "metadata": {},
     "output_type": "execute_result"
    }
   ],
   "source": [
    "y17.isna().sum()"
   ]
  },
  {
   "cell_type": "code",
   "execution_count": 110,
   "id": "c7663571",
   "metadata": {},
   "outputs": [
    {
     "data": {
      "text/html": [
       "<div>\n",
       "<style scoped>\n",
       "    .dataframe tbody tr th:only-of-type {\n",
       "        vertical-align: middle;\n",
       "    }\n",
       "\n",
       "    .dataframe tbody tr th {\n",
       "        vertical-align: top;\n",
       "    }\n",
       "\n",
       "    .dataframe thead th {\n",
       "        text-align: right;\n",
       "    }\n",
       "</style>\n",
       "<table border=\"1\" class=\"dataframe\">\n",
       "  <thead>\n",
       "    <tr style=\"text-align: right;\">\n",
       "      <th></th>\n",
       "      <th>Unnamed: 0</th>\n",
       "      <th>Invoice/Item Number</th>\n",
       "      <th>Date</th>\n",
       "      <th>Store Number</th>\n",
       "      <th>Store Name</th>\n",
       "      <th>Address</th>\n",
       "      <th>City</th>\n",
       "      <th>Zip Code</th>\n",
       "      <th>Store Location</th>\n",
       "      <th>County Number</th>\n",
       "      <th>County</th>\n",
       "      <th>Category</th>\n",
       "      <th>Category Name</th>\n",
       "      <th>Vendor Number</th>\n",
       "      <th>Vendor Name</th>\n",
       "      <th>Item Number</th>\n",
       "      <th>Item Description</th>\n",
       "      <th>Pack</th>\n",
       "      <th>Bottle Volume (ml)</th>\n",
       "      <th>State Bottle Cost</th>\n",
       "      <th>State Bottle Retail</th>\n",
       "      <th>Bottles Sold</th>\n",
       "      <th>Sale (Dollars)</th>\n",
       "      <th>Volume Sold (Liters)</th>\n",
       "      <th>Volume Sold (Gallons)</th>\n",
       "      <th>Year</th>\n",
       "    </tr>\n",
       "  </thead>\n",
       "  <tbody>\n",
       "    <tr>\n",
       "      <th>1050009</th>\n",
       "      <td>11757989</td>\n",
       "      <td>INV-05674000001</td>\n",
       "      <td>06/22/2017</td>\n",
       "      <td>9932</td>\n",
       "      <td>3-Oaks Distillery, LLC</td>\n",
       "      <td>NaN</td>\n",
       "      <td>Dubuque</td>\n",
       "      <td>52002.0</td>\n",
       "      <td>Dubuque 52002\\n(42.516027, -90.766335)</td>\n",
       "      <td>31.0</td>\n",
       "      <td>DUBUQUE</td>\n",
       "      <td>1011100.0</td>\n",
       "      <td>Blended Whiskies</td>\n",
       "      <td>215.0</td>\n",
       "      <td>3-Oaks Distillery, LLC</td>\n",
       "      <td>27890</td>\n",
       "      <td>3-Oaks Distillery Whiskey</td>\n",
       "      <td>12</td>\n",
       "      <td>750</td>\n",
       "      <td>$21.60</td>\n",
       "      <td>$32.40</td>\n",
       "      <td>1</td>\n",
       "      <td>$388.80</td>\n",
       "      <td>0.75</td>\n",
       "      <td>0.19</td>\n",
       "      <td>17</td>\n",
       "    </tr>\n",
       "  </tbody>\n",
       "</table>\n",
       "</div>"
      ],
      "text/plain": [
       "         Unnamed: 0 Invoice/Item Number        Date  Store Number  \\\n",
       "1050009    11757989     INV-05674000001  06/22/2017          9932   \n",
       "\n",
       "                     Store Name Address     City Zip Code  \\\n",
       "1050009  3-Oaks Distillery, LLC     NaN  Dubuque  52002.0   \n",
       "\n",
       "                                 Store Location  County Number   County  \\\n",
       "1050009  Dubuque 52002\\n(42.516027, -90.766335)           31.0  DUBUQUE   \n",
       "\n",
       "          Category     Category Name  Vendor Number             Vendor Name  \\\n",
       "1050009  1011100.0  Blended Whiskies          215.0  3-Oaks Distillery, LLC   \n",
       "\n",
       "         Item Number           Item Description  Pack  Bottle Volume (ml)  \\\n",
       "1050009        27890  3-Oaks Distillery Whiskey    12                 750   \n",
       "\n",
       "        State Bottle Cost State Bottle Retail  Bottles Sold Sale (Dollars)  \\\n",
       "1050009            $21.60              $32.40             1        $388.80   \n",
       "\n",
       "         Volume Sold (Liters)  Volume Sold (Gallons)  Year  \n",
       "1050009                  0.75                   0.19    17  "
      ]
     },
     "execution_count": 110,
     "metadata": {},
     "output_type": "execute_result"
    }
   ],
   "source": [
    "y17[y17['Address'].isna()]"
   ]
  },
  {
   "cell_type": "code",
   "execution_count": 14,
   "id": "7188241f",
   "metadata": {},
   "outputs": [],
   "source": [
    "saddy=pd.read_csv('C://Users//Matthew//DA//Activities//Final_Project//Final Cuts//storenumaddress.csv')\n",
    "scity=pd.read_csv('C://Users//Matthew//DA//Activities//Final_Project//Final Cuts//storenumcity.csv')\n",
    "sco=pd.read_csv('C://Users//Matthew//DA//Activities//Final_Project//Final Cuts//storenumcounty.csv')\n",
    "sconum=pd.read_csv('C://Users//Matthew//DA//Activities//Final_Project//Final Cuts//storenumcountynum.csv')\n",
    "sloc=pd.read_csv('C://Users//Matthew//DA//Activities//Final_Project//Final Cuts//storenumlocation.csv')\n",
    "szip=pd.read_csv('C://Users//Matthew//DA//Activities//Final_Project//Final Cuts//storenumzip.csv')\n",
    "venname=pd.read_csv('C://Users//Matthew//DA//Activities//Final_Project//Final Cuts//storenumvendorname.csv')\n",
    "vennum=pd.read_csv('C://Users//Matthew//DA//Activities//Final_Project//Final Cuts//storenumvendornumber.csv')\n",
    "cat=pd.read_csv('C://Users//Matthew//DA//Activities//Final_Project//Final Cuts//idcategory.csv')\n",
    "catname=pd.read_csv('C://Users//Matthew//DA//Activities//Final_Project//Final Cuts//idcategoryname.csv')"
   ]
  },
  {
   "cell_type": "code",
   "execution_count": 31,
   "id": "10e765e8",
   "metadata": {},
   "outputs": [],
   "source": [
    "vennumdict={}\n",
    "for i in vennum['Item Description']:\n",
    "    vennumdict[i]=vennum[vennum['Item Description']==i]['Vendor Number'].values[0]\n",
    "vennumnadict={}\n",
    "for i in venname['Item Description']:\n",
    "    vennumnadict[i]=venname[venname['Item Description']==i]['Vendor Name'].values[0]\n",
    "catnamedict={}\n",
    "for i in catname['Item Description']:\n",
    "    catnamedict[i]=catname[catname['Item Description']==i]['Category Name'].values[0]\n",
    "catdict={}\n",
    "for i in cat['Item Description']:\n",
    "    catdict[i]=cat[cat['Item Description']==i]['Category'].values[0]\n",
    "citydict={}\n",
    "for i in scity['Store Number']:\n",
    "    citydict[i]=scity[scity['Store Number']==i]['City'].values[0]\n",
    "countynumdict={}\n",
    "for i in sconum['Store Number']:\n",
    "    countynumdict[i]=sconum[sconum['Store Number']==i]['County Number'].values[0]\n",
    "slalldict={}\n",
    "for i in sloc['Store Number']:\n",
    "    slalldict[i]=sloc[sloc['Store Number']==i]['Store Location'].values[0]\n",
    "salldict={}\n",
    "for i in saddy['Store Number']:\n",
    "    salldict[i]=saddy[saddy['Store Number']==i]['Address'].values[0]\n",
    "zipdict={}\n",
    "for i in szip['Store Number']:\n",
    "    zipdict[i]=szip[szip['Store Number']==i]['Zip Code'].values[0]\n",
    "countydict={}\n",
    "for i in sco['Store Number']:\n",
    "    countydict[i]=sco[sco['Store Number']==i]['County'].values[0]"
   ]
  },
  {
   "cell_type": "code",
   "execution_count": 91,
   "id": "1758ef52",
   "metadata": {},
   "outputs": [],
   "source": [
    "def get_category_name(x,y):\n",
    "    storelist=list(catnamedict.keys())\n",
    "    if (pd.isna(x)) and (y in storelist):\n",
    "        return catnamedict[y]\n",
    "    else:\n",
    "        return x\n",
    "def get_category(x,y):\n",
    "    storelist=list(catdict.keys())\n",
    "    if (pd.isna(x)) and (y in storelist):\n",
    "        return catdict[y]\n",
    "    else:\n",
    "        return x\n",
    "def get_address(x,y):\n",
    "    storelist=list(salldict.keys())\n",
    "    if (pd.isna(x)) & (y in storelist):\n",
    "        return salldict[y]\n",
    "    else:\n",
    "        return x\n",
    "def get_store_location(x,y):\n",
    "    storelist=list(slalldict.keys())\n",
    "    if (pd.isna(x)) & (y in storelist):\n",
    "        return slalldict[y]\n",
    "    else:\n",
    "        return x\n",
    "def get_zip(x,y):\n",
    "    storelist=list(zipdict.keys())\n",
    "    if (pd.isna(x)) and (y in storelist):\n",
    "        return zipdict[y]\n",
    "    else:\n",
    "        return x\n",
    "def get_county(x,y):\n",
    "    storelist=list(countydict.keys())\n",
    "    if (pd.isna(x)) and (y in storelist):\n",
    "        return countydict[y]\n",
    "    else:\n",
    "        return x\n",
    "def get_county2(x,y):\n",
    "    if (pd.isna(x)) and (y == 'Mason City'):\n",
    "        return 'CERRO GORD'\n",
    "    elif (pd.isna(x)) and (y == 'MASON CITY'):\n",
    "        return 'CERRO GORD'\n",
    "    else:\n",
    "        return x\n",
    "def get_county_number(x,y):\n",
    "    storelist=list(countynumdict.keys())\n",
    "    if (pd.isna(x)) and (y in storelist):\n",
    "        return countynumdict[y]\n",
    "    else:\n",
    "        return x\n",
    "def get_county_number2(x,y):\n",
    "    if (pd.isna(x)) and (y == 'Mason City'):\n",
    "        return '17.'\n",
    "    elif (pd.isna(x)) and (y == 'MASON CITY'):\n",
    "        return '17.'\n",
    "    else:\n",
    "        return x\n",
    "def get_city(x,y):\n",
    "    storelist=list(citydict.keys())\n",
    "    if (pd.isna(x)) and (y in storelist):\n",
    "        return citydict[y]\n",
    "    else:\n",
    "        return x\n",
    "def get_vendor_name(x,y):\n",
    "    storelist=list(vennumnadict.keys())\n",
    "    if (pd.isna(x)) and (y in storelist):\n",
    "        return vennumnadict[y]\n",
    "    else:\n",
    "        return x\n",
    "def get_vendor_number(x,y):\n",
    "    storelist=list(vennumdict.keys())\n",
    "    if (pd.isna(x)) and (y in storelist):\n",
    "        return vennumdict[y]\n",
    "    else:\n",
    "        return x\n",
    "\n",
    "def category_name2(x,y):\n",
    "    if (pd.isna(x)):\n",
    "        if (y==\"Galliano L'Autentico\"):\n",
    "            return 'MISC. IMPORTED CORDIALS & LIQUEURS'\n",
    "        elif (y=='Spanish Single Malt 100ml'):\n",
    "            return 'SINGLE MALT SCOTCH'\n",
    "        elif (y=='Spanish Single Malt 1 Liter'):\n",
    "            return 'SINGLE MALT SCOTCH'\n",
    "        elif (y=='Spanish Single Malt 375ml'):\n",
    "            return 'SINGLE MALT SCOTCH'\n",
    "        elif (y=='Spanish Single Malt 50ml'):\n",
    "            return 'SINGLE MALT SCOTCH'\n",
    "        elif (y=='Spanish Single Malt 750ml'):\n",
    "            return 'SINGLE MALT SCOTCH'\n",
    "        elif (y=='Spanish Single Malt 200ml'):\n",
    "            return 'SINGLE MALT SCOTCH'\n",
    "        elif (y=='Deep Eddy  Lemon Vodka'):\n",
    "            return 'VODKA FLAVORED'\n",
    "        elif (y=='\"Beefeater \"\"24\"\"\"'):\n",
    "            return 'IMPORTED DRY GINS'\n",
    "        elif (y=='Ansac VS  Cognac'):\n",
    "            return 'Imported Brandies'\n",
    "        elif (y=='Aalborg Jubilaeums Aquavit'):\n",
    "            return 'Imported Cordials & Liqueur'\n",
    "        elif (y=='Patron Silver 750 Box Tray Pack'):\n",
    "            return 'DECANTERS & SPECIALTY PACKAGES'\n",
    "        elif (y=='Patron Citronge Mango'):\n",
    "            return '100% Agave Tequila'\n",
    "        elif (y=='Deanston Organic 14YR'):\n",
    "            return 'SINGLE MALT SCOTCH'\n",
    "        elif (y=='HA Orphan Barrel Barterhouse'):\n",
    "            return 'STRAIGHT BOURBON WHISKIES'\n",
    "        elif (y=='HA Orphan Barrel Forged Oak'):\n",
    "            return 'STRAIGHT BOURBON WHISKIES'\n",
    "        elif (y=='Rothman & Winter Orchard Peach'):\n",
    "            return 'MISC. IMPORTED CORDIALS & LIQUEURS'\n",
    "        elif (y=='HA Pikesville Rye 110prf'):\n",
    "            return 'STRAIGHT RYE WHISKIES'\n",
    "        elif (y=='HA Johnnie Walker Private Collection 2014 Smoke'):\n",
    "            return 'SCOTCH WHISKIES'\n",
    "        elif (y=='Jose Cuervo Especial Silver/Flask'):\n",
    "            return 'DECANTERS & SPECIALTY PACKAGES'\n",
    "        elif (y=='Jose Cuervo Especial Gold /Flask'):\n",
    "            return  'DECANTERS & SPECIALTY PACKAGES'\n",
    "        elif (y==\"Aberlour A''bunadh\"):\n",
    "            return 'SINGLE MALT SCOTCH'\n",
    "        elif (y=='El Mayor Extra Anejo 100% Agave'):\n",
    "            return 'TEQUILA'\n",
    "        elif (y=='Ezra Brooks Bourbon Cream Mini'):\n",
    "            return 'Temporary & Specialty Packages'\n",
    "        elif (y==\"Michter's US*1 SB Rye\"):\n",
    "            return 'STRAIGHT RYE WHISKIES'\n",
    "        elif (y=='Glen Moray Scotch Classic Port Cask w/2 Glasses'):\n",
    "            return  'DECANTERS & SPECIALTY PACKAGES'\n",
    "        elif (y=='Zaya Gran Reserva Rum w/2 Rocks Glasses'):\n",
    "            return   'DECANTERS & SPECIALTY PACKAGES'\n",
    "        elif (y=='Corralejo Silver w/2 Sangrita Glasses'):\n",
    "            return  'DECANTERS & SPECIALTY PACKAGES'\n",
    "        elif (y=='Southern Comfort w/2 Rock Glasses'):\n",
    "            return  'DECANTERS & SPECIALTY PACKAGES'\n",
    "        elif (y=='Crystal Head Vodka w/2 Skull Glasses'):\n",
    "            return  'DECANTERS & SPECIALTY PACKAGES'\n",
    "        elif (y=='Hornitos Plata w/Glasses'):\n",
    "            return  'DECANTERS & SPECIALTY PACKAGES'\n",
    "        elif (y=='Hornitos Reposado w/Glasses'):\n",
    "            return   'DECANTERS & SPECIALTY PACKAGES'\n",
    "        elif (y=='Glen Moray Classic Chardonnay Cask Finish w/2 Glasses'):\n",
    "            return  'DECANTERS & SPECIALTY PACKAGES'\n",
    "        else:\n",
    "            return x\n",
    "    else:\n",
    "        return x\n",
    "\n",
    "def category2(x,y):\n",
    "    if (pd.isna(x)):\n",
    "        if (y==\"Galliano L'Autentico\"):\n",
    "            return '1082900.'\n",
    "        elif (y=='Spanish Single Malt 100ml'):\n",
    "            return '1012210.'\n",
    "        elif (y=='Spanish Single Malt 1 Liter'):\n",
    "            return  '1012210.'\n",
    "        elif (y=='Spanish Single Malt 375ml'):\n",
    "            return  '1012210.'\n",
    "        elif (y=='Spanish Single Malt 50ml'):\n",
    "            return  '1012210.'\n",
    "        elif (y=='Spanish Single Malt 750ml'):\n",
    "            return  '1012210.'\n",
    "        elif (y=='Spanish Single Malt 200ml'):\n",
    "            return  '1012210.'\n",
    "        elif (y=='Deep Eddy  Lemon Vodka'):\n",
    "            return '1031200.'\n",
    "        elif (y=='\"Beefeater \"\"24\"\"\"'):\n",
    "            return '1042100.'\n",
    "        elif (y=='Ansac VS  Cognac'):\n",
    "            return '1052100.'\n",
    "        elif (y=='Aalborg Jubilaeums Aquavit'):\n",
    "            return '1082100.'\n",
    "        elif (y=='Patron Silver 750 Box Tray Pack'):\n",
    "            return  '1701100.'\n",
    "        elif (y=='Patron Citronge Mango'):\n",
    "            return '1022200.'\n",
    "        elif (y=='Deanston Organic 14YR'):\n",
    "            return '1012210.'\n",
    "        elif (y=='HA Orphan Barrel Barterhouse'):\n",
    "            return '1011200.'\n",
    "        elif (y=='HA Orphan Barrel Forged Oak'):\n",
    "            return '1011200.'\n",
    "        elif (y=='Rothman & Winter Orchard Peach'):\n",
    "            return '1082900.'\n",
    "        elif (y=='HA Pikesville Rye 110prf'):\n",
    "            return '1011500.'\n",
    "        elif (y=='HA Johnnie Walker Private Collection 2014 Smoke'):\n",
    "            return '1012200.'\n",
    "        elif (y=='Jose Cuervo Especial Silver/Flask'):\n",
    "            return '1701100.'\n",
    "        elif (y=='Jose Cuervo Especial Gold /Flask'):\n",
    "            return '1701100.'\n",
    "        elif (y==\"Aberlour A''bunadh\"):\n",
    "            return '1012210.'\n",
    "        elif (y=='El Mayor Extra Anejo 100% Agave'):\n",
    "            return '1022100.'\n",
    "        elif (y=='Ezra Brooks Bourbon Cream Mini'):\n",
    "            return '1701100.'\n",
    "        elif (y==\"Michter's US*1 SB Rye\"):\n",
    "            return '1011500.'\n",
    "        elif (y=='Glen Moray Scotch Classic Port Cask w/2 Glasses'):\n",
    "            return '1701100.'\n",
    "        elif (y=='Zaya Gran Reserva Rum w/2 Rocks Glasses'):\n",
    "            return  '1701100.'\n",
    "        elif (y=='Corralejo Silver w/2 Sangrita Glasses'):\n",
    "            return '1701100.'\n",
    "        elif (y=='Southern Comfort w/2 Rock Glasses'):\n",
    "            return '1701100.'\n",
    "        elif (y=='Crystal Head Vodka w/2 Skull Glasses'):\n",
    "            return '1701100.'\n",
    "        elif (y=='Hornitos Plata w/Glasses'):\n",
    "            return '1701100.'\n",
    "        elif (y=='Hornitos Reposado w/Glasses'):\n",
    "            return  '1701100.'\n",
    "        elif (y=='Glen Moray Classic Chardonnay Cask Finish w/2 Glasses'):\n",
    "            return '1701100.'\n",
    "        else:\n",
    "            return x\n",
    "    else:\n",
    "        return x"
   ]
  },
  {
   "cell_type": "markdown",
   "id": "d0d794f7",
   "metadata": {},
   "source": [
    "# Then go y15 through y17 and clean all files"
   ]
  },
  {
   "cell_type": "code",
   "execution_count": null,
   "id": "53d2866b",
   "metadata": {},
   "outputs": [],
   "source": [
    "y15['County']=list(map(get_county,y15['County'],y15['Store Number']))\n",
    "y15['County']=list(map(get_county2,y15['County'],y15['City']))\n",
    "y15['County Number']=list(map(get_county_number,y15['County Number'],y15['Store Number']))\n",
    "y15['County Number']=list(map(get_county_number2,y15['County Number'],y15['City']))\n",
    "y15['Category Name']=list(map(category_name2,y15['Category Name'],y15['Item Description']))\n",
    "y15['Category']=list(map(category2,y15['Category'],y15['Item Description']))\n",
    "y15['Category Name']=list(map(get_category_name,y15['Category Name'],y15['Item Description']))\n",
    "y15['Category']=list(map(get_category,y15['Category'],y15['Item Description']))"
   ]
  },
  {
   "cell_type": "code",
   "execution_count": 38,
   "id": "d186484c",
   "metadata": {
    "scrolled": true
   },
   "outputs": [
    {
     "data": {
      "text/plain": [
       "Unnamed: 0                 0\n",
       "Invoice/Item Number        0\n",
       "Date                       0\n",
       "Store Number               0\n",
       "Store Name                 0\n",
       "Address                    0\n",
       "City                       0\n",
       "Zip Code                   0\n",
       "Store Location             0\n",
       "County Number              0\n",
       "County                     0\n",
       "Category                 231\n",
       "Category Name            280\n",
       "Vendor Number              0\n",
       "Vendor Name                0\n",
       "Item Number                0\n",
       "Item Description           0\n",
       "Pack                       0\n",
       "Bottle Volume (ml)         0\n",
       "State Bottle Cost          0\n",
       "State Bottle Retail        0\n",
       "Bottles Sold               0\n",
       "Sale (Dollars)             0\n",
       "Volume Sold (Liters)       0\n",
       "Volume Sold (Gallons)      0\n",
       "Year                       0\n",
       "dtype: int64"
      ]
     },
     "execution_count": 38,
     "metadata": {},
     "output_type": "execute_result"
    }
   ],
   "source": [
    "ytest15.isna().sum()"
   ]
  },
  {
   "cell_type": "code",
   "execution_count": 97,
   "id": "e604d0b7",
   "metadata": {},
   "outputs": [],
   "source": [
    "ytest15.to_csv('tempclean15.csv')"
   ]
  },
  {
   "cell_type": "code",
   "execution_count": 102,
   "id": "c6d5fb6f",
   "metadata": {},
   "outputs": [
    {
     "data": {
      "text/plain": [
       "87"
      ]
     },
     "execution_count": 102,
     "metadata": {},
     "output_type": "execute_result"
    }
   ],
   "source": [
    "len(ytest15['Category'].unique())"
   ]
  },
  {
   "cell_type": "code",
   "execution_count": 103,
   "id": "ef986b1a",
   "metadata": {},
   "outputs": [
    {
     "data": {
      "text/plain": [
       "83"
      ]
     },
     "execution_count": 103,
     "metadata": {},
     "output_type": "execute_result"
    }
   ],
   "source": [
    "len(ytest15['Category Name'].unique())"
   ]
  },
  {
   "cell_type": "code",
   "execution_count": 39,
   "id": "c6de38a3",
   "metadata": {},
   "outputs": [
    {
     "data": {
      "text/plain": [
       "array(['Knob Creek w/ Crystal Decanter',\n",
       "       'Wild Turkey American Honey Shot Tap',\n",
       "       'Woodford Reserve MC 1838 White Corn', 'Bombay Sapphire w/Glass',\n",
       "       'Glenfiddich 1963 Replica HA',\n",
       "       'Jack Daniels TN Honey & Jack Daniels TN Fire 750mls w/2Gls',\n",
       "       'Parkers Heritage Collection Malt Whiskey HA',\n",
       "       'Chivas Regal 18YR Tin HA'], dtype=object)"
      ]
     },
     "execution_count": 39,
     "metadata": {},
     "output_type": "execute_result"
    }
   ],
   "source": [
    "ytest15[ytest15['Category'].isna()]['Item Description'].unique()"
   ]
  },
  {
   "cell_type": "code",
   "execution_count": null,
   "id": "1e9e0690",
   "metadata": {},
   "outputs": [],
   "source": [
    "y16['Address']=list(map(get_address,y16['Address'],y16['Store Number']))\n",
    "y16['Category Name']=list(map(category_name2,y16['Category Name'],y16['Item Description']))\n",
    "y16['Category']=list(map(category2,y16['Category'],y16['Item Description']))\n",
    "y16['Vendor Number']=list(map(get_vendor_number,y16['Vendor Number'],y16['Item Description']))\n",
    "y16['Category Name']=list(map(get_category_name,y16['Category Name'],y16['Item Description']))\n",
    "y16['Vendor Name']=list(map(get_vendor_name,y16['Vendor Name'],y16['Item Description']))\n",
    "y16['Category']=list(map(get_category,y16['Category'],y16['Item Description']))\n",
    "y16['City']=list(map(get_city,y16['City'],y16['Store Number']))\n",
    "y16['County Number']=list(map(get_county_number,y16['County Number'],y16['Store Number']))\n",
    "y16['County Number']=list(map(get_county_number2,y16['County Number'],y16['City']))\n",
    "y16['County']=list(map(get_county,y16['County'],y16['Store Number']))\n",
    "y16['County']=list(map(get_county2,y16['County'],y16['City']))\n",
    "y16['Zip Code']=list(map(get_zip,y16['Zip Code'],y16['Store Number']))\n",
    "y16['Store Location']=list(map(get_store_location,y16['Store Location'],y16['Store Number']))"
   ]
  },
  {
   "cell_type": "code",
   "execution_count": null,
   "id": "912a94de",
   "metadata": {},
   "outputs": [],
   "source": [
    "y16.isna().sum()"
   ]
  },
  {
   "cell_type": "code",
   "execution_count": 62,
   "id": "b700b99b",
   "metadata": {},
   "outputs": [
    {
     "data": {
      "text/plain": [
       "array(['MASON CITY', 'Mason City'], dtype=object)"
      ]
     },
     "execution_count": 62,
     "metadata": {},
     "output_type": "execute_result"
    }
   ],
   "source": [
    "y16[y16['County'].isna()]['City'].unique()"
   ]
  },
  {
   "cell_type": "code",
   "execution_count": 90,
   "id": "36f5f24a",
   "metadata": {},
   "outputs": [
    {
     "data": {
      "text/plain": [
       "array([17., nan])"
      ]
     },
     "execution_count": 90,
     "metadata": {},
     "output_type": "execute_result"
    }
   ],
   "source": [
    "y16[y16['City']=='MASON CITY']['County Number'].unique()"
   ]
  },
  {
   "cell_type": "code",
   "execution_count": 93,
   "id": "7436fddd",
   "metadata": {},
   "outputs": [
    {
     "data": {
      "text/plain": [
       "Unnamed: 0                 0\n",
       "Invoice/Item Number        0\n",
       "Date                       0\n",
       "Store Number               0\n",
       "Store Name                 0\n",
       "Address                    0\n",
       "City                       0\n",
       "Zip Code                   0\n",
       "Store Location             0\n",
       "County Number              0\n",
       "County                     0\n",
       "Category                   5\n",
       "Category Name            121\n",
       "Vendor Number              2\n",
       "Vendor Name                0\n",
       "Item Number                0\n",
       "Item Description           0\n",
       "Pack                       0\n",
       "Bottle Volume (ml)         0\n",
       "State Bottle Cost          0\n",
       "State Bottle Retail        0\n",
       "Bottles Sold               0\n",
       "Sale (Dollars)             0\n",
       "Volume Sold (Liters)       0\n",
       "Volume Sold (Gallons)      0\n",
       "Year                       0\n",
       "dtype: int64"
      ]
     },
     "execution_count": 93,
     "metadata": {},
     "output_type": "execute_result"
    }
   ],
   "source": [
    "y16.isna().sum()"
   ]
  },
  {
   "cell_type": "code",
   "execution_count": 96,
   "id": "3d7f489d",
   "metadata": {},
   "outputs": [],
   "source": [
    "y16.to_csv('tempclean16.csv')"
   ]
  },
  {
   "cell_type": "code",
   "execution_count": 81,
   "id": "00672e2b",
   "metadata": {},
   "outputs": [
    {
     "data": {
      "text/plain": [
       "array(['Jack Daniels TN Honey & Jack Daniels TN Fire 750mls w/2Gls',\n",
       "       'Ty Ku Coconut', 'Calvados Morin Selection 3YR', 'Ron Abuelo 12YR',\n",
       "       'Ron Abuelo Anejo 7YR'], dtype=object)"
      ]
     },
     "execution_count": 81,
     "metadata": {},
     "output_type": "execute_result"
    }
   ],
   "source": [
    "y16[y16['Category'].isna()]['Item Description'].unique()"
   ]
  },
  {
   "cell_type": "code",
   "execution_count": 82,
   "id": "65bb5ed6",
   "metadata": {},
   "outputs": [
    {
     "data": {
      "text/plain": [
       "array(['Karlssons Gold Vodka', 'High Stick Vodka', 'Kahlua Mocha',\n",
       "       'Jack Daniels TN Honey & Jack Daniels TN Fire 750mls w/2Gls',\n",
       "       \"Dr. McGillicuddy's Mentholmint\", 'Pearl Caramel',\n",
       "       'Del Maguey San Luis Del Rio', 'Twenty Grand Gold',\n",
       "       'White Dog Wheat HA', 'White Dog Mash #1 HA',\n",
       "       'White Dog Straight Rye HA', 'Ole Smoky Moonshine - Margarita',\n",
       "       'Ty Ku Coconut', 'Ciroc Ten HA', 'Blueberry Valentino  1.75Liter',\n",
       "       'Blueberry Valentino 750ml', 'Blue Chair Bay Banana Rum',\n",
       "       'Rondiaz Gran Reserva Spiced Rum', 'Gran Centenario Plata Tequila',\n",
       "       'Chateau du Busca Busca de Maniban XO No.1', 'Prairie Wolf Dark',\n",
       "       'The English Whisky Co. Peated Cask Strength Single Malt',\n",
       "       'Sullivans Cove American Cask Single Malt Whisky HA',\n",
       "       'Sullivans Cove Double Cask Single Malt HA',\n",
       "       'Disaronno Riserva HA', 'Barsol Selecto Italia Pisco',\n",
       "       'Encanto Grand & Noble', \"Burnett's Cucumber Lime  Vodka\",\n",
       "       'Calvados Morin Selection 3YR', 'Ron Abuelo 12YR',\n",
       "       'Ron Abuelo Anejo 7YR'], dtype=object)"
      ]
     },
     "execution_count": 82,
     "metadata": {},
     "output_type": "execute_result"
    }
   ],
   "source": [
    "y16[y16['Category Name'].isna()]['Item Description'].unique()"
   ]
  },
  {
   "cell_type": "code",
   "execution_count": 80,
   "id": "22c165b9",
   "metadata": {},
   "outputs": [
    {
     "data": {
      "text/plain": [
       "0"
      ]
     },
     "execution_count": 80,
     "metadata": {},
     "output_type": "execute_result"
    }
   ],
   "source": [
    "len(y16[y16['Vendor Name']=='Reservoir Distillery'])"
   ]
  },
  {
   "cell_type": "code",
   "execution_count": 55,
   "id": "d58a208a",
   "metadata": {},
   "outputs": [],
   "source": [
    "y17['Address']=list(map(get_address,y17['Address'],y17['Store Number']))\n",
    "y17['Zip Code']=list(map(get_zip,y17['Zip Code'],y17['Store Number']))\n",
    "y17['Store Location']=list(map(get_store_location,y17['Store Location'],y17['Store Number']))\n",
    "y17['Category Name']=list(map(category_name2,y17['Category Name'],y17['Item Description']))\n",
    "y17['Category']=list(map(category2,y17['Category'],y17['Item Description']))\n",
    "y17['Vendor Name']=list(map(get_vendor_name,y17['Vendor Name'],y17['Item Description']))\n",
    "y17['Vendor Number']=list(map(get_vendor_number,y17['Vendor Number'],y17['Item Description']))\n",
    "y17['Category']=list(map(get_category,y17['Category'],y17['Item Description']))\n",
    "y17['Category Name']=list(map(get_category_name,y17['Category Name'],y17['Item Description']))\n",
    "y17['County Number']=list(map(get_county_number,y17['County Number'],y17['Store Number']))\n",
    "y17['County Number']=list(map(get_county_number2,y17['County Number'],y17['City']))\n",
    "y17['County']=list(map(get_county,y17['County'],y17['Store Number']))\n",
    "y17['County']=list(map(get_county2,y17['County'],y17['City']))\n",
    "y17['City']=list(map(get_city,y17['City'],y17['Store Number']))"
   ]
  },
  {
   "cell_type": "code",
   "execution_count": 68,
   "id": "e60d0730",
   "metadata": {},
   "outputs": [
    {
     "data": {
      "text/plain": [
       "Unnamed: 0                 0\n",
       "Invoice/Item Number        0\n",
       "Date                       0\n",
       "Store Number               0\n",
       "Store Name                 0\n",
       "Address                    1\n",
       "City                       0\n",
       "Zip Code                   0\n",
       "Store Location             0\n",
       "County Number              0\n",
       "County                     0\n",
       "Category                 128\n",
       "Category Name            126\n",
       "Vendor Number              0\n",
       "Vendor Name                0\n",
       "Item Number                0\n",
       "Item Description           0\n",
       "Pack                       0\n",
       "Bottle Volume (ml)         0\n",
       "State Bottle Cost          0\n",
       "State Bottle Retail        0\n",
       "Bottles Sold               0\n",
       "Sale (Dollars)             0\n",
       "Volume Sold (Liters)       0\n",
       "Volume Sold (Gallons)      0\n",
       "Year                       0\n",
       "dtype: int64"
      ]
     },
     "execution_count": 68,
     "metadata": {},
     "output_type": "execute_result"
    }
   ],
   "source": [
    "y17.isna().sum()"
   ]
  },
  {
   "cell_type": "code",
   "execution_count": 72,
   "id": "91da3efd",
   "metadata": {},
   "outputs": [
    {
     "data": {
      "text/plain": [
       "array(['Bains Cape Mountain Whiskey', 'Don Pancho Origenes 8YR Rum',\n",
       "       'Barbados Rum 100ml', 'Barbados Rum 1 Liter',\n",
       "       'Barbados Rum 200 ml', 'Barbados Rum 375ml', 'Barbados Rum 50ml',\n",
       "       'Barbados Rum 750ml', 'Deep Eddy  Lemon Vodka',\n",
       "       'Diplomatico Reserva Exclusiva', 'Grand Teton Vodka',\n",
       "       'Athena Liq Ouzo Rum', 'Glenmorangie Bacalta HA',\n",
       "       'Valentine Vodka', 'Lairds Old Apple Brandy 7YR', 'Green Absinthe',\n",
       "       'Red Absinthe', 'Calvados Morin Selection 3YR',\n",
       "       'Seven Devils Straight Bourbon Whiskey HA', 'HA Seven Devils',\n",
       "       'Don Amado Mezcal Rustico', 'HA Michters US*1 Small Batch',\n",
       "       'HA Abraham Bowman Wine Finish Whiskey',\n",
       "       'HA Highland Park Ice Edition', 'Old Forester 1920',\n",
       "       'Ron Abuelo Anejo 7YR', 'HA Laphroaig 25YR Cask Strength',\n",
       "       'Ron Abuelo 12YR'], dtype=object)"
      ]
     },
     "execution_count": 72,
     "metadata": {},
     "output_type": "execute_result"
    }
   ],
   "source": [
    "y17[y17['Category'].isna()]['Item Description'].unique()"
   ]
  },
  {
   "cell_type": "code",
   "execution_count": 94,
   "id": "9397f133",
   "metadata": {},
   "outputs": [
    {
     "data": {
      "text/plain": [
       "Unnamed: 0                 0\n",
       "Invoice/Item Number        0\n",
       "Date                       0\n",
       "Store Number               0\n",
       "Store Name                 0\n",
       "Address                    1\n",
       "City                       0\n",
       "Zip Code                   0\n",
       "Store Location             0\n",
       "County Number              0\n",
       "County                     0\n",
       "Category                 128\n",
       "Category Name            126\n",
       "Vendor Number              0\n",
       "Vendor Name                0\n",
       "Item Number                0\n",
       "Item Description           0\n",
       "Pack                       0\n",
       "Bottle Volume (ml)         0\n",
       "State Bottle Cost          0\n",
       "State Bottle Retail        0\n",
       "Bottles Sold               0\n",
       "Sale (Dollars)             0\n",
       "Volume Sold (Liters)       0\n",
       "Volume Sold (Gallons)      0\n",
       "Year                       0\n",
       "dtype: int64"
      ]
     },
     "execution_count": 94,
     "metadata": {},
     "output_type": "execute_result"
    }
   ],
   "source": [
    "ytest17.isna().sum()"
   ]
  },
  {
   "cell_type": "code",
   "execution_count": 95,
   "id": "8da9dcb8",
   "metadata": {},
   "outputs": [],
   "source": [
    "y17.to_csv('tempclean17.csv')"
   ]
  },
  {
   "cell_type": "code",
   "execution_count": null,
   "id": "d505c356",
   "metadata": {},
   "outputs": [],
   "source": []
  }
 ],
 "metadata": {
  "kernelspec": {
   "display_name": "Python 3",
   "language": "python",
   "name": "python3"
  },
  "language_info": {
   "codemirror_mode": {
    "name": "ipython",
    "version": 3
   },
   "file_extension": ".py",
   "mimetype": "text/x-python",
   "name": "python",
   "nbconvert_exporter": "python",
   "pygments_lexer": "ipython3",
   "version": "3.8.8"
  }
 },
 "nbformat": 4,
 "nbformat_minor": 5
}

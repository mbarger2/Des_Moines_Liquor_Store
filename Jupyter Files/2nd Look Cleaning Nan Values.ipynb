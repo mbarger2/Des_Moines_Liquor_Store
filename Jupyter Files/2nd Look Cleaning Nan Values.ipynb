{
 "cells": [
  {
   "cell_type": "code",
   "execution_count": 1,
   "id": "29249852",
   "metadata": {},
   "outputs": [],
   "source": [
    "import pandas as pd\n",
    "import numpy as np\n",
    "import chunk\n",
    "import re\n",
    "from datetime import datetime\n",
    "\n",
    "pd.set_option('display.max_columns',30)"
   ]
  },
  {
   "cell_type": "code",
   "execution_count": 10,
   "id": "ed01052c",
   "metadata": {},
   "outputs": [],
   "source": [
    "\n",
    "y12=pd.read_csv('C://Users//Owner//DA//Classwork//0 Activities//Final_Project//Final Cuts//1 raw1//year2012.csv')"
   ]
  },
  {
   "cell_type": "code",
   "execution_count": 2,
   "id": "dd75748b",
   "metadata": {},
   "outputs": [],
   "source": [
    "#import the newly separated portions of the original data set\n",
    "y12=pd.read_csv('C://Users//Owner//DA//Classwork//0 Activities//Final_Project//Final Cuts//1 raw1//year2012.csv')\n",
    "y13=pd.read_csv('C://Users//Owner//DA//Classwork//0 Activities//Final_Project//Final Cuts//1 raw1//year2013.csv')\n",
    "y14=pd.read_csv('C://Users//Owner//DA//Classwork//0 Activities//Final_Project//Final Cuts//1 raw1//year2014.csv')\n",
    "y15=pd.read_csv('C://Users//Owner//DA//Classwork//0 Activities//Final_Project//Final Cuts//1 raw1//year2015.csv')\n",
    "y16=pd.read_csv('C://Users//Owner//DA//Classwork//0 Activities//Final_Project//Final Cuts//1 raw1//year2016.csv')\n",
    "y17=pd.read_csv('C://Users//Owner//DA//Classwork//0 Activities//Final_Project//Final Cuts//1 raw1//year2017.csv')"
   ]
  },
  {
   "cell_type": "code",
   "execution_count": 2,
   "id": "425d3e0c",
   "metadata": {},
   "outputs": [],
   "source": [
    "#dummy dataframe to use as an example how dictionaries and functions are applied\n",
    "ytest17=y17"
   ]
  },
  {
   "cell_type": "markdown",
   "id": "b1e544eb",
   "metadata": {},
   "source": [
    "# Creating Dictionaries to Clean Nan Values"
   ]
  },
  {
   "cell_type": "markdown",
   "id": "f901ef0a",
   "metadata": {},
   "source": [
    "### Columns with Nan values include : Address, City, Zip Code, Store Location, County Number, County, Category, Category Name, Vendor Number, Vendor Name"
   ]
  },
  {
   "cell_type": "code",
   "execution_count": null,
   "id": "f726b35e",
   "metadata": {},
   "outputs": [],
   "source": [
    "# Which columns include nan values in raw data?\n",
    "listof6 = (y12,y13,y14,y15,y16,y17)\n",
    "for i in listof6:\n",
    "    print(i.isna().sum())"
   ]
  },
  {
   "cell_type": "markdown",
   "id": "e1d4454e",
   "metadata": {},
   "source": [
    "### For each of these columns, a dictionary is made with a corresponding column where a 1:1 relationship is present. Therefore, the relationship can be used to fill in rows where the data is missing. The process for the 'Address' column walks through this process."
   ]
  },
  {
   "cell_type": "markdown",
   "id": "7ff65c1e",
   "metadata": {},
   "source": [
    "### Address"
   ]
  },
  {
   "cell_type": "code",
   "execution_count": null,
   "id": "831fc63f",
   "metadata": {},
   "outputs": [],
   "source": [
    "#concatenating data from Store Number and Address columns\n",
    "sall=pd.concat([y17[['Store Number','Address']],y16[['Store Number','Address']],y15[['Store Number','Address']],y14[['Store Number','Address']],y13[['Store Number','Address']],y12[['Store Number','Address']]])\n",
    "#dropping all nan values from Address (there are no nons in the Store Number column)\n",
    "sall=sall[sall['Address'].notna()]\n",
    "#dropping all duplicate store number values \n",
    "sall.drop_duplicates(subset=['Store Number'],inplace=True)\n",
    "#exporting to a file for easy future reference\n",
    "sall.to_csv('storenumaddress.csv')"
   ]
  },
  {
   "cell_type": "code",
   "execution_count": 184,
   "id": "32204595",
   "metadata": {},
   "outputs": [
    {
     "data": {
      "text/plain": [
       "1884"
      ]
     },
     "execution_count": 184,
     "metadata": {},
     "output_type": "execute_result"
    }
   ],
   "source": [
    "#there are 1884 stores in the entire dataset, checking length to confirm uniqueness of values\n",
    "len(slall)"
   ]
  },
  {
   "cell_type": "code",
   "execution_count": 40,
   "id": "eedc8a6c",
   "metadata": {},
   "outputs": [],
   "source": [
    "#create dictionary with 'Store Number' column as keys and 'Address' column as values\n",
    "salldict={}\n",
    "for i in sall['Store Number']:\n",
    "    salldict[i]=sall[sall['Store Number']==i]['Address'].values[0]"
   ]
  },
  {
   "cell_type": "code",
   "execution_count": 354,
   "id": "f9a272b4",
   "metadata": {},
   "outputs": [
    {
     "ename": "AttributeError",
     "evalue": "'dict' object has no attribute 'to_json'",
     "output_type": "error",
     "traceback": [
      "\u001b[1;31m---------------------------------------------------------------------------\u001b[0m",
      "\u001b[1;31mAttributeError\u001b[0m                            Traceback (most recent call last)",
      "\u001b[1;32m<ipython-input-354-e29eaed57ac1>\u001b[0m in \u001b[0;36m<module>\u001b[1;34m\u001b[0m\n\u001b[1;32m----> 1\u001b[1;33m \u001b[0msalldict\u001b[0m\u001b[1;33m.\u001b[0m\u001b[0mto_json\u001b[0m\u001b[1;33m(\u001b[0m\u001b[1;34m'allstoredict.json'\u001b[0m\u001b[1;33m)\u001b[0m\u001b[1;33m\u001b[0m\u001b[1;33m\u001b[0m\u001b[0m\n\u001b[0m",
      "\u001b[1;31mAttributeError\u001b[0m: 'dict' object has no attribute 'to_json'"
     ]
    }
   ],
   "source": [
    "#export dictionary to file to be called for future use\n",
    "salldict.to_csv('allstoredict.csv')"
   ]
  },
  {
   "cell_type": "code",
   "execution_count": 47,
   "id": "69d31d57",
   "metadata": {},
   "outputs": [],
   "source": [
    "#this function will compare see if the address cell in a row is a nan and, if so, attempt to \n",
    "# find the key:value pair in the address dictionary to match the store number in the row and fill in the address\n",
    "def get_address(x,y):\n",
    "    storelist=list(salldict.keys())\n",
    "    if (pd.isna(x)) & (y in storelist):\n",
    "        return salldict[y]\n",
    "    else:\n",
    "        return x"
   ]
  },
  {
   "cell_type": "code",
   "execution_count": 241,
   "id": "e2a2dc21",
   "metadata": {},
   "outputs": [],
   "source": [
    "#a map function is used to apply the get_address function to all rows in a dataset\n",
    "ytest17['Address']=list(map(get_address,ytest17['Address'],ytest17['Store Number']))"
   ]
  },
  {
   "cell_type": "markdown",
   "id": "0d6d9555",
   "metadata": {},
   "source": [
    "### Store Location"
   ]
  },
  {
   "cell_type": "code",
   "execution_count": 181,
   "id": "2d0141fa",
   "metadata": {},
   "outputs": [],
   "source": [
    "slall=pd.concat([y17[['Store Number','Store Location']],y16[['Store Number','Store Location']],y15[['Store Number','Store Location']],y14[['Store Number','Store Location']],y13[['Store Number','Store Location']],y12[['Store Number','Store Location']]])\n",
    "slall=slall[slall['Store Location'].notna()]\n",
    "slall.drop_duplicates(subset=['Store Number'],inplace=True)\n",
    "slall.to_csv('storenumlocation.csv')"
   ]
  },
  {
   "cell_type": "code",
   "execution_count": 184,
   "id": "164cd8a2",
   "metadata": {},
   "outputs": [
    {
     "data": {
      "text/plain": [
       "1884"
      ]
     },
     "execution_count": 184,
     "metadata": {},
     "output_type": "execute_result"
    }
   ],
   "source": [
    "#there are 1884 stores in the entire dataset, checking length to confirm uniqueness of values\n",
    "len(slall)"
   ]
  },
  {
   "cell_type": "code",
   "execution_count": 185,
   "id": "1a12f6c2",
   "metadata": {},
   "outputs": [],
   "source": [
    "slalldict={}\n",
    "for i in slall['Store Number']:\n",
    "    slalldict[i]=slall[slall['Store Number']==i]['Store Location'].values[0]"
   ]
  },
  {
   "cell_type": "code",
   "execution_count": 186,
   "id": "fac4ca50",
   "metadata": {},
   "outputs": [],
   "source": [
    "def get_store_location(x,y):\n",
    "    storelist=list(slalldict.keys())\n",
    "    if (pd.isna(x)) & (y in storelist):\n",
    "        return slalldict[y]\n",
    "    else:\n",
    "        return x"
   ]
  },
  {
   "cell_type": "code",
   "execution_count": 196,
   "id": "ae701da8",
   "metadata": {},
   "outputs": [],
   "source": [
    "ytest17['Store Location']=list(map(get_store_location,ytest17['Store Location'],ytest17['Store Number']))"
   ]
  },
  {
   "cell_type": "markdown",
   "id": "1f1d2d25",
   "metadata": {},
   "source": [
    "### Zip Code"
   ]
  },
  {
   "cell_type": "code",
   "execution_count": 129,
   "id": "c76c6570",
   "metadata": {},
   "outputs": [],
   "source": [
    "zipna=pd.concat([y17[['Store Number','Zip Code']],y16[['Store Number','Zip Code']],y15[['Store Number','Zip Code']],y14[['Store Number','Zip Code']],y13[['Store Number','Zip Code']],y12[['Store Number','Zip Code']]])\n",
    "zipna=zipna[zipna['Zip Code'].notna()]\n",
    "zipna.drop_duplicates(subset=['Store Number'],inplace=True)\n",
    "zipna.to_csv('storenumzip.csv')"
   ]
  },
  {
   "cell_type": "code",
   "execution_count": 132,
   "id": "463cad72",
   "metadata": {},
   "outputs": [
    {
     "data": {
      "text/plain": [
       "1884"
      ]
     },
     "execution_count": 132,
     "metadata": {},
     "output_type": "execute_result"
    }
   ],
   "source": [
    "len(zipna)"
   ]
  },
  {
   "cell_type": "code",
   "execution_count": 133,
   "id": "e8c849ca",
   "metadata": {},
   "outputs": [],
   "source": [
    "zipdict={}\n",
    "for i in zipna['Store Number']:\n",
    "    zipdict[i]=zipna[zipna['Store Number']==i]['Zip Code'].values[0]"
   ]
  },
  {
   "cell_type": "code",
   "execution_count": 134,
   "id": "a63255b0",
   "metadata": {},
   "outputs": [],
   "source": [
    "def get_zip(x,y):\n",
    "    storelist=list(zipdict.keys())\n",
    "    if (pd.isna(x)) and (y in storelist):\n",
    "        return zipdict[y]\n",
    "    else:\n",
    "        return x"
   ]
  },
  {
   "cell_type": "code",
   "execution_count": null,
   "id": "5fab145f",
   "metadata": {},
   "outputs": [],
   "source": [
    "ytest17['Zip Code']=list(map(get_zip,ytest17['Zip Code'],ytest17['Store Number']))"
   ]
  },
  {
   "cell_type": "markdown",
   "id": "8a5d1857",
   "metadata": {},
   "source": [
    "### County"
   ]
  },
  {
   "cell_type": "code",
   "execution_count": 27,
   "id": "b4ddb2b2",
   "metadata": {},
   "outputs": [
    {
     "ename": "NameError",
     "evalue": "name 'y16' is not defined",
     "output_type": "error",
     "traceback": [
      "\u001b[1;31m---------------------------------------------------------------------------\u001b[0m",
      "\u001b[1;31mNameError\u001b[0m                                 Traceback (most recent call last)",
      "\u001b[1;32m~\\AppData\\Local\\Temp/ipykernel_5212/3220301470.py\u001b[0m in \u001b[0;36m<module>\u001b[1;34m\u001b[0m\n\u001b[1;32m----> 1\u001b[1;33m \u001b[0mcountyna\u001b[0m\u001b[1;33m=\u001b[0m\u001b[0mpd\u001b[0m\u001b[1;33m.\u001b[0m\u001b[0mconcat\u001b[0m\u001b[1;33m(\u001b[0m\u001b[1;33m[\u001b[0m\u001b[0my17\u001b[0m\u001b[1;33m[\u001b[0m\u001b[1;33m[\u001b[0m\u001b[1;34m'Store Number'\u001b[0m\u001b[1;33m,\u001b[0m\u001b[1;34m'County'\u001b[0m\u001b[1;33m]\u001b[0m\u001b[1;33m]\u001b[0m\u001b[1;33m,\u001b[0m\u001b[0my16\u001b[0m\u001b[1;33m[\u001b[0m\u001b[1;33m[\u001b[0m\u001b[1;34m'Store Number'\u001b[0m\u001b[1;33m,\u001b[0m\u001b[1;34m'County'\u001b[0m\u001b[1;33m]\u001b[0m\u001b[1;33m]\u001b[0m\u001b[1;33m,\u001b[0m\u001b[0my15\u001b[0m\u001b[1;33m[\u001b[0m\u001b[1;33m[\u001b[0m\u001b[1;34m'Store Number'\u001b[0m\u001b[1;33m,\u001b[0m\u001b[1;34m'County'\u001b[0m\u001b[1;33m]\u001b[0m\u001b[1;33m]\u001b[0m\u001b[1;33m,\u001b[0m\u001b[0my14\u001b[0m\u001b[1;33m[\u001b[0m\u001b[1;33m[\u001b[0m\u001b[1;34m'Store Number'\u001b[0m\u001b[1;33m,\u001b[0m\u001b[1;34m'County'\u001b[0m\u001b[1;33m]\u001b[0m\u001b[1;33m]\u001b[0m\u001b[1;33m,\u001b[0m\u001b[0my13\u001b[0m\u001b[1;33m[\u001b[0m\u001b[1;33m[\u001b[0m\u001b[1;34m'Store Number'\u001b[0m\u001b[1;33m,\u001b[0m\u001b[1;34m'County'\u001b[0m\u001b[1;33m]\u001b[0m\u001b[1;33m]\u001b[0m\u001b[1;33m,\u001b[0m\u001b[0my12\u001b[0m\u001b[1;33m[\u001b[0m\u001b[1;33m[\u001b[0m\u001b[1;34m'Store Number'\u001b[0m\u001b[1;33m,\u001b[0m\u001b[1;34m'County'\u001b[0m\u001b[1;33m]\u001b[0m\u001b[1;33m]\u001b[0m\u001b[1;33m]\u001b[0m\u001b[1;33m)\u001b[0m\u001b[1;33m\u001b[0m\u001b[1;33m\u001b[0m\u001b[0m\n\u001b[0m\u001b[0;32m      2\u001b[0m \u001b[0mcountyna\u001b[0m\u001b[1;33m=\u001b[0m\u001b[0mcountyna\u001b[0m\u001b[1;33m[\u001b[0m\u001b[0mcountyna\u001b[0m\u001b[1;33m[\u001b[0m\u001b[1;34m'County'\u001b[0m\u001b[1;33m]\u001b[0m\u001b[1;33m.\u001b[0m\u001b[0mnotna\u001b[0m\u001b[1;33m(\u001b[0m\u001b[1;33m)\u001b[0m\u001b[1;33m]\u001b[0m\u001b[1;33m\u001b[0m\u001b[1;33m\u001b[0m\u001b[0m\n\u001b[0;32m      3\u001b[0m \u001b[0mcountyna\u001b[0m\u001b[1;33m.\u001b[0m\u001b[0mdrop_duplicates\u001b[0m\u001b[1;33m(\u001b[0m\u001b[0msubset\u001b[0m\u001b[1;33m=\u001b[0m\u001b[1;33m[\u001b[0m\u001b[1;34m'Store Number'\u001b[0m\u001b[1;33m]\u001b[0m\u001b[1;33m,\u001b[0m\u001b[0minplace\u001b[0m\u001b[1;33m=\u001b[0m\u001b[1;32mTrue\u001b[0m\u001b[1;33m)\u001b[0m\u001b[1;33m\u001b[0m\u001b[1;33m\u001b[0m\u001b[0m\n\u001b[0;32m      4\u001b[0m \u001b[1;31m#countyna.to_csv('storenumcounty.csv')\u001b[0m\u001b[1;33m\u001b[0m\u001b[1;33m\u001b[0m\u001b[0m\n",
      "\u001b[1;31mNameError\u001b[0m: name 'y16' is not defined"
     ]
    }
   ],
   "source": [
    "countyna=pd.concat([y17[['Store Number','County']],y16[['Store Number','County']],y15[['Store Number','County']],y14[['Store Number','County']],y13[['Store Number','County']],y12[['Store Number','County']]])\n",
    "countyna=countyna[countyna['County'].notna()]\n",
    "countyna.drop_duplicates(subset=['Store Number'],inplace=True)\n",
    "#countyna.to_csv('storenumcounty.csv')"
   ]
  },
  {
   "cell_type": "code",
   "execution_count": 139,
   "id": "b2816637",
   "metadata": {},
   "outputs": [
    {
     "data": {
      "text/plain": [
       "1883"
      ]
     },
     "execution_count": 139,
     "metadata": {},
     "output_type": "execute_result"
    }
   ],
   "source": [
    "len(countyna)"
   ]
  },
  {
   "cell_type": "code",
   "execution_count": 465,
   "id": "2916626d",
   "metadata": {},
   "outputs": [
    {
     "data": {
      "text/plain": [
       "array(['CERRO GORD'], dtype=object)"
      ]
     },
     "execution_count": 465,
     "metadata": {},
     "output_type": "execute_result"
    }
   ],
   "source": [
    "ytest17[ytest17['City']=='Mason City']['County'].unique()"
   ]
  },
  {
   "cell_type": "code",
   "execution_count": 466,
   "id": "6f1623ff",
   "metadata": {},
   "outputs": [
    {
     "data": {
      "text/plain": [
       "27745"
      ]
     },
     "execution_count": 466,
     "metadata": {},
     "output_type": "execute_result"
    }
   ],
   "source": [
    "len(ytest17[ytest17['County']=='CERRO GORD'])"
   ]
  },
  {
   "cell_type": "code",
   "execution_count": 140,
   "id": "141d2e9a",
   "metadata": {},
   "outputs": [],
   "source": [
    "countydict={}\n",
    "for i in countyna['Store Number']:\n",
    "    countydict[i]=countyna[countyna['Store Number']==i]['County'].values[0]"
   ]
  },
  {
   "cell_type": "code",
   "execution_count": 141,
   "id": "944601ae",
   "metadata": {},
   "outputs": [],
   "source": [
    "def get_county(x,y):\n",
    "    storelist=list(countydict.keys())\n",
    "    if (pd.isna(x)) and (y in storelist):\n",
    "        return countydict[y]\n",
    "    else:\n",
    "        return x"
   ]
  },
  {
   "cell_type": "code",
   "execution_count": null,
   "id": "61dc4cac",
   "metadata": {},
   "outputs": [],
   "source": [
    "ytest17['County']=list(map(get_county,ytest17['County'],ytest17['Store Number']))"
   ]
  },
  {
   "cell_type": "markdown",
   "id": "c2a48ac1",
   "metadata": {},
   "source": [
    "### County Number"
   ]
  },
  {
   "cell_type": "code",
   "execution_count": 150,
   "id": "08682b0b",
   "metadata": {},
   "outputs": [],
   "source": [
    "countynumna=pd.concat([y17[['Store Number','County Number']],y16[['Store Number','County Number']],y15[['Store Number','County Number']],y14[['Store Number','County Number']],y13[['Store Number','County Number']],y12[['Store Number','County Number']]])\n",
    "countynumna=countynumna[countynumna['County Number'].notna()]\n",
    "countynumna.drop_duplicates(subset=['Store Number'],inplace=True)\n",
    "countynumna.to_csv('storenumcountynum.csv')"
   ]
  },
  {
   "cell_type": "code",
   "execution_count": 153,
   "id": "9cb1d2df",
   "metadata": {},
   "outputs": [
    {
     "data": {
      "text/plain": [
       "1883"
      ]
     },
     "execution_count": 153,
     "metadata": {},
     "output_type": "execute_result"
    }
   ],
   "source": [
    "len(countynumna)"
   ]
  },
  {
   "cell_type": "code",
   "execution_count": 154,
   "id": "c019bd16",
   "metadata": {},
   "outputs": [],
   "source": [
    "countynumdict={}\n",
    "for i in countynumna['Store Number']:\n",
    "    countynumdict[i]=countynumna[countynumna['Store Number']==i]['County Number'].values[0]"
   ]
  },
  {
   "cell_type": "code",
   "execution_count": 155,
   "id": "ed4a897f",
   "metadata": {},
   "outputs": [],
   "source": [
    "def get_county_number(x,y):\n",
    "    storelist=list(countynumdict.keys())\n",
    "    if (pd.isna(x)) and (y in storelist):\n",
    "        return countynumdict[y]\n",
    "    else:\n",
    "        return x"
   ]
  },
  {
   "cell_type": "code",
   "execution_count": null,
   "id": "28dbf693",
   "metadata": {},
   "outputs": [],
   "source": [
    "ytest17['County Number']=list(map(get_county_number,ytest17['County Number'],ytest17['Store Number']))"
   ]
  },
  {
   "cell_type": "markdown",
   "id": "fe6dcf09",
   "metadata": {},
   "source": [
    "### City"
   ]
  },
  {
   "cell_type": "code",
   "execution_count": 157,
   "id": "a652c6b7",
   "metadata": {},
   "outputs": [],
   "source": [
    "cityna=pd.concat([y17[['Store Number','City']],y16[['Store Number','City']],y15[['Store Number','City']],y14[['Store Number','City']],y13[['Store Number','City']],y12[['Store Number','City']]])\n",
    "cityna=cityna[cityna['City'].notna()]\n",
    "cityna.drop_duplicates(subset=['Store Number'],inplace=True)\n",
    "cityna.to_csv('storenumcity.csv')"
   ]
  },
  {
   "cell_type": "code",
   "execution_count": 160,
   "id": "20ea5cce",
   "metadata": {},
   "outputs": [
    {
     "data": {
      "text/plain": [
       "1884"
      ]
     },
     "execution_count": 160,
     "metadata": {},
     "output_type": "execute_result"
    }
   ],
   "source": [
    "len(cityna)"
   ]
  },
  {
   "cell_type": "code",
   "execution_count": 161,
   "id": "83b2f9ab",
   "metadata": {},
   "outputs": [],
   "source": [
    "citydict={}\n",
    "for i in cityna['Store Number']:\n",
    "    citydict[i]=cityna[cityna['Store Number']==i]['City'].values[0]"
   ]
  },
  {
   "cell_type": "code",
   "execution_count": 162,
   "id": "7440cf98",
   "metadata": {},
   "outputs": [],
   "source": [
    "def get_city(x,y):\n",
    "    storelist=list(citydict.keys())\n",
    "    if (pd.isna(x)) and (y in storelist):\n",
    "        return citydict[y]\n",
    "    else:\n",
    "        return x"
   ]
  },
  {
   "cell_type": "code",
   "execution_count": null,
   "id": "32b7ddb5",
   "metadata": {},
   "outputs": [],
   "source": [
    "ytest17['City']=list(map(get_city,ytest17['City'],ytest17['Store Number']))"
   ]
  },
  {
   "cell_type": "markdown",
   "id": "712de852",
   "metadata": {},
   "source": [
    "### Category "
   ]
  },
  {
   "cell_type": "code",
   "execution_count": 328,
   "id": "98d4b2bc",
   "metadata": {},
   "outputs": [],
   "source": [
    "catna=pd.concat([y17[['Item Description','Category']],y16[['Item Description','Category']],y15[['Item Description','Category']],y14[['Item Description','Category']],y13[['Item Description','Category']],y12[['Item Description','Category']]])\n",
    "catna=catna[catna['Category'].notna()]\n",
    "catna.drop_duplicates(subset=['Item Description'],inplace=True)\n",
    "catna.to_csv('idcategory.csv')"
   ]
  },
  {
   "cell_type": "code",
   "execution_count": 332,
   "id": "35d8ec40",
   "metadata": {},
   "outputs": [
    {
     "data": {
      "text/plain": [
       "5795"
      ]
     },
     "execution_count": 332,
     "metadata": {},
     "output_type": "execute_result"
    }
   ],
   "source": [
    "len(catna)"
   ]
  },
  {
   "cell_type": "code",
   "execution_count": 333,
   "id": "1d68423e",
   "metadata": {},
   "outputs": [],
   "source": [
    "catdict={}\n",
    "for i in catna['Item Description']:\n",
    "    catdict[i]=catna[catna['Item Description']==i]['Category'].values[0]"
   ]
  },
  {
   "cell_type": "code",
   "execution_count": 334,
   "id": "1e547f12",
   "metadata": {},
   "outputs": [],
   "source": [
    "def get_category(x,y):\n",
    "    storelist=list(catdict.keys())\n",
    "    if (pd.isna(x)) and (y in storelist):\n",
    "        return catdict[y]\n",
    "    else:\n",
    "        return x"
   ]
  },
  {
   "cell_type": "code",
   "execution_count": 335,
   "id": "70ee4a3d",
   "metadata": {},
   "outputs": [],
   "source": [
    "ytest17['Category']=list(map(get_category,ytest17['Category'],ytest17['Item Description']))"
   ]
  },
  {
   "cell_type": "code",
   "execution_count": 336,
   "id": "00750a8d",
   "metadata": {},
   "outputs": [
    {
     "data": {
      "text/plain": [
       "827"
      ]
     },
     "execution_count": 336,
     "metadata": {},
     "output_type": "execute_result"
    }
   ],
   "source": [
    "#after applying map function, how many nan values are still in 'Category'\n",
    "ytest17['Category'].isna().sum()"
   ]
  },
  {
   "cell_type": "code",
   "execution_count": 337,
   "id": "d7466ce5",
   "metadata": {},
   "outputs": [
    {
     "data": {
      "text/plain": [
       "array([\"Galliano L'Autentico\", 'Bains Cape Mountain Whiskey',\n",
       "       'Don Pancho Origenes 8YR Rum', 'Barbados Rum 100ml',\n",
       "       'Barbados Rum 1 Liter', 'Barbados Rum 200 ml',\n",
       "       'Barbados Rum 375ml', 'Barbados Rum 50ml', 'Barbados Rum 750ml',\n",
       "       'Spanish Single Malt 100ml', 'Spanish Single Malt 1 Liter',\n",
       "       'Spanish Single Malt 375ml', 'Spanish Single Malt 50ml',\n",
       "       'Spanish Single Malt 750ml', 'Spanish Single Malt 200ml',\n",
       "       'Deep Eddy  Lemon Vodka', 'Diplomatico Reserva Exclusiva',\n",
       "       'Grand Teton Vodka', '\"Beefeater \"\"24\"\"\"', 'Athena Liq Ouzo Rum',\n",
       "       'Glenmorangie Bacalta HA', 'Valentine Vodka', 'Ansac VS  Cognac',\n",
       "       'Aalborg Jubilaeums Aquavit', 'Patron Silver 750 Box Tray Pack',\n",
       "       'Patron Citronge Mango', 'Lairds Old Apple Brandy 7YR',\n",
       "       'Green Absinthe', 'Red Absinthe', 'Deanston Organic 14YR',\n",
       "       'Calvados Morin Selection 3YR',\n",
       "       'Seven Devils Straight Bourbon Whiskey HA', 'HA Seven Devils',\n",
       "       'Don Amado Mezcal Rustico', 'HA Michters US*1 Small Batch',\n",
       "       'HA Orphan Barrel Barterhouse', 'HA Orphan Barrel Forged Oak',\n",
       "       'Rothman & Winter Orchard Peach',\n",
       "       'HA Abraham Bowman Wine Finish Whiskey',\n",
       "       'HA Highland Park Ice Edition', 'HA Pikesville Rye 110prf',\n",
       "       'HA Johnnie Walker Private Collection 2014 Smoke',\n",
       "       'Old Forester 1920', 'Jose Cuervo Especial Silver/Flask',\n",
       "       'Jose Cuervo Especial Gold /Flask', 'Ron Abuelo Anejo 7YR',\n",
       "       \"Aberlour A''bunadh\", 'El Mayor Extra Anejo 100% Agave',\n",
       "       'Ezra Brooks Bourbon Cream Mini', \"Michter's US*1 SB Rye\",\n",
       "       'Glen Moray Scotch Classic Port Cask w/2 Glasses',\n",
       "       'HA Laphroaig 25YR Cask Strength', 'Ron Abuelo 12YR',\n",
       "       'Zaya Gran Reserva Rum w/2 Rocks Glasses',\n",
       "       'Corralejo Silver w/2 Sangrita Glasses',\n",
       "       'Southern Comfort w/2 Rock Glasses',\n",
       "       'Crystal Head Vodka w/2 Skull Glasses', 'Hornitos Plata w/Glasses',\n",
       "       'Hornitos Reposado w/Glasses',\n",
       "       'Glen Moray Classic Chardonnay Cask Finish w/2 Glasses'],\n",
       "      dtype=object)"
      ]
     },
     "execution_count": 337,
     "metadata": {},
     "output_type": "execute_result"
    }
   ],
   "source": [
    "#'What' are the unique item descriptions of the rows with these 'Category' nan values\n",
    "ytest17[ytest17['Category'].isna()]['Item Description'].unique()"
   ]
  },
  {
   "cell_type": "markdown",
   "id": "6161a03f",
   "metadata": {},
   "source": [
    "### Category Name"
   ]
  },
  {
   "cell_type": "code",
   "execution_count": 250,
   "id": "cde45071",
   "metadata": {},
   "outputs": [],
   "source": [
    "catnamena=pd.concat([y17[['Item Description','Category Name']],y16[['Item Description','Category Name']],y15[['Item Description','Category Name']],y14[['Item Description','Category Name']],y13[['Item Description','Category Name']],y12[['Item Description','Category Name']]])\n",
    "catnamena=catnamena[catnamena['Category Name'].notna()]\n",
    "catnamena.drop_duplicates(subset=['Item Description'],inplace=True)\n",
    "catnamena.to_csv('idcategoryname.csv')"
   ]
  },
  {
   "cell_type": "code",
   "execution_count": 253,
   "id": "f20d4351",
   "metadata": {},
   "outputs": [
    {
     "data": {
      "text/plain": [
       "5758"
      ]
     },
     "execution_count": 253,
     "metadata": {},
     "output_type": "execute_result"
    }
   ],
   "source": [
    "len(catnamena)"
   ]
  },
  {
   "cell_type": "code",
   "execution_count": 254,
   "id": "0def6df9",
   "metadata": {},
   "outputs": [],
   "source": [
    "catnamedict={}\n",
    "for i in catnamena['Item Description']:\n",
    "    catnamedict[i]=catnamena[catnamena['Item Description']==i]['Category Name'].values[0]"
   ]
  },
  {
   "cell_type": "code",
   "execution_count": 255,
   "id": "0d3d40f5",
   "metadata": {},
   "outputs": [],
   "source": [
    "def get_category_name(x,y):\n",
    "    storelist=list(catnamedict.keys())\n",
    "    if (pd.isna(x)) and (y in storelist):\n",
    "        return catnamedict[y]\n",
    "    else:\n",
    "        return x"
   ]
  },
  {
   "cell_type": "code",
   "execution_count": 287,
   "id": "ba772223",
   "metadata": {},
   "outputs": [],
   "source": [
    "ytest17['Category Name']=list(map(get_category_name,ytest17['Category Name'],ytest17['Item Description']))"
   ]
  },
  {
   "cell_type": "code",
   "execution_count": 249,
   "id": "2b85250b",
   "metadata": {},
   "outputs": [
    {
     "ename": "AttributeError",
     "evalue": "'list' object has no attribute 'isna'",
     "output_type": "error",
     "traceback": [
      "\u001b[1;31m---------------------------------------------------------------------------\u001b[0m",
      "\u001b[1;31mAttributeError\u001b[0m                            Traceback (most recent call last)",
      "\u001b[1;32m<ipython-input-249-7ad8997a7072>\u001b[0m in \u001b[0;36m<module>\u001b[1;34m\u001b[0m\n\u001b[1;32m----> 1\u001b[1;33m \u001b[0mytest17\u001b[0m\u001b[1;33m.\u001b[0m\u001b[0misna\u001b[0m\u001b[1;33m(\u001b[0m\u001b[1;33m)\u001b[0m\u001b[1;33m.\u001b[0m\u001b[0msum\u001b[0m\u001b[1;33m(\u001b[0m\u001b[1;33m)\u001b[0m\u001b[1;33m\u001b[0m\u001b[1;33m\u001b[0m\u001b[0m\n\u001b[0m",
      "\u001b[1;31mAttributeError\u001b[0m: 'list' object has no attribute 'isna'"
     ]
    }
   ],
   "source": [
    "#no na values after function is applied (perfect!)\n",
    "ytest17['Category'].isna().sum()\n",
    "ytest17.isna().sum()\n",
    "ytest17.isna().sum()"
   ]
  },
  {
   "cell_type": "code",
   "execution_count": null,
   "id": "e568abb8",
   "metadata": {},
   "outputs": [],
   "source": [
    "ytest17['Category Name'].isna().sum()"
   ]
  },
  {
   "cell_type": "code",
   "execution_count": null,
   "id": "7a484f2e",
   "metadata": {},
   "outputs": [],
   "source": [
    "ytest17[ytest17['Category Name'].isna()]['Item Description'].unique()"
   ]
  },
  {
   "cell_type": "markdown",
   "id": "61dad74e",
   "metadata": {},
   "source": [
    "### Vendor Name"
   ]
  },
  {
   "cell_type": "code",
   "execution_count": 268,
   "id": "6d78be45",
   "metadata": {},
   "outputs": [],
   "source": [
    "vennumna=pd.concat([y17[['Item Description','Vendor Name']],y16[['Item Description','Vendor Name']],y15[['Item Description','Vendor Name']],y14[['Item Description','Vendor Name']],y13[['Item Description','Vendor Name']],y12[['Item Description','Vendor Name']]])\n",
    "vennumna=vennumna[vennumna['Vendor Name'].notna()]\n",
    "vennumna.drop_duplicates(subset=['Item Description'],inplace=True)\n",
    "vennumna.to_csv('storenumvendorname.csv')"
   ]
  },
  {
   "cell_type": "code",
   "execution_count": 271,
   "id": "fc7d1082",
   "metadata": {},
   "outputs": [
    {
     "data": {
      "text/plain": [
       "5865"
      ]
     },
     "execution_count": 271,
     "metadata": {},
     "output_type": "execute_result"
    }
   ],
   "source": [
    "len(vennumna)"
   ]
  },
  {
   "cell_type": "code",
   "execution_count": 272,
   "id": "0843f545",
   "metadata": {},
   "outputs": [],
   "source": [
    "vennumnadict={}\n",
    "for i in vennumna['Item Description']:\n",
    "    vennumnadict[i]=vennumna[vennumna['Item Description']==i]['Vendor Name'].values[0]"
   ]
  },
  {
   "cell_type": "code",
   "execution_count": 273,
   "id": "f3c968ec",
   "metadata": {},
   "outputs": [],
   "source": [
    "def get_vendor_name(x,y):\n",
    "    storelist=list(vennumnadict.keys())\n",
    "    if (pd.isna(x)) and (y in storelist):\n",
    "        return vennumnadict[y]\n",
    "    else:\n",
    "        return x"
   ]
  },
  {
   "cell_type": "code",
   "execution_count": 274,
   "id": "1546c4ba",
   "metadata": {},
   "outputs": [],
   "source": [
    "ytest17['Vendor Name']=list(map(get_vendor_name,ytest17['Vendor Name'],ytest17['Item Description']))"
   ]
  },
  {
   "cell_type": "markdown",
   "id": "ded05743",
   "metadata": {},
   "source": [
    "### Vendor Number"
   ]
  },
  {
   "cell_type": "code",
   "execution_count": 257,
   "id": "a419f441",
   "metadata": {},
   "outputs": [],
   "source": [
    "vennum=pd.concat([y17[['Item Description','Vendor Number']],y16[['Item Description','Vendor Number']],y15[['Item Description','Vendor Number']],y14[['Item Description','Vendor Number']],y13[['Item Description','Vendor Number']],y12[['Item Description','Vendor Number']]])\n",
    "vennum=vennum[vennum['Vendor Number'].notna()]\n",
    "vennum.drop_duplicates(subset=['Item Description'],inplace=True)\n",
    "vennum.to_csv('storenumvendornumber.csv')"
   ]
  },
  {
   "cell_type": "code",
   "execution_count": 260,
   "id": "f6cd646b",
   "metadata": {},
   "outputs": [
    {
     "data": {
      "text/plain": [
       "5863"
      ]
     },
     "execution_count": 260,
     "metadata": {},
     "output_type": "execute_result"
    }
   ],
   "source": [
    "len(vennum)"
   ]
  },
  {
   "cell_type": "code",
   "execution_count": 261,
   "id": "12ebffba",
   "metadata": {},
   "outputs": [],
   "source": [
    "vennumdict={}\n",
    "for i in vennum['Item Description']:\n",
    "    vennumdict[i]=vennum[vennum['Item Description']==i]['Vendor Number'].values[0]"
   ]
  },
  {
   "cell_type": "code",
   "execution_count": 262,
   "id": "e8098d97",
   "metadata": {},
   "outputs": [],
   "source": [
    "def get_vendor_number(x,y):\n",
    "    storelist=list(vennumdict.keys())\n",
    "    if (pd.isna(x)) and (y in storelist):\n",
    "        return vennumdict[y]\n",
    "    else:\n",
    "        return x"
   ]
  },
  {
   "cell_type": "code",
   "execution_count": null,
   "id": "0dbbe9d4",
   "metadata": {},
   "outputs": [],
   "source": [
    "ytest17['Vendor Number']=list(map(get_vendor_name,ytest17['Vendor Number'],ytest17['Item Description']))"
   ]
  },
  {
   "cell_type": "markdown",
   "id": "c1c928d5",
   "metadata": {},
   "source": [
    "# Summary of all functions and dictionaries made above to apply to datasets quickly later on"
   ]
  },
  {
   "cell_type": "code",
   "execution_count": 185,
   "id": "2ff892c8",
   "metadata": {},
   "outputs": [],
   "source": [
    "vennumdict={}\n",
    "for i in vennum['Item Description']:\n",
    "    vennumdict[i]=vennum[vennum['Item Description']==i]['Vendor Number'].values[0]\n",
    "vennumnadict={}\n",
    "for i in vennumna['Item Description']:\n",
    "    vennumnadict[i]=vennumna[vennumna['Item Description']==i]['Vendor Name'].values[0]\n",
    "catnamedict={}\n",
    "for i in catnamena['Item Description']:\n",
    "    catnamedict[i]=catnamena[catnamena['Item Description']==i]['Category Name'].values[0]\n",
    "catdict={}\n",
    "for i in catna['Item Description']:\n",
    "    catdict[i]=catna[catna['Item Description']==i]['Category'].values[0]\n",
    "citydict={}\n",
    "for i in cityna['Store Number']:\n",
    "    citydict[i]=cityna[cityna['Store Number']==i]['City'].values[0]\n",
    "countynumdict={}\n",
    "for i in countynumna['Store Number']:\n",
    "    countynumdict[i]=countynumna[countynumna['Store Number']==i]['County Number'].values[0]\n",
    "slalldict={}\n",
    "for i in slall['Store Number']:\n",
    "    slalldict[i]=slall[slall['Store Number']==i]['Store Location'].values[0]\n",
    "salldict={}\n",
    "for i in sall['Store Number']:\n",
    "    salldict[i]=sall[sall['Store Number']==i]['Address'].values[0]\n",
    "zipdict={}\n",
    "for i in zipna['Store Number']:\n",
    "    zipdict[i]=zipna[zipna['Store Number']==i]['Zip Code'].values[0]\n",
    "countydict={}\n",
    "for i in countyna['Store Number']:\n",
    "    countydict[i]=countyna[countyna['Store Number']==i]['County'].values[0]"
   ]
  },
  {
   "cell_type": "code",
   "execution_count": null,
   "id": "e78a938b",
   "metadata": {},
   "outputs": [],
   "source": [
    "#import all saved dictionaries (if needed)\n",
    "saddy=pd.read_csv('C://Users//Matthew//DA//Activities//Final_Project//Final Cuts//storenumaddress.csv')\n",
    "scity=pd.read_csv('C://Users//Matthew//DA//Activities//Final_Project//Final Cuts//storenumcity.csv')\n",
    "sco=pd.read_csv('C://Users//Matthew//DA//Activities//Final_Project//Final Cuts//storenumcounty.csv')\n",
    "sconum=pd.read_csv('C://Users//Matthew//DA//Activities//Final_Project//Final Cuts//storenumcountynum.csv')\n",
    "sloc=pd.read_csv('C://Users//Matthew//DA//Activities//Final_Project//Final Cuts//storenumlocation.csv')\n",
    "szip=pd.read_csv('C://Users//Matthew//DA//Activities//Final_Project//Final Cuts//storenumzip.csv')\n",
    "venname=pd.read_csv('C://Users//Matthew//DA//Activities//Final_Project//Final Cuts//storenumvendorname.csv')\n",
    "vennum=pd.read_csv('C://Users//Matthew//DA//Activities//Final_Project//Final Cuts//storenumvendornumber.csv')\n",
    "cat=pd.read_csv('C://Users//Matthew//DA//Activities//Final_Project//Final Cuts//idcategory.csv')\n",
    "catname=pd.read_csv('C://Users//Matthew//DA//Activities//Final_Project//Final Cuts//idcategoryname.csv')"
   ]
  },
  {
   "cell_type": "code",
   "execution_count": 47,
   "id": "546afbaf",
   "metadata": {},
   "outputs": [],
   "source": [
    "def get_category_name(x,y):\n",
    "    storelist=list(catnamedict.keys())\n",
    "    if (pd.isna(x)) and (y in storelist):\n",
    "        return catnamedict[y]\n",
    "    else:\n",
    "        return x\n",
    "def get_category(x,y):\n",
    "    storelist=list(catdict.keys())\n",
    "    if (pd.isna(x)) and (y in storelist):\n",
    "        return catdict[y]\n",
    "    else:\n",
    "        return x\n",
    "def get_address(x,y):\n",
    "    storelist=list(salldict.keys())\n",
    "    if (pd.isna(x)) & (y in storelist):\n",
    "        return salldict[y]\n",
    "    else:\n",
    "        return x\n",
    "def get_store_location(x,y):\n",
    "    storelist=list(slalldict.keys())\n",
    "    if (pd.isna(x)) & (y in storelist):\n",
    "        return slalldict[y]\n",
    "    else:\n",
    "        return x\n",
    "def get_zip(x,y):\n",
    "    storelist=list(zipdict.keys())\n",
    "    if (pd.isna(x)) and (y in storelist):\n",
    "        return zipdict[y]\n",
    "    else:\n",
    "        return x\n",
    "def get_county(x,y):\n",
    "    storelist=list(countydict.keys())\n",
    "    if (pd.isna(x)) and (y in storelist):\n",
    "        return countydict[y]\n",
    "    else:\n",
    "        return x\n",
    "def get_county_number(x,y):\n",
    "    storelist=list(countynumdict.keys())\n",
    "    if (pd.isna(x)) and (y in storelist):\n",
    "        return countynumdict[y]\n",
    "    else:\n",
    "        return x\n",
    "def get_city(x,y):\n",
    "    storelist=list(citydict.keys())\n",
    "    if (pd.isna(x)) and (y in storelist):\n",
    "        return citydict[y]\n",
    "    else:\n",
    "        return x\n",
    "def get_vendor_name(x,y):\n",
    "    storelist=list(vennumnadict.keys())\n",
    "    if (pd.isna(x)) and (y in storelist):\n",
    "        return vennumnadict[y]\n",
    "    else:\n",
    "        return x\n",
    "def get_vendor_number(x,y):\n",
    "    storelist=list(vennumdict.keys())\n",
    "    if (pd.isna(x)) and (y in storelist):\n",
    "        return vennumdict[y]\n",
    "    else:\n",
    "        return x"
   ]
  },
  {
   "cell_type": "markdown",
   "id": "d2012ff0",
   "metadata": {},
   "source": [
    "# For exceptions with Nan Values where the dictionary method did not work, functions are made to manually replace Nan values "
   ]
  },
  {
   "cell_type": "markdown",
   "id": "4c008522",
   "metadata": {},
   "source": [
    "### In the following cells it is shown that only one Vendor Number and Vendor Name is still a Nan\n",
    "### This is for the Item Laphroaig Quarter Cask, the Vendor Name is Jim Beam Brands, the Vendor Number is 65"
   ]
  },
  {
   "cell_type": "code",
   "execution_count": 200,
   "id": "d0b88973",
   "metadata": {},
   "outputs": [
    {
     "data": {
      "text/plain": [
       "array(['Laphroaig Quarter Cask'], dtype=object)"
      ]
     },
     "execution_count": 200,
     "metadata": {},
     "output_type": "execute_result"
    }
   ],
   "source": [
    "ytest17[ytest17['Vendor Number'].isna()]['Item Description'].unique()"
   ]
  },
  {
   "cell_type": "code",
   "execution_count": 201,
   "id": "ff348c48",
   "metadata": {},
   "outputs": [
    {
     "data": {
      "text/plain": [
       "array(['Laphroaig Quarter Cask'], dtype=object)"
      ]
     },
     "execution_count": 201,
     "metadata": {},
     "output_type": "execute_result"
    }
   ],
   "source": [
    "ytest17[ytest17['Vendor Name'].isna()]['Item Description'].unique()"
   ]
  },
  {
   "cell_type": "code",
   "execution_count": 211,
   "id": "c864c9b0",
   "metadata": {},
   "outputs": [
    {
     "data": {
      "text/html": [
       "<div>\n",
       "<style scoped>\n",
       "    .dataframe tbody tr th:only-of-type {\n",
       "        vertical-align: middle;\n",
       "    }\n",
       "\n",
       "    .dataframe tbody tr th {\n",
       "        vertical-align: top;\n",
       "    }\n",
       "\n",
       "    .dataframe thead th {\n",
       "        text-align: right;\n",
       "    }\n",
       "</style>\n",
       "<table border=\"1\" class=\"dataframe\">\n",
       "  <thead>\n",
       "    <tr style=\"text-align: right;\">\n",
       "      <th></th>\n",
       "      <th>Unnamed: 0</th>\n",
       "      <th>Invoice/Item Number</th>\n",
       "      <th>Date</th>\n",
       "      <th>Store Number</th>\n",
       "      <th>Store Name</th>\n",
       "      <th>Address</th>\n",
       "      <th>City</th>\n",
       "      <th>Zip Code</th>\n",
       "      <th>Store Location</th>\n",
       "      <th>County Number</th>\n",
       "      <th>County</th>\n",
       "      <th>Category</th>\n",
       "      <th>Category Name</th>\n",
       "      <th>Vendor Number</th>\n",
       "      <th>Vendor Name</th>\n",
       "      <th>Item Number</th>\n",
       "      <th>Item Description</th>\n",
       "      <th>Pack</th>\n",
       "      <th>Bottle Volume (ml)</th>\n",
       "      <th>State Bottle Cost</th>\n",
       "      <th>State Bottle Retail</th>\n",
       "      <th>Bottles Sold</th>\n",
       "      <th>Sale (Dollars)</th>\n",
       "      <th>Volume Sold (Liters)</th>\n",
       "      <th>Volume Sold (Gallons)</th>\n",
       "      <th>Year</th>\n",
       "    </tr>\n",
       "  </thead>\n",
       "  <tbody>\n",
       "    <tr>\n",
       "      <th>462689</th>\n",
       "      <td>11170669</td>\n",
       "      <td>INV-03923100001</td>\n",
       "      <td>03/22/2017</td>\n",
       "      <td>2556</td>\n",
       "      <td>Hy-Vee Wine and Spirits / Estherville</td>\n",
       "      <td>2608 E. Central Avenue\\nEstherville 51334\\n</td>\n",
       "      <td>Estherville</td>\n",
       "      <td>51334.0</td>\n",
       "      <td>2608 E. Central Avenue\\nEstherville 51334\\n</td>\n",
       "      <td>32.0</td>\n",
       "      <td>EMMET</td>\n",
       "      <td>1012200.0</td>\n",
       "      <td>Scotch Whiskies</td>\n",
       "      <td>NaN</td>\n",
       "      <td>NaN</td>\n",
       "      <td>905433</td>\n",
       "      <td>Laphroaig Quarter Cask</td>\n",
       "      <td>6</td>\n",
       "      <td>750</td>\n",
       "      <td>$4.17</td>\n",
       "      <td>$47.24</td>\n",
       "      <td>1</td>\n",
       "      <td>$283.44</td>\n",
       "      <td>0.75</td>\n",
       "      <td>0.19</td>\n",
       "      <td>17</td>\n",
       "    </tr>\n",
       "    <tr>\n",
       "      <th>1495748</th>\n",
       "      <td>12203728</td>\n",
       "      <td>INV-06985200114</td>\n",
       "      <td>08/30/2017</td>\n",
       "      <td>2614</td>\n",
       "      <td>Hy-Vee #3 Food and Drugstore</td>\n",
       "      <td>1823 E Kimberly Rd\\nDavenport 52807\\n(41.55678...</td>\n",
       "      <td>Davenport</td>\n",
       "      <td>52807.0</td>\n",
       "      <td>1823 E Kimberly Rd\\nDavenport 52807\\n(41.55678...</td>\n",
       "      <td>82.0</td>\n",
       "      <td>SCOTT</td>\n",
       "      <td>1012200.0</td>\n",
       "      <td>Scotch Whiskies</td>\n",
       "      <td>65.0</td>\n",
       "      <td>Jim Beam Brands</td>\n",
       "      <td>5433</td>\n",
       "      <td>Laphroaig Quarter Cask</td>\n",
       "      <td>6</td>\n",
       "      <td>750</td>\n",
       "      <td>$31.49</td>\n",
       "      <td>$47.24</td>\n",
       "      <td>1</td>\n",
       "      <td>$283.44</td>\n",
       "      <td>0.75</td>\n",
       "      <td>0.19</td>\n",
       "      <td>17</td>\n",
       "    </tr>\n",
       "    <tr>\n",
       "      <th>1532764</th>\n",
       "      <td>12240744</td>\n",
       "      <td>INV-07086700037</td>\n",
       "      <td>09/06/2017</td>\n",
       "      <td>2625</td>\n",
       "      <td>Hy-Vee Wine and Spirits #2</td>\n",
       "      <td>3301 W Kimberly Rd\\nDavenport 52804\\n</td>\n",
       "      <td>Davenport</td>\n",
       "      <td>52804.0</td>\n",
       "      <td>3301 W Kimberly Rd\\nDavenport 52804\\n</td>\n",
       "      <td>82.0</td>\n",
       "      <td>SCOTT</td>\n",
       "      <td>1012200.0</td>\n",
       "      <td>Scotch Whiskies</td>\n",
       "      <td>65.0</td>\n",
       "      <td>Jim Beam Brands</td>\n",
       "      <td>5433</td>\n",
       "      <td>Laphroaig Quarter Cask</td>\n",
       "      <td>6</td>\n",
       "      <td>750</td>\n",
       "      <td>$31.49</td>\n",
       "      <td>$47.24</td>\n",
       "      <td>1</td>\n",
       "      <td>$47.24</td>\n",
       "      <td>0.75</td>\n",
       "      <td>0.19</td>\n",
       "      <td>17</td>\n",
       "    </tr>\n",
       "    <tr>\n",
       "      <th>1533550</th>\n",
       "      <td>12241530</td>\n",
       "      <td>INV-07088500003</td>\n",
       "      <td>09/06/2017</td>\n",
       "      <td>5003</td>\n",
       "      <td>Famous Liquors</td>\n",
       "      <td>2604 W Locust St\\nDavenport 52804\\n(41.538186,...</td>\n",
       "      <td>Davenport</td>\n",
       "      <td>52804.0</td>\n",
       "      <td>2604 W Locust St\\nDavenport 52804\\n(41.538186,...</td>\n",
       "      <td>82.0</td>\n",
       "      <td>SCOTT</td>\n",
       "      <td>1012200.0</td>\n",
       "      <td>Scotch Whiskies</td>\n",
       "      <td>65.0</td>\n",
       "      <td>Jim Beam Brands</td>\n",
       "      <td>5433</td>\n",
       "      <td>Laphroaig Quarter Cask</td>\n",
       "      <td>6</td>\n",
       "      <td>750</td>\n",
       "      <td>$31.49</td>\n",
       "      <td>$47.24</td>\n",
       "      <td>2</td>\n",
       "      <td>$47.24</td>\n",
       "      <td>1.50</td>\n",
       "      <td>0.39</td>\n",
       "      <td>17</td>\n",
       "    </tr>\n",
       "    <tr>\n",
       "      <th>1578417</th>\n",
       "      <td>12286397</td>\n",
       "      <td>INV-07219300028</td>\n",
       "      <td>09/13/2017</td>\n",
       "      <td>4129</td>\n",
       "      <td>Cyclone Liquors</td>\n",
       "      <td>626 Lincoln Way\\nAmes 50010\\n(42.022854, -93.6...</td>\n",
       "      <td>Ames</td>\n",
       "      <td>50010.0</td>\n",
       "      <td>626 Lincoln Way\\nAmes 50010\\n(42.022854, -93.6...</td>\n",
       "      <td>85.0</td>\n",
       "      <td>STORY</td>\n",
       "      <td>1012200.0</td>\n",
       "      <td>Scotch Whiskies</td>\n",
       "      <td>65.0</td>\n",
       "      <td>Jim Beam Brands</td>\n",
       "      <td>5433</td>\n",
       "      <td>Laphroaig Quarter Cask</td>\n",
       "      <td>6</td>\n",
       "      <td>750</td>\n",
       "      <td>$31.49</td>\n",
       "      <td>$47.24</td>\n",
       "      <td>1</td>\n",
       "      <td>$283.44</td>\n",
       "      <td>0.75</td>\n",
       "      <td>0.19</td>\n",
       "      <td>17</td>\n",
       "    </tr>\n",
       "    <tr>\n",
       "      <th>1620576</th>\n",
       "      <td>12328556</td>\n",
       "      <td>INV-07348800002</td>\n",
       "      <td>09/20/2017</td>\n",
       "      <td>2233</td>\n",
       "      <td>Forbes Liquor Locker / remi</td>\n",
       "      <td>2508 Enterprise Ave\\nSpirit Lake 51360\\n(43.41...</td>\n",
       "      <td>Spirit Lake</td>\n",
       "      <td>51360.0</td>\n",
       "      <td>2508 Enterprise Ave\\nSpirit Lake 51360\\n(43.41...</td>\n",
       "      <td>30.0</td>\n",
       "      <td>DICKINSON</td>\n",
       "      <td>1012200.0</td>\n",
       "      <td>Scotch Whiskies</td>\n",
       "      <td>65.0</td>\n",
       "      <td>Jim Beam Brands</td>\n",
       "      <td>5433</td>\n",
       "      <td>Laphroaig Quarter Cask</td>\n",
       "      <td>6</td>\n",
       "      <td>750</td>\n",
       "      <td>$31.49</td>\n",
       "      <td>$47.24</td>\n",
       "      <td>2</td>\n",
       "      <td>$47.24</td>\n",
       "      <td>1.50</td>\n",
       "      <td>0.39</td>\n",
       "      <td>17</td>\n",
       "    </tr>\n",
       "    <tr>\n",
       "      <th>1663941</th>\n",
       "      <td>12371921</td>\n",
       "      <td>INV-07485100010</td>\n",
       "      <td>09/27/2017</td>\n",
       "      <td>2501</td>\n",
       "      <td>Hy-Vee  #2 / Ames</td>\n",
       "      <td>640 Lincolnway\\nAmes 50010\\n(42.022848, -93.61...</td>\n",
       "      <td>Ames</td>\n",
       "      <td>50010.0</td>\n",
       "      <td>640 Lincolnway\\nAmes 50010\\n(42.022848, -93.61...</td>\n",
       "      <td>85.0</td>\n",
       "      <td>STORY</td>\n",
       "      <td>1012200.0</td>\n",
       "      <td>Scotch Whiskies</td>\n",
       "      <td>65.0</td>\n",
       "      <td>Jim Beam Brands</td>\n",
       "      <td>5433</td>\n",
       "      <td>Laphroaig Quarter Cask</td>\n",
       "      <td>6</td>\n",
       "      <td>750</td>\n",
       "      <td>$31.49</td>\n",
       "      <td>$47.24</td>\n",
       "      <td>1</td>\n",
       "      <td>$283.44</td>\n",
       "      <td>0.75</td>\n",
       "      <td>0.19</td>\n",
       "      <td>17</td>\n",
       "    </tr>\n",
       "    <tr>\n",
       "      <th>1705681</th>\n",
       "      <td>12413661</td>\n",
       "      <td>INV-07650100011</td>\n",
       "      <td>10/04/2017</td>\n",
       "      <td>2233</td>\n",
       "      <td>Forbes Liquor Locker / remi</td>\n",
       "      <td>2508 Enterprise Ave\\nSpirit Lake 51360\\n(43.41...</td>\n",
       "      <td>Spirit Lake</td>\n",
       "      <td>51360.0</td>\n",
       "      <td>2508 Enterprise Ave\\nSpirit Lake 51360\\n(43.41...</td>\n",
       "      <td>30.0</td>\n",
       "      <td>DICKINSON</td>\n",
       "      <td>1012200.0</td>\n",
       "      <td>Scotch Whiskies</td>\n",
       "      <td>65.0</td>\n",
       "      <td>Jim Beam Brands</td>\n",
       "      <td>5433</td>\n",
       "      <td>Laphroaig Quarter Cask</td>\n",
       "      <td>6</td>\n",
       "      <td>750</td>\n",
       "      <td>$31.49</td>\n",
       "      <td>$47.24</td>\n",
       "      <td>1</td>\n",
       "      <td>$47.24</td>\n",
       "      <td>0.75</td>\n",
       "      <td>0.19</td>\n",
       "      <td>17</td>\n",
       "    </tr>\n",
       "    <tr>\n",
       "      <th>1767730</th>\n",
       "      <td>12475710</td>\n",
       "      <td>INV-07946500008</td>\n",
       "      <td>10/12/2017</td>\n",
       "      <td>2535</td>\n",
       "      <td>Hy-Vee Food Store #1 / WDM</td>\n",
       "      <td>1700 Valley West Dr\\nWest Des Moines 50265\\n</td>\n",
       "      <td>West Des Moines</td>\n",
       "      <td>50265.0</td>\n",
       "      <td>1700 Valley West Dr\\nWest Des Moines 50265\\n</td>\n",
       "      <td>77.0</td>\n",
       "      <td>POLK</td>\n",
       "      <td>1012200.0</td>\n",
       "      <td>Scotch Whiskies</td>\n",
       "      <td>65.0</td>\n",
       "      <td>Jim Beam Brands</td>\n",
       "      <td>5433</td>\n",
       "      <td>Laphroaig Quarter Cask</td>\n",
       "      <td>6</td>\n",
       "      <td>750</td>\n",
       "      <td>$31.49</td>\n",
       "      <td>$47.24</td>\n",
       "      <td>2</td>\n",
       "      <td>$47.24</td>\n",
       "      <td>1.50</td>\n",
       "      <td>0.39</td>\n",
       "      <td>17</td>\n",
       "    </tr>\n",
       "    <tr>\n",
       "      <th>1790130</th>\n",
       "      <td>12498110</td>\n",
       "      <td>INV-08049400116</td>\n",
       "      <td>10/17/2017</td>\n",
       "      <td>2619</td>\n",
       "      <td>Hy-Vee Wine and Spirits / WDM</td>\n",
       "      <td>1725 74th St\\nWest Des Moines 50266\\n(41.59851...</td>\n",
       "      <td>West Des Moines</td>\n",
       "      <td>50266.0</td>\n",
       "      <td>1725 74th St\\nWest Des Moines 50266\\n(41.59851...</td>\n",
       "      <td>77.0</td>\n",
       "      <td>POLK</td>\n",
       "      <td>1012200.0</td>\n",
       "      <td>Scotch Whiskies</td>\n",
       "      <td>65.0</td>\n",
       "      <td>Jim Beam Brands</td>\n",
       "      <td>5433</td>\n",
       "      <td>Laphroaig Quarter Cask</td>\n",
       "      <td>6</td>\n",
       "      <td>750</td>\n",
       "      <td>$31.49</td>\n",
       "      <td>$47.24</td>\n",
       "      <td>2</td>\n",
       "      <td>$47.24</td>\n",
       "      <td>1.50</td>\n",
       "      <td>0.39</td>\n",
       "      <td>17</td>\n",
       "    </tr>\n",
       "  </tbody>\n",
       "</table>\n",
       "</div>"
      ],
      "text/plain": [
       "         Unnamed: 0 Invoice/Item Number        Date  Store Number  \\\n",
       "462689     11170669     INV-03923100001  03/22/2017          2556   \n",
       "1495748    12203728     INV-06985200114  08/30/2017          2614   \n",
       "1532764    12240744     INV-07086700037  09/06/2017          2625   \n",
       "1533550    12241530     INV-07088500003  09/06/2017          5003   \n",
       "1578417    12286397     INV-07219300028  09/13/2017          4129   \n",
       "1620576    12328556     INV-07348800002  09/20/2017          2233   \n",
       "1663941    12371921     INV-07485100010  09/27/2017          2501   \n",
       "1705681    12413661     INV-07650100011  10/04/2017          2233   \n",
       "1767730    12475710     INV-07946500008  10/12/2017          2535   \n",
       "1790130    12498110     INV-08049400116  10/17/2017          2619   \n",
       "\n",
       "                                    Store Name  \\\n",
       "462689   Hy-Vee Wine and Spirits / Estherville   \n",
       "1495748           Hy-Vee #3 Food and Drugstore   \n",
       "1532764             Hy-Vee Wine and Spirits #2   \n",
       "1533550                         Famous Liquors   \n",
       "1578417                        Cyclone Liquors   \n",
       "1620576            Forbes Liquor Locker / remi   \n",
       "1663941                      Hy-Vee  #2 / Ames   \n",
       "1705681            Forbes Liquor Locker / remi   \n",
       "1767730             Hy-Vee Food Store #1 / WDM   \n",
       "1790130          Hy-Vee Wine and Spirits / WDM   \n",
       "\n",
       "                                                   Address             City  \\\n",
       "462689         2608 E. Central Avenue\\nEstherville 51334\\n      Estherville   \n",
       "1495748  1823 E Kimberly Rd\\nDavenport 52807\\n(41.55678...        Davenport   \n",
       "1532764              3301 W Kimberly Rd\\nDavenport 52804\\n        Davenport   \n",
       "1533550  2604 W Locust St\\nDavenport 52804\\n(41.538186,...        Davenport   \n",
       "1578417  626 Lincoln Way\\nAmes 50010\\n(42.022854, -93.6...             Ames   \n",
       "1620576  2508 Enterprise Ave\\nSpirit Lake 51360\\n(43.41...      Spirit Lake   \n",
       "1663941  640 Lincolnway\\nAmes 50010\\n(42.022848, -93.61...             Ames   \n",
       "1705681  2508 Enterprise Ave\\nSpirit Lake 51360\\n(43.41...      Spirit Lake   \n",
       "1767730       1700 Valley West Dr\\nWest Des Moines 50265\\n  West Des Moines   \n",
       "1790130  1725 74th St\\nWest Des Moines 50266\\n(41.59851...  West Des Moines   \n",
       "\n",
       "         Zip Code                                     Store Location  \\\n",
       "462689    51334.0        2608 E. Central Avenue\\nEstherville 51334\\n   \n",
       "1495748   52807.0  1823 E Kimberly Rd\\nDavenport 52807\\n(41.55678...   \n",
       "1532764   52804.0              3301 W Kimberly Rd\\nDavenport 52804\\n   \n",
       "1533550   52804.0  2604 W Locust St\\nDavenport 52804\\n(41.538186,...   \n",
       "1578417   50010.0  626 Lincoln Way\\nAmes 50010\\n(42.022854, -93.6...   \n",
       "1620576   51360.0  2508 Enterprise Ave\\nSpirit Lake 51360\\n(43.41...   \n",
       "1663941   50010.0  640 Lincolnway\\nAmes 50010\\n(42.022848, -93.61...   \n",
       "1705681   51360.0  2508 Enterprise Ave\\nSpirit Lake 51360\\n(43.41...   \n",
       "1767730   50265.0       1700 Valley West Dr\\nWest Des Moines 50265\\n   \n",
       "1790130   50266.0  1725 74th St\\nWest Des Moines 50266\\n(41.59851...   \n",
       "\n",
       "         County Number     County   Category    Category Name  Vendor Number  \\\n",
       "462689            32.0      EMMET  1012200.0  Scotch Whiskies            NaN   \n",
       "1495748           82.0      SCOTT  1012200.0  Scotch Whiskies           65.0   \n",
       "1532764           82.0      SCOTT  1012200.0  Scotch Whiskies           65.0   \n",
       "1533550           82.0      SCOTT  1012200.0  Scotch Whiskies           65.0   \n",
       "1578417           85.0      STORY  1012200.0  Scotch Whiskies           65.0   \n",
       "1620576           30.0  DICKINSON  1012200.0  Scotch Whiskies           65.0   \n",
       "1663941           85.0      STORY  1012200.0  Scotch Whiskies           65.0   \n",
       "1705681           30.0  DICKINSON  1012200.0  Scotch Whiskies           65.0   \n",
       "1767730           77.0       POLK  1012200.0  Scotch Whiskies           65.0   \n",
       "1790130           77.0       POLK  1012200.0  Scotch Whiskies           65.0   \n",
       "\n",
       "             Vendor Name  Item Number        Item Description  Pack  \\\n",
       "462689               NaN       905433  Laphroaig Quarter Cask     6   \n",
       "1495748  Jim Beam Brands         5433  Laphroaig Quarter Cask     6   \n",
       "1532764  Jim Beam Brands         5433  Laphroaig Quarter Cask     6   \n",
       "1533550  Jim Beam Brands         5433  Laphroaig Quarter Cask     6   \n",
       "1578417  Jim Beam Brands         5433  Laphroaig Quarter Cask     6   \n",
       "1620576  Jim Beam Brands         5433  Laphroaig Quarter Cask     6   \n",
       "1663941  Jim Beam Brands         5433  Laphroaig Quarter Cask     6   \n",
       "1705681  Jim Beam Brands         5433  Laphroaig Quarter Cask     6   \n",
       "1767730  Jim Beam Brands         5433  Laphroaig Quarter Cask     6   \n",
       "1790130  Jim Beam Brands         5433  Laphroaig Quarter Cask     6   \n",
       "\n",
       "         Bottle Volume (ml) State Bottle Cost State Bottle Retail  \\\n",
       "462689                  750             $4.17              $47.24   \n",
       "1495748                 750            $31.49              $47.24   \n",
       "1532764                 750            $31.49              $47.24   \n",
       "1533550                 750            $31.49              $47.24   \n",
       "1578417                 750            $31.49              $47.24   \n",
       "1620576                 750            $31.49              $47.24   \n",
       "1663941                 750            $31.49              $47.24   \n",
       "1705681                 750            $31.49              $47.24   \n",
       "1767730                 750            $31.49              $47.24   \n",
       "1790130                 750            $31.49              $47.24   \n",
       "\n",
       "         Bottles Sold Sale (Dollars)  Volume Sold (Liters)  \\\n",
       "462689              1        $283.44                  0.75   \n",
       "1495748             1        $283.44                  0.75   \n",
       "1532764             1         $47.24                  0.75   \n",
       "1533550             2         $47.24                  1.50   \n",
       "1578417             1        $283.44                  0.75   \n",
       "1620576             2         $47.24                  1.50   \n",
       "1663941             1        $283.44                  0.75   \n",
       "1705681             1         $47.24                  0.75   \n",
       "1767730             2         $47.24                  1.50   \n",
       "1790130             2         $47.24                  1.50   \n",
       "\n",
       "         Volume Sold (Gallons)  Year  \n",
       "462689                    0.19    17  \n",
       "1495748                   0.19    17  \n",
       "1532764                   0.19    17  \n",
       "1533550                   0.39    17  \n",
       "1578417                   0.19    17  \n",
       "1620576                   0.39    17  \n",
       "1663941                   0.19    17  \n",
       "1705681                   0.19    17  \n",
       "1767730                   0.39    17  \n",
       "1790130                   0.39    17  "
      ]
     },
     "execution_count": 211,
     "metadata": {},
     "output_type": "execute_result"
    }
   ],
   "source": [
    "#here we can see the reason the item still shows nan values is BOTH the Vendor Number and Vendor Name were Nan values\n",
    "ytest17[ytest17['Item Description']=='Laphroaig Quarter Cask']"
   ]
  },
  {
   "cell_type": "code",
   "execution_count": 213,
   "id": "445fc173",
   "metadata": {},
   "outputs": [
    {
     "data": {
      "text/plain": [
       "array([nan, 'Jim Beam Brands'], dtype=object)"
      ]
     },
     "execution_count": 213,
     "metadata": {},
     "output_type": "execute_result"
    }
   ],
   "source": [
    "\n",
    "ytest17[ytest17['Item Description']=='Laphroaig Quarter Cask']['Vendor Name'].unique()"
   ]
  },
  {
   "cell_type": "code",
   "execution_count": 212,
   "id": "375fed48",
   "metadata": {},
   "outputs": [
    {
     "data": {
      "text/plain": [
       "array([nan, 65.])"
      ]
     },
     "execution_count": 212,
     "metadata": {},
     "output_type": "execute_result"
    }
   ],
   "source": [
    "ytest17[ytest17['Item Description']=='Laphroaig Quarter Cask']['Vendor Number'].unique()"
   ]
  },
  {
   "cell_type": "code",
   "execution_count": null,
   "id": "0256b41c",
   "metadata": {},
   "outputs": [],
   "source": [
    "#creating targeted functions for vendor name / vendor number to fill in nan values \n",
    "def vendor_name(x,y):\n",
    "    if (pd.isna(x)) and (y=='Laphroaig Quarter Cask'):\n",
    "        return 'Jim Beam Brands'\n",
    "    else:\n",
    "        return x\n",
    "\n",
    "def vendor_number(x,y):\n",
    "    if (pd.isna(x)) and (y=='Laphroaig Quarter Cask'):\n",
    "        return '65.'\n",
    "    else:\n",
    "        return x"
   ]
  },
  {
   "cell_type": "markdown",
   "id": "f3905d4d",
   "metadata": {},
   "source": [
    "### Below are examples of searches to understand the correlation of 'Category Name' with 'Item Description' and 'Category'.\n",
    "### This ultimately resulted in identifying a challenge with the dataset for: there is not enough uniqueness nor consistency to fill in the 'Category Name' and 'Category' columns' nan values via function like many of the other columns were filled in. "
   ]
  },
  {
   "cell_type": "code",
   "execution_count": null,
   "id": "1ff9079e",
   "metadata": {},
   "outputs": [],
   "source": [
    "ytest17[ytest17['Category Name'].isna()]['Item Description']"
   ]
  },
  {
   "cell_type": "code",
   "execution_count": null,
   "id": "1e6ad476",
   "metadata": {},
   "outputs": [],
   "source": [
    "ytest17[ytest17['Category'].isna()]['Item Description']"
   ]
  },
  {
   "cell_type": "code",
   "execution_count": 286,
   "id": "31484929",
   "metadata": {},
   "outputs": [
    {
     "data": {
      "text/plain": [
       "array([], dtype=object)"
      ]
     },
     "execution_count": 286,
     "metadata": {},
     "output_type": "execute_result"
    }
   ],
   "source": [
    "#No value for Category Name for Barbados Rum in any instance\n",
    "catnamena[catnamena['Item Description']=='Barbados Rum']['Category Name'].unique()"
   ]
  },
  {
   "cell_type": "code",
   "execution_count": 303,
   "id": "196f35d3",
   "metadata": {},
   "outputs": [
    {
     "data": {
      "text/plain": [
       "array(['White Rum', 'Spiced Rum', 'Gold Rum', 'Flavored Rum',\n",
       "       'Aged Dark Rum'], dtype=object)"
      ]
     },
     "execution_count": 303,
     "metadata": {},
     "output_type": "execute_result"
    }
   ],
   "source": [
    "#There are 5 different 'Rum' categories so a search for 'rum' in 'Item Description' \n",
    "#cannot be used to fill in the Category Name\n",
    "y17[y17['Category Name'].notna() & y17['Category Name'].str.contains('Rum')]['Category Name'].unique()"
   ]
  },
  {
   "cell_type": "code",
   "execution_count": 307,
   "id": "21fb7736",
   "metadata": {},
   "outputs": [
    {
     "data": {
      "text/plain": [
       "array(['Barton Rum Light', 'Captain Morgan Spiced Rum',\n",
       "       'Bacardi Superior Rum', 'Bacardi Oakheart',\n",
       "       'Appleton Signature Blend', 'Sailor Jerry Spiced Navy Rum',\n",
       "       'Paramount White Rum', 'Malibu Coconut Rum',\n",
       "       'Bacardi Gold Rum Mini', 'Captain Morgan Silver Spiced Rum',\n",
       "       'Captain Morgan Spiced Rum Pet', 'Captain Morgan Spiced Rum Mini',\n",
       "       'Captain Morgan Original Spiced', 'Blue Chair Bay Coconut',\n",
       "       'Bacardi Limon', 'Bacardi Mango',\n",
       "       'Captain Morgan Parrot Bay Pineapple', 'Bacardi Dragon Berry',\n",
       "       'Bacardi Pineapple', 'Bacardi Gold Rum',\n",
       "       'Captain Morgan Cannon Blast', 'Admiral Nelson Spiced Rum',\n",
       "       'Captain Morgan Black Spiced',\n",
       "       'Captain Morgan Original Spiced Rum Pet', 'Captain Morgan White',\n",
       "       'Cruzan Dark Rum', 'Rondiaz Rum White', 'Malibu Coconut Rum Mini',\n",
       "       'Malibu Pineapple Rum', 'Bacardi Superior Rum Mini',\n",
       "       'Captain Morgan 100 Proof Spiced Rum', 'Captain Morgan Pineapple',\n",
       "       'Malibu Pineapple Upside Down Cake',\n",
       "       'Captain Morgan Spiced Barrel',\n",
       "       'Captain Morgan Parrot Bay Coconut', 'Bacardi Superior PET',\n",
       "       'Lady Bligh Spiced Rum', 'Bacardi Superior Rum Pet',\n",
       "       'Admiral Nelson Cherry Spiced Rum', 'Phillips White Rum',\n",
       "       'Cruzan Mango Rum', 'Paramount Gold Rum',\n",
       "       'Malibu Passion Fruit Rum', 'Malibu Black', 'Bacardi Black',\n",
       "       'Captain Morgan Private Stock', 'Kraken Black Spiced Rum',\n",
       "       'Admiral Nelson Spiced Rum Mini', 'Hawkeye Light Rum',\n",
       "       \"Myers's Rum Original Dark\", 'Admiral Nelson Spiced Rum Traveler',\n",
       "       'Ronrico Silver Label Rum (pr)', 'Rondiaz Rum Spiced',\n",
       "       'Kraken Black Spiced 70prf', 'Kraken Black Spiced Rum 70prf',\n",
       "       'Blackheart Premium Spiced Rum', 'Calico Jack Spiced',\n",
       "       'Admiral Nelson Coconut Rum', 'Cruzan Black Cherry Rum',\n",
       "       'Paramount Gold Rum Traveler', 'Captain Morgan Cannon Blast Mini',\n",
       "       'Bacardi Grapefruit', 'Mt. Gay Eclipse Rum', 'Bacardi O',\n",
       "       'Captain Morgan White Mini', 'Castillo Silver Rum',\n",
       "       'Rondiaz Rum Spiced Black Cherry', \"Gosling's Black Seal\",\n",
       "       'Admiral Nelson Spiced 101', 'Captain Morgan 1671',\n",
       "       'Cruzan Coconut Rum', 'Paramount White Rum Traveler',\n",
       "       'Don Q Cristal Rum', 'Cruzan 151', 'Cruzan Vanilla Rum',\n",
       "       'Paradise Island Bay', 'Captain Morgan Parrot Bay Passion Fruit',\n",
       "       'Captain Morgan Lime Bite', 'Bacardi 8 Rum', 'Zaya Guatemalan Rum',\n",
       "       'Cruzan Raspberry Rum', 'Cruzan Strawberry Rum',\n",
       "       'Paradise Distilling Raspberry Bay Liqueur', 'Malibu Island Melon',\n",
       "       'Captain Morgan White PET', 'Captain Morgan Coconut',\n",
       "       'Paradise Distilling Coconut Bay Liqueur', 'Malibu Mango Rum',\n",
       "       'Bacardi Raspberry', 'Bacardi Torched Cherry',\n",
       "       'Cedar Ridge Dark Rum', 'Cedar Ridge Lost Pirate Port Finish Rum',\n",
       "       'Ron Zacapa 23 Year', 'Mt. Gay Black Barrel',\n",
       "       'Blue Chair Bay Banana', 'Blue Chair Bay Coconut Spiced',\n",
       "       'Bacardi Gran Reserva Maestro',\n",
       "       'Trader Vics Private Selection Spiced Rum', \"Five O'clock\",\n",
       "       'Calico Jack Cherry', 'Captain Morgan Parrot Bay Orange',\n",
       "       'Captain Morgan Parrot Bay Mango', 'Bacardi Gold Rum Pet',\n",
       "       'Captain Morgan Grapefruit', 'Cruzan Light Rum',\n",
       "       'Blue Chair Bay White', 'Havana Club Anejo Clasico Mini',\n",
       "       'Havana Club Anejo Blanco Mini', 'Captain Morgan Pineapple Mini',\n",
       "       'Havana Club Anejo Blanco', 'Calico Jack', 'Rondiaz Mini',\n",
       "       'Captain Morgan Parrot Bay Key Lime',\n",
       "       'Captain Morgan Parrot Bay Strawberry',\n",
       "       'Cruzan Blueberry Lemonade', 'Admiral Nelson Black Patch',\n",
       "       'Admiral Nelson Black Patch Mini', 'Malibu Red',\n",
       "       'Bacardi Gold Rum PET', 'Captain Morgan Private Stock Rum',\n",
       "       'Clearheart Rum', 'Castillo Spiced Rum',\n",
       "       'Havana Club Anejo Clasico', 'Steel Drum', 'Bacardi Tangerine',\n",
       "       \"British Navy Pusser's Rum\", 'Cane Rune White Rum Mini',\n",
       "       'Cane Run White Rum', 'Havana Judge Spiced Rum',\n",
       "       'Kraken Black Mini', 'Flor De Cana White', 'Artisan Grain Silver',\n",
       "       'Paradise White Sand', 'Paradise Distilling Mango Bay Liqueur',\n",
       "       'Bayou Spiced Rum', 'Cachaca 51', 'Artisan Grain Gold Rum',\n",
       "       'Captain Morgan Loconut Mini', 'Captain Morgan Loconut',\n",
       "       \"Caribbean's Finest Rum Caramel\", \"Caribbean's Finest Rum Coconut\",\n",
       "       \"Caribbean's Finest Rum Ginger\",\n",
       "       \"Caribbean's Finest Rum Gran Reserva\",\n",
       "       \"Caribbean's Finest Rum Orange\",\n",
       "       \"Caribbean's Finest Rum Pineapple\", 'Brugal Especial Extra Dry',\n",
       "       'El Dorado Special Reserve 12YR', 'Don Q 151',\n",
       "       'Paradise Caribbean Mist', 'Breckenridge Spiced Rum',\n",
       "       'Goslings Gold Seal', 'Kirk & Sweeney 12YR Old Anejo',\n",
       "       'Bayou Satsuma Rum Liqueur', 'Ron Barcelo Gran Anejo',\n",
       "       'Vizcaya Black Rum',\n",
       "       \"Sammy's Beach Bar Rum Red Head (Macadamia Nut)\",\n",
       "       'Barton Gold Rum 1.75', 'Bayou Silver White Rum',\n",
       "       'Cruzan Light Mini', 'Koloa Hawaiian Kauai Coffee Rum',\n",
       "       'Cruzan Citrus', 'Bacardi Banana Mini', 'Bacardi Oakheart Mini',\n",
       "       'Don Q Limon', \"Pusser's Gunpowder Proof Rum\",\n",
       "       'El Dorado 15 Year Old Special Reserve Rum', 'Bacardi Banana',\n",
       "       'Bacardi Classic Cocktail Rum Punch', 'Cruzan Passion Fruit',\n",
       "       'Rondiaz DSS Lemon Rum', 'Blue Chair Bay Vanilla Rum',\n",
       "       \"Caribbean's Finest Rum Grapefruit\", 'Sugar Island Rum Coconut',\n",
       "       'Cruzan Tropical Fruit', 'Rondiaz Rum Dark',\n",
       "       'Beach Bonfire Cinnamon Whiskey', 'Beach Island Coconut Whiskey',\n",
       "       'Malibu w/Dole Pineapple Juice',\n",
       "       'Starr Oak Aged 7 year African Rum', 'J Wray Silver',\n",
       "       \"Holstein Single Barrel Sippin' Rum\", 'Prichards Peach Mango Rum',\n",
       "       'Malibu 1.75L w/Pineapple VAP Giant Tray Pack',\n",
       "       'Cruzan Black Cherry', 'La Hechicera Aged Rum', 'Rogue Dark Rum',\n",
       "       'Kirkland Signature Original Spiced Rum', 'Flor De Cana Gold',\n",
       "       'Admiral Nelson Pineapple Rum', 'Caliber Spiced Rum',\n",
       "       'Caliber Silver Rum', 'Holy Hell',\n",
       "       'Blue Chair Bay Coconut Spiced Rum Cream', 'JM VSOP',\n",
       "       'Novo Fogo Silver Cacha�a', 'Flor De Cana 12yr Centenario',\n",
       "       'Admiral Nelson Pineapple', 'RumHaven', 'Admiral Nelson Vanilla',\n",
       "       'Admiral Nelson  101 Mini', 'Members Mark Silver Rum Tray Pack',\n",
       "       'Ron Abuelo Anejo', 'Cruzan Blackstrap', 'Clement VSOP Aged Rum',\n",
       "       'Sailor Jerry Game Day VAP', 'Captain Morgan Jack-O Blast Mini',\n",
       "       'Papas Pilar Dark Rum',\n",
       "       'Captain Morgan 1.75L Retail Ready 3pk Shipper',\n",
       "       'Tattersall Distilling Blackstrap Rum', 'Commanders Spiced Rum',\n",
       "       'Commanders Silver Aged 1YR', 'Papas Pilar Blonde Rum', 'Cruzan 9',\n",
       "       'Bumbu Rum', 'El Dorado 8YR', 'Ron Barcelo Imperial',\n",
       "       'Lemon Hart 1804 Original', 'Lemon Hart 151'], dtype=object)"
      ]
     },
     "execution_count": 307,
     "metadata": {},
     "output_type": "execute_result"
    }
   ],
   "source": [
    "#The rum categories have to many unique item descriptions to ignore \n",
    "y17[(y17['Category Name']=='White Rum') | (y17['Category Name']=='Spiced Rum') | (y17['Category Name']=='Gold Rum') | (y17['Category Name']=='Flavored Rum') | (y17['Category Name']=='Aged Dark Rum')]['Item Description'].unique()"
   ]
  },
  {
   "cell_type": "code",
   "execution_count": 379,
   "id": "67f64a09",
   "metadata": {},
   "outputs": [
    {
     "data": {
      "text/plain": [
       "array(['100% Agave Tequila'], dtype=object)"
      ]
     },
     "execution_count": 379,
     "metadata": {},
     "output_type": "execute_result"
    }
   ],
   "source": [
    "y17[y17['Item Description'].str.contains('Patron Guillermo Del Toro Extra Anejo & Orange')]['Category Name'].unique()"
   ]
  },
  {
   "cell_type": "code",
   "execution_count": 446,
   "id": "41066ab2",
   "metadata": {},
   "outputs": [
    {
     "data": {
      "text/plain": [
       "array(['El Mayor Extra Anejo', 'El Mayor Extra Anejo 100% Agave HA'],\n",
       "      dtype=object)"
      ]
     },
     "execution_count": 446,
     "metadata": {},
     "output_type": "execute_result"
    }
   ],
   "source": [
    "#one example of item descriptions that are very similar but not the same: being too unique to generalize\n",
    "catnamena[catnamena['Item Description'].str.contains('El Mayor Extra Anejo')]['Item Description'].unique()"
   ]
  },
  {
   "cell_type": "code",
   "execution_count": 448,
   "id": "b978af8b",
   "metadata": {},
   "outputs": [
    {
     "data": {
      "text/plain": [
       "array(['TEQUILA'], dtype=object)"
      ]
     },
     "execution_count": 448,
     "metadata": {},
     "output_type": "execute_result"
    }
   ],
   "source": [
    "catnamena[catnamena['Item Description'].str.contains('El Mayor Extra Anejo 100% Agave HA')]['Category Name'].unique()"
   ]
  },
  {
   "cell_type": "code",
   "execution_count": 439,
   "id": "430b039f",
   "metadata": {},
   "outputs": [
    {
     "data": {
      "text/plain": [
       "array([1011200., 1901200., 1011600., 1011500.])"
      ]
     },
     "execution_count": 439,
     "metadata": {},
     "output_type": "execute_result"
    }
   ],
   "source": [
    "#another example of item descriptions that are very similar but not the same: being too unique to generalize\n",
    "catna[catna['Item Description'].str.contains('Michter')]['Category'].unique()"
   ]
  },
  {
   "cell_type": "code",
   "execution_count": 449,
   "id": "27bbb0c0",
   "metadata": {},
   "outputs": [
    {
     "data": {
      "text/plain": [
       "array([1022100.])"
      ]
     },
     "execution_count": 449,
     "metadata": {},
     "output_type": "execute_result"
    }
   ],
   "source": [
    "#Categories are \n",
    "y17[y17['Category Name']=='TEQUILA']['Category'].unique()"
   ]
  },
  {
   "cell_type": "markdown",
   "id": "26a4dcde",
   "metadata": {},
   "source": [
    "### This means external research was done for each Item Description associated with Category Name and Category Number nan Values and targeted if/else functions were created"
   ]
  },
  {
   "cell_type": "markdown",
   "id": "c033e58a",
   "metadata": {},
   "source": [
    "### Compiling results of manual search and replacement of nan values"
   ]
  },
  {
   "cell_type": "code",
   "execution_count": 451,
   "id": "fa4dbee7",
   "metadata": {},
   "outputs": [],
   "source": [
    "#get_county uses Store Number in dictionary and misses the county for cities of Guttenberg and Belmond\n",
    "def county(x,y):\n",
    "    if (pd.isna(x)) and (y=='GUTTENBERG'):\n",
    "        return 'Clayton'\n",
    "    elif (pd.isna(x)) and (y=='BELMOND'):\n",
    "        return 'Wright'\n",
    "    else:\n",
    "        return x\n",
    "\n",
    "#get_county_number uses Store Number in dictionary and misses the county number for cities of Guttenberg and Belmond\n",
    "def county_number(x,y):\n",
    "    if (pd.isna(x)) and (y=='GUTTENBERG'):\n",
    "        return '22.'\n",
    "    elif (pd.isna(x)) and (y=='BELMOND'):\n",
    "        return '99.'\n",
    "    else:\n",
    "        return x\n",
    "    \n",
    "def category_name(x,y):\n",
    "    if (pd.isna(x)) and (y=='Herradura Gold Reposado 6pak'):\n",
    "        return 'TEQUILA'\n",
    "    elif (pd.isna(x)) and (y=='Evan Williams Egg Nog'):\n",
    "        return 'CREAM LIQUEURS'\n",
    "    elif (pd.isna(x)) and (y==\"Carolan's Irish Cream w/2 Bowls\"):\n",
    "        return 'DECANTERS & SPECIALTY PACKAGES'\n",
    "    elif (pd.isna(x)) and (y=='Rogue Dark Rum'):\n",
    "        return 'AGED DARK RUM'\n",
    "    elif (pd.isna(x)) and (y=='Ultimat Vodka'):\n",
    "        return 'IMPORTED VODKA'\n",
    "    elif (pd.isna(x)) and (y=='Herradura Anejo Tequila'):\n",
    "        return 'TEQUILA'\n",
    "    elif (pd.isna(x)) and (y==\"Whaler's Original Dark Rum\"):\n",
    "        return 'SPECIAL ORDER ITEMS'\n",
    "    elif (pd.isna(x)) and (y==\"Wild Turkey American Honey Shot Tap\"):\n",
    "        return 'DECANTERS & SPECIALTY PACKAGES'\n",
    "    elif (pd.isna(x)) and (y==\"Chambord Liqueur w/2 Glasses\"):\n",
    "        return 'DECANTERS & SPECIALTY PACKAGES'\n",
    "    elif (pd.isna(x)) and (y=='Gentleman Jack w/2 Glasses'):\n",
    "        return 'DECANTERS & SPECIALTY PACKAGES'\n",
    "    elif (pd.isna(x)) and (y=='Caravella Limoncello w/Glass'):\n",
    "        return 'DECANTERS & SPECIALTY PACKAGES'\n",
    "    elif (pd.isna(x)) and (y=='Craigellachie'):\n",
    "        return 'SCOTCH WHISKIES'\n",
    "    elif (pd.isna(x)) and (y=='Glenfiddich 1963 Replica HA'):\n",
    "        return 'SINGLE MALT SCOTCH'\n",
    "    elif (pd.isna(x)) and (y=='Pinnacle Candy Cane Trial Pack'):\n",
    "        return 'Holiday VAP'\n",
    "    elif (pd.isna(x)) and (y=='Dry Fly Gin'):\n",
    "        return 'AMERICAN DRY GINS'\n",
    "    elif (pd.isna(x)) and (y==\"Galliano L'Autentico\"):\n",
    "        return 'MISC. IMPORTED CORDIALS & LIQUEURS'\n",
    "    elif (pd.isna(x)) and (y=='1800 Reposado'):\n",
    "        return 'TEQUILA'\n",
    "    elif (pd.isna(x)) and (y=='Grand Marnier Cuvee 1880 HA'):\n",
    "        return 'Imported Cordials & Liqueur'\n",
    "    elif (pd.isna(x)) and (y=='Courvoisier Gold'):\n",
    "        return 'MISC. IMPORTED CORDIALS & LIQUEURS'\n",
    "    elif (pd.isna(x)) and (y=='Ardbeg Auriverdes HA'):\n",
    "        return 'SINGLE MALT SCOTCH'\n",
    "    else:\n",
    "        return x\n",
    "    \n",
    "def category(x,y):\n",
    "    if (pd.isna(x)) and (y=='Evan Williams Egg Nog'):\n",
    "        return '1081200.'\n",
    "    elif (pd.isna(x)) and (y==\"Carolan's Irish Cream w/2 Bowls\"):\n",
    "        return '1701100.'\n",
    "    elif (pd.isna(x)) and (y==\"Wild Turkey American Honey Shot Tap\"):\n",
    "        return '1701100.'\n",
    "    elif (pd.isna(x)) and (y==\"Chambord Liqueur w/2 Glasses\"):\n",
    "        return '1701100.'\n",
    "    elif (pd.isna(x)) and (y=='Gentleman Jack w/2 Glasses'):\n",
    "        return '1701100.'\n",
    "    elif (pd.isna(x)) and (y=='Caravella Limoncello w/Glass'):\n",
    "        return '1701100.'\n",
    "    elif (pd.isna(x)) and (y=='Craigellachie'):\n",
    "        return '1012200.'\n",
    "    elif (pd.isna(x)) and (y=='Glenfiddich 1963 Replica HA'):\n",
    "        return '1012210.'\n",
    "    elif (pd.isna(x)) and (y=='Pinnacle Candy Cane Trial Pack'):\n",
    "        return '1701200.'\n",
    "    elif (pd.isna(x)) and (y=='Dry Fly Gin'):\n",
    "        return '1041100.'\n",
    "    elif (pd.isna(x)) and (y==\"Galliano L'Autentico\"):\n",
    "        return '1082900.'\n",
    "    elif (pd.isna(x)) and (y=='1800 Reposado'):\n",
    "        return '1022200.'\n",
    "    elif (pd.isna(x)) and (y=='Grand Marnier Cuvee 1880 HA'):\n",
    "        return '1082100.'\n",
    "    elif (pd.isna(x)) and (y=='Courvoisier Gold'):\n",
    "        return '1082900.'\n",
    "    elif (pd.isna(x)) and (y=='Ardbeg Auriverdes HA'):\n",
    "        return '1012210.'\n",
    "    else:\n",
    "        return x"
   ]
  },
  {
   "cell_type": "code",
   "execution_count": 454,
   "id": "7c8d9bd9",
   "metadata": {},
   "outputs": [],
   "source": [
    "def category_name2(x,y):\n",
    "    if (pd.isna(x)):\n",
    "        if (y==\"Galliano L'Autentico\"):\n",
    "            return 'MISC. IMPORTED CORDIALS & LIQUEURS'\n",
    "        elif (y=='Spanish Single Malt 100ml'):\n",
    "            return 'SINGLE MALT SCOTCH'\n",
    "        elif (y=='Spanish Single Malt 1 Liter'):\n",
    "            return 'SINGLE MALT SCOTCH'\n",
    "        elif (y=='Spanish Single Malt 375ml'):\n",
    "            return 'SINGLE MALT SCOTCH'\n",
    "        elif (y=='Spanish Single Malt 50ml'):\n",
    "            return 'SINGLE MALT SCOTCH'\n",
    "        elif (y=='Spanish Single Malt 750ml'):\n",
    "            return 'SINGLE MALT SCOTCH'\n",
    "        elif (y=='Spanish Single Malt 200ml'):\n",
    "            return 'SINGLE MALT SCOTCH'\n",
    "        elif (y=='Deep Eddy  Lemon Vodka'):\n",
    "            return 'VODKA FLAVORED'\n",
    "        elif (y=='\"Beefeater \"\"24\"\"\"'):\n",
    "            return 'IMPORTED DRY GINS'\n",
    "        elif (y=='Ansac VS  Cognac'):\n",
    "            return 'Imported Brandies'\n",
    "        elif (y=='Aalborg Jubilaeums Aquavit'):\n",
    "            return 'Imported Cordials & Liqueur'\n",
    "        elif (y=='Patron Silver 750 Box Tray Pack'):\n",
    "            return 'DECANTERS & SPECIALTY PACKAGES'\n",
    "        elif (y=='Patron Citronge Mango'):\n",
    "            return '100% Agave Tequila'\n",
    "        elif (y=='Deanston Organic 14YR'):\n",
    "            return 'SINGLE MALT SCOTCH'\n",
    "        elif (y=='HA Orphan Barrel Barterhouse'):\n",
    "            return 'STRAIGHT BOURBON WHISKIES'\n",
    "        elif (y=='HA Orphan Barrel Forged Oak'):\n",
    "            return 'STRAIGHT BOURBON WHISKIES'\n",
    "        elif (y=='Rothman & Winter Orchard Peach'):\n",
    "            return 'MISC. IMPORTED CORDIALS & LIQUEURS'\n",
    "        elif (y=='HA Pikesville Rye 110prf'):\n",
    "            return 'STRAIGHT RYE WHISKIES'\n",
    "        elif (y=='HA Johnnie Walker Private Collection 2014 Smoke'):\n",
    "            return 'SCOTCH WHISKIES'\n",
    "        elif (y=='Jose Cuervo Especial Silver/Flask'):\n",
    "            return 'DECANTERS & SPECIALTY PACKAGES'\n",
    "        elif (y=='Jose Cuervo Especial Gold /Flask'):\n",
    "            return  'DECANTERS & SPECIALTY PACKAGES'\n",
    "        elif (y==\"Aberlour A''bunadh\"):\n",
    "            return 'SINGLE MALT SCOTCH'\n",
    "        elif (y=='El Mayor Extra Anejo 100% Agave'):\n",
    "            return 'TEQUILA'\n",
    "        elif (y=='Ezra Brooks Bourbon Cream Mini'):\n",
    "            return 'Temporary & Specialty Packages'\n",
    "        elif (y==\"Michter's US*1 SB Rye\"):\n",
    "            return 'STRAIGHT RYE WHISKIES'\n",
    "        elif (y=='Glen Moray Scotch Classic Port Cask w/2 Glasses'):\n",
    "            return  'DECANTERS & SPECIALTY PACKAGES'\n",
    "        elif (y=='Zaya Gran Reserva Rum w/2 Rocks Glasses'):\n",
    "            return   'DECANTERS & SPECIALTY PACKAGES'\n",
    "        elif (y=='Corralejo Silver w/2 Sangrita Glasses'):\n",
    "            return  'DECANTERS & SPECIALTY PACKAGES'\n",
    "        elif (y=='Southern Comfort w/2 Rock Glasses'):\n",
    "            return  'DECANTERS & SPECIALTY PACKAGES'\n",
    "        elif (y=='Crystal Head Vodka w/2 Skull Glasses'):\n",
    "            return  'DECANTERS & SPECIALTY PACKAGES'\n",
    "        elif (y=='Hornitos Plata w/Glasses'):\n",
    "            return  'DECANTERS & SPECIALTY PACKAGES'\n",
    "        elif (y=='Hornitos Reposado w/Glasses'):\n",
    "            return   'DECANTERS & SPECIALTY PACKAGES'\n",
    "        elif (y=='Glen Moray Classic Chardonnay Cask Finish w/2 Glasses'):\n",
    "            return  'DECANTERS & SPECIALTY PACKAGES'\n",
    "        else:\n",
    "            return x\n",
    "    else:\n",
    "        return x\n",
    "              \n",
    "\n",
    "def category2(x,y):\n",
    "    if (pd.isna(x)):\n",
    "        if (y==\"Galliano L'Autentico\"):\n",
    "            return '1082900.'\n",
    "        elif (y=='Spanish Single Malt 100ml'):\n",
    "            return '1012210.'\n",
    "        elif (y=='Spanish Single Malt 1 Liter'):\n",
    "            return  '1012210.'\n",
    "        elif (y=='Spanish Single Malt 375ml'):\n",
    "            return  '1012210.'\n",
    "        elif (y=='Spanish Single Malt 50ml'):\n",
    "            return  '1012210.'\n",
    "        elif (y=='Spanish Single Malt 750ml'):\n",
    "            return  '1012210.'\n",
    "        elif (y=='Spanish Single Malt 200ml'):\n",
    "            return  '1012210.'\n",
    "        elif (y=='Deep Eddy Lemon Vodka'):\n",
    "            return '1031200.'\n",
    "        elif (y=='\"Beefeater \"\"24\"\"\"'):\n",
    "            return '1042100.'\n",
    "        elif (y=='Ansac VS  Cognac'):\n",
    "            return '1052100.'\n",
    "        elif (y=='Aalborg Jubilaeums Aquavit'):\n",
    "            return '1082100.'\n",
    "        elif (y=='Patron Silver 750 Box Tray Pack'):\n",
    "            return  '1701100.'\n",
    "        elif (y=='Patron Citronge Mango'):\n",
    "            return '1022200.'\n",
    "        elif (y=='Deanston Organic 14YR'):\n",
    "            return '1012210.'\n",
    "        elif (y=='HA Orphan Barrel Barterhouse'):\n",
    "            return '1011200.'\n",
    "        elif (y=='HA Orphan Barrel Forged Oak'):\n",
    "            return '1011200.'\n",
    "        elif (y=='Rothman & Winter Orchard Peach'):\n",
    "            return '1082900.'\n",
    "        elif (y=='HA Pikesville Rye 110prf'):\n",
    "            return '1011500.'\n",
    "        elif (y=='HA Johnnie Walker Private Collection 2014 Smoke'):\n",
    "            return '1012200.'\n",
    "        elif (y=='Jose Cuervo Especial Silver/Flask'):\n",
    "            return '1701100.'\n",
    "        elif (y=='Jose Cuervo Especial Gold /Flask'):\n",
    "            return '1701100.'\n",
    "        elif (y==\"Aberlour A''bunadh\"):\n",
    "            return '1012210.'\n",
    "        elif (y=='El Mayor Extra Anejo 100% Agave'):\n",
    "            return '1022100.'\n",
    "        elif (y=='Ezra Brooks Bourbon Cream Mini'):\n",
    "            return '1701100.'\n",
    "        elif (y==\"Michter's US*1 SB Rye\"):\n",
    "            return '1011500.'\n",
    "        elif (y=='Glen Moray Scotch Classic Port Cask w/2 Glasses'):\n",
    "            return '1701100.'\n",
    "        elif (y=='Zaya Gran Reserva Rum w/2 Rocks Glasses'):\n",
    "            return  '1701100.'\n",
    "        elif (y=='Corralejo Silver w/2 Sangrita Glasses'):\n",
    "            return '1701100.'\n",
    "        elif (y=='Southern Comfort w/2 Rock Glasses'):\n",
    "            return '1701100.'\n",
    "        elif (y=='Crystal Head Vodka w/2 Skull Glasses'):\n",
    "            return '1701100.'\n",
    "        elif (y=='Hornitos Plata w/Glasses'):\n",
    "            return '1701100.'\n",
    "        elif (y=='Hornitos Reposado w/Glasses'):\n",
    "            return  '1701100.'\n",
    "        elif (y=='Glen Moray Classic Chardonnay Cask Finish w/2 Glasses'):\n",
    "            return '1701100.'\n",
    "        else:\n",
    "            return x\n",
    "    else:\n",
    "        return x\n",
    "              "
   ]
  },
  {
   "cell_type": "code",
   "execution_count": 456,
   "id": "a85bd4c5",
   "metadata": {},
   "outputs": [],
   "source": [
    "# testing results of manual replacements\n",
    "ytest17['Category']=list(map(category2,ytest17['Category'],ytest17['Item Description']))"
   ]
  },
  {
   "cell_type": "code",
   "execution_count": 457,
   "id": "df1be283",
   "metadata": {},
   "outputs": [],
   "source": [
    "ytest17['Category Name']=list(map(category_name2,ytest17['Category Name'],ytest17['Item Description']))"
   ]
  },
  {
   "cell_type": "code",
   "execution_count": 458,
   "id": "69b3902f",
   "metadata": {},
   "outputs": [
    {
     "data": {
      "text/plain": [
       "Unnamed: 0                 0\n",
       "Invoice/Item Number        0\n",
       "Date                       0\n",
       "Store Number               0\n",
       "Store Name                 0\n",
       "Address                    0\n",
       "City                       0\n",
       "Zip Code                   0\n",
       "Store Location             0\n",
       "County Number              0\n",
       "County                     0\n",
       "Category                 128\n",
       "Category Name            126\n",
       "Vendor Number              0\n",
       "Vendor Name                0\n",
       "Item Number                0\n",
       "Item Description           0\n",
       "Pack                       0\n",
       "Bottle Volume (ml)         0\n",
       "State Bottle Cost          0\n",
       "State Bottle Retail        0\n",
       "Bottles Sold               0\n",
       "Sale (Dollars)             0\n",
       "Volume Sold (Liters)       0\n",
       "Volume Sold (Gallons)      0\n",
       "Year                       0\n",
       "dtype: int64"
      ]
     },
     "execution_count": 458,
     "metadata": {},
     "output_type": "execute_result"
    }
   ],
   "source": [
    "# much much better\n",
    "ytest17.isna().sum()"
   ]
  },
  {
   "cell_type": "code",
   "execution_count": 5,
   "id": "782d075c",
   "metadata": {},
   "outputs": [
    {
     "data": {
      "text/plain": [
       "array([], dtype=object)"
      ]
     },
     "execution_count": 5,
     "metadata": {},
     "output_type": "execute_result"
    }
   ],
   "source": [
    "#some values simply lack too much information to fill in without a level of assumption and guesswork that I did not deem \n",
    "#responsible to use. Ideally, an external source in Iowa's distribution system would be consulted for the information.\n",
    "ytest17[ytest17['Category']=='Bains Cape Mountain Whiskey']['Category Name'].unique()"
   ]
  },
  {
   "cell_type": "markdown",
   "id": "630f11f1",
   "metadata": {},
   "source": [
    "# Applying all dictionaries and functions to each year"
   ]
  },
  {
   "cell_type": "code",
   "execution_count": null,
   "id": "aa231901",
   "metadata": {},
   "outputs": [],
   "source": [
    "#This loops through all 6 parts with all maps to reduce nans in all categories\n",
    "#However, below I more deliberately clean each part to be as accurate as possible\n",
    "listof6 = (y12,y13,y14,y15,y16,y17)\n",
    "counter = 12\n",
    "for i in listof6:\n",
    "    print(counter)\n",
    "    counter+=1\n",
    "    i['Address']=list(map(get_address,i['Address'],i['Store Number']))\n",
    "    i['Store Location']=list(map(get_store_location,i['Store Location'],i['Store Number']))\n",
    "    i['Zip Code']=list(map(get_zip,i['Zip Code'],i['Store Number']))\n",
    "    i['City']=list(map(get_city,i['City'],i['Store Number']))\n",
    "    i['County Number']=list(map(get_county_number,i['County Number'],i['Store Number']))\n",
    "    i['County Number']=list(map(county_number,i['County Number'],i['City']))\n",
    "    i['County']=list(map(get_county,i['County'],i['Store Number']))\n",
    "    i['County']=list(map(county,i['County'],i['City']))\n",
    "    i['Category']=list(map(category,i['Category'],i['Item Description']))\n",
    "    i['Category']=list(map(category2,i['Category'],i['Item Description']))\n",
    "    i['Category']=list(map(get_category,i['Category'],i['Item Description']))\n",
    "    i['Category Name']=list(map(category_name,i['Category Name'],i['Item Description']))\n",
    "    i['Category Name']=list(map(category_name2,i['Category Name'],i['Item Description']))\n",
    "    i['Category Name']=list(map(get_category_name,i['Category Name'],i['Item Description']))\n",
    "    i['Vendor Name']=list(map(get_vendor_name,i['Vendor Name'],i['Item Description']))\n",
    "    i['Vendor Name']=list(map(vendor_name,i['Vendor Name'],i['Item Description']))\n",
    "    i['Vendor Number']=list(map(get_vendor_number,i['Vendor Number'],i['Item Description']))\n",
    "    i['Vendor Number']=list(map(vendor_number,i['Vendor Number'],i['Item Description']))"
   ]
  },
  {
   "cell_type": "markdown",
   "id": "6f5e1062",
   "metadata": {},
   "source": [
    "## Year 2012"
   ]
  },
  {
   "cell_type": "code",
   "execution_count": 11,
   "id": "62fedd9d",
   "metadata": {},
   "outputs": [
    {
     "data": {
      "text/plain": [
       "Unnamed: 0                  0\n",
       "Invoice/Item Number         0\n",
       "Date                        0\n",
       "Store Number                0\n",
       "Store Name                  0\n",
       "Address                     0\n",
       "City                        0\n",
       "Zip Code                    0\n",
       "Store Location              0\n",
       "County Number            3599\n",
       "County                   3599\n",
       "Category                  284\n",
       "Category Name             822\n",
       "Vendor Number               0\n",
       "Vendor Name                 0\n",
       "Item Number                 0\n",
       "Item Description            0\n",
       "Pack                        0\n",
       "Bottle Volume (ml)          0\n",
       "State Bottle Cost          10\n",
       "State Bottle Retail        10\n",
       "Bottles Sold                0\n",
       "Sale (Dollars)             10\n",
       "Volume Sold (Liters)        0\n",
       "Volume Sold (Gallons)       0\n",
       "Year                        0\n",
       "dtype: int64"
      ]
     },
     "execution_count": 11,
     "metadata": {},
     "output_type": "execute_result"
    }
   ],
   "source": [
    "y12.isna().sum()"
   ]
  },
  {
   "cell_type": "code",
   "execution_count": 43,
   "id": "4906962c",
   "metadata": {},
   "outputs": [
    {
     "data": {
      "text/plain": [
       "array(['BELMOND'], dtype=object)"
      ]
     },
     "execution_count": 43,
     "metadata": {},
     "output_type": "execute_result"
    }
   ],
   "source": [
    "#Belmond is not in the dictionary due to complete correlation of 'nan' to 'Belmond' throughout the dataset\n",
    "y12[y12['County Number'].isna()]['City'].unique()"
   ]
  },
  {
   "cell_type": "code",
   "execution_count": 42,
   "id": "cad3f9fa",
   "metadata": {},
   "outputs": [
    {
     "data": {
      "text/plain": [
       "array(['BELMOND'], dtype=object)"
      ]
     },
     "execution_count": 42,
     "metadata": {},
     "output_type": "execute_result"
    }
   ],
   "source": [
    "#Belmond is not in the dictionary due to complete correlation of 'nan' to 'Belmond' throughout the dataset\n",
    "y12[y12['County'].isna()]['City'].unique()"
   ]
  },
  {
   "cell_type": "code",
   "execution_count": 12,
   "id": "cddb9500",
   "metadata": {},
   "outputs": [
    {
     "data": {
      "text/html": [
       "<div>\n",
       "<style scoped>\n",
       "    .dataframe tbody tr th:only-of-type {\n",
       "        vertical-align: middle;\n",
       "    }\n",
       "\n",
       "    .dataframe tbody tr th {\n",
       "        vertical-align: top;\n",
       "    }\n",
       "\n",
       "    .dataframe thead th {\n",
       "        text-align: right;\n",
       "    }\n",
       "</style>\n",
       "<table border=\"1\" class=\"dataframe\">\n",
       "  <thead>\n",
       "    <tr style=\"text-align: right;\">\n",
       "      <th></th>\n",
       "      <th>Unnamed: 0</th>\n",
       "      <th>Invoice/Item Number</th>\n",
       "      <th>Date</th>\n",
       "      <th>Store Number</th>\n",
       "      <th>Store Name</th>\n",
       "      <th>Address</th>\n",
       "      <th>City</th>\n",
       "      <th>Zip Code</th>\n",
       "      <th>Store Location</th>\n",
       "      <th>County Number</th>\n",
       "      <th>County</th>\n",
       "      <th>Category</th>\n",
       "      <th>Category Name</th>\n",
       "      <th>Vendor Number</th>\n",
       "      <th>Vendor Name</th>\n",
       "      <th>Item Number</th>\n",
       "      <th>Item Description</th>\n",
       "      <th>Pack</th>\n",
       "      <th>Bottle Volume (ml)</th>\n",
       "      <th>State Bottle Cost</th>\n",
       "      <th>State Bottle Retail</th>\n",
       "      <th>Bottles Sold</th>\n",
       "      <th>Sale (Dollars)</th>\n",
       "      <th>Volume Sold (Liters)</th>\n",
       "      <th>Volume Sold (Gallons)</th>\n",
       "      <th>Year</th>\n",
       "    </tr>\n",
       "  </thead>\n",
       "  <tbody>\n",
       "    <tr>\n",
       "      <th>50476</th>\n",
       "      <td>199088</td>\n",
       "      <td>S03816000008</td>\n",
       "      <td>01/30/2012</td>\n",
       "      <td>3583</td>\n",
       "      <td>Mac's Liquor And Videos</td>\n",
       "      <td>220 EAST JEFFERSON</td>\n",
       "      <td>CORYDON</td>\n",
       "      <td>50060</td>\n",
       "      <td>220 EAST JEFFERSON\\nCORYDON 50060\\n(40.75718, ...</td>\n",
       "      <td>93.0</td>\n",
       "      <td>Wayne</td>\n",
       "      <td>1031080.0</td>\n",
       "      <td>VODKA 80 PROOF</td>\n",
       "      <td>301.0</td>\n",
       "      <td>Fifth Generation Inc.</td>\n",
       "      <td>38180</td>\n",
       "      <td>Titos Handmade Mini</td>\n",
       "      <td>5</td>\n",
       "      <td>600</td>\n",
       "      <td>NaN</td>\n",
       "      <td>NaN</td>\n",
       "      <td>1</td>\n",
       "      <td>NaN</td>\n",
       "      <td>0.6</td>\n",
       "      <td>0.16</td>\n",
       "      <td>12</td>\n",
       "    </tr>\n",
       "    <tr>\n",
       "      <th>90574</th>\n",
       "      <td>356024</td>\n",
       "      <td>S03816800149</td>\n",
       "      <td>01/30/2012</td>\n",
       "      <td>2190</td>\n",
       "      <td>Central City Liquor, Inc.</td>\n",
       "      <td>1460 2ND AVE</td>\n",
       "      <td>DES MOINES</td>\n",
       "      <td>50314</td>\n",
       "      <td>1460 2ND AVE\\nDES MOINES 50314\\n(41.60566, -93...</td>\n",
       "      <td>77.0</td>\n",
       "      <td>Polk</td>\n",
       "      <td>1031080.0</td>\n",
       "      <td>VODKA 80 PROOF</td>\n",
       "      <td>301.0</td>\n",
       "      <td>Fifth Generation Inc.</td>\n",
       "      <td>38180</td>\n",
       "      <td>Titos Handmade Mini</td>\n",
       "      <td>5</td>\n",
       "      <td>600</td>\n",
       "      <td>NaN</td>\n",
       "      <td>NaN</td>\n",
       "      <td>1</td>\n",
       "      <td>NaN</td>\n",
       "      <td>0.6</td>\n",
       "      <td>0.16</td>\n",
       "      <td>12</td>\n",
       "    </tr>\n",
       "    <tr>\n",
       "      <th>316371</th>\n",
       "      <td>1247099</td>\n",
       "      <td>S03842900093</td>\n",
       "      <td>01/31/2012</td>\n",
       "      <td>2614</td>\n",
       "      <td>Hy-Vee #3 Food and Drugstore</td>\n",
       "      <td>1823 E KIMBERLY RD</td>\n",
       "      <td>DAVENPORT</td>\n",
       "      <td>52807</td>\n",
       "      <td>1823 E KIMBERLY RD\\nDAVENPORT 52807\\n(41.55678...</td>\n",
       "      <td>82.0</td>\n",
       "      <td>Scott</td>\n",
       "      <td>1032200.0</td>\n",
       "      <td>IMPORTED VODKA - MISC</td>\n",
       "      <td>434.0</td>\n",
       "      <td>Luxco-St Louis</td>\n",
       "      <td>35920</td>\n",
       "      <td>Pearl Wedding Cake Vodka Mini</td>\n",
       "      <td>12</td>\n",
       "      <td>500</td>\n",
       "      <td>NaN</td>\n",
       "      <td>NaN</td>\n",
       "      <td>1</td>\n",
       "      <td>NaN</td>\n",
       "      <td>0.5</td>\n",
       "      <td>0.13</td>\n",
       "      <td>12</td>\n",
       "    </tr>\n",
       "    <tr>\n",
       "      <th>331539</th>\n",
       "      <td>1306628</td>\n",
       "      <td>S03839800115</td>\n",
       "      <td>01/31/2012</td>\n",
       "      <td>2593</td>\n",
       "      <td>Hy-Vee Food Store / Carroll</td>\n",
       "      <td>905 US HIGHWAY 30 WEST</td>\n",
       "      <td>CARROLL</td>\n",
       "      <td>51401</td>\n",
       "      <td>905 US HIGHWAY 30 WEST\\nCARROLL 51401\\n(42.064...</td>\n",
       "      <td>14.0</td>\n",
       "      <td>Carroll</td>\n",
       "      <td>1032200.0</td>\n",
       "      <td>IMPORTED VODKA - MISC</td>\n",
       "      <td>434.0</td>\n",
       "      <td>Luxco-St Louis</td>\n",
       "      <td>35920</td>\n",
       "      <td>Pearl Wedding Cake Vodka Mini</td>\n",
       "      <td>12</td>\n",
       "      <td>500</td>\n",
       "      <td>NaN</td>\n",
       "      <td>NaN</td>\n",
       "      <td>2</td>\n",
       "      <td>NaN</td>\n",
       "      <td>1.0</td>\n",
       "      <td>0.26</td>\n",
       "      <td>12</td>\n",
       "    </tr>\n",
       "    <tr>\n",
       "      <th>362712</th>\n",
       "      <td>1428507</td>\n",
       "      <td>S03825400160</td>\n",
       "      <td>01/31/2012</td>\n",
       "      <td>2616</td>\n",
       "      <td>Hy-Vee Food and Drug / Clinton</td>\n",
       "      <td>901 SOUTH 4TH ST</td>\n",
       "      <td>CLINTON</td>\n",
       "      <td>52732</td>\n",
       "      <td>901 SOUTH 4TH ST\\nCLINTON 52732\\n(41.836268, -...</td>\n",
       "      <td>23.0</td>\n",
       "      <td>Clinton</td>\n",
       "      <td>1031080.0</td>\n",
       "      <td>VODKA 80 PROOF</td>\n",
       "      <td>301.0</td>\n",
       "      <td>Fifth Generation Inc.</td>\n",
       "      <td>38180</td>\n",
       "      <td>Titos Handmade Mini</td>\n",
       "      <td>5</td>\n",
       "      <td>600</td>\n",
       "      <td>NaN</td>\n",
       "      <td>NaN</td>\n",
       "      <td>3</td>\n",
       "      <td>NaN</td>\n",
       "      <td>1.8</td>\n",
       "      <td>0.48</td>\n",
       "      <td>12</td>\n",
       "    </tr>\n",
       "    <tr>\n",
       "      <th>481611</th>\n",
       "      <td>1896582</td>\n",
       "      <td>S03818000080</td>\n",
       "      <td>01/31/2012</td>\n",
       "      <td>4509</td>\n",
       "      <td>A J'S LIQUOR II</td>\n",
       "      <td>2515 CHAMBERLAIN</td>\n",
       "      <td>AMES</td>\n",
       "      <td>50010</td>\n",
       "      <td>2515 CHAMBERLAIN\\nAMES 50010\\n(42.02146, -93.6...</td>\n",
       "      <td>85.0</td>\n",
       "      <td>Story</td>\n",
       "      <td>1031080.0</td>\n",
       "      <td>VODKA 80 PROOF</td>\n",
       "      <td>301.0</td>\n",
       "      <td>Fifth Generation Inc.</td>\n",
       "      <td>38180</td>\n",
       "      <td>Titos Handmade Mini</td>\n",
       "      <td>5</td>\n",
       "      <td>600</td>\n",
       "      <td>NaN</td>\n",
       "      <td>NaN</td>\n",
       "      <td>1</td>\n",
       "      <td>NaN</td>\n",
       "      <td>0.6</td>\n",
       "      <td>0.16</td>\n",
       "      <td>12</td>\n",
       "    </tr>\n",
       "    <tr>\n",
       "      <th>763284</th>\n",
       "      <td>3003583</td>\n",
       "      <td>S03842900089</td>\n",
       "      <td>01/31/2012</td>\n",
       "      <td>2614</td>\n",
       "      <td>Hy-Vee #3 Food and Drugstore</td>\n",
       "      <td>1823 E KIMBERLY RD</td>\n",
       "      <td>DAVENPORT</td>\n",
       "      <td>52807</td>\n",
       "      <td>1823 E KIMBERLY RD\\nDAVENPORT 52807\\n(41.55678...</td>\n",
       "      <td>82.0</td>\n",
       "      <td>Scott</td>\n",
       "      <td>1031080.0</td>\n",
       "      <td>VODKA 80 PROOF</td>\n",
       "      <td>301.0</td>\n",
       "      <td>Fifth Generation Inc.</td>\n",
       "      <td>38180</td>\n",
       "      <td>Titos Handmade Mini</td>\n",
       "      <td>5</td>\n",
       "      <td>600</td>\n",
       "      <td>NaN</td>\n",
       "      <td>NaN</td>\n",
       "      <td>2</td>\n",
       "      <td>NaN</td>\n",
       "      <td>1.2</td>\n",
       "      <td>0.32</td>\n",
       "      <td>12</td>\n",
       "    </tr>\n",
       "    <tr>\n",
       "      <th>1102887</th>\n",
       "      <td>4337985</td>\n",
       "      <td>S03841000063</td>\n",
       "      <td>01/31/2012</td>\n",
       "      <td>2549</td>\n",
       "      <td>Hy-Vee Food Store / Indianola</td>\n",
       "      <td>910 N JEFFERSON</td>\n",
       "      <td>INDIANOLA</td>\n",
       "      <td>50125</td>\n",
       "      <td>910 N JEFFERSON\\nINDIANOLA 50125\\n(41.368503, ...</td>\n",
       "      <td>91.0</td>\n",
       "      <td>Warren</td>\n",
       "      <td>1032200.0</td>\n",
       "      <td>IMPORTED VODKA - MISC</td>\n",
       "      <td>434.0</td>\n",
       "      <td>Luxco-St Louis</td>\n",
       "      <td>35920</td>\n",
       "      <td>Pearl Wedding Cake Vodka Mini</td>\n",
       "      <td>12</td>\n",
       "      <td>500</td>\n",
       "      <td>NaN</td>\n",
       "      <td>NaN</td>\n",
       "      <td>1</td>\n",
       "      <td>NaN</td>\n",
       "      <td>0.5</td>\n",
       "      <td>0.13</td>\n",
       "      <td>12</td>\n",
       "    </tr>\n",
       "    <tr>\n",
       "      <th>1153506</th>\n",
       "      <td>4536650</td>\n",
       "      <td>S03831800099</td>\n",
       "      <td>01/31/2012</td>\n",
       "      <td>2629</td>\n",
       "      <td>Hy-Vee Food Store #2 / Council Bluff</td>\n",
       "      <td>1745 MADISON AVE</td>\n",
       "      <td>COUNCIL BLUFFS</td>\n",
       "      <td>51503</td>\n",
       "      <td>1745 MADISON AVE\\nCOUNCIL BLUFFS 51503\\n(41.24...</td>\n",
       "      <td>78.0</td>\n",
       "      <td>Pottawattamie</td>\n",
       "      <td>1031080.0</td>\n",
       "      <td>VODKA 80 PROOF</td>\n",
       "      <td>301.0</td>\n",
       "      <td>Fifth Generation Inc.</td>\n",
       "      <td>38180</td>\n",
       "      <td>Titos Handmade Mini</td>\n",
       "      <td>5</td>\n",
       "      <td>600</td>\n",
       "      <td>NaN</td>\n",
       "      <td>NaN</td>\n",
       "      <td>3</td>\n",
       "      <td>NaN</td>\n",
       "      <td>1.8</td>\n",
       "      <td>0.48</td>\n",
       "      <td>12</td>\n",
       "    </tr>\n",
       "    <tr>\n",
       "      <th>1529456</th>\n",
       "      <td>6017165</td>\n",
       "      <td>S03814000102</td>\n",
       "      <td>01/30/2012</td>\n",
       "      <td>2623</td>\n",
       "      <td>Hy-Vee Food Store #4 / Sioux City</td>\n",
       "      <td>2827 HAMILTON BLVD</td>\n",
       "      <td>SIOUX CITY</td>\n",
       "      <td>51104</td>\n",
       "      <td>2827 HAMILTON BLVD\\nSIOUX CITY 51104\\n(42.5198...</td>\n",
       "      <td>97.0</td>\n",
       "      <td>Woodbury</td>\n",
       "      <td>1031080.0</td>\n",
       "      <td>VODKA 80 PROOF</td>\n",
       "      <td>301.0</td>\n",
       "      <td>Fifth Generation Inc.</td>\n",
       "      <td>38180</td>\n",
       "      <td>Titos Handmade Mini</td>\n",
       "      <td>5</td>\n",
       "      <td>600</td>\n",
       "      <td>NaN</td>\n",
       "      <td>NaN</td>\n",
       "      <td>2</td>\n",
       "      <td>NaN</td>\n",
       "      <td>1.2</td>\n",
       "      <td>0.32</td>\n",
       "      <td>12</td>\n",
       "    </tr>\n",
       "  </tbody>\n",
       "</table>\n",
       "</div>"
      ],
      "text/plain": [
       "         Unnamed: 0 Invoice/Item Number        Date  Store Number  \\\n",
       "50476        199088        S03816000008  01/30/2012          3583   \n",
       "90574        356024        S03816800149  01/30/2012          2190   \n",
       "316371      1247099        S03842900093  01/31/2012          2614   \n",
       "331539      1306628        S03839800115  01/31/2012          2593   \n",
       "362712      1428507        S03825400160  01/31/2012          2616   \n",
       "481611      1896582        S03818000080  01/31/2012          4509   \n",
       "763284      3003583        S03842900089  01/31/2012          2614   \n",
       "1102887     4337985        S03841000063  01/31/2012          2549   \n",
       "1153506     4536650        S03831800099  01/31/2012          2629   \n",
       "1529456     6017165        S03814000102  01/30/2012          2623   \n",
       "\n",
       "                                   Store Name                 Address  \\\n",
       "50476                 Mac's Liquor And Videos      220 EAST JEFFERSON   \n",
       "90574               Central City Liquor, Inc.            1460 2ND AVE   \n",
       "316371           Hy-Vee #3 Food and Drugstore      1823 E KIMBERLY RD   \n",
       "331539            Hy-Vee Food Store / Carroll  905 US HIGHWAY 30 WEST   \n",
       "362712         Hy-Vee Food and Drug / Clinton        901 SOUTH 4TH ST   \n",
       "481611                        A J'S LIQUOR II        2515 CHAMBERLAIN   \n",
       "763284           Hy-Vee #3 Food and Drugstore      1823 E KIMBERLY RD   \n",
       "1102887         Hy-Vee Food Store / Indianola         910 N JEFFERSON   \n",
       "1153506  Hy-Vee Food Store #2 / Council Bluff        1745 MADISON AVE   \n",
       "1529456     Hy-Vee Food Store #4 / Sioux City      2827 HAMILTON BLVD   \n",
       "\n",
       "                   City Zip Code  \\\n",
       "50476           CORYDON    50060   \n",
       "90574        DES MOINES    50314   \n",
       "316371        DAVENPORT    52807   \n",
       "331539          CARROLL    51401   \n",
       "362712          CLINTON    52732   \n",
       "481611             AMES    50010   \n",
       "763284        DAVENPORT    52807   \n",
       "1102887       INDIANOLA    50125   \n",
       "1153506  COUNCIL BLUFFS    51503   \n",
       "1529456      SIOUX CITY    51104   \n",
       "\n",
       "                                            Store Location  County Number  \\\n",
       "50476    220 EAST JEFFERSON\\nCORYDON 50060\\n(40.75718, ...           93.0   \n",
       "90574    1460 2ND AVE\\nDES MOINES 50314\\n(41.60566, -93...           77.0   \n",
       "316371   1823 E KIMBERLY RD\\nDAVENPORT 52807\\n(41.55678...           82.0   \n",
       "331539   905 US HIGHWAY 30 WEST\\nCARROLL 51401\\n(42.064...           14.0   \n",
       "362712   901 SOUTH 4TH ST\\nCLINTON 52732\\n(41.836268, -...           23.0   \n",
       "481611   2515 CHAMBERLAIN\\nAMES 50010\\n(42.02146, -93.6...           85.0   \n",
       "763284   1823 E KIMBERLY RD\\nDAVENPORT 52807\\n(41.55678...           82.0   \n",
       "1102887  910 N JEFFERSON\\nINDIANOLA 50125\\n(41.368503, ...           91.0   \n",
       "1153506  1745 MADISON AVE\\nCOUNCIL BLUFFS 51503\\n(41.24...           78.0   \n",
       "1529456  2827 HAMILTON BLVD\\nSIOUX CITY 51104\\n(42.5198...           97.0   \n",
       "\n",
       "                County   Category          Category Name  Vendor Number  \\\n",
       "50476            Wayne  1031080.0         VODKA 80 PROOF          301.0   \n",
       "90574             Polk  1031080.0         VODKA 80 PROOF          301.0   \n",
       "316371           Scott  1032200.0  IMPORTED VODKA - MISC          434.0   \n",
       "331539         Carroll  1032200.0  IMPORTED VODKA - MISC          434.0   \n",
       "362712         Clinton  1031080.0         VODKA 80 PROOF          301.0   \n",
       "481611           Story  1031080.0         VODKA 80 PROOF          301.0   \n",
       "763284           Scott  1031080.0         VODKA 80 PROOF          301.0   \n",
       "1102887         Warren  1032200.0  IMPORTED VODKA - MISC          434.0   \n",
       "1153506  Pottawattamie  1031080.0         VODKA 80 PROOF          301.0   \n",
       "1529456       Woodbury  1031080.0         VODKA 80 PROOF          301.0   \n",
       "\n",
       "                   Vendor Name  Item Number               Item Description  \\\n",
       "50476    Fifth Generation Inc.        38180            Titos Handmade Mini   \n",
       "90574    Fifth Generation Inc.        38180            Titos Handmade Mini   \n",
       "316371          Luxco-St Louis        35920  Pearl Wedding Cake Vodka Mini   \n",
       "331539          Luxco-St Louis        35920  Pearl Wedding Cake Vodka Mini   \n",
       "362712   Fifth Generation Inc.        38180            Titos Handmade Mini   \n",
       "481611   Fifth Generation Inc.        38180            Titos Handmade Mini   \n",
       "763284   Fifth Generation Inc.        38180            Titos Handmade Mini   \n",
       "1102887         Luxco-St Louis        35920  Pearl Wedding Cake Vodka Mini   \n",
       "1153506  Fifth Generation Inc.        38180            Titos Handmade Mini   \n",
       "1529456  Fifth Generation Inc.        38180            Titos Handmade Mini   \n",
       "\n",
       "         Pack  Bottle Volume (ml) State Bottle Cost State Bottle Retail  \\\n",
       "50476       5                 600               NaN                 NaN   \n",
       "90574       5                 600               NaN                 NaN   \n",
       "316371     12                 500               NaN                 NaN   \n",
       "331539     12                 500               NaN                 NaN   \n",
       "362712      5                 600               NaN                 NaN   \n",
       "481611      5                 600               NaN                 NaN   \n",
       "763284      5                 600               NaN                 NaN   \n",
       "1102887    12                 500               NaN                 NaN   \n",
       "1153506     5                 600               NaN                 NaN   \n",
       "1529456     5                 600               NaN                 NaN   \n",
       "\n",
       "         Bottles Sold Sale (Dollars)  Volume Sold (Liters)  \\\n",
       "50476               1            NaN                   0.6   \n",
       "90574               1            NaN                   0.6   \n",
       "316371              1            NaN                   0.5   \n",
       "331539              2            NaN                   1.0   \n",
       "362712              3            NaN                   1.8   \n",
       "481611              1            NaN                   0.6   \n",
       "763284              2            NaN                   1.2   \n",
       "1102887             1            NaN                   0.5   \n",
       "1153506             3            NaN                   1.8   \n",
       "1529456             2            NaN                   1.2   \n",
       "\n",
       "         Volume Sold (Gallons)  Year  \n",
       "50476                     0.16    12  \n",
       "90574                     0.16    12  \n",
       "316371                    0.13    12  \n",
       "331539                    0.26    12  \n",
       "362712                    0.48    12  \n",
       "481611                    0.16    12  \n",
       "763284                    0.32    12  \n",
       "1102887                   0.13    12  \n",
       "1153506                   0.48    12  \n",
       "1529456                   0.32    12  "
      ]
     },
     "execution_count": 12,
     "metadata": {},
     "output_type": "execute_result"
    }
   ],
   "source": [
    "#A look at the State Bottle Cost, Retail, and Sale(Dollars) nan are all on the same 10 rows\n",
    "y12[y12['State Bottle Cost'].isna()]"
   ]
  },
  {
   "cell_type": "code",
   "execution_count": 14,
   "id": "eabc1b37",
   "metadata": {
    "scrolled": true
   },
   "outputs": [
    {
     "data": {
      "text/html": [
       "<div>\n",
       "<style scoped>\n",
       "    .dataframe tbody tr th:only-of-type {\n",
       "        vertical-align: middle;\n",
       "    }\n",
       "\n",
       "    .dataframe tbody tr th {\n",
       "        vertical-align: top;\n",
       "    }\n",
       "\n",
       "    .dataframe thead th {\n",
       "        text-align: right;\n",
       "    }\n",
       "</style>\n",
       "<table border=\"1\" class=\"dataframe\">\n",
       "  <thead>\n",
       "    <tr style=\"text-align: right;\">\n",
       "      <th></th>\n",
       "      <th>Unnamed: 0</th>\n",
       "      <th>Invoice/Item Number</th>\n",
       "      <th>Date</th>\n",
       "      <th>Store Number</th>\n",
       "      <th>Store Name</th>\n",
       "      <th>Address</th>\n",
       "      <th>City</th>\n",
       "      <th>Zip Code</th>\n",
       "      <th>Store Location</th>\n",
       "      <th>County Number</th>\n",
       "      <th>County</th>\n",
       "      <th>Category</th>\n",
       "      <th>Category Name</th>\n",
       "      <th>Vendor Number</th>\n",
       "      <th>Vendor Name</th>\n",
       "      <th>Item Number</th>\n",
       "      <th>Item Description</th>\n",
       "      <th>Pack</th>\n",
       "      <th>Bottle Volume (ml)</th>\n",
       "      <th>State Bottle Cost</th>\n",
       "      <th>State Bottle Retail</th>\n",
       "      <th>Bottles Sold</th>\n",
       "      <th>Sale (Dollars)</th>\n",
       "      <th>Volume Sold (Liters)</th>\n",
       "      <th>Volume Sold (Gallons)</th>\n",
       "      <th>Year</th>\n",
       "    </tr>\n",
       "  </thead>\n",
       "  <tbody>\n",
       "    <tr>\n",
       "      <th>12981</th>\n",
       "      <td>51330</td>\n",
       "      <td>S04109800047</td>\n",
       "      <td>02/15/2012</td>\n",
       "      <td>2543</td>\n",
       "      <td>Hy-Vee Food Store #1 / Ottumwa</td>\n",
       "      <td>1025 NORTH QUINCY AVE</td>\n",
       "      <td>OTTUWMA</td>\n",
       "      <td>52501</td>\n",
       "      <td>1025 NORTH QUINCY AVE\\nOTTUWMA 52501\\n(41.0153...</td>\n",
       "      <td>90.0</td>\n",
       "      <td>Wapello</td>\n",
       "      <td>1031080.0</td>\n",
       "      <td>VODKA 80 PROOF</td>\n",
       "      <td>301.0</td>\n",
       "      <td>Fifth Generation Inc.</td>\n",
       "      <td>38180</td>\n",
       "      <td>Titos Handmade Mini</td>\n",
       "      <td>5</td>\n",
       "      <td>600</td>\n",
       "      <td>$10.03</td>\n",
       "      <td>$15.05</td>\n",
       "      <td>2</td>\n",
       "      <td>$30.10</td>\n",
       "      <td>1.2</td>\n",
       "      <td>0.32</td>\n",
       "      <td>12</td>\n",
       "    </tr>\n",
       "    <tr>\n",
       "      <th>50476</th>\n",
       "      <td>199088</td>\n",
       "      <td>S03816000008</td>\n",
       "      <td>01/30/2012</td>\n",
       "      <td>3583</td>\n",
       "      <td>Mac's Liquor And Videos</td>\n",
       "      <td>220 EAST JEFFERSON</td>\n",
       "      <td>CORYDON</td>\n",
       "      <td>50060</td>\n",
       "      <td>220 EAST JEFFERSON\\nCORYDON 50060\\n(40.75718, ...</td>\n",
       "      <td>93.0</td>\n",
       "      <td>Wayne</td>\n",
       "      <td>1031080.0</td>\n",
       "      <td>VODKA 80 PROOF</td>\n",
       "      <td>301.0</td>\n",
       "      <td>Fifth Generation Inc.</td>\n",
       "      <td>38180</td>\n",
       "      <td>Titos Handmade Mini</td>\n",
       "      <td>5</td>\n",
       "      <td>600</td>\n",
       "      <td>NaN</td>\n",
       "      <td>NaN</td>\n",
       "      <td>1</td>\n",
       "      <td>NaN</td>\n",
       "      <td>0.6</td>\n",
       "      <td>0.16</td>\n",
       "      <td>12</td>\n",
       "    </tr>\n",
       "    <tr>\n",
       "      <th>68316</th>\n",
       "      <td>269125</td>\n",
       "      <td>S05068100052</td>\n",
       "      <td>04/16/2012</td>\n",
       "      <td>4219</td>\n",
       "      <td>Lake Liquors Wine and Spirits</td>\n",
       "      <td>910 N 8TH ST W</td>\n",
       "      <td>CLEAR LAKE</td>\n",
       "      <td>50428</td>\n",
       "      <td>910 N 8TH ST W\\nCLEAR LAKE 50428\\n(43.142775, ...</td>\n",
       "      <td>17.0</td>\n",
       "      <td>Cerro Gordo</td>\n",
       "      <td>1031080.0</td>\n",
       "      <td>VODKA 80 PROOF</td>\n",
       "      <td>301.0</td>\n",
       "      <td>Fifth Generation Inc.</td>\n",
       "      <td>38180</td>\n",
       "      <td>Titos Handmade Mini</td>\n",
       "      <td>5</td>\n",
       "      <td>600</td>\n",
       "      <td>$10.03</td>\n",
       "      <td>$15.05</td>\n",
       "      <td>1</td>\n",
       "      <td>$15.05</td>\n",
       "      <td>0.6</td>\n",
       "      <td>0.16</td>\n",
       "      <td>12</td>\n",
       "    </tr>\n",
       "    <tr>\n",
       "      <th>79171</th>\n",
       "      <td>310645</td>\n",
       "      <td>S06245700003</td>\n",
       "      <td>06/27/2012</td>\n",
       "      <td>4112</td>\n",
       "      <td>Corridor Ventures</td>\n",
       "      <td>618 MEADE DR</td>\n",
       "      <td>NORTH LIBERTY</td>\n",
       "      <td>52317</td>\n",
       "      <td>618 MEADE DR\\nNORTH LIBERTY 52317\\n(41.752451,...</td>\n",
       "      <td>52.0</td>\n",
       "      <td>Johnson</td>\n",
       "      <td>1031080.0</td>\n",
       "      <td>VODKA 80 PROOF</td>\n",
       "      <td>301.0</td>\n",
       "      <td>Fifth Generation Inc.</td>\n",
       "      <td>38180</td>\n",
       "      <td>Titos Handmade Mini</td>\n",
       "      <td>5</td>\n",
       "      <td>600</td>\n",
       "      <td>$10.03</td>\n",
       "      <td>$15.05</td>\n",
       "      <td>5</td>\n",
       "      <td>$75.25</td>\n",
       "      <td>3.0</td>\n",
       "      <td>0.79</td>\n",
       "      <td>12</td>\n",
       "    </tr>\n",
       "    <tr>\n",
       "      <th>88022</th>\n",
       "      <td>345620</td>\n",
       "      <td>S06417000051</td>\n",
       "      <td>07/05/2012</td>\n",
       "      <td>3762</td>\n",
       "      <td>Wine and Spirits Gallery</td>\n",
       "      <td>7690 HICKMAN RD</td>\n",
       "      <td>WINDSOR HEIGHTS</td>\n",
       "      <td>50322</td>\n",
       "      <td>7690 HICKMAN RD\\nWINDSOR HEIGHTS 50322\\n(41.61...</td>\n",
       "      <td>77.0</td>\n",
       "      <td>Polk</td>\n",
       "      <td>1031080.0</td>\n",
       "      <td>VODKA 80 PROOF</td>\n",
       "      <td>301.0</td>\n",
       "      <td>Fifth Generation Inc.</td>\n",
       "      <td>38180</td>\n",
       "      <td>Titos Handmade Mini</td>\n",
       "      <td>5</td>\n",
       "      <td>600</td>\n",
       "      <td>$10.03</td>\n",
       "      <td>$15.05</td>\n",
       "      <td>2</td>\n",
       "      <td>$30.10</td>\n",
       "      <td>1.2</td>\n",
       "      <td>0.32</td>\n",
       "      <td>12</td>\n",
       "    </tr>\n",
       "    <tr>\n",
       "      <th>...</th>\n",
       "      <td>...</td>\n",
       "      <td>...</td>\n",
       "      <td>...</td>\n",
       "      <td>...</td>\n",
       "      <td>...</td>\n",
       "      <td>...</td>\n",
       "      <td>...</td>\n",
       "      <td>...</td>\n",
       "      <td>...</td>\n",
       "      <td>...</td>\n",
       "      <td>...</td>\n",
       "      <td>...</td>\n",
       "      <td>...</td>\n",
       "      <td>...</td>\n",
       "      <td>...</td>\n",
       "      <td>...</td>\n",
       "      <td>...</td>\n",
       "      <td>...</td>\n",
       "      <td>...</td>\n",
       "      <td>...</td>\n",
       "      <td>...</td>\n",
       "      <td>...</td>\n",
       "      <td>...</td>\n",
       "      <td>...</td>\n",
       "      <td>...</td>\n",
       "      <td>...</td>\n",
       "    </tr>\n",
       "    <tr>\n",
       "      <th>1988219</th>\n",
       "      <td>7827561</td>\n",
       "      <td>S04468100099</td>\n",
       "      <td>03/08/2012</td>\n",
       "      <td>3926</td>\n",
       "      <td>Liquor Downtown / Iowa City</td>\n",
       "      <td>315 S GILBERT ST</td>\n",
       "      <td>IOWA CITY</td>\n",
       "      <td>52240</td>\n",
       "      <td>315 S GILBERT ST\\nIOWA CITY 52240\\n(41.657654,...</td>\n",
       "      <td>52.0</td>\n",
       "      <td>Johnson</td>\n",
       "      <td>1031080.0</td>\n",
       "      <td>VODKA 80 PROOF</td>\n",
       "      <td>301.0</td>\n",
       "      <td>Fifth Generation Inc.</td>\n",
       "      <td>38180</td>\n",
       "      <td>Titos Handmade Mini</td>\n",
       "      <td>5</td>\n",
       "      <td>600</td>\n",
       "      <td>$10.03</td>\n",
       "      <td>$15.05</td>\n",
       "      <td>1</td>\n",
       "      <td>$15.05</td>\n",
       "      <td>0.6</td>\n",
       "      <td>0.16</td>\n",
       "      <td>12</td>\n",
       "    </tr>\n",
       "    <tr>\n",
       "      <th>1999407</th>\n",
       "      <td>7871649</td>\n",
       "      <td>S05800900062</td>\n",
       "      <td>05/30/2012</td>\n",
       "      <td>2543</td>\n",
       "      <td>Hy-Vee Food Store #1 / Ottumwa</td>\n",
       "      <td>1025 NORTH QUINCY AVE</td>\n",
       "      <td>OTTUWMA</td>\n",
       "      <td>52501</td>\n",
       "      <td>1025 NORTH QUINCY AVE\\nOTTUWMA 52501\\n(41.0153...</td>\n",
       "      <td>90.0</td>\n",
       "      <td>Wapello</td>\n",
       "      <td>1031080.0</td>\n",
       "      <td>VODKA 80 PROOF</td>\n",
       "      <td>301.0</td>\n",
       "      <td>Fifth Generation Inc.</td>\n",
       "      <td>38180</td>\n",
       "      <td>Titos Handmade Mini</td>\n",
       "      <td>5</td>\n",
       "      <td>600</td>\n",
       "      <td>$10.03</td>\n",
       "      <td>$15.05</td>\n",
       "      <td>1</td>\n",
       "      <td>$15.05</td>\n",
       "      <td>0.6</td>\n",
       "      <td>0.16</td>\n",
       "      <td>12</td>\n",
       "    </tr>\n",
       "    <tr>\n",
       "      <th>2018232</th>\n",
       "      <td>7946679</td>\n",
       "      <td>S04394400039</td>\n",
       "      <td>03/05/2012</td>\n",
       "      <td>4219</td>\n",
       "      <td>Lake Liquors Wine and Spirits</td>\n",
       "      <td>910 N 8TH ST W</td>\n",
       "      <td>CLEAR LAKE</td>\n",
       "      <td>50428</td>\n",
       "      <td>910 N 8TH ST W\\nCLEAR LAKE 50428\\n(43.142775, ...</td>\n",
       "      <td>17.0</td>\n",
       "      <td>Cerro Gordo</td>\n",
       "      <td>1031080.0</td>\n",
       "      <td>VODKA 80 PROOF</td>\n",
       "      <td>301.0</td>\n",
       "      <td>Fifth Generation Inc.</td>\n",
       "      <td>38180</td>\n",
       "      <td>Titos Handmade Mini</td>\n",
       "      <td>5</td>\n",
       "      <td>600</td>\n",
       "      <td>$10.03</td>\n",
       "      <td>$15.05</td>\n",
       "      <td>1</td>\n",
       "      <td>$15.05</td>\n",
       "      <td>0.6</td>\n",
       "      <td>0.16</td>\n",
       "      <td>12</td>\n",
       "    </tr>\n",
       "    <tr>\n",
       "      <th>2045674</th>\n",
       "      <td>8054587</td>\n",
       "      <td>S04449100198</td>\n",
       "      <td>03/07/2012</td>\n",
       "      <td>2543</td>\n",
       "      <td>Hy-Vee Food Store #1 / Ottumwa</td>\n",
       "      <td>1025 NORTH QUINCY AVE</td>\n",
       "      <td>OTTUWMA</td>\n",
       "      <td>52501</td>\n",
       "      <td>1025 NORTH QUINCY AVE\\nOTTUWMA 52501\\n(41.0153...</td>\n",
       "      <td>90.0</td>\n",
       "      <td>Wapello</td>\n",
       "      <td>1031080.0</td>\n",
       "      <td>VODKA 80 PROOF</td>\n",
       "      <td>301.0</td>\n",
       "      <td>Fifth Generation Inc.</td>\n",
       "      <td>38180</td>\n",
       "      <td>Titos Handmade Mini</td>\n",
       "      <td>5</td>\n",
       "      <td>600</td>\n",
       "      <td>$10.03</td>\n",
       "      <td>$15.05</td>\n",
       "      <td>3</td>\n",
       "      <td>$45.15</td>\n",
       "      <td>1.8</td>\n",
       "      <td>0.48</td>\n",
       "      <td>12</td>\n",
       "    </tr>\n",
       "    <tr>\n",
       "      <th>2080785</th>\n",
       "      <td>8192615</td>\n",
       "      <td>S03895300130</td>\n",
       "      <td>02/02/2012</td>\n",
       "      <td>2599</td>\n",
       "      <td>Hy-Vee Wine and Spirits / Coralville</td>\n",
       "      <td>1914 8TH STREET</td>\n",
       "      <td>CORALVILLE</td>\n",
       "      <td>52241</td>\n",
       "      <td>1914 8TH STREET\\nCORALVILLE 52241\\n(41.682013,...</td>\n",
       "      <td>52.0</td>\n",
       "      <td>Johnson</td>\n",
       "      <td>1031080.0</td>\n",
       "      <td>VODKA 80 PROOF</td>\n",
       "      <td>301.0</td>\n",
       "      <td>Fifth Generation Inc.</td>\n",
       "      <td>38180</td>\n",
       "      <td>Titos Handmade Mini</td>\n",
       "      <td>5</td>\n",
       "      <td>600</td>\n",
       "      <td>$10.03</td>\n",
       "      <td>$15.05</td>\n",
       "      <td>2</td>\n",
       "      <td>$30.10</td>\n",
       "      <td>1.2</td>\n",
       "      <td>0.32</td>\n",
       "      <td>12</td>\n",
       "    </tr>\n",
       "  </tbody>\n",
       "</table>\n",
       "<p>105 rows × 26 columns</p>\n",
       "</div>"
      ],
      "text/plain": [
       "         Unnamed: 0 Invoice/Item Number        Date  Store Number  \\\n",
       "12981         51330        S04109800047  02/15/2012          2543   \n",
       "50476        199088        S03816000008  01/30/2012          3583   \n",
       "68316        269125        S05068100052  04/16/2012          4219   \n",
       "79171        310645        S06245700003  06/27/2012          4112   \n",
       "88022        345620        S06417000051  07/05/2012          3762   \n",
       "...             ...                 ...         ...           ...   \n",
       "1988219     7827561        S04468100099  03/08/2012          3926   \n",
       "1999407     7871649        S05800900062  05/30/2012          2543   \n",
       "2018232     7946679        S04394400039  03/05/2012          4219   \n",
       "2045674     8054587        S04449100198  03/07/2012          2543   \n",
       "2080785     8192615        S03895300130  02/02/2012          2599   \n",
       "\n",
       "                                   Store Name                Address  \\\n",
       "12981          Hy-Vee Food Store #1 / Ottumwa  1025 NORTH QUINCY AVE   \n",
       "50476                 Mac's Liquor And Videos     220 EAST JEFFERSON   \n",
       "68316           Lake Liquors Wine and Spirits         910 N 8TH ST W   \n",
       "79171                       Corridor Ventures           618 MEADE DR   \n",
       "88022                Wine and Spirits Gallery        7690 HICKMAN RD   \n",
       "...                                       ...                    ...   \n",
       "1988219           Liquor Downtown / Iowa City       315 S GILBERT ST   \n",
       "1999407        Hy-Vee Food Store #1 / Ottumwa  1025 NORTH QUINCY AVE   \n",
       "2018232         Lake Liquors Wine and Spirits         910 N 8TH ST W   \n",
       "2045674        Hy-Vee Food Store #1 / Ottumwa  1025 NORTH QUINCY AVE   \n",
       "2080785  Hy-Vee Wine and Spirits / Coralville        1914 8TH STREET   \n",
       "\n",
       "                    City Zip Code  \\\n",
       "12981            OTTUWMA    52501   \n",
       "50476            CORYDON    50060   \n",
       "68316         CLEAR LAKE    50428   \n",
       "79171      NORTH LIBERTY    52317   \n",
       "88022    WINDSOR HEIGHTS    50322   \n",
       "...                  ...      ...   \n",
       "1988219        IOWA CITY    52240   \n",
       "1999407          OTTUWMA    52501   \n",
       "2018232       CLEAR LAKE    50428   \n",
       "2045674          OTTUWMA    52501   \n",
       "2080785       CORALVILLE    52241   \n",
       "\n",
       "                                            Store Location  County Number  \\\n",
       "12981    1025 NORTH QUINCY AVE\\nOTTUWMA 52501\\n(41.0153...           90.0   \n",
       "50476    220 EAST JEFFERSON\\nCORYDON 50060\\n(40.75718, ...           93.0   \n",
       "68316    910 N 8TH ST W\\nCLEAR LAKE 50428\\n(43.142775, ...           17.0   \n",
       "79171    618 MEADE DR\\nNORTH LIBERTY 52317\\n(41.752451,...           52.0   \n",
       "88022    7690 HICKMAN RD\\nWINDSOR HEIGHTS 50322\\n(41.61...           77.0   \n",
       "...                                                    ...            ...   \n",
       "1988219  315 S GILBERT ST\\nIOWA CITY 52240\\n(41.657654,...           52.0   \n",
       "1999407  1025 NORTH QUINCY AVE\\nOTTUWMA 52501\\n(41.0153...           90.0   \n",
       "2018232  910 N 8TH ST W\\nCLEAR LAKE 50428\\n(43.142775, ...           17.0   \n",
       "2045674  1025 NORTH QUINCY AVE\\nOTTUWMA 52501\\n(41.0153...           90.0   \n",
       "2080785  1914 8TH STREET\\nCORALVILLE 52241\\n(41.682013,...           52.0   \n",
       "\n",
       "              County   Category   Category Name  Vendor Number  \\\n",
       "12981        Wapello  1031080.0  VODKA 80 PROOF          301.0   \n",
       "50476          Wayne  1031080.0  VODKA 80 PROOF          301.0   \n",
       "68316    Cerro Gordo  1031080.0  VODKA 80 PROOF          301.0   \n",
       "79171        Johnson  1031080.0  VODKA 80 PROOF          301.0   \n",
       "88022           Polk  1031080.0  VODKA 80 PROOF          301.0   \n",
       "...              ...        ...             ...            ...   \n",
       "1988219      Johnson  1031080.0  VODKA 80 PROOF          301.0   \n",
       "1999407      Wapello  1031080.0  VODKA 80 PROOF          301.0   \n",
       "2018232  Cerro Gordo  1031080.0  VODKA 80 PROOF          301.0   \n",
       "2045674      Wapello  1031080.0  VODKA 80 PROOF          301.0   \n",
       "2080785      Johnson  1031080.0  VODKA 80 PROOF          301.0   \n",
       "\n",
       "                   Vendor Name  Item Number     Item Description  Pack  \\\n",
       "12981    Fifth Generation Inc.        38180  Titos Handmade Mini     5   \n",
       "50476    Fifth Generation Inc.        38180  Titos Handmade Mini     5   \n",
       "68316    Fifth Generation Inc.        38180  Titos Handmade Mini     5   \n",
       "79171    Fifth Generation Inc.        38180  Titos Handmade Mini     5   \n",
       "88022    Fifth Generation Inc.        38180  Titos Handmade Mini     5   \n",
       "...                        ...          ...                  ...   ...   \n",
       "1988219  Fifth Generation Inc.        38180  Titos Handmade Mini     5   \n",
       "1999407  Fifth Generation Inc.        38180  Titos Handmade Mini     5   \n",
       "2018232  Fifth Generation Inc.        38180  Titos Handmade Mini     5   \n",
       "2045674  Fifth Generation Inc.        38180  Titos Handmade Mini     5   \n",
       "2080785  Fifth Generation Inc.        38180  Titos Handmade Mini     5   \n",
       "\n",
       "         Bottle Volume (ml) State Bottle Cost State Bottle Retail  \\\n",
       "12981                   600            $10.03              $15.05   \n",
       "50476                   600               NaN                 NaN   \n",
       "68316                   600            $10.03              $15.05   \n",
       "79171                   600            $10.03              $15.05   \n",
       "88022                   600            $10.03              $15.05   \n",
       "...                     ...               ...                 ...   \n",
       "1988219                 600            $10.03              $15.05   \n",
       "1999407                 600            $10.03              $15.05   \n",
       "2018232                 600            $10.03              $15.05   \n",
       "2045674                 600            $10.03              $15.05   \n",
       "2080785                 600            $10.03              $15.05   \n",
       "\n",
       "         Bottles Sold Sale (Dollars)  Volume Sold (Liters)  \\\n",
       "12981               2         $30.10                   1.2   \n",
       "50476               1            NaN                   0.6   \n",
       "68316               1         $15.05                   0.6   \n",
       "79171               5         $75.25                   3.0   \n",
       "88022               2         $30.10                   1.2   \n",
       "...               ...            ...                   ...   \n",
       "1988219             1         $15.05                   0.6   \n",
       "1999407             1         $15.05                   0.6   \n",
       "2018232             1         $15.05                   0.6   \n",
       "2045674             3         $45.15                   1.8   \n",
       "2080785             2         $30.10                   1.2   \n",
       "\n",
       "         Volume Sold (Gallons)  Year  \n",
       "12981                     0.32    12  \n",
       "50476                     0.16    12  \n",
       "68316                     0.16    12  \n",
       "79171                     0.79    12  \n",
       "88022                     0.32    12  \n",
       "...                        ...   ...  \n",
       "1988219                   0.16    12  \n",
       "1999407                   0.16    12  \n",
       "2018232                   0.16    12  \n",
       "2045674                   0.48    12  \n",
       "2080785                   0.32    12  \n",
       "\n",
       "[105 rows x 26 columns]"
      ]
     },
     "execution_count": 14,
     "metadata": {},
     "output_type": "execute_result"
    }
   ],
   "source": [
    "y12[y12['Item Description']=='Titos Handmade Mini']"
   ]
  },
  {
   "cell_type": "code",
   "execution_count": 15,
   "id": "7d66be7e",
   "metadata": {
    "scrolled": true
   },
   "outputs": [
    {
     "data": {
      "text/html": [
       "<div>\n",
       "<style scoped>\n",
       "    .dataframe tbody tr th:only-of-type {\n",
       "        vertical-align: middle;\n",
       "    }\n",
       "\n",
       "    .dataframe tbody tr th {\n",
       "        vertical-align: top;\n",
       "    }\n",
       "\n",
       "    .dataframe thead th {\n",
       "        text-align: right;\n",
       "    }\n",
       "</style>\n",
       "<table border=\"1\" class=\"dataframe\">\n",
       "  <thead>\n",
       "    <tr style=\"text-align: right;\">\n",
       "      <th></th>\n",
       "      <th>Unnamed: 0</th>\n",
       "      <th>Invoice/Item Number</th>\n",
       "      <th>Date</th>\n",
       "      <th>Store Number</th>\n",
       "      <th>Store Name</th>\n",
       "      <th>Address</th>\n",
       "      <th>City</th>\n",
       "      <th>Zip Code</th>\n",
       "      <th>Store Location</th>\n",
       "      <th>County Number</th>\n",
       "      <th>County</th>\n",
       "      <th>Category</th>\n",
       "      <th>Category Name</th>\n",
       "      <th>Vendor Number</th>\n",
       "      <th>Vendor Name</th>\n",
       "      <th>Item Number</th>\n",
       "      <th>Item Description</th>\n",
       "      <th>Pack</th>\n",
       "      <th>Bottle Volume (ml)</th>\n",
       "      <th>State Bottle Cost</th>\n",
       "      <th>State Bottle Retail</th>\n",
       "      <th>Bottles Sold</th>\n",
       "      <th>Sale (Dollars)</th>\n",
       "      <th>Volume Sold (Liters)</th>\n",
       "      <th>Volume Sold (Gallons)</th>\n",
       "      <th>Year</th>\n",
       "    </tr>\n",
       "  </thead>\n",
       "  <tbody>\n",
       "    <tr>\n",
       "      <th>12444</th>\n",
       "      <td>49098</td>\n",
       "      <td>S06022700051</td>\n",
       "      <td>06/12/2012</td>\n",
       "      <td>2607</td>\n",
       "      <td>Hy-Vee Wine and Spirits / Shenandoah</td>\n",
       "      <td>520 SO FREMONT</td>\n",
       "      <td>SHENANDOAH</td>\n",
       "      <td>51601</td>\n",
       "      <td>520 SO FREMONT\\nSHENANDOAH 51601\\n</td>\n",
       "      <td>73.0</td>\n",
       "      <td>Page</td>\n",
       "      <td>1032200.0</td>\n",
       "      <td>IMPORTED VODKA - MISC</td>\n",
       "      <td>434.0</td>\n",
       "      <td>Luxco-St Louis</td>\n",
       "      <td>35920</td>\n",
       "      <td>Pearl Wedding Cake Vodka Mini</td>\n",
       "      <td>12</td>\n",
       "      <td>500</td>\n",
       "      <td>$5.00</td>\n",
       "      <td>$7.50</td>\n",
       "      <td>4</td>\n",
       "      <td>$30.00</td>\n",
       "      <td>2.0</td>\n",
       "      <td>0.53</td>\n",
       "      <td>12</td>\n",
       "    </tr>\n",
       "    <tr>\n",
       "      <th>17153</th>\n",
       "      <td>67868</td>\n",
       "      <td>S04235900166</td>\n",
       "      <td>02/23/2012</td>\n",
       "      <td>2647</td>\n",
       "      <td>Hy-Vee #7 / Cedar Rapids</td>\n",
       "      <td>5050 EDGEWOOD RD</td>\n",
       "      <td>CEDAR RAPIDS</td>\n",
       "      <td>52411</td>\n",
       "      <td>5050 EDGEWOOD RD\\nCEDAR RAPIDS 52411\\n(42.0304...</td>\n",
       "      <td>57.0</td>\n",
       "      <td>Linn</td>\n",
       "      <td>1032200.0</td>\n",
       "      <td>IMPORTED VODKA - MISC</td>\n",
       "      <td>434.0</td>\n",
       "      <td>Luxco-St Louis</td>\n",
       "      <td>35920</td>\n",
       "      <td>Pearl Wedding Cake Vodka Mini</td>\n",
       "      <td>12</td>\n",
       "      <td>500</td>\n",
       "      <td>$5.00</td>\n",
       "      <td>$7.50</td>\n",
       "      <td>1</td>\n",
       "      <td>$7.50</td>\n",
       "      <td>0.5</td>\n",
       "      <td>0.13</td>\n",
       "      <td>12</td>\n",
       "    </tr>\n",
       "    <tr>\n",
       "      <th>17587</th>\n",
       "      <td>69590</td>\n",
       "      <td>S08633500145</td>\n",
       "      <td>10/29/2012</td>\n",
       "      <td>2500</td>\n",
       "      <td>Hy-Vee Food Store #1 / Ames</td>\n",
       "      <td>3800 W LINCOLN WAY</td>\n",
       "      <td>AMES</td>\n",
       "      <td>50010</td>\n",
       "      <td>3800 W LINCOLN WAY\\nAMES 50010\\n(42.023145, -9...</td>\n",
       "      <td>85.0</td>\n",
       "      <td>Story</td>\n",
       "      <td>1032200.0</td>\n",
       "      <td>IMPORTED VODKA - MISC</td>\n",
       "      <td>434.0</td>\n",
       "      <td>Luxco-St Louis</td>\n",
       "      <td>35920</td>\n",
       "      <td>Pearl Wedding Cake Vodka Mini</td>\n",
       "      <td>12</td>\n",
       "      <td>500</td>\n",
       "      <td>$5.00</td>\n",
       "      <td>$7.50</td>\n",
       "      <td>1</td>\n",
       "      <td>$7.50</td>\n",
       "      <td>0.5</td>\n",
       "      <td>0.13</td>\n",
       "      <td>12</td>\n",
       "    </tr>\n",
       "    <tr>\n",
       "      <th>20181</th>\n",
       "      <td>79760</td>\n",
       "      <td>S04773600001</td>\n",
       "      <td>03/28/2012</td>\n",
       "      <td>3569</td>\n",
       "      <td>Katy Did General Store</td>\n",
       "      <td>419 MERRILL ST</td>\n",
       "      <td>BUSSEY</td>\n",
       "      <td>50044</td>\n",
       "      <td>419 MERRILL ST\\nBUSSEY 50044\\n(41.204759, -92....</td>\n",
       "      <td>63.0</td>\n",
       "      <td>Marion</td>\n",
       "      <td>1032200.0</td>\n",
       "      <td>IMPORTED VODKA - MISC</td>\n",
       "      <td>434.0</td>\n",
       "      <td>Luxco-St Louis</td>\n",
       "      <td>35920</td>\n",
       "      <td>Pearl Wedding Cake Vodka Mini</td>\n",
       "      <td>12</td>\n",
       "      <td>500</td>\n",
       "      <td>$5.00</td>\n",
       "      <td>$7.50</td>\n",
       "      <td>24</td>\n",
       "      <td>$180.00</td>\n",
       "      <td>12.0</td>\n",
       "      <td>3.17</td>\n",
       "      <td>12</td>\n",
       "    </tr>\n",
       "    <tr>\n",
       "      <th>22934</th>\n",
       "      <td>90506</td>\n",
       "      <td>S09658500044</td>\n",
       "      <td>12/26/2012</td>\n",
       "      <td>4857</td>\n",
       "      <td>Westland Fast Break</td>\n",
       "      <td>1108 W AGENCY RD</td>\n",
       "      <td>WEST BURLINGTON</td>\n",
       "      <td>52655</td>\n",
       "      <td>1108 W AGENCY RD\\nWEST BURLINGTON 52655\\n(40.8...</td>\n",
       "      <td>29.0</td>\n",
       "      <td>Des Moines</td>\n",
       "      <td>1032200.0</td>\n",
       "      <td>IMPORTED VODKA - MISC</td>\n",
       "      <td>434.0</td>\n",
       "      <td>Luxco-St Louis</td>\n",
       "      <td>35920</td>\n",
       "      <td>Pearl Wedding Cake Vodka Mini</td>\n",
       "      <td>12</td>\n",
       "      <td>500</td>\n",
       "      <td>$5.00</td>\n",
       "      <td>$7.50</td>\n",
       "      <td>1</td>\n",
       "      <td>$7.50</td>\n",
       "      <td>0.5</td>\n",
       "      <td>0.13</td>\n",
       "      <td>12</td>\n",
       "    </tr>\n",
       "    <tr>\n",
       "      <th>...</th>\n",
       "      <td>...</td>\n",
       "      <td>...</td>\n",
       "      <td>...</td>\n",
       "      <td>...</td>\n",
       "      <td>...</td>\n",
       "      <td>...</td>\n",
       "      <td>...</td>\n",
       "      <td>...</td>\n",
       "      <td>...</td>\n",
       "      <td>...</td>\n",
       "      <td>...</td>\n",
       "      <td>...</td>\n",
       "      <td>...</td>\n",
       "      <td>...</td>\n",
       "      <td>...</td>\n",
       "      <td>...</td>\n",
       "      <td>...</td>\n",
       "      <td>...</td>\n",
       "      <td>...</td>\n",
       "      <td>...</td>\n",
       "      <td>...</td>\n",
       "      <td>...</td>\n",
       "      <td>...</td>\n",
       "      <td>...</td>\n",
       "      <td>...</td>\n",
       "      <td>...</td>\n",
       "    </tr>\n",
       "    <tr>\n",
       "      <th>2054233</th>\n",
       "      <td>8088298</td>\n",
       "      <td>S04248500021</td>\n",
       "      <td>02/23/2012</td>\n",
       "      <td>2510</td>\n",
       "      <td>Hy-Vee Drugstore #3 / Cedar Rapids</td>\n",
       "      <td>2405 MT VERNON RD SE</td>\n",
       "      <td>CEDAR RAPIDS</td>\n",
       "      <td>52403</td>\n",
       "      <td>2405 MT VERNON RD SE\\nCEDAR RAPIDS 52403\\n(41....</td>\n",
       "      <td>57.0</td>\n",
       "      <td>Linn</td>\n",
       "      <td>1032200.0</td>\n",
       "      <td>IMPORTED VODKA - MISC</td>\n",
       "      <td>434.0</td>\n",
       "      <td>Luxco-St Louis</td>\n",
       "      <td>35920</td>\n",
       "      <td>Pearl Wedding Cake Vodka Mini</td>\n",
       "      <td>12</td>\n",
       "      <td>500</td>\n",
       "      <td>$5.00</td>\n",
       "      <td>$7.50</td>\n",
       "      <td>12</td>\n",
       "      <td>$90.00</td>\n",
       "      <td>6.0</td>\n",
       "      <td>1.59</td>\n",
       "      <td>12</td>\n",
       "    </tr>\n",
       "    <tr>\n",
       "      <th>2060586</th>\n",
       "      <td>8113227</td>\n",
       "      <td>S08979100118</td>\n",
       "      <td>11/15/2012</td>\n",
       "      <td>2512</td>\n",
       "      <td>Hy-Vee Wine and Spirits / Iowa City</td>\n",
       "      <td>1720 WATERFRONT DR</td>\n",
       "      <td>IOWA CITY</td>\n",
       "      <td>52240</td>\n",
       "      <td>1720 WATERFRONT DR\\nIOWA CITY 52240\\n(41.64277...</td>\n",
       "      <td>52.0</td>\n",
       "      <td>Johnson</td>\n",
       "      <td>1032200.0</td>\n",
       "      <td>IMPORTED VODKA - MISC</td>\n",
       "      <td>434.0</td>\n",
       "      <td>Luxco-St Louis</td>\n",
       "      <td>35920</td>\n",
       "      <td>Pearl Wedding Cake Vodka Mini</td>\n",
       "      <td>12</td>\n",
       "      <td>500</td>\n",
       "      <td>$5.00</td>\n",
       "      <td>$7.50</td>\n",
       "      <td>1</td>\n",
       "      <td>$7.50</td>\n",
       "      <td>0.5</td>\n",
       "      <td>0.13</td>\n",
       "      <td>12</td>\n",
       "    </tr>\n",
       "    <tr>\n",
       "      <th>2067231</th>\n",
       "      <td>8139533</td>\n",
       "      <td>S08515100061</td>\n",
       "      <td>10/23/2012</td>\n",
       "      <td>2601</td>\n",
       "      <td>Hy-Vee Food Store / Fairfield</td>\n",
       "      <td>1300 WEST BURLINGTON AVE</td>\n",
       "      <td>FAIRFIELD</td>\n",
       "      <td>52556</td>\n",
       "      <td>1300 WEST BURLINGTON AVE\\nFAIRFIELD 52556\\n(41...</td>\n",
       "      <td>51.0</td>\n",
       "      <td>Jefferson</td>\n",
       "      <td>1032200.0</td>\n",
       "      <td>IMPORTED VODKA - MISC</td>\n",
       "      <td>434.0</td>\n",
       "      <td>Luxco-St Louis</td>\n",
       "      <td>35920</td>\n",
       "      <td>Pearl Wedding Cake Vodka Mini</td>\n",
       "      <td>12</td>\n",
       "      <td>500</td>\n",
       "      <td>$5.00</td>\n",
       "      <td>$7.50</td>\n",
       "      <td>1</td>\n",
       "      <td>$7.50</td>\n",
       "      <td>0.5</td>\n",
       "      <td>0.13</td>\n",
       "      <td>12</td>\n",
       "    </tr>\n",
       "    <tr>\n",
       "      <th>2075964</th>\n",
       "      <td>8173764</td>\n",
       "      <td>S09216900101</td>\n",
       "      <td>11/29/2012</td>\n",
       "      <td>2964</td>\n",
       "      <td>Dahl's / Ankeny</td>\n",
       "      <td>1802 N ANKENY BLVD</td>\n",
       "      <td>ANKENY</td>\n",
       "      <td>50023</td>\n",
       "      <td>1802 N ANKENY BLVD\\nANKENY 50023\\n(41.747345, ...</td>\n",
       "      <td>77.0</td>\n",
       "      <td>Polk</td>\n",
       "      <td>1032200.0</td>\n",
       "      <td>IMPORTED VODKA - MISC</td>\n",
       "      <td>434.0</td>\n",
       "      <td>Luxco-St Louis</td>\n",
       "      <td>35920</td>\n",
       "      <td>Pearl Wedding Cake Vodka Mini</td>\n",
       "      <td>12</td>\n",
       "      <td>500</td>\n",
       "      <td>$5.00</td>\n",
       "      <td>$7.50</td>\n",
       "      <td>1</td>\n",
       "      <td>$7.50</td>\n",
       "      <td>0.5</td>\n",
       "      <td>0.13</td>\n",
       "      <td>12</td>\n",
       "    </tr>\n",
       "    <tr>\n",
       "      <th>2079725</th>\n",
       "      <td>8188477</td>\n",
       "      <td>S09225000051</td>\n",
       "      <td>11/29/2012</td>\n",
       "      <td>2509</td>\n",
       "      <td>Hy-Vee / Drugtown #1 / Cedar Rapids</td>\n",
       "      <td>1520 6TH ST SW</td>\n",
       "      <td>CEDAR RAPIDS</td>\n",
       "      <td>52404</td>\n",
       "      <td>1520 6TH ST SW\\nCEDAR RAPIDS 52404\\n(41.96233,...</td>\n",
       "      <td>57.0</td>\n",
       "      <td>Linn</td>\n",
       "      <td>1032200.0</td>\n",
       "      <td>IMPORTED VODKA - MISC</td>\n",
       "      <td>434.0</td>\n",
       "      <td>Luxco-St Louis</td>\n",
       "      <td>35920</td>\n",
       "      <td>Pearl Wedding Cake Vodka Mini</td>\n",
       "      <td>12</td>\n",
       "      <td>500</td>\n",
       "      <td>$5.00</td>\n",
       "      <td>$7.50</td>\n",
       "      <td>2</td>\n",
       "      <td>$15.00</td>\n",
       "      <td>1.0</td>\n",
       "      <td>0.26</td>\n",
       "      <td>12</td>\n",
       "    </tr>\n",
       "  </tbody>\n",
       "</table>\n",
       "<p>346 rows × 26 columns</p>\n",
       "</div>"
      ],
      "text/plain": [
       "         Unnamed: 0 Invoice/Item Number        Date  Store Number  \\\n",
       "12444         49098        S06022700051  06/12/2012          2607   \n",
       "17153         67868        S04235900166  02/23/2012          2647   \n",
       "17587         69590        S08633500145  10/29/2012          2500   \n",
       "20181         79760        S04773600001  03/28/2012          3569   \n",
       "22934         90506        S09658500044  12/26/2012          4857   \n",
       "...             ...                 ...         ...           ...   \n",
       "2054233     8088298        S04248500021  02/23/2012          2510   \n",
       "2060586     8113227        S08979100118  11/15/2012          2512   \n",
       "2067231     8139533        S08515100061  10/23/2012          2601   \n",
       "2075964     8173764        S09216900101  11/29/2012          2964   \n",
       "2079725     8188477        S09225000051  11/29/2012          2509   \n",
       "\n",
       "                                   Store Name                   Address  \\\n",
       "12444    Hy-Vee Wine and Spirits / Shenandoah            520 SO FREMONT   \n",
       "17153                Hy-Vee #7 / Cedar Rapids          5050 EDGEWOOD RD   \n",
       "17587             Hy-Vee Food Store #1 / Ames        3800 W LINCOLN WAY   \n",
       "20181                  Katy Did General Store            419 MERRILL ST   \n",
       "22934                     Westland Fast Break          1108 W AGENCY RD   \n",
       "...                                       ...                       ...   \n",
       "2054233    Hy-Vee Drugstore #3 / Cedar Rapids      2405 MT VERNON RD SE   \n",
       "2060586   Hy-Vee Wine and Spirits / Iowa City        1720 WATERFRONT DR   \n",
       "2067231         Hy-Vee Food Store / Fairfield  1300 WEST BURLINGTON AVE   \n",
       "2075964                       Dahl's / Ankeny        1802 N ANKENY BLVD   \n",
       "2079725   Hy-Vee / Drugtown #1 / Cedar Rapids            1520 6TH ST SW   \n",
       "\n",
       "                    City Zip Code  \\\n",
       "12444         SHENANDOAH    51601   \n",
       "17153       CEDAR RAPIDS    52411   \n",
       "17587               AMES    50010   \n",
       "20181             BUSSEY    50044   \n",
       "22934    WEST BURLINGTON    52655   \n",
       "...                  ...      ...   \n",
       "2054233     CEDAR RAPIDS    52403   \n",
       "2060586        IOWA CITY    52240   \n",
       "2067231        FAIRFIELD    52556   \n",
       "2075964           ANKENY    50023   \n",
       "2079725     CEDAR RAPIDS    52404   \n",
       "\n",
       "                                            Store Location  County Number  \\\n",
       "12444                   520 SO FREMONT\\nSHENANDOAH 51601\\n           73.0   \n",
       "17153    5050 EDGEWOOD RD\\nCEDAR RAPIDS 52411\\n(42.0304...           57.0   \n",
       "17587    3800 W LINCOLN WAY\\nAMES 50010\\n(42.023145, -9...           85.0   \n",
       "20181    419 MERRILL ST\\nBUSSEY 50044\\n(41.204759, -92....           63.0   \n",
       "22934    1108 W AGENCY RD\\nWEST BURLINGTON 52655\\n(40.8...           29.0   \n",
       "...                                                    ...            ...   \n",
       "2054233  2405 MT VERNON RD SE\\nCEDAR RAPIDS 52403\\n(41....           57.0   \n",
       "2060586  1720 WATERFRONT DR\\nIOWA CITY 52240\\n(41.64277...           52.0   \n",
       "2067231  1300 WEST BURLINGTON AVE\\nFAIRFIELD 52556\\n(41...           51.0   \n",
       "2075964  1802 N ANKENY BLVD\\nANKENY 50023\\n(41.747345, ...           77.0   \n",
       "2079725  1520 6TH ST SW\\nCEDAR RAPIDS 52404\\n(41.96233,...           57.0   \n",
       "\n",
       "             County   Category          Category Name  Vendor Number  \\\n",
       "12444          Page  1032200.0  IMPORTED VODKA - MISC          434.0   \n",
       "17153          Linn  1032200.0  IMPORTED VODKA - MISC          434.0   \n",
       "17587         Story  1032200.0  IMPORTED VODKA - MISC          434.0   \n",
       "20181        Marion  1032200.0  IMPORTED VODKA - MISC          434.0   \n",
       "22934    Des Moines  1032200.0  IMPORTED VODKA - MISC          434.0   \n",
       "...             ...        ...                    ...            ...   \n",
       "2054233        Linn  1032200.0  IMPORTED VODKA - MISC          434.0   \n",
       "2060586     Johnson  1032200.0  IMPORTED VODKA - MISC          434.0   \n",
       "2067231   Jefferson  1032200.0  IMPORTED VODKA - MISC          434.0   \n",
       "2075964        Polk  1032200.0  IMPORTED VODKA - MISC          434.0   \n",
       "2079725        Linn  1032200.0  IMPORTED VODKA - MISC          434.0   \n",
       "\n",
       "            Vendor Name  Item Number               Item Description  Pack  \\\n",
       "12444    Luxco-St Louis        35920  Pearl Wedding Cake Vodka Mini    12   \n",
       "17153    Luxco-St Louis        35920  Pearl Wedding Cake Vodka Mini    12   \n",
       "17587    Luxco-St Louis        35920  Pearl Wedding Cake Vodka Mini    12   \n",
       "20181    Luxco-St Louis        35920  Pearl Wedding Cake Vodka Mini    12   \n",
       "22934    Luxco-St Louis        35920  Pearl Wedding Cake Vodka Mini    12   \n",
       "...                 ...          ...                            ...   ...   \n",
       "2054233  Luxco-St Louis        35920  Pearl Wedding Cake Vodka Mini    12   \n",
       "2060586  Luxco-St Louis        35920  Pearl Wedding Cake Vodka Mini    12   \n",
       "2067231  Luxco-St Louis        35920  Pearl Wedding Cake Vodka Mini    12   \n",
       "2075964  Luxco-St Louis        35920  Pearl Wedding Cake Vodka Mini    12   \n",
       "2079725  Luxco-St Louis        35920  Pearl Wedding Cake Vodka Mini    12   \n",
       "\n",
       "         Bottle Volume (ml) State Bottle Cost State Bottle Retail  \\\n",
       "12444                   500             $5.00               $7.50   \n",
       "17153                   500             $5.00               $7.50   \n",
       "17587                   500             $5.00               $7.50   \n",
       "20181                   500             $5.00               $7.50   \n",
       "22934                   500             $5.00               $7.50   \n",
       "...                     ...               ...                 ...   \n",
       "2054233                 500             $5.00               $7.50   \n",
       "2060586                 500             $5.00               $7.50   \n",
       "2067231                 500             $5.00               $7.50   \n",
       "2075964                 500             $5.00               $7.50   \n",
       "2079725                 500             $5.00               $7.50   \n",
       "\n",
       "         Bottles Sold Sale (Dollars)  Volume Sold (Liters)  \\\n",
       "12444               4         $30.00                   2.0   \n",
       "17153               1          $7.50                   0.5   \n",
       "17587               1          $7.50                   0.5   \n",
       "20181              24        $180.00                  12.0   \n",
       "22934               1          $7.50                   0.5   \n",
       "...               ...            ...                   ...   \n",
       "2054233            12         $90.00                   6.0   \n",
       "2060586             1          $7.50                   0.5   \n",
       "2067231             1          $7.50                   0.5   \n",
       "2075964             1          $7.50                   0.5   \n",
       "2079725             2         $15.00                   1.0   \n",
       "\n",
       "         Volume Sold (Gallons)  Year  \n",
       "12444                     0.53    12  \n",
       "17153                     0.13    12  \n",
       "17587                     0.13    12  \n",
       "20181                     3.17    12  \n",
       "22934                     0.13    12  \n",
       "...                        ...   ...  \n",
       "2054233                   1.59    12  \n",
       "2060586                   0.13    12  \n",
       "2067231                   0.13    12  \n",
       "2075964                   0.13    12  \n",
       "2079725                   0.26    12  \n",
       "\n",
       "[346 rows x 26 columns]"
      ]
     },
     "execution_count": 15,
     "metadata": {},
     "output_type": "execute_result"
    }
   ],
   "source": [
    "y12[y12['Item Description']=='Pearl Wedding Cake Vodka Mini']"
   ]
  },
  {
   "cell_type": "code",
   "execution_count": 23,
   "id": "f4906df7",
   "metadata": {},
   "outputs": [],
   "source": [
    "#Titos Handmade Mini 'State Bottle Cost' is 10.03, 'State Bottle Retail' is $15.05\n",
    "#A function multiplying retail to # sold needs to be applied for Sale (Dollars)\n",
    "def titos_sbc(x,y):\n",
    "    if (pd.isna(x)) & (y == 'Titos Handmade Mini'):\n",
    "        return '$10.03'\n",
    "    else:\n",
    "        return x\n",
    "def titos_sbr(x,y):\n",
    "    if (pd.isna(x)) & (y == 'Titos Handmade Mini'):\n",
    "        return '$15.05'\n",
    "    else:\n",
    "        return x\n",
    "#Pearl Wedding Cake Vodka Mini 'State Bottle Cost' is $5.00, 'State Bottle Retail' is $7.50\n",
    "#A function multiplying retail to # sold needs to be applied for Sale (Dollars)\n",
    "def pearl_sbc(x,y):\n",
    "    if (pd.isna(x)) & (y == 'Pearl Wedding Cake Vodka Mini'):\n",
    "        return '$5.00'\n",
    "    else:\n",
    "        return x\n",
    "def pearl_sbr(x,y):\n",
    "    if (pd.isna(x)) & (y == 'Pearl Wedding Cake Vodka Mini'):\n",
    "        return '$7.50'\n",
    "    else:\n",
    "        return x"
   ]
  },
  {
   "cell_type": "code",
   "execution_count": 24,
   "id": "553eaf76",
   "metadata": {},
   "outputs": [],
   "source": [
    "y12['State Bottle Cost']=list(map(titos_sbc,y12['State Bottle Cost'],y12['Item Description']))\n",
    "y12['State Bottle Retail']=list(map(titos_sbr,y12['State Bottle Retail'],y12['Item Description']))\n",
    "y12['State Bottle Cost']=list(map(pearl_sbc,y12['State Bottle Cost'],y12['Item Description']))\n",
    "y12['State Bottle Retail']=list(map(pearl_sbr,y12['State Bottle Retail'],y12['Item Description']))"
   ]
  },
  {
   "cell_type": "code",
   "execution_count": null,
   "id": "4adaca13",
   "metadata": {},
   "outputs": [],
   "source": [
    "c12['State Bottle Cost']=list(map(lambda x:x[1:],c12['State Bottle Cost']))\n",
    "c12['State Bottle Retail']=list(map(lambda x:x[1:],c12['State Bottle Retail']))\n",
    "c12['Sale (Dollars)']=list(map(lambda x:x[1:],c12['Sale (Dollars)']))"
   ]
  },
  {
   "cell_type": "code",
   "execution_count": null,
   "id": "f655be58",
   "metadata": {},
   "outputs": [],
   "source": [
    "def nansale(x,y,z)\n",
    "    if (pd.isna(x)):\n",
    "        return y*z\n",
    "    else:\n",
    "        return x"
   ]
  },
  {
   "cell_type": "code",
   "execution_count": null,
   "id": "847a591c",
   "metadata": {},
   "outputs": [],
   "source": [
    "y12['Sale (Dollars)']=list(map(nansale,y12['Sale (Dollars)'],y12['State Bottle Retail'],y12['Bottles Sold']))"
   ]
  },
  {
   "cell_type": "code",
   "execution_count": 25,
   "id": "cefce07e",
   "metadata": {},
   "outputs": [
    {
     "data": {
      "text/plain": [
       "Unnamed: 0                  0\n",
       "Invoice/Item Number         0\n",
       "Date                        0\n",
       "Store Number                0\n",
       "Store Name                  0\n",
       "Address                     0\n",
       "City                        0\n",
       "Zip Code                    0\n",
       "Store Location              0\n",
       "County Number            3599\n",
       "County                   3599\n",
       "Category                  284\n",
       "Category Name             822\n",
       "Vendor Number               0\n",
       "Vendor Name                 0\n",
       "Item Number                 0\n",
       "Item Description            0\n",
       "Pack                        0\n",
       "Bottle Volume (ml)          0\n",
       "State Bottle Cost           0\n",
       "State Bottle Retail         0\n",
       "Bottles Sold                0\n",
       "Sale (Dollars)             10\n",
       "Volume Sold (Liters)        0\n",
       "Volume Sold (Gallons)       0\n",
       "Year                        0\n",
       "dtype: int64"
      ]
     },
     "execution_count": 25,
     "metadata": {},
     "output_type": "execute_result"
    }
   ],
   "source": [
    "#Ultimately, the final sale will not be used in the regression model because it is at the discretion of the store and does\n",
    "#not affect material cost.\n",
    "y12.isna().sum()"
   ]
  },
  {
   "cell_type": "code",
   "execution_count": 26,
   "id": "602e4ecd",
   "metadata": {},
   "outputs": [
    {
     "ename": "NameError",
     "evalue": "name 'get_county' is not defined",
     "output_type": "error",
     "traceback": [
      "\u001b[1;31m---------------------------------------------------------------------------\u001b[0m",
      "\u001b[1;31mNameError\u001b[0m                                 Traceback (most recent call last)",
      "\u001b[1;32m~\\AppData\\Local\\Temp/ipykernel_5212/660913206.py\u001b[0m in \u001b[0;36m<module>\u001b[1;34m\u001b[0m\n\u001b[1;32m----> 1\u001b[1;33m \u001b[0my12\u001b[0m\u001b[1;33m[\u001b[0m\u001b[1;34m'County'\u001b[0m\u001b[1;33m]\u001b[0m\u001b[1;33m=\u001b[0m\u001b[0mlist\u001b[0m\u001b[1;33m(\u001b[0m\u001b[0mmap\u001b[0m\u001b[1;33m(\u001b[0m\u001b[0mget_county\u001b[0m\u001b[1;33m,\u001b[0m\u001b[0my12\u001b[0m\u001b[1;33m[\u001b[0m\u001b[1;34m'County'\u001b[0m\u001b[1;33m]\u001b[0m\u001b[1;33m,\u001b[0m\u001b[0my12\u001b[0m\u001b[1;33m[\u001b[0m\u001b[1;34m'Store Number'\u001b[0m\u001b[1;33m]\u001b[0m\u001b[1;33m)\u001b[0m\u001b[1;33m)\u001b[0m\u001b[1;33m\u001b[0m\u001b[1;33m\u001b[0m\u001b[0m\n\u001b[0m\u001b[0;32m      2\u001b[0m \u001b[0my12\u001b[0m\u001b[1;33m[\u001b[0m\u001b[1;34m'County Number'\u001b[0m\u001b[1;33m]\u001b[0m\u001b[1;33m=\u001b[0m\u001b[0mlist\u001b[0m\u001b[1;33m(\u001b[0m\u001b[0mmap\u001b[0m\u001b[1;33m(\u001b[0m\u001b[0mget_county_number\u001b[0m\u001b[1;33m,\u001b[0m\u001b[0my12\u001b[0m\u001b[1;33m[\u001b[0m\u001b[1;34m'County Number'\u001b[0m\u001b[1;33m]\u001b[0m\u001b[1;33m,\u001b[0m\u001b[0my12\u001b[0m\u001b[1;33m[\u001b[0m\u001b[1;34m'Store Number'\u001b[0m\u001b[1;33m]\u001b[0m\u001b[1;33m)\u001b[0m\u001b[1;33m)\u001b[0m\u001b[1;33m\u001b[0m\u001b[1;33m\u001b[0m\u001b[0m\n\u001b[0;32m      3\u001b[0m \u001b[0my12\u001b[0m\u001b[1;33m[\u001b[0m\u001b[1;34m'Category'\u001b[0m\u001b[1;33m]\u001b[0m\u001b[1;33m=\u001b[0m\u001b[0mlist\u001b[0m\u001b[1;33m(\u001b[0m\u001b[0mmap\u001b[0m\u001b[1;33m(\u001b[0m\u001b[0mget_category\u001b[0m\u001b[1;33m,\u001b[0m\u001b[0my12\u001b[0m\u001b[1;33m[\u001b[0m\u001b[1;34m'Category'\u001b[0m\u001b[1;33m]\u001b[0m\u001b[1;33m,\u001b[0m\u001b[0my12\u001b[0m\u001b[1;33m[\u001b[0m\u001b[1;34m'Item Description'\u001b[0m\u001b[1;33m]\u001b[0m\u001b[1;33m)\u001b[0m\u001b[1;33m)\u001b[0m\u001b[1;33m\u001b[0m\u001b[1;33m\u001b[0m\u001b[0m\n\u001b[0;32m      4\u001b[0m \u001b[0my12\u001b[0m\u001b[1;33m[\u001b[0m\u001b[1;34m'Category Name'\u001b[0m\u001b[1;33m]\u001b[0m\u001b[1;33m=\u001b[0m\u001b[0mlist\u001b[0m\u001b[1;33m(\u001b[0m\u001b[0mmap\u001b[0m\u001b[1;33m(\u001b[0m\u001b[0mget_category_name\u001b[0m\u001b[1;33m,\u001b[0m\u001b[0my12\u001b[0m\u001b[1;33m[\u001b[0m\u001b[1;34m'Category Name'\u001b[0m\u001b[1;33m]\u001b[0m\u001b[1;33m,\u001b[0m\u001b[0my12\u001b[0m\u001b[1;33m[\u001b[0m\u001b[1;34m'Item Description'\u001b[0m\u001b[1;33m]\u001b[0m\u001b[1;33m)\u001b[0m\u001b[1;33m)\u001b[0m\u001b[1;33m\u001b[0m\u001b[1;33m\u001b[0m\u001b[0m\n",
      "\u001b[1;31mNameError\u001b[0m: name 'get_county' is not defined"
     ]
    }
   ],
   "source": [
    "#Now the other columns will be cleaned\n",
    "y12['County']=list(map(get_county,y12['County'],y12['Store Number']))\n",
    "y12['County']=list(map(county,y12['County'],y12['City']))\n",
    "y12['County Number']=list(map(get_county_number,y12['County Number'],y12['Store Number']))\n",
    "y12['County Number']=list(map(county_number,y12['County Number'],y12['City']))\n",
    "y12['Category']=list(map(get_category,y12['Category'],y12['Item Description']))\n",
    "y12['Category']=list(map(category,y12['Category'],y12['Item Description']))\n",
    "y12['Category']=list(map(category2,y12['Category'],y12['Item Description']))\n",
    "y12['Category Name']=list(map(get_category_name,y12['Category Name'],y12['Item Description']))\n",
    "y12['Category Name']=list(map(category_name,y12['Category Name'],y12['Item Description']))\n",
    "y12['Category Name']=list(map(category_name2,y12['Category Name'],y12['Item Description']))"
   ]
  },
  {
   "cell_type": "code",
   "execution_count": null,
   "id": "d8a0eb9d",
   "metadata": {},
   "outputs": [],
   "source": [
    "y12.to_csv('clean_2012.csv')"
   ]
  },
  {
   "cell_type": "markdown",
   "id": "5b61ea0a",
   "metadata": {},
   "source": [
    "## Year 2013"
   ]
  },
  {
   "cell_type": "code",
   "execution_count": 4,
   "id": "467e6bd8",
   "metadata": {},
   "outputs": [
    {
     "data": {
      "text/plain": [
       "Unnamed: 0                  0\n",
       "Invoice/Item Number         0\n",
       "Date                        0\n",
       "Store Number                0\n",
       "Store Name                  0\n",
       "Address                     0\n",
       "City                        0\n",
       "Zip Code                    0\n",
       "Store Location              0\n",
       "County Number            2660\n",
       "County                   2660\n",
       "Category                  298\n",
       "Category Name             810\n",
       "Vendor Number               0\n",
       "Vendor Name                 0\n",
       "Item Number                 0\n",
       "Item Description            0\n",
       "Pack                        0\n",
       "Bottle Volume (ml)          0\n",
       "State Bottle Cost           0\n",
       "State Bottle Retail         0\n",
       "Bottles Sold                0\n",
       "Sale (Dollars)              0\n",
       "Volume Sold (Liters)        0\n",
       "Volume Sold (Gallons)       0\n",
       "Year                        0\n",
       "dtype: int64"
      ]
     },
     "execution_count": 4,
     "metadata": {},
     "output_type": "execute_result"
    }
   ],
   "source": [
    "y13.isna().sum()"
   ]
  },
  {
   "cell_type": "code",
   "execution_count": 15,
   "id": "656566ee",
   "metadata": {},
   "outputs": [],
   "source": [
    "y13['County']=list(map(get_county,y13['County'],y13['Store Number']))\n",
    "y13['County']=list(map(county,y13['County'],y13['City']))\n",
    "y13['County Number']=list(map(get_county_number,y13['County Number'],y13['Store Number']))\n",
    "y13['County Number']=list(map(county_number,y13['County Number'],y13['City']))\n",
    "y13['Category']=list(map(get_category,y13['Category'],y13['Item Description']))\n",
    "y13['Category']=list(map(category,y13['Category'],y13['Item Description']))\n",
    "y13['Category']=list(map(category2,y13['Category'],y13['Item Description']))\n",
    "y13['Category Name']=list(map(get_category_name,y13['Category Name'],y13['Item Description']))\n",
    "y13['Category Name']=list(map(category_name,y13['Category Name'],y13['Item Description']))\n",
    "y13['Category Name']=list(map(category_name2,y13['Category Name'],y13['Item Description']))"
   ]
  },
  {
   "cell_type": "code",
   "execution_count": 16,
   "id": "9de0e01e",
   "metadata": {},
   "outputs": [
    {
     "data": {
      "text/plain": [
       "Unnamed: 0               0\n",
       "Invoice/Item Number      0\n",
       "Date                     0\n",
       "Store Number             0\n",
       "Store Name               0\n",
       "Address                  0\n",
       "City                     0\n",
       "Zip Code                 0\n",
       "Store Location           0\n",
       "County Number            0\n",
       "County                   0\n",
       "Category                 0\n",
       "Category Name            0\n",
       "Vendor Number            0\n",
       "Vendor Name              0\n",
       "Item Number              0\n",
       "Item Description         0\n",
       "Pack                     0\n",
       "Bottle Volume (ml)       0\n",
       "State Bottle Cost        0\n",
       "State Bottle Retail      0\n",
       "Bottles Sold             0\n",
       "Sale (Dollars)           0\n",
       "Volume Sold (Liters)     0\n",
       "Volume Sold (Gallons)    0\n",
       "Year                     0\n",
       "dtype: int64"
      ]
     },
     "execution_count": 16,
     "metadata": {},
     "output_type": "execute_result"
    }
   ],
   "source": [
    "y13.isna().sum()"
   ]
  },
  {
   "cell_type": "code",
   "execution_count": 17,
   "id": "a9443fb1",
   "metadata": {},
   "outputs": [],
   "source": [
    "y13.to_csv('clean_2013.csv')"
   ]
  },
  {
   "cell_type": "markdown",
   "id": "34f522b5",
   "metadata": {},
   "source": [
    "## Year 2014 "
   ]
  },
  {
   "cell_type": "code",
   "execution_count": 26,
   "id": "84094836",
   "metadata": {},
   "outputs": [],
   "source": [
    "y14=pd.read_csv('C://Users//Matthew//DA//Activities//Final_Project//Final Cuts//year2014.csv')"
   ]
  },
  {
   "cell_type": "code",
   "execution_count": 19,
   "id": "0fd91cb1",
   "metadata": {},
   "outputs": [
    {
     "data": {
      "text/plain": [
       "Unnamed: 0                  0\n",
       "Invoice/Item Number         0\n",
       "Date                        0\n",
       "Store Number                0\n",
       "Store Name                  0\n",
       "Address                     0\n",
       "City                        0\n",
       "Zip Code                    0\n",
       "Store Location              0\n",
       "County Number            1054\n",
       "County                   1054\n",
       "Category                  480\n",
       "Category Name            1057\n",
       "Vendor Number               0\n",
       "Vendor Name                 0\n",
       "Item Number                 0\n",
       "Item Description            0\n",
       "Pack                        0\n",
       "Bottle Volume (ml)          0\n",
       "State Bottle Cost           0\n",
       "State Bottle Retail         0\n",
       "Bottles Sold                0\n",
       "Sale (Dollars)              0\n",
       "Volume Sold (Liters)        0\n",
       "Volume Sold (Gallons)       0\n",
       "Year                        0\n",
       "dtype: int64"
      ]
     },
     "execution_count": 19,
     "metadata": {},
     "output_type": "execute_result"
    }
   ],
   "source": [
    "y14.isna().sum()"
   ]
  },
  {
   "cell_type": "code",
   "execution_count": 36,
   "id": "07917691",
   "metadata": {},
   "outputs": [],
   "source": [
    "y14['County']=list(map(get_county,y14['County'],y14['Store Number']))\n",
    "y14['County']=list(map(county,y14['County'],y14['City']))\n",
    "y14['County Number']=list(map(get_county_number,y14['County Number'],y14['Store Number']))\n",
    "y14['County Number']=list(map(county_number,y14['County Number'],y14['City']))\n",
    "y14['Category']=list(map(get_category,y14['Category'],y14['Item Description']))\n",
    "y14['Category']=list(map(category,y14['Category'],y14['Item Description']))\n",
    "y14['Category']=list(map(category2,y14['Category'],y14['Item Description']))\n",
    "y14['Category Name']=list(map(get_category_name,y14['Category Name'],y14['Item Description']))\n",
    "y14['Category Name']=list(map(category_name,y14['Category Name'],y14['Item Description']))\n",
    "y14['Category Name']=list(map(category_name2,y14['Category Name'],y14['Item Description']))"
   ]
  },
  {
   "cell_type": "code",
   "execution_count": 37,
   "id": "fed5fb9b",
   "metadata": {},
   "outputs": [
    {
     "data": {
      "text/plain": [
       "Unnamed: 0               0\n",
       "Invoice/Item Number      0\n",
       "Date                     0\n",
       "Store Number             0\n",
       "Store Name               0\n",
       "Address                  0\n",
       "City                     0\n",
       "Zip Code                 0\n",
       "Store Location           0\n",
       "County Number            0\n",
       "County                   0\n",
       "Category                 0\n",
       "Category Name            0\n",
       "Vendor Number            0\n",
       "Vendor Name              0\n",
       "Item Number              0\n",
       "Item Description         0\n",
       "Pack                     0\n",
       "Bottle Volume (ml)       0\n",
       "State Bottle Cost        0\n",
       "State Bottle Retail      0\n",
       "Bottles Sold             0\n",
       "Sale (Dollars)           0\n",
       "Volume Sold (Liters)     0\n",
       "Volume Sold (Gallons)    0\n",
       "Year                     0\n",
       "dtype: int64"
      ]
     },
     "execution_count": 37,
     "metadata": {},
     "output_type": "execute_result"
    }
   ],
   "source": [
    "y14.isna().sum()"
   ]
  },
  {
   "cell_type": "code",
   "execution_count": 38,
   "id": "ca22bf11",
   "metadata": {},
   "outputs": [],
   "source": [
    "y14.to_csv('clean_2014.csv')"
   ]
  },
  {
   "cell_type": "markdown",
   "id": "45eeeec8",
   "metadata": {},
   "source": [
    "## Year 2015"
   ]
  },
  {
   "cell_type": "code",
   "execution_count": 25,
   "id": "47257209",
   "metadata": {},
   "outputs": [],
   "source": [
    "y15=pd.read_csv('C://Users//Matthew//DA//Activities//Final_Project//Final Cuts//year2015.csv')"
   ]
  },
  {
   "cell_type": "code",
   "execution_count": 40,
   "id": "8d089e25",
   "metadata": {},
   "outputs": [
    {
     "data": {
      "text/plain": [
       "Unnamed: 0                  0\n",
       "Invoice/Item Number         0\n",
       "Date                        0\n",
       "Store Number                0\n",
       "Store Name                  0\n",
       "Address                     0\n",
       "City                        0\n",
       "Zip Code                    0\n",
       "Store Location              0\n",
       "County Number            1119\n",
       "County                   1119\n",
       "Category                  773\n",
       "Category Name            1462\n",
       "Vendor Number               0\n",
       "Vendor Name                 0\n",
       "Item Number                 0\n",
       "Item Description            0\n",
       "Pack                        0\n",
       "Bottle Volume (ml)          0\n",
       "State Bottle Cost           0\n",
       "State Bottle Retail         0\n",
       "Bottles Sold                0\n",
       "Sale (Dollars)              0\n",
       "Volume Sold (Liters)        0\n",
       "Volume Sold (Gallons)       0\n",
       "Year                        0\n",
       "dtype: int64"
      ]
     },
     "execution_count": 40,
     "metadata": {},
     "output_type": "execute_result"
    }
   ],
   "source": [
    "#only 4 columns need cleaning, so only these 4 dictionaries will be applied\n",
    "y15.isna().sum()"
   ]
  },
  {
   "cell_type": "code",
   "execution_count": 36,
   "id": "1364b374",
   "metadata": {},
   "outputs": [],
   "source": [
    "y15['County']=list(map(get_county,y15['County'],y15['Store Number']))\n",
    "y15['County']=list(map(county,y15['County'],y15['City']))\n",
    "y15['County Number']=list(map(get_county_number,y15['County Number'],y15['Store Number']))\n",
    "y15['County Number']=list(map(county_number,y15['County Number'],y15['City']))\n",
    "y15['Category']=list(map(get_category,y15['Category'],y15['Item Description']))\n",
    "y15['Category']=list(map(category,y15['Category'],y15['Item Description']))\n",
    "y15['Category']=list(map(category2,y15['Category'],y15['Item Description']))\n",
    "y15['Category Name']=list(map(get_category_name,y15['Category Name'],y15['Item Description']))\n",
    "y15['Category Name']=list(map(category_name,y15['Category Name'],y15['Item Description']))\n",
    "y15['Category Name']=list(map(category_name2,y15['Category Name'],y15['Item Description']))"
   ]
  },
  {
   "cell_type": "code",
   "execution_count": null,
   "id": "8456df17",
   "metadata": {},
   "outputs": [],
   "source": [
    "y15.isna().sum()"
   ]
  },
  {
   "cell_type": "code",
   "execution_count": null,
   "id": "409788b8",
   "metadata": {},
   "outputs": [],
   "source": [
    "y15.to_csv('clean_2015.csv')"
   ]
  },
  {
   "cell_type": "markdown",
   "id": "f1206241",
   "metadata": {},
   "source": [
    "## Year 2016"
   ]
  },
  {
   "cell_type": "code",
   "execution_count": 8,
   "id": "d0daa4ad",
   "metadata": {},
   "outputs": [
    {
     "name": "stderr",
     "output_type": "stream",
     "text": [
      "C:\\ProgramData\\Anaconda3\\lib\\site-packages\\IPython\\core\\interactiveshell.py:3165: DtypeWarning: Columns (7) have mixed types.Specify dtype option on import or set low_memory=False.\n",
      "  has_raised = await self.run_ast_nodes(code_ast.body, cell_name,\n"
     ]
    }
   ],
   "source": [
    "y16=pd.read_csv('C://Users//Matthew//DA//Activities//Final_Project//Final Cuts//year2016.csv')"
   ]
  },
  {
   "cell_type": "code",
   "execution_count": 47,
   "id": "ab1741df",
   "metadata": {},
   "outputs": [
    {
     "data": {
      "text/plain": [
       "Unnamed: 0                   0\n",
       "Invoice/Item Number          0\n",
       "Date                         0\n",
       "Store Number                 0\n",
       "Store Name                   0\n",
       "Address                    965\n",
       "City                       965\n",
       "Zip Code                  1010\n",
       "Store Location             965\n",
       "County Number            69336\n",
       "County                   69336\n",
       "Category                   350\n",
       "Category Name             6100\n",
       "Vendor Number                2\n",
       "Vendor Name                  0\n",
       "Item Number                  0\n",
       "Item Description             0\n",
       "Pack                         0\n",
       "Bottle Volume (ml)           0\n",
       "State Bottle Cost            0\n",
       "State Bottle Retail          0\n",
       "Bottles Sold                 0\n",
       "Sale (Dollars)               0\n",
       "Volume Sold (Liters)         0\n",
       "Volume Sold (Gallons)        0\n",
       "Year                         0\n",
       "dtype: int64"
      ]
     },
     "execution_count": 47,
     "metadata": {},
     "output_type": "execute_result"
    }
   ],
   "source": [
    "#the 8 dictionaries corresponding to the columns with nan values will be applies to y16\n",
    "y16.isna().sum()"
   ]
  },
  {
   "cell_type": "code",
   "execution_count": 48,
   "id": "7f737d14",
   "metadata": {},
   "outputs": [
    {
     "data": {
      "text/plain": [
       "array(['CORALVILLE', 'HAMPTON', 'WESLEY', 'ACKLEY', 'CLARINDA', 'BELMOND',\n",
       "       'DUNLAP', 'CEDAR RAPIDS', 'SEYMOUR', 'OSCEOLA', 'ALTOONA',\n",
       "       'EVANSDALE', 'DAVENPORT', 'LARCHWOOD', 'WAVERLY', 'ATLANTIC',\n",
       "       'NORTH LIBERTY', 'DES MOINES', 'CRESCO', 'DUBUQUE', 'SIOUX CITY',\n",
       "       'MASON CITY', 'WATERLOO', 'CLINTON', 'ROCKWELL', 'SIGOURNEY',\n",
       "       'HARLAN', 'AUDUBON', 'TABOR', 'PLEASANTVILLE', 'RUNNELLS',\n",
       "       'CHARITON', 'ANTHON', 'ANAMOSA', 'FORT DODGE', 'NORWALK',\n",
       "       'WEST BRANCH', 'IOWA CITY', 'COLUMBUS JUNCTION', 'INDIANOLA',\n",
       "       'MARSHALLTOWN', 'REINBECK', 'Mason City', 'Des Moines',\n",
       "       'Cedar Rapids', 'CENTRAL CITY', 'Center Point', 'Ottumwa',\n",
       "       'Davenport', 'Ackley', 'Pleasantville', 'Wesley', 'Iowa City',\n",
       "       'Coralville', 'Columbus Junction', 'Dunlap', 'Indianola',\n",
       "       'Hampton', 'Anamosa', 'Sigourney', 'Tabor', 'Dubuque', 'Harlan',\n",
       "       'Cresco', 'Fort Dodge', 'Altoona', 'Larchwood', 'Clarinda',\n",
       "       'Marshalltown', 'Waverly', 'Belmond', 'Central City', 'Runnells',\n",
       "       'Sioux City', 'Anthon', 'Clinton', 'Waterloo', 'Rockwell',\n",
       "       'North English', 'Osceola', 'Reinbeck', 'North Liberty', 'Norwalk',\n",
       "       'Forest City', 'Sac City', 'Evansdale', 'Glenwood', 'Seymour',\n",
       "       'Mitchellville', 'Audubon', 'Atlantic', 'Manson',\n",
       "       'West Des Moines', 'Leon', 'Missouri Valley', 'Council Bluffs',\n",
       "       'Winthrop', 'West Branch', 'Atkins', 'Moravia', 'Cedar Falls',\n",
       "       'Muscatine', 'Waukee', 'Chariton', 'Albert City', 'Pella',\n",
       "       'Bettendorf', 'Urbandale', 'Newton', 'Windsor Heights', 'Clarion',\n",
       "       'Boone', 'Brooklyn', 'Robins', 'Kingsley', 'Story City', 'Spencer',\n",
       "       'Rock Valley', 'Onawa', 'Vinton', 'DeWitt', 'Webster City',\n",
       "       'Stanton', 'Lawler', 'Humboldt', 'Arnolds Park', 'Ames',\n",
       "       'Carter Lake', 'Alburnett', 'Otumwa', nan], dtype=object)"
      ]
     },
     "execution_count": 48,
     "metadata": {},
     "output_type": "execute_result"
    }
   ],
   "source": [
    "y16[y16['County'].isna()]['City'].unique()"
   ]
  },
  {
   "cell_type": "code",
   "execution_count": null,
   "id": "d5d1bb84",
   "metadata": {},
   "outputs": [],
   "source": [
    "y16['Address']=list(map(get_address,y16['Address'],y16['Store Number']))\n",
    "y16['Store Location']=list(map(get_store_location,y16['Store Location'],y16['Store Number']))\n",
    "y16['Zip Code']=list(map(get_zip,y16['Zip Code'],y16['Store Number']))\n",
    "y16['City']=list(map(get_city,y16['City'],y16['Store Number']))\n",
    "y16['County']=list(map(get_county,y16['County'],y16['Store Number']))\n",
    "y16['County']=list(map(county,y16['County'],y16['City']))\n",
    "y16['County Number']=list(map(get_county_number,y16['County Number'],y16['Store Number']))\n",
    "y16['County Number']=list(map(county_number,y16['County Number'],y16['City']))\n",
    "y16['Category']=list(map(get_category,y16['Category'],y16['Item Description']))\n",
    "y16['Category']=list(map(category,y16['Category'],y16['Item Description']))\n",
    "y16['Category']=list(map(category2,y16['Category'],y16['Item Description']))\n",
    "y16['Category Name']=list(map(get_category_name,y16['Category Name'],y16['Item Description']))\n",
    "y16['Category Name']=list(map(category_name,y16['Category Name'],y16['Item Description']))\n",
    "y16['Category Name']=list(map(category_name2,y16['Category Name'],y16['Item Description']))"
   ]
  },
  {
   "cell_type": "code",
   "execution_count": null,
   "id": "4c10e8ec",
   "metadata": {},
   "outputs": [],
   "source": [
    "y16.isna().sum()"
   ]
  },
  {
   "cell_type": "code",
   "execution_count": null,
   "id": "c384ebbb",
   "metadata": {},
   "outputs": [],
   "source": [
    "y16.to_csv('clean_2016.csv')"
   ]
  },
  {
   "cell_type": "markdown",
   "id": "00c51667",
   "metadata": {},
   "source": [
    "## Year 2017"
   ]
  },
  {
   "cell_type": "code",
   "execution_count": 61,
   "id": "777c56ee",
   "metadata": {},
   "outputs": [
    {
     "data": {
      "text/plain": [
       "Unnamed: 0                  0\n",
       "Invoice/Item Number         0\n",
       "Date                        0\n",
       "Store Number                0\n",
       "Store Name                  0\n",
       "Address                     1\n",
       "City                     1410\n",
       "Zip Code                 1410\n",
       "Store Location           1410\n",
       "County Number            1410\n",
       "County                   1410\n",
       "Category                 5835\n",
       "Category Name            5835\n",
       "Vendor Number               1\n",
       "Vendor Name                 1\n",
       "Item Number                 0\n",
       "Item Description            0\n",
       "Pack                        0\n",
       "Bottle Volume (ml)          0\n",
       "State Bottle Cost           0\n",
       "State Bottle Retail         0\n",
       "Bottles Sold                0\n",
       "Sale (Dollars)              0\n",
       "Volume Sold (Liters)        0\n",
       "Volume Sold (Gallons)       0\n",
       "Year                        0\n",
       "dtype: int64"
      ]
     },
     "execution_count": 61,
     "metadata": {},
     "output_type": "execute_result"
    }
   ],
   "source": [
    "y17.isna().sum()"
   ]
  },
  {
   "cell_type": "code",
   "execution_count": null,
   "id": "80e833f4",
   "metadata": {},
   "outputs": [],
   "source": [
    "y17['Address']=list(map(get_address,y17['Address'],y17['Store Number']))\n",
    "y17['Store Location']=list(map(get_store_location,y17['Store Location'],y17['Store Number']))\n",
    "y17['Zip Code']=list(map(get_zip,y17['Zip Code'],y17['Store Number']))\n",
    "y17['City']=list(map(get_city,y17['City'],y17['Store Number']))\n",
    "y17['County']=list(map(get_county,y17['County'],y17['Store Number']))\n",
    "y17['County']=list(map(county,y17['County'],y17['City']))\n",
    "y17['County Number']=list(map(get_county_number,y17['County Number'],y17['Store Number']))\n",
    "y17['County Number']=list(map(county_number,y17['County Number'],y17['City']))\n",
    "y17['Category']=list(map(get_category,y17['Category'],y17['Item Description']))\n",
    "y17['Category']=list(map(category,y17['Category'],y17['Item Description']))\n",
    "y17['Category']=list(map(category2,y17['Category'],y17['Item Description']))\n",
    "y17['Category Name']=list(map(get_category_name,y17['Category Name'],y17['Item Description']))\n",
    "y17['Category Name']=list(map(category_name,y17['Category Name'],y17['Item Description']))\n",
    "y17['Category Name']=list(map(category_name2,y17['Category Name'],y17['Item Description']))"
   ]
  },
  {
   "cell_type": "code",
   "execution_count": null,
   "id": "51119bbb",
   "metadata": {},
   "outputs": [],
   "source": [
    "y17.isna().sum()"
   ]
  },
  {
   "cell_type": "code",
   "execution_count": null,
   "id": "44344b89",
   "metadata": {},
   "outputs": [],
   "source": [
    "y17[y17['Address'].isna()]['Store Number'],\n",
    "y17[y17['Store Number']==9932]['Store Location']\n",
    "sall[sall['Store Number']==9932]['Address'].values[0]"
   ]
  },
  {
   "cell_type": "code",
   "execution_count": 9,
   "id": "7a2918cc",
   "metadata": {},
   "outputs": [
    {
     "data": {
      "text/html": [
       "<div>\n",
       "<style scoped>\n",
       "    .dataframe tbody tr th:only-of-type {\n",
       "        vertical-align: middle;\n",
       "    }\n",
       "\n",
       "    .dataframe tbody tr th {\n",
       "        vertical-align: top;\n",
       "    }\n",
       "\n",
       "    .dataframe thead th {\n",
       "        text-align: right;\n",
       "    }\n",
       "</style>\n",
       "<table border=\"1\" class=\"dataframe\">\n",
       "  <thead>\n",
       "    <tr style=\"text-align: right;\">\n",
       "      <th></th>\n",
       "      <th>Unnamed: 0</th>\n",
       "      <th>Invoice/Item Number</th>\n",
       "      <th>Date</th>\n",
       "      <th>Store Number</th>\n",
       "      <th>Store Name</th>\n",
       "      <th>Address</th>\n",
       "      <th>City</th>\n",
       "      <th>Zip Code</th>\n",
       "      <th>Store Location</th>\n",
       "      <th>County Number</th>\n",
       "      <th>County</th>\n",
       "      <th>Category</th>\n",
       "      <th>Category Name</th>\n",
       "      <th>Vendor Number</th>\n",
       "      <th>Vendor Name</th>\n",
       "      <th>Item Number</th>\n",
       "      <th>Item Description</th>\n",
       "      <th>Pack</th>\n",
       "      <th>Bottle Volume (ml)</th>\n",
       "      <th>State Bottle Cost</th>\n",
       "      <th>State Bottle Retail</th>\n",
       "      <th>Bottles Sold</th>\n",
       "      <th>Sale (Dollars)</th>\n",
       "      <th>Volume Sold (Liters)</th>\n",
       "      <th>Volume Sold (Gallons)</th>\n",
       "      <th>Year</th>\n",
       "    </tr>\n",
       "  </thead>\n",
       "  <tbody>\n",
       "    <tr>\n",
       "      <th>1050009</th>\n",
       "      <td>11757989</td>\n",
       "      <td>INV-05674000001</td>\n",
       "      <td>06/22/2017</td>\n",
       "      <td>9932</td>\n",
       "      <td>3-Oaks Distillery, LLC</td>\n",
       "      <td>NaN</td>\n",
       "      <td>Dubuque</td>\n",
       "      <td>52002.0</td>\n",
       "      <td>Dubuque 52002\\n(42.516027, -90.766335)</td>\n",
       "      <td>31.0</td>\n",
       "      <td>DUBUQUE</td>\n",
       "      <td>1011100.0</td>\n",
       "      <td>Blended Whiskies</td>\n",
       "      <td>215.0</td>\n",
       "      <td>3-Oaks Distillery, LLC</td>\n",
       "      <td>27890</td>\n",
       "      <td>3-Oaks Distillery Whiskey</td>\n",
       "      <td>12</td>\n",
       "      <td>750</td>\n",
       "      <td>$21.60</td>\n",
       "      <td>$32.40</td>\n",
       "      <td>1</td>\n",
       "      <td>$388.80</td>\n",
       "      <td>0.75</td>\n",
       "      <td>0.19</td>\n",
       "      <td>17</td>\n",
       "    </tr>\n",
       "  </tbody>\n",
       "</table>\n",
       "</div>"
      ],
      "text/plain": [
       "         Unnamed: 0 Invoice/Item Number        Date  Store Number  \\\n",
       "1050009    11757989     INV-05674000001  06/22/2017          9932   \n",
       "\n",
       "                     Store Name Address     City  Zip Code  \\\n",
       "1050009  3-Oaks Distillery, LLC     NaN  Dubuque   52002.0   \n",
       "\n",
       "                                 Store Location  County Number   County  \\\n",
       "1050009  Dubuque 52002\\n(42.516027, -90.766335)           31.0  DUBUQUE   \n",
       "\n",
       "          Category     Category Name  Vendor Number             Vendor Name  \\\n",
       "1050009  1011100.0  Blended Whiskies          215.0  3-Oaks Distillery, LLC   \n",
       "\n",
       "         Item Number           Item Description  Pack  Bottle Volume (ml)  \\\n",
       "1050009        27890  3-Oaks Distillery Whiskey    12                 750   \n",
       "\n",
       "        State Bottle Cost State Bottle Retail  Bottles Sold Sale (Dollars)  \\\n",
       "1050009            $21.60              $32.40             1        $388.80   \n",
       "\n",
       "         Volume Sold (Liters)  Volume Sold (Gallons)  Year  \n",
       "1050009                  0.75                   0.19    17  "
      ]
     },
     "execution_count": 9,
     "metadata": {},
     "output_type": "execute_result"
    }
   ],
   "source": [
    "#Address column will be dropped later so nan is inconsequential,\n",
    "#the row would be dropped later anyways as the store is in Dubuque, not Des Moines\n",
    "y17[y17['Store Number']==9932]"
   ]
  },
  {
   "cell_type": "code",
   "execution_count": null,
   "id": "b1c3de41",
   "metadata": {},
   "outputs": [],
   "source": [
    "y17.to_csv('clean_2017.csv')"
   ]
  }
 ],
 "metadata": {
  "kernelspec": {
   "display_name": "Python 3 (ipykernel)",
   "language": "python",
   "name": "python3"
  },
  "language_info": {
   "codemirror_mode": {
    "name": "ipython",
    "version": 3
   },
   "file_extension": ".py",
   "mimetype": "text/x-python",
   "name": "python",
   "nbconvert_exporter": "python",
   "pygments_lexer": "ipython3",
   "version": "3.9.7"
  }
 },
 "nbformat": 4,
 "nbformat_minor": 5
}

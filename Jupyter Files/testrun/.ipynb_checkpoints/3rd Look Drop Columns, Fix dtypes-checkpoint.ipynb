{
 "cells": [
  {
   "cell_type": "code",
   "execution_count": 2,
   "id": "f1849e68",
   "metadata": {},
   "outputs": [],
   "source": [
    "import pandas as pd\n",
    "import numpy as np\n",
    "import chunk\n",
    "import re\n",
    "from datetime import datetime\n",
    "\n",
    "#pd.set_option('display.max_columns',30)\n",
    "#pd.set_option('display.max_rows',300)"
   ]
  },
  {
   "cell_type": "markdown",
   "id": "badfc4bf",
   "metadata": {},
   "source": [
    "## For more accurate information, I will focus on liquor stores only in the city of Des Moines. The following cells import each of the 6 portions of the now clean dataset and determine how many stores are in Des Moines."
   ]
  },
  {
   "cell_type": "code",
   "execution_count": 3,
   "id": "b2c7b5d2",
   "metadata": {},
   "outputs": [
    {
     "name": "stderr",
     "output_type": "stream",
     "text": [
      "C:\\Users\\Owner\\anaconda3\\lib\\site-packages\\IPython\\core\\interactiveshell.py:3444: DtypeWarning: Columns (8) have mixed types.Specify dtype option on import or set low_memory=False.\n",
      "  exec(code_obj, self.user_global_ns, self.user_ns)\n"
     ]
    }
   ],
   "source": [
    "#Checkpoint: read in all postloop files\n",
    "f12=pd.read_csv('C://Users//Owner//DA//Classwork//0 Activities//Final_Project//Final Cuts//Des_Moines_Liquor_Store//Jupyter Files//testrun//allclean12.csv')\n",
    "f13=pd.read_csv('C://Users//Owner//DA//Classwork//0 Activities//Final_Project//Final Cuts//Des_Moines_Liquor_Store//Jupyter Files//testrun//allclean13.csv')\n",
    "f14=pd.read_csv('C://Users//Owner//DA//Classwork//0 Activities//Final_Project//Final Cuts//Des_Moines_Liquor_Store//Jupyter Files//testrun//allclean14.csv')\n",
    "f15=pd.read_csv('C://Users//Owner//DA//Classwork//0 Activities//Final_Project//Final Cuts//Des_Moines_Liquor_Store//Jupyter Files//testrun//allclean15.csv')\n",
    "f16=pd.read_csv('C://Users//Owner//DA//Classwork//0 Activities//Final_Project//Final Cuts//Des_Moines_Liquor_Store//Jupyter Files//testrun//allclean16.csv')\n",
    "f17=pd.read_csv('C://Users//Owner//DA//Classwork//0 Activities//Final_Project//Final Cuts//Des_Moines_Liquor_Store//Jupyter Files//testrun//allclean17.csv')"
   ]
  },
  {
   "cell_type": "code",
   "execution_count": 76,
   "id": "8b528ab8",
   "metadata": {},
   "outputs": [
    {
     "name": "stdout",
     "output_type": "stream",
     "text": [
      "12\n",
      "13\n",
      "14\n",
      "15\n",
      "16\n",
      "17\n"
     ]
    }
   ],
   "source": [
    "f6 = (f12,f13,f14,f15,f16,f17)\n",
    "counter = 12\n",
    "for i in f6:\n",
    "    print(counter)\n",
    "    counter+=1\n",
    "    i['Date']=pd.to_datetime(i['Date'])\n",
    "    i['Store Number']=i['Store Number'].astype(str)\n",
    "    i['Zip Code']=i['Zip Code'].astype(str)\n",
    "    i['County Number']=i['County Number'].astype(str)\n",
    "    i['Category']=i['Category'].astype(str)\n",
    "    i['Vendor Number']=i['Vendor Number'].astype(str)\n",
    "    i['Item Number']=i['Item Number'].astype(str)"
   ]
  },
  {
   "cell_type": "code",
   "execution_count": 77,
   "id": "07cb2104",
   "metadata": {},
   "outputs": [
    {
     "name": "stdout",
     "output_type": "stream",
     "text": [
      "Unnamed: 0                        int64\n",
      "Unnamed: 0.1                      int64\n",
      "Unnamed: 0.1.1                    int64\n",
      "Invoice/Item Number              object\n",
      "Date                     datetime64[ns]\n",
      "Store Number                     object\n",
      "Store Name                       object\n",
      "Address                          object\n",
      "City                             object\n",
      "Zip Code                         object\n",
      "Store Location                   object\n",
      "County Number                    object\n",
      "County                           object\n",
      "Category                         object\n",
      "Category Name                    object\n",
      "Vendor Number                    object\n",
      "Vendor Name                      object\n",
      "Item Number                      object\n",
      "Item Description                 object\n",
      "Pack                              int64\n",
      "Bottle Volume (ml)                int64\n",
      "State Bottle Cost               float64\n",
      "State Bottle Retail             float64\n",
      "Bottles Sold                      int64\n",
      "Sale (Dollars)                  float64\n",
      "Volume Sold (Liters)            float64\n",
      "Volume Sold (Gallons)           float64\n",
      "Year                              int64\n",
      "dtype: object Unnamed: 0                        int64\n",
      "Unnamed: 0.1                      int64\n",
      "Unnamed: 0.1.1                    int64\n",
      "Invoice/Item Number              object\n",
      "Date                     datetime64[ns]\n",
      "Store Number                     object\n",
      "Store Name                       object\n",
      "Address                          object\n",
      "City                             object\n",
      "Zip Code                         object\n",
      "Store Location                   object\n",
      "County Number                    object\n",
      "County                           object\n",
      "Category                         object\n",
      "Category Name                    object\n",
      "Vendor Number                    object\n",
      "Vendor Name                      object\n",
      "Item Number                      object\n",
      "Item Description                 object\n",
      "Pack                              int64\n",
      "Bottle Volume (ml)                int64\n",
      "State Bottle Cost               float64\n",
      "State Bottle Retail             float64\n",
      "Bottles Sold                      int64\n",
      "Sale (Dollars)                  float64\n",
      "Volume Sold (Liters)            float64\n",
      "Volume Sold (Gallons)           float64\n",
      "Year                              int64\n",
      "dtype: object Unnamed: 0                        int64\n",
      "Unnamed: 0.1                      int64\n",
      "Unnamed: 0.1.1                    int64\n",
      "Invoice/Item Number              object\n",
      "Date                     datetime64[ns]\n",
      "Store Number                     object\n",
      "Store Name                       object\n",
      "Address                          object\n",
      "City                             object\n",
      "Zip Code                         object\n",
      "Store Location                   object\n",
      "County Number                    object\n",
      "County                           object\n",
      "Category                         object\n",
      "Category Name                    object\n",
      "Vendor Number                    object\n",
      "Vendor Name                      object\n",
      "Item Number                      object\n",
      "Item Description                 object\n",
      "Pack                              int64\n",
      "Bottle Volume (ml)                int64\n",
      "State Bottle Cost               float64\n",
      "State Bottle Retail             float64\n",
      "Bottles Sold                      int64\n",
      "Sale (Dollars)                  float64\n",
      "Volume Sold (Liters)            float64\n",
      "Volume Sold (Gallons)           float64\n",
      "Year                              int64\n",
      "dtype: object Unnamed: 0                        int64\n",
      "Unnamed: 0.1                      int64\n",
      "Unnamed: 0.1.1                    int64\n",
      "Invoice/Item Number              object\n",
      "Date                     datetime64[ns]\n",
      "Store Number                     object\n",
      "Store Name                       object\n",
      "Address                          object\n",
      "City                             object\n",
      "Zip Code                         object\n",
      "Store Location                   object\n",
      "County Number                    object\n",
      "County                           object\n",
      "Category                         object\n",
      "Category Name                    object\n",
      "Vendor Number                    object\n",
      "Vendor Name                      object\n",
      "Item Number                      object\n",
      "Item Description                 object\n",
      "Pack                              int64\n",
      "Bottle Volume (ml)                int64\n",
      "State Bottle Cost               float64\n",
      "State Bottle Retail             float64\n",
      "Bottles Sold                      int64\n",
      "Sale (Dollars)                  float64\n",
      "Volume Sold (Liters)            float64\n",
      "Volume Sold (Gallons)           float64\n",
      "Year                              int64\n",
      "dtype: object Unnamed: 0                        int64\n",
      "Unnamed: 0.1                      int64\n",
      "Unnamed: 0.1.1                    int64\n",
      "Invoice/Item Number              object\n",
      "Date                     datetime64[ns]\n",
      "Store Number                     object\n",
      "Store Name                       object\n",
      "Address                          object\n",
      "City                             object\n",
      "Zip Code                         object\n",
      "Store Location                   object\n",
      "County Number                    object\n",
      "County                           object\n",
      "Category                         object\n",
      "Category Name                    object\n",
      "Vendor Number                    object\n",
      "Vendor Name                      object\n",
      "Item Number                      object\n",
      "Item Description                 object\n",
      "Pack                              int64\n",
      "Bottle Volume (ml)                int64\n",
      "State Bottle Cost               float64\n",
      "State Bottle Retail             float64\n",
      "Bottles Sold                      int64\n",
      "Sale (Dollars)                  float64\n",
      "Volume Sold (Liters)            float64\n",
      "Volume Sold (Gallons)           float64\n",
      "Year                              int64\n",
      "dtype: object Unnamed: 0                        int64\n",
      "Unnamed: 0.1                      int64\n",
      "Unnamed: 0.1.1                    int64\n",
      "Invoice/Item Number              object\n",
      "Date                     datetime64[ns]\n",
      "Store Number                     object\n",
      "Store Name                       object\n",
      "Address                          object\n",
      "City                             object\n",
      "Zip Code                         object\n",
      "Store Location                   object\n",
      "County Number                    object\n",
      "County                           object\n",
      "Category                         object\n",
      "Category Name                    object\n",
      "Vendor Number                    object\n",
      "Vendor Name                      object\n",
      "Item Number                      object\n",
      "Item Description                 object\n",
      "Pack                              int64\n",
      "Bottle Volume (ml)                int64\n",
      "State Bottle Cost               float64\n",
      "State Bottle Retail             float64\n",
      "Bottles Sold                      int64\n",
      "Sale (Dollars)                  float64\n",
      "Volume Sold (Liters)            float64\n",
      "Volume Sold (Gallons)           float64\n",
      "Year                              int64\n",
      "dtype: object\n"
     ]
    }
   ],
   "source": [
    "print(f12.dtypes,f13.dtypes,f14.dtypes,f15.dtypes,f16.dtypes,f17.dtypes)"
   ]
  },
  {
   "cell_type": "code",
   "execution_count": 13,
   "id": "85bd3a94",
   "metadata": {},
   "outputs": [
    {
     "name": "stdout",
     "output_type": "stream",
     "text": [
      "There were 1226  stores in Des Moines in 20 12 with 184093  sales.\n",
      "There were 1274  stores in Des Moines in 20 13 with 182353  sales.\n",
      "There were 1319  stores in Des Moines in 20 14 with 191156  sales.\n",
      "There were 1375  stores in Des Moines in 20 15 with 190916  sales.\n",
      "There were 1462  stores in Des Moines in 20 16 with 202139  sales.\n",
      "There were 1494  stores in Des Moines in 20 17 with 168223  sales.\n"
     ]
    }
   ],
   "source": [
    "#confirmed there is plenty of data in Des Moines to narrow the scope of the dataset\n",
    "f6 = (f12,f13,f14,f15,f16,f17)\n",
    "counter = 12\n",
    "for i in f6:\n",
    "    print('There were',i['Store Number'].nunique(),' stores in Des Moines in 20',counter, 'with',len(i[i['City']=='des moines']),' sales.')\n",
    "    counter+=1"
   ]
  },
  {
   "cell_type": "code",
   "execution_count": 32,
   "id": "71abffdd",
   "metadata": {},
   "outputs": [],
   "source": [
    "f6 = (f12,f13,f14,f15,f16,f17)\n",
    "for i in f6:\n",
    "    i=i[i['City']==\"des moines\"]"
   ]
  },
  {
   "cell_type": "code",
   "execution_count": 78,
   "id": "aa2fa81d",
   "metadata": {},
   "outputs": [
    {
     "name": "stdout",
     "output_type": "stream",
     "text": [
      "(184093, 28)\n",
      "(182353, 28)\n",
      "(191156, 28)\n",
      "(190916, 28)\n",
      "(202139, 28)\n",
      "(168223, 28)\n"
     ]
    }
   ],
   "source": [
    "f6 = (f12,f13,f14,f15,f16,f17)\n",
    "for i in f6:\n",
    "    print(i.shape)"
   ]
  },
  {
   "cell_type": "code",
   "execution_count": 40,
   "id": "64e497bd",
   "metadata": {},
   "outputs": [
    {
     "name": "stdout",
     "output_type": "stream",
     "text": [
      "Unnamed: 0               0\n",
      "Unnamed: 0.1             0\n",
      "Invoice/Item Number      0\n",
      "Date                     0\n",
      "Store Number             0\n",
      "Store Name               0\n",
      "Address                  0\n",
      "City                     0\n",
      "Zip Code                 0\n",
      "Store Location           0\n",
      "County Number            0\n",
      "County                   0\n",
      "Category                 0\n",
      "Category Name            0\n",
      "Vendor Number            0\n",
      "Vendor Name              0\n",
      "Item Number              0\n",
      "Item Description         0\n",
      "Pack                     0\n",
      "Bottle Volume (ml)       0\n",
      "State Bottle Cost        0\n",
      "State Bottle Retail      0\n",
      "Bottles Sold             0\n",
      "Sale (Dollars)           0\n",
      "Volume Sold (Liters)     0\n",
      "Volume Sold (Gallons)    0\n",
      "Year                     0\n",
      "dtype: int64\n",
      "Unnamed: 0               0\n",
      "Unnamed: 0.1             0\n",
      "Invoice/Item Number      0\n",
      "Date                     0\n",
      "Store Number             0\n",
      "Store Name               0\n",
      "Address                  0\n",
      "City                     0\n",
      "Zip Code                 0\n",
      "Store Location           0\n",
      "County Number            0\n",
      "County                   0\n",
      "Category                 0\n",
      "Category Name            0\n",
      "Vendor Number            0\n",
      "Vendor Name              0\n",
      "Item Number              0\n",
      "Item Description         0\n",
      "Pack                     0\n",
      "Bottle Volume (ml)       0\n",
      "State Bottle Cost        0\n",
      "State Bottle Retail      0\n",
      "Bottles Sold             0\n",
      "Sale (Dollars)           0\n",
      "Volume Sold (Liters)     0\n",
      "Volume Sold (Gallons)    0\n",
      "Year                     0\n",
      "dtype: int64\n",
      "Unnamed: 0               0\n",
      "Unnamed: 0.1             0\n",
      "Invoice/Item Number      0\n",
      "Date                     0\n",
      "Store Number             0\n",
      "Store Name               0\n",
      "Address                  0\n",
      "City                     0\n",
      "Zip Code                 0\n",
      "Store Location           0\n",
      "County Number            0\n",
      "County                   0\n",
      "Category                 0\n",
      "Category Name            0\n",
      "Vendor Number            0\n",
      "Vendor Name              0\n",
      "Item Number              0\n",
      "Item Description         0\n",
      "Pack                     0\n",
      "Bottle Volume (ml)       0\n",
      "State Bottle Cost        0\n",
      "State Bottle Retail      0\n",
      "Bottles Sold             0\n",
      "Sale (Dollars)           0\n",
      "Volume Sold (Liters)     0\n",
      "Volume Sold (Gallons)    0\n",
      "Year                     0\n",
      "dtype: int64\n",
      "Unnamed: 0               0\n",
      "Unnamed: 0.1             0\n",
      "Invoice/Item Number      0\n",
      "Date                     0\n",
      "Store Number             0\n",
      "Store Name               0\n",
      "Address                  0\n",
      "City                     0\n",
      "Zip Code                 0\n",
      "Store Location           0\n",
      "County Number            0\n",
      "County                   0\n",
      "Category                 0\n",
      "Category Name            0\n",
      "Vendor Number            0\n",
      "Vendor Name              0\n",
      "Item Number              0\n",
      "Item Description         0\n",
      "Pack                     0\n",
      "Bottle Volume (ml)       0\n",
      "State Bottle Cost        0\n",
      "State Bottle Retail      0\n",
      "Bottles Sold             0\n",
      "Sale (Dollars)           0\n",
      "Volume Sold (Liters)     0\n",
      "Volume Sold (Gallons)    0\n",
      "Year                     0\n",
      "dtype: int64\n",
      "Unnamed: 0               0\n",
      "Unnamed: 0.1             0\n",
      "Invoice/Item Number      0\n",
      "Date                     0\n",
      "Store Number             0\n",
      "Store Name               0\n",
      "Address                  0\n",
      "City                     0\n",
      "Zip Code                 0\n",
      "Store Location           0\n",
      "County Number            0\n",
      "County                   0\n",
      "Category                 0\n",
      "Category Name            0\n",
      "Vendor Number            0\n",
      "Vendor Name              0\n",
      "Item Number              0\n",
      "Item Description         0\n",
      "Pack                     0\n",
      "Bottle Volume (ml)       0\n",
      "State Bottle Cost        0\n",
      "State Bottle Retail      0\n",
      "Bottles Sold             0\n",
      "Sale (Dollars)           0\n",
      "Volume Sold (Liters)     0\n",
      "Volume Sold (Gallons)    0\n",
      "Year                     0\n",
      "dtype: int64\n",
      "Unnamed: 0               0\n",
      "Unnamed: 0.1             0\n",
      "Invoice/Item Number      0\n",
      "Date                     0\n",
      "Store Number             0\n",
      "Store Name               0\n",
      "Address                  0\n",
      "City                     0\n",
      "Zip Code                 0\n",
      "Store Location           0\n",
      "County Number            0\n",
      "County                   0\n",
      "Category                 0\n",
      "Category Name            0\n",
      "Vendor Number            0\n",
      "Vendor Name              0\n",
      "Item Number              0\n",
      "Item Description         0\n",
      "Pack                     0\n",
      "Bottle Volume (ml)       0\n",
      "State Bottle Cost        0\n",
      "State Bottle Retail      0\n",
      "Bottles Sold             0\n",
      "Sale (Dollars)           0\n",
      "Volume Sold (Liters)     0\n",
      "Volume Sold (Gallons)    0\n",
      "Year                     0\n",
      "dtype: int64\n"
     ]
    }
   ],
   "source": [
    "for i in f6:\n",
    "    print(i.isna().sum())"
   ]
  },
  {
   "cell_type": "markdown",
   "id": "e4278aa0",
   "metadata": {},
   "source": [
    "## Remove excess columns"
   ]
  },
  {
   "cell_type": "code",
   "execution_count": 82,
   "id": "83e8b3db",
   "metadata": {},
   "outputs": [
    {
     "data": {
      "text/plain": [
       "Index(['Unnamed: 0', 'Unnamed: 0.1', 'Unnamed: 0.1.1', 'Invoice/Item Number',\n",
       "       'Date', 'Store Number', 'Store Name', 'Address', 'City', 'Zip Code',\n",
       "       'Store Location', 'County Number', 'County', 'Category',\n",
       "       'Category Name', 'Vendor Number', 'Vendor Name', 'Item Number',\n",
       "       'Item Description', 'Pack', 'Bottle Volume (ml)', 'State Bottle Cost',\n",
       "       'State Bottle Retail', 'Bottles Sold', 'Sale (Dollars)',\n",
       "       'Volume Sold (Liters)', 'Volume Sold (Gallons)', 'Year'],\n",
       "      dtype='object')"
      ]
     },
     "execution_count": 82,
     "metadata": {},
     "output_type": "execute_result"
    }
   ],
   "source": [
    "f12.columns"
   ]
  },
  {
   "cell_type": "code",
   "execution_count": 17,
   "id": "820ab2e7",
   "metadata": {},
   "outputs": [],
   "source": [
    "f12=f12.reset_index(drop=True)"
   ]
  },
  {
   "cell_type": "code",
   "execution_count": 64,
   "id": "c82cf033",
   "metadata": {},
   "outputs": [],
   "source": [
    "# des moines dataset checkpoint save\n",
    "f12.to_csv('desmoines12.csv')\n",
    "f13.to_csv('desmoines13.csv')\n",
    "f14.to_csv('desmoines14.csv')\n",
    "f15.to_csv('desmoines15.csv')\n",
    "f16.to_csv('desmoines16.csv')\n",
    "f17.to_csv('desmoines17.csv')"
   ]
  },
  {
   "cell_type": "code",
   "execution_count": 73,
   "id": "802f1ae5",
   "metadata": {},
   "outputs": [],
   "source": [
    "#Checkpoint: read in all postloop files\n",
    "f12=pd.read_csv('C://Users//Owner//DA//Classwork//0 Activities//Final_Project//Final Cuts//Des_Moines_Liquor_Store//Jupyter Files//testrun//desmoines12.csv')\n",
    "f13=pd.read_csv('C://Users//Owner//DA//Classwork//0 Activities//Final_Project//Final Cuts//Des_Moines_Liquor_Store//Jupyter Files//testrun//desmoines13.csv')\n",
    "f14=pd.read_csv('C://Users//Owner//DA//Classwork//0 Activities//Final_Project//Final Cuts//Des_Moines_Liquor_Store//Jupyter Files//testrun//desmoines14.csv')\n",
    "f15=pd.read_csv('C://Users//Owner//DA//Classwork//0 Activities//Final_Project//Final Cuts//Des_Moines_Liquor_Store//Jupyter Files//testrun//desmoines15.csv')\n",
    "f16=pd.read_csv('C://Users//Owner//DA//Classwork//0 Activities//Final_Project//Final Cuts//Des_Moines_Liquor_Store//Jupyter Files//testrun//desmoines16.csv')\n",
    "f17=pd.read_csv('C://Users//Owner//DA//Classwork//0 Activities//Final_Project//Final Cuts//Des_Moines_Liquor_Store//Jupyter Files//testrun//desmoines17.csv')"
   ]
  },
  {
   "cell_type": "markdown",
   "id": "fc810fab",
   "metadata": {},
   "source": [
    "## First Column Cut\n",
    "\n",
    "#### Cut Criteria (each column must meet one of the following):\n",
    "#### - has 1 unique value (Unnamed: 0, Unnamed: 0.1, Invoice/Item Number)\n",
    "#### - has no repeating values (City, County Number, County)\n",
    "#### - has a 1:1 or ~1:1 relationship with a different column (Store Name, Address, Store Location, Category Name, Vendor Name, Volume Sold (Gallons))\n",
    "#### - sure to have no affect on total materal cost (State Bottle Retail, Sale (Dollars))"
   ]
  },
  {
   "cell_type": "code",
   "execution_count": 79,
   "id": "d7b7846b",
   "metadata": {},
   "outputs": [
    {
     "data": {
      "text/plain": [
       "Unnamed: 0               184093\n",
       "Unnamed: 0.1             184093\n",
       "Unnamed: 0.1.1           184093\n",
       "Invoice/Item Number      184093\n",
       "Date                        222\n",
       "Store Number                 75\n",
       "Store Name                   75\n",
       "Address                      74\n",
       "City                          1\n",
       "Zip Code                     13\n",
       "Store Location               75\n",
       "County Number                 1\n",
       "County                        1\n",
       "Category                     73\n",
       "Category Name                72\n",
       "Vendor Number               101\n",
       "Vendor Name                 101\n",
       "Item Number                2484\n",
       "Item Description           1772\n",
       "Pack                         12\n",
       "Bottle Volume (ml)           23\n",
       "State Bottle Cost          1395\n",
       "State Bottle Retail        1587\n",
       "Bottles Sold                 92\n",
       "Sale (Dollars)             6905\n",
       "Volume Sold (Liters)        204\n",
       "Volume Sold (Gallons)       200\n",
       "Year                          1\n",
       "dtype: int64"
      ]
     },
     "execution_count": 79,
     "metadata": {},
     "output_type": "execute_result"
    }
   ],
   "source": [
    "f12.nunique()"
   ]
  },
  {
   "cell_type": "code",
   "execution_count": 89,
   "id": "a5d54c3e",
   "metadata": {},
   "outputs": [
    {
     "ename": "KeyError",
     "evalue": "\"['Unnamed: 0' 'Unnamed: 0.1' 'Unnamed: 0.1.1' 'Invoice/Item Number'\\n 'Store Name' 'Address' 'City' 'Store Location' 'County Number' 'County'\\n 'Category Name' 'Vendor Name' 'Volume Sold (Gallons)'] not found in axis\"",
     "output_type": "error",
     "traceback": [
      "\u001b[1;31m---------------------------------------------------------------------------\u001b[0m",
      "\u001b[1;31mKeyError\u001b[0m                                  Traceback (most recent call last)",
      "\u001b[1;32m~\\AppData\\Local\\Temp/ipykernel_12232/913150580.py\u001b[0m in \u001b[0;36m<module>\u001b[1;34m\u001b[0m\n\u001b[1;32m----> 1\u001b[1;33m \u001b[0mf12\u001b[0m\u001b[1;33m=\u001b[0m\u001b[0mf12\u001b[0m\u001b[1;33m.\u001b[0m\u001b[0mdrop\u001b[0m\u001b[1;33m(\u001b[0m\u001b[1;33m[\u001b[0m\u001b[1;34m'Unnamed: 0'\u001b[0m\u001b[1;33m,\u001b[0m\u001b[1;34m'Unnamed: 0.1'\u001b[0m\u001b[1;33m,\u001b[0m\u001b[1;34m'Unnamed: 0.1.1'\u001b[0m\u001b[1;33m,\u001b[0m\u001b[1;34m'Invoice/Item Number'\u001b[0m\u001b[1;33m,\u001b[0m\u001b[1;34m'Store Name'\u001b[0m\u001b[1;33m,\u001b[0m\u001b[1;34m'Address'\u001b[0m\u001b[1;33m,\u001b[0m\u001b[1;34m'City'\u001b[0m\u001b[1;33m,\u001b[0m \u001b[1;34m'Store Location'\u001b[0m\u001b[1;33m,\u001b[0m\u001b[1;34m'County Number'\u001b[0m\u001b[1;33m,\u001b[0m\u001b[1;34m'County'\u001b[0m\u001b[1;33m,\u001b[0m\u001b[1;34m'Category Name'\u001b[0m\u001b[1;33m,\u001b[0m\u001b[1;34m'Vendor Name'\u001b[0m\u001b[1;33m,\u001b[0m\u001b[1;34m'Volume Sold (Gallons)'\u001b[0m\u001b[1;33m,\u001b[0m\u001b[1;34m'State Bottle Retail'\u001b[0m\u001b[1;33m,\u001b[0m\u001b[1;34m'Sale (Dollars)'\u001b[0m\u001b[1;33m]\u001b[0m \u001b[1;33m,\u001b[0m\u001b[0maxis\u001b[0m\u001b[1;33m=\u001b[0m\u001b[1;36m1\u001b[0m\u001b[1;33m)\u001b[0m\u001b[1;33m\u001b[0m\u001b[1;33m\u001b[0m\u001b[0m\n\u001b[0m\u001b[0;32m      2\u001b[0m \u001b[0mf13\u001b[0m\u001b[1;33m=\u001b[0m\u001b[0mf13\u001b[0m\u001b[1;33m.\u001b[0m\u001b[0mdrop\u001b[0m\u001b[1;33m(\u001b[0m\u001b[1;33m[\u001b[0m\u001b[1;34m'Unnamed: 0'\u001b[0m\u001b[1;33m,\u001b[0m\u001b[1;34m'Unnamed: 0.1'\u001b[0m\u001b[1;33m,\u001b[0m\u001b[1;34m'Unnamed: 0.1.1'\u001b[0m\u001b[1;33m,\u001b[0m\u001b[1;34m'Invoice/Item Number'\u001b[0m\u001b[1;33m,\u001b[0m\u001b[1;34m'Store Name'\u001b[0m\u001b[1;33m,\u001b[0m\u001b[1;34m'Address'\u001b[0m\u001b[1;33m,\u001b[0m\u001b[1;34m'City'\u001b[0m\u001b[1;33m,\u001b[0m \u001b[1;34m'Store Location'\u001b[0m\u001b[1;33m,\u001b[0m\u001b[1;34m'County Number'\u001b[0m\u001b[1;33m,\u001b[0m\u001b[1;34m'County'\u001b[0m\u001b[1;33m,\u001b[0m\u001b[1;34m'Category Name'\u001b[0m\u001b[1;33m,\u001b[0m\u001b[1;34m'Vendor Name'\u001b[0m\u001b[1;33m,\u001b[0m\u001b[1;34m'Volume Sold (Gallons)'\u001b[0m\u001b[1;33m,\u001b[0m\u001b[1;34m'State Bottle Retail'\u001b[0m\u001b[1;33m,\u001b[0m\u001b[1;34m'Sale (Dollars)'\u001b[0m\u001b[1;33m]\u001b[0m \u001b[1;33m,\u001b[0m\u001b[0maxis\u001b[0m\u001b[1;33m=\u001b[0m\u001b[1;36m1\u001b[0m\u001b[1;33m)\u001b[0m\u001b[1;33m\u001b[0m\u001b[1;33m\u001b[0m\u001b[0m\n\u001b[0;32m      3\u001b[0m \u001b[0mf14\u001b[0m\u001b[1;33m=\u001b[0m\u001b[0mf14\u001b[0m\u001b[1;33m.\u001b[0m\u001b[0mdrop\u001b[0m\u001b[1;33m(\u001b[0m\u001b[1;33m[\u001b[0m\u001b[1;34m'Unnamed: 0'\u001b[0m\u001b[1;33m,\u001b[0m\u001b[1;34m'Unnamed: 0.1'\u001b[0m\u001b[1;33m,\u001b[0m\u001b[1;34m'Unnamed: 0.1.1'\u001b[0m\u001b[1;33m,\u001b[0m\u001b[1;34m'Invoice/Item Number'\u001b[0m\u001b[1;33m,\u001b[0m\u001b[1;34m'Store Name'\u001b[0m\u001b[1;33m,\u001b[0m\u001b[1;34m'Address'\u001b[0m\u001b[1;33m,\u001b[0m\u001b[1;34m'City'\u001b[0m\u001b[1;33m,\u001b[0m \u001b[1;34m'Store Location'\u001b[0m\u001b[1;33m,\u001b[0m\u001b[1;34m'County Number'\u001b[0m\u001b[1;33m,\u001b[0m\u001b[1;34m'County'\u001b[0m\u001b[1;33m,\u001b[0m\u001b[1;34m'Category Name'\u001b[0m\u001b[1;33m,\u001b[0m\u001b[1;34m'Vendor Name'\u001b[0m\u001b[1;33m,\u001b[0m\u001b[1;34m'Volume Sold (Gallons)'\u001b[0m\u001b[1;33m,\u001b[0m\u001b[1;34m'State Bottle Retail'\u001b[0m\u001b[1;33m,\u001b[0m\u001b[1;34m'Sale (Dollars)'\u001b[0m\u001b[1;33m]\u001b[0m \u001b[1;33m,\u001b[0m\u001b[0maxis\u001b[0m\u001b[1;33m=\u001b[0m\u001b[1;36m1\u001b[0m\u001b[1;33m)\u001b[0m\u001b[1;33m\u001b[0m\u001b[1;33m\u001b[0m\u001b[0m\n\u001b[0;32m      4\u001b[0m \u001b[0mf15\u001b[0m\u001b[1;33m=\u001b[0m\u001b[0mf15\u001b[0m\u001b[1;33m.\u001b[0m\u001b[0mdrop\u001b[0m\u001b[1;33m(\u001b[0m\u001b[1;33m[\u001b[0m\u001b[1;34m'Unnamed: 0'\u001b[0m\u001b[1;33m,\u001b[0m\u001b[1;34m'Unnamed: 0.1'\u001b[0m\u001b[1;33m,\u001b[0m\u001b[1;34m'Unnamed: 0.1.1'\u001b[0m\u001b[1;33m,\u001b[0m\u001b[1;34m'Invoice/Item Number'\u001b[0m\u001b[1;33m,\u001b[0m\u001b[1;34m'Store Name'\u001b[0m\u001b[1;33m,\u001b[0m\u001b[1;34m'Address'\u001b[0m\u001b[1;33m,\u001b[0m\u001b[1;34m'City'\u001b[0m\u001b[1;33m,\u001b[0m \u001b[1;34m'Store Location'\u001b[0m\u001b[1;33m,\u001b[0m\u001b[1;34m'County Number'\u001b[0m\u001b[1;33m,\u001b[0m\u001b[1;34m'County'\u001b[0m\u001b[1;33m,\u001b[0m\u001b[1;34m'Category Name'\u001b[0m\u001b[1;33m,\u001b[0m\u001b[1;34m'Vendor Name'\u001b[0m\u001b[1;33m,\u001b[0m\u001b[1;34m'Volume Sold (Gallons)'\u001b[0m\u001b[1;33m,\u001b[0m\u001b[1;34m'State Bottle Retail'\u001b[0m\u001b[1;33m,\u001b[0m\u001b[1;34m'Sale (Dollars)'\u001b[0m\u001b[1;33m]\u001b[0m \u001b[1;33m,\u001b[0m\u001b[0maxis\u001b[0m\u001b[1;33m=\u001b[0m\u001b[1;36m1\u001b[0m\u001b[1;33m)\u001b[0m\u001b[1;33m\u001b[0m\u001b[1;33m\u001b[0m\u001b[0m\n\u001b[0;32m      5\u001b[0m \u001b[0mf16\u001b[0m\u001b[1;33m=\u001b[0m\u001b[0mf16\u001b[0m\u001b[1;33m.\u001b[0m\u001b[0mdrop\u001b[0m\u001b[1;33m(\u001b[0m\u001b[1;33m[\u001b[0m\u001b[1;34m'Unnamed: 0'\u001b[0m\u001b[1;33m,\u001b[0m\u001b[1;34m'Unnamed: 0.1'\u001b[0m\u001b[1;33m,\u001b[0m\u001b[1;34m'Unnamed: 0.1.1'\u001b[0m\u001b[1;33m,\u001b[0m\u001b[1;34m'Invoice/Item Number'\u001b[0m\u001b[1;33m,\u001b[0m\u001b[1;34m'Store Name'\u001b[0m\u001b[1;33m,\u001b[0m\u001b[1;34m'Address'\u001b[0m\u001b[1;33m,\u001b[0m\u001b[1;34m'City'\u001b[0m\u001b[1;33m,\u001b[0m \u001b[1;34m'Store Location'\u001b[0m\u001b[1;33m,\u001b[0m\u001b[1;34m'County Number'\u001b[0m\u001b[1;33m,\u001b[0m\u001b[1;34m'County'\u001b[0m\u001b[1;33m,\u001b[0m\u001b[1;34m'Category Name'\u001b[0m\u001b[1;33m,\u001b[0m\u001b[1;34m'Vendor Name'\u001b[0m\u001b[1;33m,\u001b[0m\u001b[1;34m'Volume Sold (Gallons)'\u001b[0m\u001b[1;33m,\u001b[0m\u001b[1;34m'State Bottle Retail'\u001b[0m\u001b[1;33m,\u001b[0m\u001b[1;34m'Sale (Dollars)'\u001b[0m\u001b[1;33m]\u001b[0m \u001b[1;33m,\u001b[0m\u001b[0maxis\u001b[0m\u001b[1;33m=\u001b[0m\u001b[1;36m1\u001b[0m\u001b[1;33m)\u001b[0m\u001b[1;33m\u001b[0m\u001b[1;33m\u001b[0m\u001b[0m\n",
      "\u001b[1;32m~\\anaconda3\\lib\\site-packages\\pandas\\util\\_decorators.py\u001b[0m in \u001b[0;36mwrapper\u001b[1;34m(*args, **kwargs)\u001b[0m\n\u001b[0;32m    309\u001b[0m                     \u001b[0mstacklevel\u001b[0m\u001b[1;33m=\u001b[0m\u001b[0mstacklevel\u001b[0m\u001b[1;33m,\u001b[0m\u001b[1;33m\u001b[0m\u001b[1;33m\u001b[0m\u001b[0m\n\u001b[0;32m    310\u001b[0m                 )\n\u001b[1;32m--> 311\u001b[1;33m             \u001b[1;32mreturn\u001b[0m \u001b[0mfunc\u001b[0m\u001b[1;33m(\u001b[0m\u001b[1;33m*\u001b[0m\u001b[0margs\u001b[0m\u001b[1;33m,\u001b[0m \u001b[1;33m**\u001b[0m\u001b[0mkwargs\u001b[0m\u001b[1;33m)\u001b[0m\u001b[1;33m\u001b[0m\u001b[1;33m\u001b[0m\u001b[0m\n\u001b[0m\u001b[0;32m    312\u001b[0m \u001b[1;33m\u001b[0m\u001b[0m\n\u001b[0;32m    313\u001b[0m         \u001b[1;32mreturn\u001b[0m \u001b[0mwrapper\u001b[0m\u001b[1;33m\u001b[0m\u001b[1;33m\u001b[0m\u001b[0m\n",
      "\u001b[1;32m~\\anaconda3\\lib\\site-packages\\pandas\\core\\frame.py\u001b[0m in \u001b[0;36mdrop\u001b[1;34m(self, labels, axis, index, columns, level, inplace, errors)\u001b[0m\n\u001b[0;32m   4904\u001b[0m                 \u001b[0mweight\u001b[0m  \u001b[1;36m1.0\u001b[0m     \u001b[1;36m0.8\u001b[0m\u001b[1;33m\u001b[0m\u001b[1;33m\u001b[0m\u001b[0m\n\u001b[0;32m   4905\u001b[0m         \"\"\"\n\u001b[1;32m-> 4906\u001b[1;33m         return super().drop(\n\u001b[0m\u001b[0;32m   4907\u001b[0m             \u001b[0mlabels\u001b[0m\u001b[1;33m=\u001b[0m\u001b[0mlabels\u001b[0m\u001b[1;33m,\u001b[0m\u001b[1;33m\u001b[0m\u001b[1;33m\u001b[0m\u001b[0m\n\u001b[0;32m   4908\u001b[0m             \u001b[0maxis\u001b[0m\u001b[1;33m=\u001b[0m\u001b[0maxis\u001b[0m\u001b[1;33m,\u001b[0m\u001b[1;33m\u001b[0m\u001b[1;33m\u001b[0m\u001b[0m\n",
      "\u001b[1;32m~\\anaconda3\\lib\\site-packages\\pandas\\core\\generic.py\u001b[0m in \u001b[0;36mdrop\u001b[1;34m(self, labels, axis, index, columns, level, inplace, errors)\u001b[0m\n\u001b[0;32m   4148\u001b[0m         \u001b[1;32mfor\u001b[0m \u001b[0maxis\u001b[0m\u001b[1;33m,\u001b[0m \u001b[0mlabels\u001b[0m \u001b[1;32min\u001b[0m \u001b[0maxes\u001b[0m\u001b[1;33m.\u001b[0m\u001b[0mitems\u001b[0m\u001b[1;33m(\u001b[0m\u001b[1;33m)\u001b[0m\u001b[1;33m:\u001b[0m\u001b[1;33m\u001b[0m\u001b[1;33m\u001b[0m\u001b[0m\n\u001b[0;32m   4149\u001b[0m             \u001b[1;32mif\u001b[0m \u001b[0mlabels\u001b[0m \u001b[1;32mis\u001b[0m \u001b[1;32mnot\u001b[0m \u001b[1;32mNone\u001b[0m\u001b[1;33m:\u001b[0m\u001b[1;33m\u001b[0m\u001b[1;33m\u001b[0m\u001b[0m\n\u001b[1;32m-> 4150\u001b[1;33m                 \u001b[0mobj\u001b[0m \u001b[1;33m=\u001b[0m \u001b[0mobj\u001b[0m\u001b[1;33m.\u001b[0m\u001b[0m_drop_axis\u001b[0m\u001b[1;33m(\u001b[0m\u001b[0mlabels\u001b[0m\u001b[1;33m,\u001b[0m \u001b[0maxis\u001b[0m\u001b[1;33m,\u001b[0m \u001b[0mlevel\u001b[0m\u001b[1;33m=\u001b[0m\u001b[0mlevel\u001b[0m\u001b[1;33m,\u001b[0m \u001b[0merrors\u001b[0m\u001b[1;33m=\u001b[0m\u001b[0merrors\u001b[0m\u001b[1;33m)\u001b[0m\u001b[1;33m\u001b[0m\u001b[1;33m\u001b[0m\u001b[0m\n\u001b[0m\u001b[0;32m   4151\u001b[0m \u001b[1;33m\u001b[0m\u001b[0m\n\u001b[0;32m   4152\u001b[0m         \u001b[1;32mif\u001b[0m \u001b[0minplace\u001b[0m\u001b[1;33m:\u001b[0m\u001b[1;33m\u001b[0m\u001b[1;33m\u001b[0m\u001b[0m\n",
      "\u001b[1;32m~\\anaconda3\\lib\\site-packages\\pandas\\core\\generic.py\u001b[0m in \u001b[0;36m_drop_axis\u001b[1;34m(self, labels, axis, level, errors)\u001b[0m\n\u001b[0;32m   4183\u001b[0m                 \u001b[0mnew_axis\u001b[0m \u001b[1;33m=\u001b[0m \u001b[0maxis\u001b[0m\u001b[1;33m.\u001b[0m\u001b[0mdrop\u001b[0m\u001b[1;33m(\u001b[0m\u001b[0mlabels\u001b[0m\u001b[1;33m,\u001b[0m \u001b[0mlevel\u001b[0m\u001b[1;33m=\u001b[0m\u001b[0mlevel\u001b[0m\u001b[1;33m,\u001b[0m \u001b[0merrors\u001b[0m\u001b[1;33m=\u001b[0m\u001b[0merrors\u001b[0m\u001b[1;33m)\u001b[0m\u001b[1;33m\u001b[0m\u001b[1;33m\u001b[0m\u001b[0m\n\u001b[0;32m   4184\u001b[0m             \u001b[1;32melse\u001b[0m\u001b[1;33m:\u001b[0m\u001b[1;33m\u001b[0m\u001b[1;33m\u001b[0m\u001b[0m\n\u001b[1;32m-> 4185\u001b[1;33m                 \u001b[0mnew_axis\u001b[0m \u001b[1;33m=\u001b[0m \u001b[0maxis\u001b[0m\u001b[1;33m.\u001b[0m\u001b[0mdrop\u001b[0m\u001b[1;33m(\u001b[0m\u001b[0mlabels\u001b[0m\u001b[1;33m,\u001b[0m \u001b[0merrors\u001b[0m\u001b[1;33m=\u001b[0m\u001b[0merrors\u001b[0m\u001b[1;33m)\u001b[0m\u001b[1;33m\u001b[0m\u001b[1;33m\u001b[0m\u001b[0m\n\u001b[0m\u001b[0;32m   4186\u001b[0m             \u001b[0mresult\u001b[0m \u001b[1;33m=\u001b[0m \u001b[0mself\u001b[0m\u001b[1;33m.\u001b[0m\u001b[0mreindex\u001b[0m\u001b[1;33m(\u001b[0m\u001b[1;33m**\u001b[0m\u001b[1;33m{\u001b[0m\u001b[0maxis_name\u001b[0m\u001b[1;33m:\u001b[0m \u001b[0mnew_axis\u001b[0m\u001b[1;33m}\u001b[0m\u001b[1;33m)\u001b[0m\u001b[1;33m\u001b[0m\u001b[1;33m\u001b[0m\u001b[0m\n\u001b[0;32m   4187\u001b[0m \u001b[1;33m\u001b[0m\u001b[0m\n",
      "\u001b[1;32m~\\anaconda3\\lib\\site-packages\\pandas\\core\\indexes\\base.py\u001b[0m in \u001b[0;36mdrop\u001b[1;34m(self, labels, errors)\u001b[0m\n\u001b[0;32m   6015\u001b[0m         \u001b[1;32mif\u001b[0m \u001b[0mmask\u001b[0m\u001b[1;33m.\u001b[0m\u001b[0many\u001b[0m\u001b[1;33m(\u001b[0m\u001b[1;33m)\u001b[0m\u001b[1;33m:\u001b[0m\u001b[1;33m\u001b[0m\u001b[1;33m\u001b[0m\u001b[0m\n\u001b[0;32m   6016\u001b[0m             \u001b[1;32mif\u001b[0m \u001b[0merrors\u001b[0m \u001b[1;33m!=\u001b[0m \u001b[1;34m\"ignore\"\u001b[0m\u001b[1;33m:\u001b[0m\u001b[1;33m\u001b[0m\u001b[1;33m\u001b[0m\u001b[0m\n\u001b[1;32m-> 6017\u001b[1;33m                 \u001b[1;32mraise\u001b[0m \u001b[0mKeyError\u001b[0m\u001b[1;33m(\u001b[0m\u001b[1;34mf\"{labels[mask]} not found in axis\"\u001b[0m\u001b[1;33m)\u001b[0m\u001b[1;33m\u001b[0m\u001b[1;33m\u001b[0m\u001b[0m\n\u001b[0m\u001b[0;32m   6018\u001b[0m             \u001b[0mindexer\u001b[0m \u001b[1;33m=\u001b[0m \u001b[0mindexer\u001b[0m\u001b[1;33m[\u001b[0m\u001b[1;33m~\u001b[0m\u001b[0mmask\u001b[0m\u001b[1;33m]\u001b[0m\u001b[1;33m\u001b[0m\u001b[1;33m\u001b[0m\u001b[0m\n\u001b[0;32m   6019\u001b[0m         \u001b[1;32mreturn\u001b[0m \u001b[0mself\u001b[0m\u001b[1;33m.\u001b[0m\u001b[0mdelete\u001b[0m\u001b[1;33m(\u001b[0m\u001b[0mindexer\u001b[0m\u001b[1;33m)\u001b[0m\u001b[1;33m\u001b[0m\u001b[1;33m\u001b[0m\u001b[0m\n",
      "\u001b[1;31mKeyError\u001b[0m: \"['Unnamed: 0' 'Unnamed: 0.1' 'Unnamed: 0.1.1' 'Invoice/Item Number'\\n 'Store Name' 'Address' 'City' 'Store Location' 'County Number' 'County'\\n 'Category Name' 'Vendor Name' 'Volume Sold (Gallons)'] not found in axis\""
     ]
    }
   ],
   "source": [
    "f12=f12.drop(['Unnamed: 0','Unnamed: 0.1','Unnamed: 0.1.1','Invoice/Item Number','Store Name','Address','City', 'Store Location','County Number','County','Category Name','Vendor Name','Volume Sold (Gallons)','State Bottle Retail','Sale (Dollars)'] ,axis=1)\n",
    "f13=f13.drop(['Unnamed: 0','Unnamed: 0.1','Unnamed: 0.1.1','Invoice/Item Number','Store Name','Address','City', 'Store Location','County Number','County','Category Name','Vendor Name','Volume Sold (Gallons)','State Bottle Retail','Sale (Dollars)'] ,axis=1)\n",
    "f14=f14.drop(['Unnamed: 0','Unnamed: 0.1','Unnamed: 0.1.1','Invoice/Item Number','Store Name','Address','City', 'Store Location','County Number','County','Category Name','Vendor Name','Volume Sold (Gallons)','State Bottle Retail','Sale (Dollars)'] ,axis=1)\n",
    "f15=f15.drop(['Unnamed: 0','Unnamed: 0.1','Unnamed: 0.1.1','Invoice/Item Number','Store Name','Address','City', 'Store Location','County Number','County','Category Name','Vendor Name','Volume Sold (Gallons)','State Bottle Retail','Sale (Dollars)'] ,axis=1)\n",
    "f16=f16.drop(['Unnamed: 0','Unnamed: 0.1','Unnamed: 0.1.1','Invoice/Item Number','Store Name','Address','City', 'Store Location','County Number','County','Category Name','Vendor Name','Volume Sold (Gallons)','State Bottle Retail','Sale (Dollars)'] ,axis=1)\n",
    "f17=f17.drop(['Unnamed: 0','Unnamed: 0.1','Unnamed: 0.1.1','Invoice/Item Number','Store Name','Address','City', 'Store Location','County Number','County','Category Name','Vendor Name','Volume Sold (Gallons)','State Bottle Retail','Sale (Dollars)'] ,axis=1)"
   ]
  },
  {
   "cell_type": "code",
   "execution_count": 96,
   "id": "798d3b31",
   "metadata": {},
   "outputs": [
    {
     "name": "stdout",
     "output_type": "stream",
     "text": [
      "(184093, 13)\n",
      "(182353, 13)\n",
      "(191156, 13)\n",
      "(190916, 13)\n",
      "(202139, 13)\n",
      "(168223, 13)\n"
     ]
    }
   ],
   "source": [
    "f6=(f12,f13,f14,f15,f16,f17)\n",
    "for i in f6:\n",
    "    print(i.shape)"
   ]
  },
  {
   "cell_type": "code",
   "execution_count": 98,
   "id": "511fbf47",
   "metadata": {},
   "outputs": [
    {
     "data": {
      "text/plain": [
       "Date                     222\n",
       "Store Number              75\n",
       "Zip Code                  13\n",
       "Category                  73\n",
       "Vendor Number            101\n",
       "Item Number             2484\n",
       "Item Description        1772\n",
       "Pack                      12\n",
       "Bottle Volume (ml)        23\n",
       "State Bottle Cost       1395\n",
       "Bottles Sold              92\n",
       "Volume Sold (Liters)     204\n",
       "Year                       1\n",
       "dtype: int64"
      ]
     },
     "execution_count": 98,
     "metadata": {},
     "output_type": "execute_result"
    }
   ],
   "source": [
    "f12.nunique()"
   ]
  },
  {
   "cell_type": "code",
   "execution_count": 100,
   "id": "6d48a376",
   "metadata": {},
   "outputs": [],
   "source": [
    "# des moines dataset checkpoint save\n",
    "f12.to_csv('firstcut12.csv')\n",
    "f13.to_csv('firstcut13.csv')\n",
    "f14.to_csv('firstcut14.csv')\n",
    "f15.to_csv('firstcut15.csv')\n",
    "f16.to_csv('firstcut16.csv')\n",
    "f17.to_csv('firstcut17.csv')"
   ]
  },
  {
   "cell_type": "markdown",
   "id": "aef2e3ed",
   "metadata": {},
   "source": [
    "# ***"
   ]
  },
  {
   "cell_type": "code",
   "execution_count": 87,
   "id": "1b09b155",
   "metadata": {},
   "outputs": [],
   "source": [
    "#Checkpoint: read in all postloop files\n",
    "fc12=pd.read_csv('C://Users//Owner//DA//Classwork//0 Activities//Final_Project//Final Cuts//Des_Moines_Liquor_Store//Jupyter Files//testrun//firstcut12.csv')\n",
    "fc13=pd.read_csv('C://Users//Owner//DA//Classwork//0 Activities//Final_Project//Final Cuts//Des_Moines_Liquor_Store//Jupyter Files//testrun//firstcut13.csv')\n",
    "fc14=pd.read_csv('C://Users//Owner//DA//Classwork//0 Activities//Final_Project//Final Cuts//Des_Moines_Liquor_Store//Jupyter Files//testrun//firstcut14.csv')\n",
    "fc15=pd.read_csv('C://Users//Owner//DA//Classwork//0 Activities//Final_Project//Final Cuts//Des_Moines_Liquor_Store//Jupyter Files//testrun//firstcut15.csv')\n",
    "fc16=pd.read_csv('C://Users//Owner//DA//Classwork//0 Activities//Final_Project//Final Cuts//Des_Moines_Liquor_Store//Jupyter Files//testrun//firstcut16.csv')\n",
    "fc17=pd.read_csv('C://Users//Owner//DA//Classwork//0 Activities//Final_Project//Final Cuts//Des_Moines_Liquor_Store//Jupyter Files//testrun//firstcut17.csv')"
   ]
  },
  {
   "cell_type": "markdown",
   "id": "0c771036",
   "metadata": {},
   "source": [
    "## Next: attempt to find relationships in remaining data including\n",
    "### - bottle mL, bottle sold/pack, volume sold L\n",
    "### - vendor number, item number?, item description, state bottle cost"
   ]
  },
  {
   "cell_type": "code",
   "execution_count": null,
   "id": "3f500083",
   "metadata": {},
   "outputs": [],
   "source": [
    "fc12.columns"
   ]
  },
  {
   "cell_type": "code",
   "execution_count": 94,
   "id": "ed3bc802",
   "metadata": {},
   "outputs": [],
   "source": [
    "fc12=fc12.drop(['Unnamed: 0'] ,axis=1)\n",
    "fc13=fc13.drop(['Unnamed: 0'] ,axis=1)\n",
    "fc14=fc14.drop(['Unnamed: 0'] ,axis=1)\n",
    "fc15=fc15.drop(['Unnamed: 0'] ,axis=1)\n",
    "fc16=fc16.drop(['Unnamed: 0'] ,axis=1)\n",
    "fc17=fc17.drop(['Unnamed: 0'] ,axis=1)"
   ]
  },
  {
   "cell_type": "code",
   "execution_count": 99,
   "id": "dc0f9f45",
   "metadata": {},
   "outputs": [
    {
     "name": "stdout",
     "output_type": "stream",
     "text": [
      "Date                     object\n",
      "Store Number              int64\n",
      "Zip Code                  int64\n",
      "Category                float64\n",
      "Vendor Number           float64\n",
      "Item Number               int64\n",
      "Item Description         object\n",
      "Pack                      int64\n",
      "Bottle Volume (ml)        int64\n",
      "State Bottle Cost       float64\n",
      "Bottles Sold              int64\n",
      "Volume Sold (Liters)    float64\n",
      "Year                      int64\n",
      "dtype: object Date                     object\n",
      "Store Number              int64\n",
      "Zip Code                  int64\n",
      "Category                float64\n",
      "Vendor Number           float64\n",
      "Item Number               int64\n",
      "Item Description         object\n",
      "Pack                      int64\n",
      "Bottle Volume (ml)        int64\n",
      "State Bottle Cost       float64\n",
      "Bottles Sold              int64\n",
      "Volume Sold (Liters)    float64\n",
      "Year                      int64\n",
      "dtype: object Date                     object\n",
      "Store Number              int64\n",
      "Zip Code                  int64\n",
      "Category                float64\n",
      "Vendor Number           float64\n",
      "Item Number               int64\n",
      "Item Description         object\n",
      "Pack                      int64\n",
      "Bottle Volume (ml)        int64\n",
      "State Bottle Cost       float64\n",
      "Bottles Sold              int64\n",
      "Volume Sold (Liters)    float64\n",
      "Year                      int64\n",
      "dtype: object Date                     object\n",
      "Store Number              int64\n",
      "Zip Code                  int64\n",
      "Category                float64\n",
      "Vendor Number           float64\n",
      "Item Number               int64\n",
      "Item Description         object\n",
      "Pack                      int64\n",
      "Bottle Volume (ml)        int64\n",
      "State Bottle Cost       float64\n",
      "Bottles Sold              int64\n",
      "Volume Sold (Liters)    float64\n",
      "Year                      int64\n",
      "dtype: object Date                     object\n",
      "Store Number              int64\n",
      "Zip Code                float64\n",
      "Category                float64\n",
      "Vendor Number           float64\n",
      "Item Number               int64\n",
      "Item Description         object\n",
      "Pack                      int64\n",
      "Bottle Volume (ml)        int64\n",
      "State Bottle Cost       float64\n",
      "Bottles Sold              int64\n",
      "Volume Sold (Liters)    float64\n",
      "Year                      int64\n",
      "dtype: object Date                     object\n",
      "Store Number              int64\n",
      "Zip Code                float64\n",
      "Category                float64\n",
      "Vendor Number           float64\n",
      "Item Number               int64\n",
      "Item Description         object\n",
      "Pack                      int64\n",
      "Bottle Volume (ml)        int64\n",
      "State Bottle Cost       float64\n",
      "Bottles Sold              int64\n",
      "Volume Sold (Liters)    float64\n",
      "Year                      int64\n",
      "dtype: object\n"
     ]
    }
   ],
   "source": [
    "print(fc12.dtypes,fc13.dtypes,fc14.dtypes,fc15.dtypes,fc16.dtypes,fc17.dtypes)"
   ]
  },
  {
   "cell_type": "markdown",
   "id": "2ddc19bf",
   "metadata": {},
   "source": [
    "# ***"
   ]
  },
  {
   "cell_type": "code",
   "execution_count": null,
   "id": "75df2c7b",
   "metadata": {},
   "outputs": [],
   "source": [
    "#Columns with numbers are automatically saved as numerical types despite dtype to conserve memory space. Thus, dtypes must\n",
    "#be altered each time files are imported\n",
    "fc6 = (fc12,fc13,fc14,fc15,fc16,fc17)\n",
    "counter = 12\n",
    "for i in f6:\n",
    "    print(counter)\n",
    "    counter+=1\n",
    "    i['Date']=pd.to_datetime(i['Date'])\n",
    "    i['Store Number']=i['Store Number'].astype(str)\n",
    "    i['Zip Code']=i['Zip Code'].astype(str)\n",
    "    i['Category']=i['Category'].astype(str)\n",
    "    i['Vendor Number']=i['Vendor Number'].astype(str)"
   ]
  },
  {
   "cell_type": "code",
   "execution_count": 95,
   "id": "f4e9efe2",
   "metadata": {},
   "outputs": [
    {
     "name": "stdout",
     "output_type": "stream",
     "text": [
      "Date                     object\n",
      "Store Number              int64\n",
      "Zip Code                  int64\n",
      "Category                float64\n",
      "Vendor Number           float64\n",
      "Item Number               int64\n",
      "Item Description         object\n",
      "Pack                      int64\n",
      "Bottle Volume (ml)        int64\n",
      "State Bottle Cost       float64\n",
      "Bottles Sold              int64\n",
      "Volume Sold (Liters)    float64\n",
      "Year                      int64\n",
      "dtype: object Date                     object\n",
      "Store Number              int64\n",
      "Zip Code                  int64\n",
      "Category                float64\n",
      "Vendor Number           float64\n",
      "Item Number               int64\n",
      "Item Description         object\n",
      "Pack                      int64\n",
      "Bottle Volume (ml)        int64\n",
      "State Bottle Cost       float64\n",
      "Bottles Sold              int64\n",
      "Volume Sold (Liters)    float64\n",
      "Year                      int64\n",
      "dtype: object Date                     object\n",
      "Store Number              int64\n",
      "Zip Code                  int64\n",
      "Category                float64\n",
      "Vendor Number           float64\n",
      "Item Number               int64\n",
      "Item Description         object\n",
      "Pack                      int64\n",
      "Bottle Volume (ml)        int64\n",
      "State Bottle Cost       float64\n",
      "Bottles Sold              int64\n",
      "Volume Sold (Liters)    float64\n",
      "Year                      int64\n",
      "dtype: object Date                     object\n",
      "Store Number              int64\n",
      "Zip Code                  int64\n",
      "Category                float64\n",
      "Vendor Number           float64\n",
      "Item Number               int64\n",
      "Item Description         object\n",
      "Pack                      int64\n",
      "Bottle Volume (ml)        int64\n",
      "State Bottle Cost       float64\n",
      "Bottles Sold              int64\n",
      "Volume Sold (Liters)    float64\n",
      "Year                      int64\n",
      "dtype: object Date                     object\n",
      "Store Number              int64\n",
      "Zip Code                float64\n",
      "Category                float64\n",
      "Vendor Number           float64\n",
      "Item Number               int64\n",
      "Item Description         object\n",
      "Pack                      int64\n",
      "Bottle Volume (ml)        int64\n",
      "State Bottle Cost       float64\n",
      "Bottles Sold              int64\n",
      "Volume Sold (Liters)    float64\n",
      "Year                      int64\n",
      "dtype: object Date                     object\n",
      "Store Number              int64\n",
      "Zip Code                float64\n",
      "Category                float64\n",
      "Vendor Number           float64\n",
      "Item Number               int64\n",
      "Item Description         object\n",
      "Pack                      int64\n",
      "Bottle Volume (ml)        int64\n",
      "State Bottle Cost       float64\n",
      "Bottles Sold              int64\n",
      "Volume Sold (Liters)    float64\n",
      "Year                      int64\n",
      "dtype: object\n"
     ]
    }
   ],
   "source": [
    "print(fc12.dtypes,fc13.dtypes,fc14.dtypes,fc15.dtypes,fc16.dtypes,fc17.dtypes)"
   ]
  },
  {
   "cell_type": "markdown",
   "id": "d0a830c5",
   "metadata": {},
   "source": [
    "### Are unique Item Description, Item Number, State Bottle Cost, State Bottle Retail values occuring in the same pattern?"
   ]
  },
  {
   "cell_type": "code",
   "execution_count": 45,
   "id": "c2c6f047",
   "metadata": {},
   "outputs": [
    {
     "data": {
      "text/plain": [
       "1772"
      ]
     },
     "execution_count": 45,
     "metadata": {},
     "output_type": "execute_result"
    }
   ],
   "source": [
    "f12['Item Description'].nunique()"
   ]
  },
  {
   "cell_type": "code",
   "execution_count": 46,
   "id": "70fadf7d",
   "metadata": {},
   "outputs": [
    {
     "data": {
      "text/plain": [
       "2484"
      ]
     },
     "execution_count": 46,
     "metadata": {},
     "output_type": "execute_result"
    }
   ],
   "source": [
    "f12['Item Number'].nunique()"
   ]
  },
  {
   "cell_type": "code",
   "execution_count": 47,
   "id": "e891d871",
   "metadata": {},
   "outputs": [
    {
     "data": {
      "text/plain": [
       "1395"
      ]
     },
     "execution_count": 47,
     "metadata": {},
     "output_type": "execute_result"
    }
   ],
   "source": [
    "f12['State Bottle Cost'].nunique()"
   ]
  },
  {
   "cell_type": "markdown",
   "id": "7ec1faa3",
   "metadata": {},
   "source": [
    "### no they are not: they have individual value in the data"
   ]
  },
  {
   "cell_type": "markdown",
   "id": "ca567f97",
   "metadata": {},
   "source": [
    "### Need to see if different Item Numbers means different sale/cost values per item"
   ]
  },
  {
   "cell_type": "code",
   "execution_count": 52,
   "id": "c8699e80",
   "metadata": {},
   "outputs": [],
   "source": [
    "#'iddf'-> 'Item Description DataFrame'\n",
    "iddf=f12[['Item Description','Item Number','State Bottle Cost',\n",
    "       'State Bottle Retail','Vendor Number']]"
   ]
  },
  {
   "cell_type": "code",
   "execution_count": 53,
   "id": "d42ee207",
   "metadata": {},
   "outputs": [
    {
     "data": {
      "text/plain": [
       "1772"
      ]
     },
     "execution_count": 53,
     "metadata": {},
     "output_type": "execute_result"
    }
   ],
   "source": [
    "f12['Item Description'].nunique()"
   ]
  },
  {
   "cell_type": "code",
   "execution_count": 54,
   "id": "a7820543",
   "metadata": {},
   "outputs": [
    {
     "name": "stderr",
     "output_type": "stream",
     "text": [
      "C:\\Users\\Owner\\anaconda3\\lib\\site-packages\\pandas\\util\\_decorators.py:311: SettingWithCopyWarning: \n",
      "A value is trying to be set on a copy of a slice from a DataFrame\n",
      "\n",
      "See the caveats in the documentation: https://pandas.pydata.org/pandas-docs/stable/user_guide/indexing.html#returning-a-view-versus-a-copy\n",
      "  return func(*args, **kwargs)\n"
     ]
    }
   ],
   "source": [
    "iddf.drop_duplicates(subset=['Item Number'],inplace=True)"
   ]
  },
  {
   "cell_type": "code",
   "execution_count": 55,
   "id": "b987e1f7",
   "metadata": {},
   "outputs": [
    {
     "data": {
      "text/plain": [
       "1772"
      ]
     },
     "execution_count": 55,
     "metadata": {},
     "output_type": "execute_result"
    }
   ],
   "source": [
    "f12['Item Description'].nunique()"
   ]
  },
  {
   "cell_type": "code",
   "execution_count": 57,
   "id": "aa15b537",
   "metadata": {},
   "outputs": [
    {
     "data": {
      "text/plain": [
       "2484"
      ]
     },
     "execution_count": 57,
     "metadata": {},
     "output_type": "execute_result"
    }
   ],
   "source": [
    "f12['Item Number'].nunique()"
   ]
  },
  {
   "cell_type": "code",
   "execution_count": 58,
   "id": "854d2cc9",
   "metadata": {},
   "outputs": [
    {
     "data": {
      "text/plain": [
       "101"
      ]
     },
     "execution_count": 58,
     "metadata": {},
     "output_type": "execute_result"
    }
   ],
   "source": [
    "f12['Vendor Number'].nunique()"
   ]
  },
  {
   "cell_type": "code",
   "execution_count": 59,
   "id": "5ed638e8",
   "metadata": {},
   "outputs": [
    {
     "data": {
      "text/plain": [
       "1395"
      ]
     },
     "execution_count": 59,
     "metadata": {},
     "output_type": "execute_result"
    }
   ],
   "source": [
    "f12['State Bottle Cost'].nunique()"
   ]
  },
  {
   "cell_type": "code",
   "execution_count": 56,
   "id": "b45829e1",
   "metadata": {},
   "outputs": [
    {
     "data": {
      "text/plain": [
       "2484"
      ]
     },
     "execution_count": 56,
     "metadata": {},
     "output_type": "execute_result"
    }
   ],
   "source": [
    "len(iddf)"
   ]
  },
  {
   "cell_type": "code",
   "execution_count": 61,
   "id": "8f2593bf",
   "metadata": {},
   "outputs": [
    {
     "data": {
      "text/plain": [
       "1587"
      ]
     },
     "execution_count": 61,
     "metadata": {},
     "output_type": "execute_result"
    }
   ],
   "source": [
    "f12['State Bottle Retail'].nunique()"
   ]
  },
  {
   "cell_type": "code",
   "execution_count": 214,
   "id": "9587f4c7",
   "metadata": {},
   "outputs": [
    {
     "data": {
      "text/html": [
       "<div>\n",
       "<style scoped>\n",
       "    .dataframe tbody tr th:only-of-type {\n",
       "        vertical-align: middle;\n",
       "    }\n",
       "\n",
       "    .dataframe tbody tr th {\n",
       "        vertical-align: top;\n",
       "    }\n",
       "\n",
       "    .dataframe thead th {\n",
       "        text-align: right;\n",
       "    }\n",
       "</style>\n",
       "<table border=\"1\" class=\"dataframe\">\n",
       "  <thead>\n",
       "    <tr style=\"text-align: right;\">\n",
       "      <th></th>\n",
       "      <th>Item Description</th>\n",
       "      <th>Item Number</th>\n",
       "      <th>State Bottle Cost</th>\n",
       "      <th>State Bottle Retail</th>\n",
       "      <th>Vendor Number</th>\n",
       "    </tr>\n",
       "  </thead>\n",
       "  <tbody>\n",
       "    <tr>\n",
       "      <th>0</th>\n",
       "      <td>Jagermeister Liqueur</td>\n",
       "      <td>65256</td>\n",
       "      <td>11.58</td>\n",
       "      <td>17.37</td>\n",
       "      <td>192.0</td>\n",
       "    </tr>\n",
       "    <tr>\n",
       "      <th>1</th>\n",
       "      <td>J &amp; B Rare Scotch</td>\n",
       "      <td>5289</td>\n",
       "      <td>14.98</td>\n",
       "      <td>22.47</td>\n",
       "      <td>260.0</td>\n",
       "    </tr>\n",
       "    <tr>\n",
       "      <th>2</th>\n",
       "      <td>Bacardi Gold Rum</td>\n",
       "      <td>43038</td>\n",
       "      <td>14.67</td>\n",
       "      <td>22.00</td>\n",
       "      <td>35.0</td>\n",
       "    </tr>\n",
       "    <tr>\n",
       "      <th>3</th>\n",
       "      <td>Tanqueray Gin</td>\n",
       "      <td>28866</td>\n",
       "      <td>12.00</td>\n",
       "      <td>17.99</td>\n",
       "      <td>260.0</td>\n",
       "    </tr>\n",
       "    <tr>\n",
       "      <th>4</th>\n",
       "      <td>Williams Pear Brandy</td>\n",
       "      <td>901167</td>\n",
       "      <td>19.87</td>\n",
       "      <td>29.81</td>\n",
       "      <td>885.0</td>\n",
       "    </tr>\n",
       "    <tr>\n",
       "      <th>...</th>\n",
       "      <td>...</td>\n",
       "      <td>...</td>\n",
       "      <td>...</td>\n",
       "      <td>...</td>\n",
       "      <td>...</td>\n",
       "    </tr>\n",
       "    <tr>\n",
       "      <th>2479</th>\n",
       "      <td>Ardbeg Uigeadail</td>\n",
       "      <td>902707</td>\n",
       "      <td>51.98</td>\n",
       "      <td>77.97</td>\n",
       "      <td>420.0</td>\n",
       "    </tr>\n",
       "    <tr>\n",
       "      <th>2480</th>\n",
       "      <td>Grappa Chianti Classico</td>\n",
       "      <td>901662</td>\n",
       "      <td>4.28</td>\n",
       "      <td>6.42</td>\n",
       "      <td>885.0</td>\n",
       "    </tr>\n",
       "    <tr>\n",
       "      <th>2481</th>\n",
       "      <td>Rogue Pink Spruce Gin</td>\n",
       "      <td>904562</td>\n",
       "      <td>18.67</td>\n",
       "      <td>28.01</td>\n",
       "      <td>399.0</td>\n",
       "    </tr>\n",
       "    <tr>\n",
       "      <th>2482</th>\n",
       "      <td>Compass Box Spice Tree Whisky</td>\n",
       "      <td>904224</td>\n",
       "      <td>34.67</td>\n",
       "      <td>52.01</td>\n",
       "      <td>305.0</td>\n",
       "    </tr>\n",
       "    <tr>\n",
       "      <th>2483</th>\n",
       "      <td>Seagrams Seven Crown Dark Honey Mini</td>\n",
       "      <td>904701</td>\n",
       "      <td>8.09</td>\n",
       "      <td>12.14</td>\n",
       "      <td>260.0</td>\n",
       "    </tr>\n",
       "  </tbody>\n",
       "</table>\n",
       "<p>2484 rows × 5 columns</p>\n",
       "</div>"
      ],
      "text/plain": [
       "                          Item Description Item Number  State Bottle Cost  \\\n",
       "0                     Jagermeister Liqueur       65256              11.58   \n",
       "1                        J & B Rare Scotch        5289              14.98   \n",
       "2                         Bacardi Gold Rum       43038              14.67   \n",
       "3                            Tanqueray Gin       28866              12.00   \n",
       "4                     Williams Pear Brandy      901167              19.87   \n",
       "...                                    ...         ...                ...   \n",
       "2479                      Ardbeg Uigeadail      902707              51.98   \n",
       "2480               Grappa Chianti Classico      901662               4.28   \n",
       "2481                 Rogue Pink Spruce Gin      904562              18.67   \n",
       "2482         Compass Box Spice Tree Whisky      904224              34.67   \n",
       "2483  Seagrams Seven Crown Dark Honey Mini      904701               8.09   \n",
       "\n",
       "      State Bottle Retail Vendor Number  \n",
       "0                   17.37         192.0  \n",
       "1                   22.47         260.0  \n",
       "2                   22.00          35.0  \n",
       "3                   17.99         260.0  \n",
       "4                   29.81         885.0  \n",
       "...                   ...           ...  \n",
       "2479                77.97         420.0  \n",
       "2480                 6.42         885.0  \n",
       "2481                28.01         399.0  \n",
       "2482                52.01         305.0  \n",
       "2483                12.14         260.0  \n",
       "\n",
       "[2484 rows x 5 columns]"
      ]
     },
     "execution_count": 214,
     "metadata": {},
     "output_type": "execute_result"
    }
   ],
   "source": [
    "iddf.reset_index(drop=True)"
   ]
  },
  {
   "cell_type": "code",
   "execution_count": 216,
   "id": "c9077110",
   "metadata": {},
   "outputs": [
    {
     "name": "stdout",
     "output_type": "stream",
     "text": [
      "Jagermeister Liqueur ['192.0']\n",
      "J & B Rare Scotch ['260.0']\n",
      "Bacardi Gold Rum ['35.0']\n",
      "Tanqueray Gin ['260.0']\n",
      "Williams Pear Brandy ['885.0']\n",
      "Jim Beam ['65.0']\n",
      "Ciroc Red Berry ['260.0']\n",
      "Juarez Tequila Silver ['434.0']\n",
      "Burnett's Vodka 80 Prf ['259.0']\n",
      "Jose Cuervo Especial Reposado Tequila ['395.0']\n",
      "Yukon Jack Canadian Liqueur ['260.0']\n",
      "Ciroc Super Premium Vodka ['260.0']\n",
      "Rumchata ['305.0']\n",
      "Crown Royal Canadian Whisky ['260.0']\n",
      "Black Velvet ['115.0']\n",
      "Hawkeye Vodka ['434.0']\n",
      "Seagrams 7 Crown Bl Whiskey ['260.0']\n",
      "Tequila Rose Liqueur ['300.0']\n",
      "Arrow Spearmint Schnapps ['434.0']\n",
      "Skyy Vodka ['461.0']\n",
      "Admiral Nelson Spiced Rum ['259.0']\n",
      "Juarez Tequila Gold ['434.0']\n",
      "E & J Vsop Superior Reserve ['205.0']\n",
      "Nikolai Vodka ['421.0']\n",
      "Paul Masson Grande Amber Brandy ['115.0']\n",
      "Bushmills Irish Whiskey ['395.0']\n",
      "Ten High ['55.0']\n",
      "Dekuyper Watermelon Pucker ['65.0']\n",
      "Dekuyper Sour Apple Pucker ['65.0']\n",
      "Paramount White Rum ['434.0']\n",
      "Fleischmann's Royal Vodka ['55.0']\n",
      "Fireball Cinnamon Whiskey ['421.0']\n",
      "Five Star ['297.0']\n",
      "Southern Comfort 100 Prf ['85.0']\n",
      "New Amsterdam Vodka ['205.0']\n",
      "Paramount Gin ['434.0']\n",
      "Dr. Mcgillicuddy's Cherry Schnapps ['421.0']\n",
      "1800 Reposado Tequila ['395.0']\n",
      "Hennessy Vs Cognac ['420.0']\n",
      "Kessler Blend Whiskey ['65.0']\n",
      "Crown Royal Black ['260.0']\n",
      "Popov Vodka 80 Prf ['260.0']\n",
      "Five O'clock Vodka ['297.0']\n",
      "Lauder's ['55.0']\n",
      "Grey Goose Vodka ['35.0']\n",
      "Beam's 8 Star Bl Whiskey ['65.0']\n",
      "Patron Tequila Silver ['410.0']\n",
      "Southern Comfort ['85.0']\n",
      "Smirnoff Vodka 80 Prf ['260.0']\n",
      "Lord Calvert Canadian Whisky ['434.0']\n",
      "Barton Vodka ['55.0']\n",
      "E & J Vs Brandy ['205.0']\n",
      "Myers's Rum Original Dark ['260.0']\n",
      "Lady Bligh Spiced Rum ['434.0']\n",
      "Hawkeye Blend Whiskey ['434.0']\n",
      "Jose Cuervo Authentic Lime Margarita ['395.0']\n",
      "Juarez Triple Sec ['434.0']\n",
      "Ketel One Imported Vodka ['260.0']\n",
      "Cutty Sark Scotch ['305.0']\n",
      "Seagrams Extra Dry Gin ['370.0']\n",
      "Mccormick Vodka Pet ['300.0']\n",
      "Captain Morgan Spiced Rum ['260.0']\n",
      "New Amsterdam Gin ['205.0']\n",
      "Paramount Peppermint Schnapps ['434.0']\n",
      "Grand Marnier Cordon Rouge ['420.0']\n",
      "Malibu Coconut Rum ['370.0']\n",
      "Uv Blue (raspberry) Vodka ['380.0']\n",
      "Maker's Mark ['65.0']\n",
      "Sauza Blanco Silver ['65.0']\n",
      "Absolut Swedish Vodka 80 Prf ['370.0']\n",
      "Disaronno Amaretto ['130.0']\n",
      "La Prima Tequila/gold ['434.0']\n",
      "Carolan's Irish Cream Liqueur ['461.0']\n",
      "Dekuyper Blustery Peppermint Burst Schnapps ['65.0']\n",
      "Bailey's Original Irish Cream ['260.0']\n",
      "Sailor Jerry Spiced Navy Rum ['240.0']\n",
      "Goldschlager Cinnamon Schnapps ['260.0']\n",
      "Arrow Raspberry Schnapps ['434.0']\n",
      "Canadian Mist Whisky ['85.0']\n",
      "Seagrams Vodka ['255.0']\n",
      "Jack Daniels Old #7 Black Lbl ['85.0']\n",
      "Ryan's Cream Liqueur ['330.0']\n",
      "Paramount Long Island Iced Tea ['434.0' '350.0']\n",
      "Skol Vodka ['55.0']\n",
      "Phillips Gin ['380.0']\n",
      "Smirnoff Orange Vodka ['260.0']\n",
      "Paramount Triple Sec ['434.0']\n",
      "Bacardi Limon ['35.0']\n",
      "Jose Cuervo Authentic Strawberry Margarita ['395.0']\n",
      "Blair Athol Cask ['885.0']\n",
      "Isle of Jura ['885.0']\n",
      "Ice 101, Peppermint Schnapps ['421.0']\n",
      "Phillips White Rum ['380.0']\n",
      "Canadian Club Whisky ['65.0']\n",
      "Beefeater Gin ['370.0']\n",
      "Johnnie Walker Red ['260.0']\n",
      "Smirnoff Vanilla Vodka ['260.0']\n",
      "Clan Macgregor Scotch ['240.0']\n",
      "El Jimador Reposado Tequila ['85.0']\n",
      "Kahlua Coffee Liqueur ['370.0']\n",
      "Patron Silver Tequila ['410.0']\n",
      "Paramount Gold Rum ['434.0']\n",
      "Nuvo ['305.0']\n",
      "Windsor Canadian ['65.0']\n",
      "Absolut Vanilia ['370.0']\n",
      "St. Brendan's Superior Irish Cream Liqueur ['434.0']\n",
      "Scoresby Rare Scotch ['260.0']\n",
      "Ciroc Luxury Vodka ['260.0']\n",
      "Courvoisier Vs Cognac ['65.0']\n",
      "Phillips Vodka ['380.0']\n",
      "E & J Vs ['205.0']\n",
      "Pendleton Canadian Whisky ['971.0']\n",
      "Bacardi Superior Rum ['35.0']\n",
      "Three Olives Vodka ['395.0']\n",
      "Cazadores Reposado ['35.0']\n",
      "Svedka Vodka ['115.0']\n",
      "Mccormick Vodka ['300.0']\n",
      "UV Cake Vodka ['380.0']\n",
      "Glenlivet 12 Yr Malt Scotch ['370.0']\n",
      "Absolut Mandrin ['370.0']\n",
      "Old Crow ['65.0']\n",
      "Red Stag By Jim Beam ['65.0']\n",
      "Tortilla White Tequila ['421.0']\n",
      "Five O'clock Gin ['297.0']\n",
      "Bacardi Dragon Berry ['35.0']\n",
      "Sobieski Vodka ['267.0']\n",
      "Remy Martin Vsop Cognac ['389.0']\n",
      "Christian Bros Brandy ['259.0']\n",
      "Barton Gin ['55.0']\n",
      "Seagrams V.o. Bl Canadian Whisky ['260.0']\n",
      "Arrow Apricot Flav Brandy ['434.0']\n",
      "Jameson ['370.0']\n",
      "Hennessy VS ['420.0']\n",
      "Jeremiah Weed Sweet Tea Vodka ['260.0']\n",
      "Bombay Sapphire Gin ['35.0']\n",
      "Sunny Brook Blend Whiskey ['65.0']\n",
      "Hennessy Black ['420.0']\n",
      "Hpnotiq ['259.0']\n",
      "Paramount Amaretto ['434.0']\n",
      "Remy Martin Vs Cognac ['389.0']\n",
      "Black Velvet Reserve ['115.0']\n",
      "Famous Grouse Scotch ['305.0']\n",
      "Framboise Raspberry Liqueur ['885.0']\n",
      "Belvedere Vodka ['420.0']\n",
      "Ginger Liqueur ['885.0']\n",
      "Ancient Age Bourbon ['421.0']\n",
      "Skinnygirl White Cranberry Cosmo ['65.0']\n",
      "Hawkeye Light Rum ['434.0']\n",
      "Wild Turkey American Honey ['461.0']\n",
      "Pinnacle Whipped ['65.0']\n",
      "Bacardi Oakheart ['35.0']\n",
      "Jose Cuervo Golden Margarita ['395.0']\n",
      "Rumple Minze Peppermint Schnapps Liqueur ['260.0']\n",
      "Gilbey's Gin London Dry ['65.0']\n",
      "Smirnoff Strawberry Vodka ['260.0']\n",
      "Canadian Ltd Whisky ['55.0']\n",
      "Three Olives Cherry Vodka ['395.0']\n",
      "Captain Morgan Spiced Rum Pet ['260.0']\n",
      "Hawkeye Gin ['434.0']\n",
      "1800 Silver Tequila ['395.0']\n",
      "Jose Cuervo Especial Silver ['395.0']\n",
      "Dekuyper Hot Damn! ['65.0']\n",
      "St. Charles Brandy ['65.0']\n",
      "Sauza Gold ['65.0']\n",
      "Smirnoff Vodka 100 Prf ['260.0']\n",
      "Titos Handmade Vodka ['301.0']\n",
      "Burnett's Gin London Dry ['259.0']\n",
      "Absolut Citron (lemon Vodka) ['370.0']\n",
      "Uv Pink Lemonade Vodka ['380.0']\n",
      "Johnnie Walker Black ['260.0']\n",
      "Dekuyper Raspberry Pucker ['65.0']\n",
      "Arrow Peppermint Schnapps ['434.0']\n",
      "Dewars White Label Scotch ['35.0']\n",
      "Jack Daniel's Tennessee Honey ['85.0']\n",
      "Paramount Blackberry Brandy ['434.0']\n",
      "Absolut Raspberri ['370.0']\n",
      "Bacardi Select Rum ['35.0']\n",
      "Cruzan Dark Rum ['65.0']\n",
      "Crystal Head Vodka ['255.0']\n",
      "Hornitos Gold ['65.0']\n",
      "Canadian Reserve Whisky ['434.0']\n",
      "Paramount Apricot Flavored Brandy ['434.0']\n",
      "Dr. Mcgillicuddy's Mentholmint ['421.0']\n",
      "Castillo Silver Rum ['35.0']\n",
      "Smirnoff Raspberry Vodka ['260.0']\n",
      "Uv Cake Vodka ['380.0']\n",
      "Gordon's Gin London Dry ['260.0']\n",
      "Korski Vodka ['434.0']\n",
      "Maui Blue Hawaiian Schnapps ['421.0']\n",
      "Pinnacle Vodka ['65.0']\n",
      "Galliano Liqueur ['305.0']\n",
      "Uv Red (cherry) Vodka ['380.0']\n",
      "Phillips Root Beer Schnapps ['380.0']\n",
      "Stolichnaya Russian Vodka 80 Prf ['277.0']\n",
      "Absolut Apeach ['370.0']\n",
      "Gentleman Jack ['85.0']\n",
      "Wild Turkey 101 ['461.0']\n",
      "El Jimador Silver Tequila ['85.0']\n",
      "Bacardi Torched Cherry ['35.0']\n",
      "Bacardi O ['35.0']\n",
      "Fleischmann's Gin ['55.0']\n",
      "Don Q Cristal Rum ['451.0']\n",
      "Dr. Mcgillicuddy's Vanilla ['421.0']\n",
      "After Shock Cinnamon Liqueur ['65.0']\n",
      "Kamora Coffee Liqueur ['65.0']\n",
      "Bourbon Supreme Bourbon ['434.0']\n",
      "Ursus Blue Raspberry Vodka ['260.0']\n",
      "Arrow Blackberry Flav Brandy ['434.0']\n",
      "Smirnoff Citrus Vodka ['260.0']\n",
      "Arrow Peach Schnapps ['434.0']\n",
      "Uv Grape Vodka ['380.0']\n",
      "Paramount Sloe Gin ['434.0']\n",
      "Captain Morgan Parrot Bay Coconut ['260.0']\n",
      "Five O'clock ['297.0']\n",
      "Firewater Cinnamon Schnapps ['421.0']\n",
      "Skinnygirl Bare Naked ['65.0']\n",
      "Fris Danish Vodka ['370.0']\n",
      "Passport Scotch ['370.0']\n",
      "Paramount Peach Schnapps ['434.0']\n",
      "Bacardi Razz ['35.0']\n",
      "Admiral Nelson Coconut Rum ['259.0']\n",
      "Chivas Regal 12 Yr ['370.0']\n",
      "Calvert Extra Bl Whiskey ['434.0']\n",
      "Ciroc Coconut ['260.0']\n",
      "Nut Chocolate ['885.0']\n",
      "Don Julio Reposado ['260.0']\n",
      "Irish Single Malt Whiskey ['885.0']\n",
      "Wild Rose Liqueur ['885.0']\n",
      "X Rated Fusion Liqueur ['461.0']\n",
      "Grappa Di Recioto Amarone ['885.0']\n",
      "Sauza Blue Silver ['65.0']\n",
      "Captain Morgan Lime Bite ['260.0']\n",
      "Remy Martin 1738 Accord Royal ['389.0']\n",
      "Armagnac XO 10 YR ['885.0']\n",
      "Dekuyper Island Punch Pucker ['65.0']\n",
      "Italian Brandy ['885.0']\n",
      "Skinnygirl Island Coconut ['65.0']\n",
      "Laphroaig ['885.0']\n",
      "10 Cane Rum ['420.0']\n",
      "Yahara Bay Gin ['885.0']\n",
      "Irish Peated Single Malt Whiskey ['885.0']\n",
      "Bartenders Hot Sex ['285.0']\n",
      "Skinnygirl Tangerine ['65.0']\n",
      "Cerises Rogue(Cherry Liqueur) ['885.0']\n",
      "Sour Cherry ['885.0']\n",
      "Paramount Vodka ['434.0' '350.0']\n",
      "Apricot Grappa ['885.0']\n",
      "Grappa Moscato ['885.0']\n",
      "Admiral Nelson Cherry Spiced Rum ['259.0']\n",
      "Effen Cucumber ['65.0']\n",
      "Grappa Chianti Classico ['885.0']\n",
      "Caol Ila 15yr ['885.0']\n",
      "Kahlua Sampler Pack ['370.0']\n",
      "Pearl Vodka ['434.0']\n",
      "Caipirinha Lime ['885.0']\n",
      "Pearl Red Berry Vodka ['434.0']\n",
      "Yahara Bay Aged Rum ['885.0']\n",
      "Blair Athol ['885.0']\n",
      "Tullibardine 20YR ['885.0']\n",
      "Absinthe Verde ['885.0']\n",
      "Pina Colada ['885.0']\n",
      "Isle of Arran ['885.0']\n",
      "Libertine Absinthe(French Absinthe) ['885.0']\n",
      "Whiskey Liqueur ['885.0']\n",
      "Hiram Walker Orange Curacao ['370.0']\n",
      "Jesse James Bourbon ['294.0']\n",
      "Mango Limes ['885.0']\n",
      "Yahara Bay Cocoa Liqueur ['885.0']\n",
      "Old St. Nick''s Egg Nog ['421.0']\n"
     ]
    },
    {
     "name": "stdout",
     "output_type": "stream",
     "text": [
      "Cruzan Pineapple Rum ['65.0']\n",
      "Yahara Bay American Rye Whiskey ['885.0']\n",
      "Ursus Green Apple Vodka ['260.0']\n",
      "Glen Garioch ['885.0']\n",
      "Ardmore ['885.0']\n",
      "Orange Liqueur ['885.0']\n",
      "Cognac Napoleon XO ['885.0']\n",
      "Absinthe Blanco ['885.0']\n",
      "Fernandez Brandy De Jerez ['885.0']\n",
      "Latte Machiatto ['885.0']\n",
      "Skinnygirl Cucumber ['65.0']\n",
      "G & W Bourbon ['297.0']\n",
      "Hunters Herbal Liqueur ['885.0']\n",
      "Armagnac XO 25yr ['885.0']\n",
      "Calvados ['885.0']\n",
      "Kirsch Cherry Brandy ['885.0']\n",
      "Skinnygirl Pina Colada ['65.0']\n",
      "Glengoyne ['885.0']\n",
      "Yahara Bay Apple Crisp(Apple Pie) ['885.0']\n",
      "Grappa Nebbiolo ['885.0']\n",
      "Yahara Bay Apple Brandy ['885.0']\n",
      "Christian Brothers Holiday Nog ['259.0']\n",
      "Yahara Bay Lemoncello ['885.0']\n",
      "Yahara Bay Vodka ['885.0']\n",
      "Absolut Zing Zang Bloody Mary Mix ['370.0']\n",
      "Hacienda Vieja ['310.0']\n",
      "Yahara Bay American Whiskey ['885.0']\n",
      "Don Q Limon ['451.0']\n",
      "Dailuaine 29yr ['885.0']\n",
      "Casa Noble Anejo ['115.0']\n",
      "Uv Red(cherry) Vodka ['380.0']\n",
      "Gentian Aperitif ['885.0']\n",
      "Yahara Bay Orangecello ['885.0']\n",
      "Yahara Bay Rum ['885.0']\n",
      "White Horse Scotch ['260.0']\n",
      "Paul Masson Vsop Brandy ['115.0']\n",
      "Alize Blue ['295.0']\n",
      "Milagro Reposado Tequila ['240.0']\n"
     ]
    }
   ],
   "source": [
    "for i in iddf['Item Description'].unique():\n",
    "    if len(iddf[iddf['Item Description']==i]['Item Number'].unique())>1:\n",
    "                print(i,iddf[iddf['Item Description']==i]['Vendor Number'].unique())\n",
    "  #      print(i,iddf[iddf['Item Description']==i]['Item Number'].unique(),iddf[iddf['Item Description']==i]['State Bottle Cost'].unique(),iddf[iddf['Item Description']==i]['State Bottle Retail'].unique(),iddf[iddf['Item Description']==i]['Vendor Number'].unique())"
   ]
  },
  {
   "cell_type": "markdown",
   "id": "445d46b2",
   "metadata": {},
   "source": [
    "### The answer is yes, Item number matters"
   ]
  },
  {
   "cell_type": "markdown",
   "id": "c5dc4d9d",
   "metadata": {},
   "source": [
    "### With this in mind: dropping unnecessary columns: Keeping Pack, Vendor Number, Bottle Volume (ml), Bottles Sold, Volume Sold (Liters) for future math, not for modeling"
   ]
  },
  {
   "cell_type": "code",
   "execution_count": 88,
   "id": "e9e0b88d",
   "metadata": {},
   "outputs": [
    {
     "data": {
      "text/html": [
       "<div>\n",
       "<style scoped>\n",
       "    .dataframe tbody tr th:only-of-type {\n",
       "        vertical-align: middle;\n",
       "    }\n",
       "\n",
       "    .dataframe tbody tr th {\n",
       "        vertical-align: top;\n",
       "    }\n",
       "\n",
       "    .dataframe thead th {\n",
       "        text-align: right;\n",
       "    }\n",
       "</style>\n",
       "<table border=\"1\" class=\"dataframe\">\n",
       "  <thead>\n",
       "    <tr style=\"text-align: right;\">\n",
       "      <th></th>\n",
       "      <th>Unnamed: 0</th>\n",
       "      <th>Unnamed: 0.1</th>\n",
       "      <th>Invoice/Item Number</th>\n",
       "      <th>Date</th>\n",
       "      <th>Store Number</th>\n",
       "      <th>Store Name</th>\n",
       "      <th>Address</th>\n",
       "      <th>City</th>\n",
       "      <th>Zip Code</th>\n",
       "      <th>Store Location</th>\n",
       "      <th>County Number</th>\n",
       "      <th>County</th>\n",
       "      <th>Category</th>\n",
       "      <th>Category Name</th>\n",
       "      <th>Vendor Number</th>\n",
       "      <th>Vendor Name</th>\n",
       "      <th>Item Number</th>\n",
       "      <th>Item Description</th>\n",
       "      <th>Pack</th>\n",
       "      <th>Bottle Volume (ml)</th>\n",
       "      <th>State Bottle Cost</th>\n",
       "      <th>State Bottle Retail</th>\n",
       "      <th>Bottles Sold</th>\n",
       "      <th>Sale (Dollars)</th>\n",
       "      <th>Volume Sold (Liters)</th>\n",
       "      <th>Volume Sold (Gallons)</th>\n",
       "      <th>Year</th>\n",
       "    </tr>\n",
       "  </thead>\n",
       "  <tbody>\n",
       "    <tr>\n",
       "      <th>0</th>\n",
       "      <td>11</td>\n",
       "      <td>135</td>\n",
       "      <td>S04414100075</td>\n",
       "      <td>03/06/2012</td>\n",
       "      <td>2532</td>\n",
       "      <td>Hy-Vee Food Store #2 / Des Moines</td>\n",
       "      <td>2540 E EUCLID</td>\n",
       "      <td>DES MOINES</td>\n",
       "      <td>50317</td>\n",
       "      <td>2540 E EUCLID\\nDES MOINES 50317\\n(41.627842, -...</td>\n",
       "      <td>77.0</td>\n",
       "      <td>Polk</td>\n",
       "      <td>1082900.0</td>\n",
       "      <td>MISC. IMPORTED CORDIALS &amp; LIQUEURS</td>\n",
       "      <td>192.0</td>\n",
       "      <td>Sidney Frank Importing Co.</td>\n",
       "      <td>65256</td>\n",
       "      <td>Jagermeister Liqueur</td>\n",
       "      <td>12</td>\n",
       "      <td>750</td>\n",
       "      <td>$11.58</td>\n",
       "      <td>$17.37</td>\n",
       "      <td>12</td>\n",
       "      <td>$208.44</td>\n",
       "      <td>9.0</td>\n",
       "      <td>2.38</td>\n",
       "      <td>12</td>\n",
       "    </tr>\n",
       "    <tr>\n",
       "      <th>1</th>\n",
       "      <td>31</td>\n",
       "      <td>190</td>\n",
       "      <td>S04958800091</td>\n",
       "      <td>04/09/2012</td>\n",
       "      <td>2633</td>\n",
       "      <td>Hy-Vee #3 / BDI / Des Moines</td>\n",
       "      <td>3221 SE 14TH ST</td>\n",
       "      <td>DES MOINES</td>\n",
       "      <td>50320</td>\n",
       "      <td>3221 SE 14TH ST\\nDES MOINES 50320\\n(41.554101,...</td>\n",
       "      <td>77.0</td>\n",
       "      <td>Polk</td>\n",
       "      <td>1012200.0</td>\n",
       "      <td>SCOTCH WHISKIES</td>\n",
       "      <td>260.0</td>\n",
       "      <td>Diageo Americas</td>\n",
       "      <td>5289</td>\n",
       "      <td>J &amp; B Rare Scotch</td>\n",
       "      <td>12</td>\n",
       "      <td>1000</td>\n",
       "      <td>$14.98</td>\n",
       "      <td>$22.47</td>\n",
       "      <td>12</td>\n",
       "      <td>$269.64</td>\n",
       "      <td>12.0</td>\n",
       "      <td>3.17</td>\n",
       "      <td>12</td>\n",
       "    </tr>\n",
       "    <tr>\n",
       "      <th>2</th>\n",
       "      <td>36</td>\n",
       "      <td>215</td>\n",
       "      <td>S03613800042</td>\n",
       "      <td>01/17/2012</td>\n",
       "      <td>2959</td>\n",
       "      <td>Dahl's / Merle Hay</td>\n",
       "      <td>4343 MERLE HAY ROAD</td>\n",
       "      <td>DES MOINES</td>\n",
       "      <td>50310</td>\n",
       "      <td>4343 MERLE HAY ROAD\\nDES MOINES 50310\\n(41.637...</td>\n",
       "      <td>77.0</td>\n",
       "      <td>Polk</td>\n",
       "      <td>1062200.0</td>\n",
       "      <td>PUERTO RICO &amp; VIRGIN ISLANDS RUM</td>\n",
       "      <td>35.0</td>\n",
       "      <td>Bacardi U.S.A., Inc.</td>\n",
       "      <td>43038</td>\n",
       "      <td>Bacardi Gold Rum</td>\n",
       "      <td>6</td>\n",
       "      <td>1750</td>\n",
       "      <td>$14.67</td>\n",
       "      <td>$22.00</td>\n",
       "      <td>6</td>\n",
       "      <td>$132.00</td>\n",
       "      <td>10.5</td>\n",
       "      <td>2.77</td>\n",
       "      <td>12</td>\n",
       "    </tr>\n",
       "  </tbody>\n",
       "</table>\n",
       "</div>"
      ],
      "text/plain": [
       "   Unnamed: 0  Unnamed: 0.1 Invoice/Item Number        Date  Store Number  \\\n",
       "0          11           135        S04414100075  03/06/2012          2532   \n",
       "1          31           190        S04958800091  04/09/2012          2633   \n",
       "2          36           215        S03613800042  01/17/2012          2959   \n",
       "\n",
       "                          Store Name              Address        City  \\\n",
       "0  Hy-Vee Food Store #2 / Des Moines        2540 E EUCLID  DES MOINES   \n",
       "1       Hy-Vee #3 / BDI / Des Moines      3221 SE 14TH ST  DES MOINES   \n",
       "2                 Dahl's / Merle Hay  4343 MERLE HAY ROAD  DES MOINES   \n",
       "\n",
       "  Zip Code                                     Store Location County Number  \\\n",
       "0    50317  2540 E EUCLID\\nDES MOINES 50317\\n(41.627842, -...          77.0   \n",
       "1    50320  3221 SE 14TH ST\\nDES MOINES 50320\\n(41.554101,...          77.0   \n",
       "2    50310  4343 MERLE HAY ROAD\\nDES MOINES 50310\\n(41.637...          77.0   \n",
       "\n",
       "  County   Category                       Category Name  Vendor Number  \\\n",
       "0   Polk  1082900.0  MISC. IMPORTED CORDIALS & LIQUEURS          192.0   \n",
       "1   Polk  1012200.0                     SCOTCH WHISKIES          260.0   \n",
       "2   Polk  1062200.0    PUERTO RICO & VIRGIN ISLANDS RUM           35.0   \n",
       "\n",
       "                  Vendor Name  Item Number      Item Description  Pack  \\\n",
       "0  Sidney Frank Importing Co.        65256  Jagermeister Liqueur    12   \n",
       "1             Diageo Americas         5289     J & B Rare Scotch    12   \n",
       "2        Bacardi U.S.A., Inc.        43038      Bacardi Gold Rum     6   \n",
       "\n",
       "   Bottle Volume (ml) State Bottle Cost State Bottle Retail  Bottles Sold  \\\n",
       "0                 750            $11.58              $17.37            12   \n",
       "1                1000            $14.98              $22.47            12   \n",
       "2                1750            $14.67              $22.00             6   \n",
       "\n",
       "  Sale (Dollars)  Volume Sold (Liters)  Volume Sold (Gallons)  Year  \n",
       "0        $208.44                   9.0                   2.38    12  \n",
       "1        $269.64                  12.0                   3.17    12  \n",
       "2        $132.00                  10.5                   2.77    12  "
      ]
     },
     "execution_count": 88,
     "metadata": {},
     "output_type": "execute_result"
    }
   ],
   "source": [
    "c12.head(3)"
   ]
  },
  {
   "cell_type": "code",
   "execution_count": 119,
   "id": "b02ba99a",
   "metadata": {},
   "outputs": [],
   "source": [
    "c12=c12.drop(['Unnamed: 0','Unnamed: 0.1','Invoice/Item Number','Store Name','Address','City','Zip Code', 'Store Location','County Number','County','Category','Vendor Name','Volume Sold (Gallons)','Year'] ,axis=1)"
   ]
  },
  {
   "cell_type": "code",
   "execution_count": 120,
   "id": "d168e305",
   "metadata": {},
   "outputs": [
    {
     "data": {
      "text/plain": [
       "(2082059, 27)"
      ]
     },
     "execution_count": 120,
     "metadata": {},
     "output_type": "execute_result"
    }
   ],
   "source": [
    "c12.shape"
   ]
  },
  {
   "cell_type": "code",
   "execution_count": 121,
   "id": "4d6bed87",
   "metadata": {},
   "outputs": [
    {
     "data": {
      "text/plain": [
       "(184093, 13)"
      ]
     },
     "execution_count": 121,
     "metadata": {},
     "output_type": "execute_result"
    }
   ],
   "source": [
    "c12.shape"
   ]
  },
  {
   "cell_type": "code",
   "execution_count": 196,
   "id": "eed6f674",
   "metadata": {},
   "outputs": [
    {
     "data": {
      "text/plain": [
       "Index(['Date', 'Store Number', 'Category Name', 'Vendor Number', 'Item Number',\n",
       "       'Item Description', 'Pack', 'Bottle Volume (ml)', 'State Bottle Cost',\n",
       "       'State Bottle Retail', 'Bottles Sold', 'Sale (Dollars)',\n",
       "       'Volume Sold (Liters)'],\n",
       "      dtype='object')"
      ]
     },
     "execution_count": 196,
     "metadata": {},
     "output_type": "execute_result"
    }
   ],
   "source": [
    "c12.columns"
   ]
  }
 ],
 "metadata": {
  "kernelspec": {
   "display_name": "Python 3 (ipykernel)",
   "language": "python",
   "name": "python3"
  },
  "language_info": {
   "codemirror_mode": {
    "name": "ipython",
    "version": 3
   },
   "file_extension": ".py",
   "mimetype": "text/x-python",
   "name": "python",
   "nbconvert_exporter": "python",
   "pygments_lexer": "ipython3",
   "version": "3.9.7"
  }
 },
 "nbformat": 4,
 "nbformat_minor": 5
}

{
 "cells": [
  {
   "cell_type": "code",
   "execution_count": 1,
   "id": "eae40021",
   "metadata": {},
   "outputs": [],
   "source": [
    "import pandas as pd\n",
    "import numpy as np\n",
    "import chunk\n",
    "import re\n",
    "from datetime import datetime"
   ]
  },
  {
   "cell_type": "code",
   "execution_count": 9,
   "id": "4cc87e6a",
   "metadata": {},
   "outputs": [
    {
     "name": "stderr",
     "output_type": "stream",
     "text": [
      "C:\\ProgramData\\Anaconda3\\lib\\site-packages\\IPython\\core\\interactiveshell.py:3165: DtypeWarning: Columns (6) have mixed types.Specify dtype option on import or set low_memory=False.\n",
      "  has_raised = await self.run_ast_nodes(code_ast.body, cell_name,\n"
     ]
    }
   ],
   "source": [
    "drink=pd.read_csv('C://Users//Owner//DA//Classwork//0 Activities//Final_Project//Final Cuts//Iowa_Liqour_Sales//Iowa_Liquor_Sales.csv')"
   ]
  },
  {
   "cell_type": "code",
   "execution_count": 18,
   "id": "c9b868af",
   "metadata": {},
   "outputs": [],
   "source": [
    "pd.set_option('display.max_columns',25)"
   ]
  },
  {
   "cell_type": "code",
   "execution_count": 19,
   "id": "4ed58f24",
   "metadata": {},
   "outputs": [
    {
     "data": {
      "text/html": [
       "<div>\n",
       "<style scoped>\n",
       "    .dataframe tbody tr th:only-of-type {\n",
       "        vertical-align: middle;\n",
       "    }\n",
       "\n",
       "    .dataframe tbody tr th {\n",
       "        vertical-align: top;\n",
       "    }\n",
       "\n",
       "    .dataframe thead th {\n",
       "        text-align: right;\n",
       "    }\n",
       "</style>\n",
       "<table border=\"1\" class=\"dataframe\">\n",
       "  <thead>\n",
       "    <tr style=\"text-align: right;\">\n",
       "      <th></th>\n",
       "      <th>Invoice/Item Number</th>\n",
       "      <th>Date</th>\n",
       "      <th>Store Number</th>\n",
       "      <th>Store Name</th>\n",
       "      <th>Address</th>\n",
       "      <th>City</th>\n",
       "      <th>Zip Code</th>\n",
       "      <th>Store Location</th>\n",
       "      <th>County Number</th>\n",
       "      <th>County</th>\n",
       "      <th>Category</th>\n",
       "      <th>Category Name</th>\n",
       "      <th>Vendor Number</th>\n",
       "      <th>Vendor Name</th>\n",
       "      <th>Item Number</th>\n",
       "      <th>Item Description</th>\n",
       "      <th>Pack</th>\n",
       "      <th>Bottle Volume (ml)</th>\n",
       "      <th>State Bottle Cost</th>\n",
       "      <th>State Bottle Retail</th>\n",
       "      <th>Bottles Sold</th>\n",
       "      <th>Sale (Dollars)</th>\n",
       "      <th>Volume Sold (Liters)</th>\n",
       "      <th>Volume Sold (Gallons)</th>\n",
       "    </tr>\n",
       "  </thead>\n",
       "  <tbody>\n",
       "    <tr>\n",
       "      <th>0</th>\n",
       "      <td>S29198800001</td>\n",
       "      <td>11/20/2015</td>\n",
       "      <td>2191</td>\n",
       "      <td>Keokuk Spirits</td>\n",
       "      <td>1013 MAIN</td>\n",
       "      <td>KEOKUK</td>\n",
       "      <td>52632</td>\n",
       "      <td>1013 MAIN\\nKEOKUK 52632\\n(40.39978, -91.387531)</td>\n",
       "      <td>56.0</td>\n",
       "      <td>Lee</td>\n",
       "      <td>NaN</td>\n",
       "      <td>NaN</td>\n",
       "      <td>255.0</td>\n",
       "      <td>Wilson Daniels Ltd.</td>\n",
       "      <td>297</td>\n",
       "      <td>Templeton Rye w/Flask</td>\n",
       "      <td>6</td>\n",
       "      <td>750</td>\n",
       "      <td>$18.09</td>\n",
       "      <td>$27.14</td>\n",
       "      <td>6</td>\n",
       "      <td>$162.84</td>\n",
       "      <td>4.5</td>\n",
       "      <td>1.19</td>\n",
       "    </tr>\n",
       "    <tr>\n",
       "      <th>1</th>\n",
       "      <td>S29195400002</td>\n",
       "      <td>11/21/2015</td>\n",
       "      <td>2205</td>\n",
       "      <td>Ding's Honk And Holler</td>\n",
       "      <td>900 E WASHINGTON</td>\n",
       "      <td>CLARINDA</td>\n",
       "      <td>51632</td>\n",
       "      <td>900 E WASHINGTON\\nCLARINDA 51632\\n(40.739238, ...</td>\n",
       "      <td>73.0</td>\n",
       "      <td>Page</td>\n",
       "      <td>NaN</td>\n",
       "      <td>NaN</td>\n",
       "      <td>255.0</td>\n",
       "      <td>Wilson Daniels Ltd.</td>\n",
       "      <td>297</td>\n",
       "      <td>Templeton Rye w/Flask</td>\n",
       "      <td>6</td>\n",
       "      <td>750</td>\n",
       "      <td>$18.09</td>\n",
       "      <td>$27.14</td>\n",
       "      <td>12</td>\n",
       "      <td>$325.68</td>\n",
       "      <td>9.0</td>\n",
       "      <td>2.38</td>\n",
       "    </tr>\n",
       "    <tr>\n",
       "      <th>2</th>\n",
       "      <td>S29050300001</td>\n",
       "      <td>11/16/2015</td>\n",
       "      <td>3549</td>\n",
       "      <td>Quicker Liquor Store</td>\n",
       "      <td>1414 48TH ST</td>\n",
       "      <td>FORT MADISON</td>\n",
       "      <td>52627</td>\n",
       "      <td>1414 48TH ST\\nFORT MADISON 52627\\n(40.624226, ...</td>\n",
       "      <td>56.0</td>\n",
       "      <td>Lee</td>\n",
       "      <td>NaN</td>\n",
       "      <td>NaN</td>\n",
       "      <td>130.0</td>\n",
       "      <td>Disaronno International LLC</td>\n",
       "      <td>249</td>\n",
       "      <td>Disaronno Amaretto Cavalli Mignon 3-50ml Pack</td>\n",
       "      <td>20</td>\n",
       "      <td>150</td>\n",
       "      <td>$6.40</td>\n",
       "      <td>$9.60</td>\n",
       "      <td>2</td>\n",
       "      <td>$19.20</td>\n",
       "      <td>0.3</td>\n",
       "      <td>0.08</td>\n",
       "    </tr>\n",
       "  </tbody>\n",
       "</table>\n",
       "</div>"
      ],
      "text/plain": [
       "  Invoice/Item Number        Date  Store Number              Store Name  \\\n",
       "0        S29198800001  11/20/2015          2191          Keokuk Spirits   \n",
       "1        S29195400002  11/21/2015          2205  Ding's Honk And Holler   \n",
       "2        S29050300001  11/16/2015          3549    Quicker Liquor Store   \n",
       "\n",
       "            Address          City Zip Code  \\\n",
       "0         1013 MAIN        KEOKUK    52632   \n",
       "1  900 E WASHINGTON      CLARINDA    51632   \n",
       "2      1414 48TH ST  FORT MADISON    52627   \n",
       "\n",
       "                                      Store Location  County Number County  \\\n",
       "0    1013 MAIN\\nKEOKUK 52632\\n(40.39978, -91.387531)           56.0    Lee   \n",
       "1  900 E WASHINGTON\\nCLARINDA 51632\\n(40.739238, ...           73.0   Page   \n",
       "2  1414 48TH ST\\nFORT MADISON 52627\\n(40.624226, ...           56.0    Lee   \n",
       "\n",
       "   Category Category Name  Vendor Number                  Vendor Name  \\\n",
       "0       NaN           NaN          255.0          Wilson Daniels Ltd.   \n",
       "1       NaN           NaN          255.0          Wilson Daniels Ltd.   \n",
       "2       NaN           NaN          130.0  Disaronno International LLC   \n",
       "\n",
       "   Item Number                               Item Description  Pack  \\\n",
       "0          297                          Templeton Rye w/Flask     6   \n",
       "1          297                          Templeton Rye w/Flask     6   \n",
       "2          249  Disaronno Amaretto Cavalli Mignon 3-50ml Pack    20   \n",
       "\n",
       "   Bottle Volume (ml) State Bottle Cost State Bottle Retail  Bottles Sold  \\\n",
       "0                 750            $18.09              $27.14             6   \n",
       "1                 750            $18.09              $27.14            12   \n",
       "2                 150             $6.40               $9.60             2   \n",
       "\n",
       "  Sale (Dollars)  Volume Sold (Liters)  Volume Sold (Gallons)  \n",
       "0        $162.84                   4.5                   1.19  \n",
       "1        $325.68                   9.0                   2.38  \n",
       "2         $19.20                   0.3                   0.08  "
      ]
     },
     "execution_count": 19,
     "metadata": {},
     "output_type": "execute_result"
    }
   ],
   "source": [
    "drink.head(3)"
   ]
  },
  {
   "cell_type": "code",
   "execution_count": 17,
   "id": "c182ac44",
   "metadata": {},
   "outputs": [],
   "source": [
    "drink=drink.drop_duplicates()"
   ]
  },
  {
   "cell_type": "code",
   "execution_count": 10,
   "id": "4d54a7b8",
   "metadata": {},
   "outputs": [
    {
     "data": {
      "text/plain": [
       "(12591077, 24)"
      ]
     },
     "execution_count": 10,
     "metadata": {},
     "output_type": "execute_result"
    }
   ],
   "source": [
    "drink.shape"
   ]
  },
  {
   "cell_type": "code",
   "execution_count": 46,
   "id": "03f0c453",
   "metadata": {},
   "outputs": [
    {
     "data": {
      "text/html": [
       "<div>\n",
       "<style scoped>\n",
       "    .dataframe tbody tr th:only-of-type {\n",
       "        vertical-align: middle;\n",
       "    }\n",
       "\n",
       "    .dataframe tbody tr th {\n",
       "        vertical-align: top;\n",
       "    }\n",
       "\n",
       "    .dataframe thead th {\n",
       "        text-align: right;\n",
       "    }\n",
       "</style>\n",
       "<table border=\"1\" class=\"dataframe\">\n",
       "  <thead>\n",
       "    <tr style=\"text-align: right;\">\n",
       "      <th></th>\n",
       "      <th>Invoice/Item Number</th>\n",
       "      <th>Date</th>\n",
       "      <th>Store Number</th>\n",
       "      <th>Store Name</th>\n",
       "      <th>Address</th>\n",
       "      <th>City</th>\n",
       "      <th>Zip Code</th>\n",
       "      <th>Store Location</th>\n",
       "      <th>County Number</th>\n",
       "      <th>County</th>\n",
       "      <th>Category</th>\n",
       "      <th>Category Name</th>\n",
       "      <th>Vendor Number</th>\n",
       "      <th>Vendor Name</th>\n",
       "      <th>Item Number</th>\n",
       "      <th>Item Description</th>\n",
       "      <th>Pack</th>\n",
       "      <th>Bottle Volume (ml)</th>\n",
       "      <th>State Bottle Cost</th>\n",
       "      <th>State Bottle Retail</th>\n",
       "      <th>Bottles Sold</th>\n",
       "      <th>Sale (Dollars)</th>\n",
       "      <th>Volume Sold (Liters)</th>\n",
       "      <th>Volume Sold (Gallons)</th>\n",
       "      <th>Year</th>\n",
       "    </tr>\n",
       "  </thead>\n",
       "  <tbody>\n",
       "    <tr>\n",
       "      <th>0</th>\n",
       "      <td>S29198800001</td>\n",
       "      <td>11/20/2015</td>\n",
       "      <td>2191</td>\n",
       "      <td>Keokuk Spirits</td>\n",
       "      <td>1013 MAIN</td>\n",
       "      <td>KEOKUK</td>\n",
       "      <td>52632</td>\n",
       "      <td>1013 MAIN\\nKEOKUK 52632\\n(40.39978, -91.387531)</td>\n",
       "      <td>56.0</td>\n",
       "      <td>Lee</td>\n",
       "      <td>NaN</td>\n",
       "      <td>NaN</td>\n",
       "      <td>255.0</td>\n",
       "      <td>Wilson Daniels Ltd.</td>\n",
       "      <td>297</td>\n",
       "      <td>Templeton Rye w/Flask</td>\n",
       "      <td>6</td>\n",
       "      <td>750</td>\n",
       "      <td>$18.09</td>\n",
       "      <td>$27.14</td>\n",
       "      <td>6</td>\n",
       "      <td>$162.84</td>\n",
       "      <td>4.5</td>\n",
       "      <td>1.19</td>\n",
       "      <td>15</td>\n",
       "    </tr>\n",
       "    <tr>\n",
       "      <th>1</th>\n",
       "      <td>S29195400002</td>\n",
       "      <td>11/21/2015</td>\n",
       "      <td>2205</td>\n",
       "      <td>Ding's Honk And Holler</td>\n",
       "      <td>900 E WASHINGTON</td>\n",
       "      <td>CLARINDA</td>\n",
       "      <td>51632</td>\n",
       "      <td>900 E WASHINGTON\\nCLARINDA 51632\\n(40.739238, ...</td>\n",
       "      <td>73.0</td>\n",
       "      <td>Page</td>\n",
       "      <td>NaN</td>\n",
       "      <td>NaN</td>\n",
       "      <td>255.0</td>\n",
       "      <td>Wilson Daniels Ltd.</td>\n",
       "      <td>297</td>\n",
       "      <td>Templeton Rye w/Flask</td>\n",
       "      <td>6</td>\n",
       "      <td>750</td>\n",
       "      <td>$18.09</td>\n",
       "      <td>$27.14</td>\n",
       "      <td>12</td>\n",
       "      <td>$325.68</td>\n",
       "      <td>9.0</td>\n",
       "      <td>2.38</td>\n",
       "      <td>15</td>\n",
       "    </tr>\n",
       "    <tr>\n",
       "      <th>2</th>\n",
       "      <td>S29050300001</td>\n",
       "      <td>11/16/2015</td>\n",
       "      <td>3549</td>\n",
       "      <td>Quicker Liquor Store</td>\n",
       "      <td>1414 48TH ST</td>\n",
       "      <td>FORT MADISON</td>\n",
       "      <td>52627</td>\n",
       "      <td>1414 48TH ST\\nFORT MADISON 52627\\n(40.624226, ...</td>\n",
       "      <td>56.0</td>\n",
       "      <td>Lee</td>\n",
       "      <td>NaN</td>\n",
       "      <td>NaN</td>\n",
       "      <td>130.0</td>\n",
       "      <td>Disaronno International LLC</td>\n",
       "      <td>249</td>\n",
       "      <td>Disaronno Amaretto Cavalli Mignon 3-50ml Pack</td>\n",
       "      <td>20</td>\n",
       "      <td>150</td>\n",
       "      <td>$6.40</td>\n",
       "      <td>$9.60</td>\n",
       "      <td>2</td>\n",
       "      <td>$19.20</td>\n",
       "      <td>0.3</td>\n",
       "      <td>0.08</td>\n",
       "      <td>15</td>\n",
       "    </tr>\n",
       "  </tbody>\n",
       "</table>\n",
       "</div>"
      ],
      "text/plain": [
       "  Invoice/Item Number        Date  Store Number              Store Name  \\\n",
       "0        S29198800001  11/20/2015          2191          Keokuk Spirits   \n",
       "1        S29195400002  11/21/2015          2205  Ding's Honk And Holler   \n",
       "2        S29050300001  11/16/2015          3549    Quicker Liquor Store   \n",
       "\n",
       "            Address          City Zip Code  \\\n",
       "0         1013 MAIN        KEOKUK    52632   \n",
       "1  900 E WASHINGTON      CLARINDA    51632   \n",
       "2      1414 48TH ST  FORT MADISON    52627   \n",
       "\n",
       "                                      Store Location  County Number County  \\\n",
       "0    1013 MAIN\\nKEOKUK 52632\\n(40.39978, -91.387531)           56.0    Lee   \n",
       "1  900 E WASHINGTON\\nCLARINDA 51632\\n(40.739238, ...           73.0   Page   \n",
       "2  1414 48TH ST\\nFORT MADISON 52627\\n(40.624226, ...           56.0    Lee   \n",
       "\n",
       "   Category Category Name  Vendor Number                  Vendor Name  \\\n",
       "0       NaN           NaN          255.0          Wilson Daniels Ltd.   \n",
       "1       NaN           NaN          255.0          Wilson Daniels Ltd.   \n",
       "2       NaN           NaN          130.0  Disaronno International LLC   \n",
       "\n",
       "   Item Number                               Item Description  Pack  \\\n",
       "0          297                          Templeton Rye w/Flask     6   \n",
       "1          297                          Templeton Rye w/Flask     6   \n",
       "2          249  Disaronno Amaretto Cavalli Mignon 3-50ml Pack    20   \n",
       "\n",
       "   Bottle Volume (ml) State Bottle Cost State Bottle Retail  Bottles Sold  \\\n",
       "0                 750            $18.09              $27.14             6   \n",
       "1                 750            $18.09              $27.14            12   \n",
       "2                 150             $6.40               $9.60             2   \n",
       "\n",
       "  Sale (Dollars)  Volume Sold (Liters)  Volume Sold (Gallons) Year  \n",
       "0        $162.84                   4.5                   1.19   15  \n",
       "1        $325.68                   9.0                   2.38   15  \n",
       "2         $19.20                   0.3                   0.08   15  "
      ]
     },
     "execution_count": 46,
     "metadata": {},
     "output_type": "execute_result"
    }
   ],
   "source": [
    "drink.head(3)"
   ]
  },
  {
   "cell_type": "code",
   "execution_count": 45,
   "id": "09bc63f9",
   "metadata": {},
   "outputs": [],
   "source": [
    "drink['Year']=list(map(lambda x:x[-2:],drink['Date']))\n",
    "drink['Year'].unique()"
   ]
  },
  {
   "cell_type": "markdown",
   "id": "6e05f00e",
   "metadata": {},
   "source": [
    "## Because of its size, the raw data will be split into 6 pieces by year"
   ]
  },
  {
   "cell_type": "code",
   "execution_count": 27,
   "id": "3d7d1eb5",
   "metadata": {},
   "outputs": [
    {
     "data": {
      "text/plain": [
       "dtype('O')"
      ]
     },
     "execution_count": 27,
     "metadata": {},
     "output_type": "execute_result"
    }
   ],
   "source": [
    "drink['Date'].dtypes"
   ]
  },
  {
   "cell_type": "code",
   "execution_count": 21,
   "id": "c672888e",
   "metadata": {},
   "outputs": [
    {
     "data": {
      "text/plain": [
       "1884"
      ]
     },
     "execution_count": 21,
     "metadata": {},
     "output_type": "execute_result"
    }
   ],
   "source": [
    "len(drink['Store Number'].unique())"
   ]
  },
  {
   "cell_type": "code",
   "execution_count": 86,
   "id": "370168c9",
   "metadata": {},
   "outputs": [],
   "source": [
    "year17 = drink[drink['Year']=='17']\n",
    "year17.shape"
   ]
  },
  {
   "cell_type": "code",
   "execution_count": 88,
   "id": "f608edb8",
   "metadata": {},
   "outputs": [],
   "source": [
    "year17.to_csv('year2017.csv')"
   ]
  },
  {
   "cell_type": "code",
   "execution_count": 89,
   "id": "53801a37",
   "metadata": {},
   "outputs": [],
   "source": [
    "year16 = drink[drink['Year']=='16']\n",
    "year16.shape"
   ]
  },
  {
   "cell_type": "code",
   "execution_count": 91,
   "id": "0dbcb393",
   "metadata": {},
   "outputs": [],
   "source": [
    "year16.to_csv('year2016.csv')"
   ]
  },
  {
   "cell_type": "code",
   "execution_count": 47,
   "id": "a56f615d",
   "metadata": {},
   "outputs": [],
   "source": [
    "year15 = drink[drink['Year']=='15']\n",
    "year15.shape"
   ]
  },
  {
   "cell_type": "code",
   "execution_count": 50,
   "id": "d8ad6b7e",
   "metadata": {},
   "outputs": [],
   "source": [
    "year15.to_csv('year2015.csv')"
   ]
  },
  {
   "cell_type": "code",
   "execution_count": 51,
   "id": "6e5c8425",
   "metadata": {},
   "outputs": [],
   "source": [
    "year14 = drink[drink['Year']=='14']\n",
    "year14.shape"
   ]
  },
  {
   "cell_type": "code",
   "execution_count": 53,
   "id": "3e9a64c3",
   "metadata": {},
   "outputs": [],
   "source": [
    "year14.to_csv('year2014.csv')"
   ]
  },
  {
   "cell_type": "code",
   "execution_count": 55,
   "id": "ce4851a9",
   "metadata": {},
   "outputs": [],
   "source": [
    "year13 = drink[drink['Year']=='13']\n",
    "year13.shape"
   ]
  },
  {
   "cell_type": "code",
   "execution_count": 57,
   "id": "634e5619",
   "metadata": {},
   "outputs": [],
   "source": [
    "year13.to_csv('year2013.csv')"
   ]
  },
  {
   "cell_type": "code",
   "execution_count": 83,
   "id": "6c431069",
   "metadata": {},
   "outputs": [],
   "source": [
    "year12 = drink[drink['Year']=='12']\n",
    "year12.shape"
   ]
  },
  {
   "cell_type": "code",
   "execution_count": 85,
   "id": "fbf31ebc",
   "metadata": {},
   "outputs": [],
   "source": [
    "year12.to_csv('year2012.csv')"
   ]
  }
 ],
 "metadata": {
  "kernelspec": {
   "display_name": "Python 3 (ipykernel)",
   "language": "python",
   "name": "python3"
  },
  "language_info": {
   "codemirror_mode": {
    "name": "ipython",
    "version": 3
   },
   "file_extension": ".py",
   "mimetype": "text/x-python",
   "name": "python",
   "nbconvert_exporter": "python",
   "pygments_lexer": "ipython3",
   "version": "3.9.7"
  }
 },
 "nbformat": 4,
 "nbformat_minor": 5
}

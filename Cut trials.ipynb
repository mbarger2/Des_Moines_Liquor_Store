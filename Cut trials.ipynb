{
 "cells": [
  {
   "cell_type": "code",
   "execution_count": 41,
   "id": "a9b6be17",
   "metadata": {},
   "outputs": [],
   "source": [
    "import pandas as pd\n",
    "import numpy as np\n",
    "import matplotlib.pyplot as plt\n",
    "import seaborn as sns"
   ]
  },
  {
   "cell_type": "code",
   "execution_count": 2,
   "id": "4e898f12",
   "metadata": {},
   "outputs": [],
   "source": [
    "y12=pd.read_csv('C://Users//admin//Documents//git//Final//Iowa_sales//year2012.csv')"
   ]
  },
  {
   "cell_type": "code",
   "execution_count": 4,
   "id": "de3d921f",
   "metadata": {},
   "outputs": [],
   "source": [
    "y12=y12[y12['City']=='DES MOINES']"
   ]
  },
  {
   "cell_type": "code",
   "execution_count": 3,
   "id": "db91552c",
   "metadata": {},
   "outputs": [
    {
     "data": {
      "text/plain": [
       "Index(['Unnamed: 0', 'Invoice/Item Number', 'Date', 'Store Number',\n",
       "       'Store Name', 'Address', 'City', 'Zip Code', 'Store Location',\n",
       "       'County Number', 'County', 'Category', 'Category Name', 'Vendor Number',\n",
       "       'Vendor Name', 'Item Number', 'Item Description', 'Pack',\n",
       "       'Bottle Volume (ml)', 'State Bottle Cost', 'State Bottle Retail',\n",
       "       'Bottles Sold', 'Sale (Dollars)', 'Volume Sold (Liters)',\n",
       "       'Volume Sold (Gallons)', 'Year'],\n",
       "      dtype='object')"
      ]
     },
     "execution_count": 3,
     "metadata": {},
     "output_type": "execute_result"
    }
   ],
   "source": [
    "y12.columns"
   ]
  },
  {
   "cell_type": "code",
   "execution_count": 19,
   "id": "c1ac7ba8",
   "metadata": {},
   "outputs": [],
   "source": [
    "m12=y12[['Store Number','Vendor Number','Item Number','Volume Sold (Liters)','Item Description','State Bottle Cost','Bottles Sold']]"
   ]
  },
  {
   "cell_type": "code",
   "execution_count": 51,
   "id": "615d1540",
   "metadata": {},
   "outputs": [
    {
     "data": {
      "text/plain": [
       "Store_Number            0\n",
       "Vendor_Number           0\n",
       "Item_Number             0\n",
       "Volume_Sold_(Liters)    0\n",
       "Item_Description        0\n",
       "State_Bottle_Cost       0\n",
       "Bottles_Sold            0\n",
       "Total_Cost              0\n",
       "dtype: int64"
      ]
     },
     "execution_count": 51,
     "metadata": {},
     "output_type": "execute_result"
    }
   ],
   "source": [
    "m12.isna().sum()"
   ]
  },
  {
   "cell_type": "code",
   "execution_count": 21,
   "id": "7948edf7",
   "metadata": {},
   "outputs": [
    {
     "name": "stderr",
     "output_type": "stream",
     "text": [
      "C:\\Users\\admin\\AppData\\Local\\Temp/ipykernel_38216/637997716.py:1: SettingWithCopyWarning: \n",
      "A value is trying to be set on a copy of a slice from a DataFrame.\n",
      "Try using .loc[row_indexer,col_indexer] = value instead\n",
      "\n",
      "See the caveats in the documentation: https://pandas.pydata.org/pandas-docs/stable/user_guide/indexing.html#returning-a-view-versus-a-copy\n",
      "  m12['State Bottle Cost']=m12['State Bottle Cost'].fillna('$0')\n"
     ]
    }
   ],
   "source": [
    "m12['State Bottle Cost']=m12['State Bottle Cost'].fillna('$0')"
   ]
  },
  {
   "cell_type": "code",
   "execution_count": 25,
   "id": "f9e09571",
   "metadata": {},
   "outputs": [
    {
     "name": "stderr",
     "output_type": "stream",
     "text": [
      "C:\\Users\\admin\\AppData\\Local\\Temp/ipykernel_38216/723516209.py:1: SettingWithCopyWarning: \n",
      "A value is trying to be set on a copy of a slice from a DataFrame.\n",
      "Try using .loc[row_indexer,col_indexer] = value instead\n",
      "\n",
      "See the caveats in the documentation: https://pandas.pydata.org/pandas-docs/stable/user_guide/indexing.html#returning-a-view-versus-a-copy\n",
      "  m12['State Bottle Cost']=list(map(lambda x: x[1:],m12['State Bottle Cost']))\n"
     ]
    }
   ],
   "source": [
    "m12['State Bottle Cost']=list(map(lambda x: x[1:],m12['State Bottle Cost']))"
   ]
  },
  {
   "cell_type": "code",
   "execution_count": 26,
   "id": "4ce06d9f",
   "metadata": {},
   "outputs": [
    {
     "data": {
      "text/plain": [
       "11         11.58\n",
       "31         14.98\n",
       "36         14.67\n",
       "55         12.00\n",
       "84         19.87\n",
       "           ...  \n",
       "2082036     7.24\n",
       "2082038     7.97\n",
       "2082040     5.49\n",
       "2082043     7.65\n",
       "2082051     6.53\n",
       "Name: State Bottle Cost, Length: 184093, dtype: object"
      ]
     },
     "execution_count": 26,
     "metadata": {},
     "output_type": "execute_result"
    }
   ],
   "source": [
    "m12['State Bottle Cost']"
   ]
  },
  {
   "cell_type": "code",
   "execution_count": 27,
   "id": "8ea29f98",
   "metadata": {},
   "outputs": [
    {
     "name": "stderr",
     "output_type": "stream",
     "text": [
      "C:\\Users\\admin\\AppData\\Local\\Temp/ipykernel_38216/1702871614.py:1: SettingWithCopyWarning: \n",
      "A value is trying to be set on a copy of a slice from a DataFrame.\n",
      "Try using .loc[row_indexer,col_indexer] = value instead\n",
      "\n",
      "See the caveats in the documentation: https://pandas.pydata.org/pandas-docs/stable/user_guide/indexing.html#returning-a-view-versus-a-copy\n",
      "  m12['State Bottle Cost']=pd.to_numeric(m12['State Bottle Cost'])\n"
     ]
    }
   ],
   "source": [
    "m12['State Bottle Cost']=pd.to_numeric(m12['State Bottle Cost'])"
   ]
  },
  {
   "cell_type": "code",
   "execution_count": 28,
   "id": "a0821e6f",
   "metadata": {},
   "outputs": [
    {
     "data": {
      "text/plain": [
       "Store Number              int64\n",
       "Vendor Number           float64\n",
       "Item Number               int64\n",
       "Volume Sold (Liters)    float64\n",
       "Item Description         object\n",
       "State Bottle Cost       float64\n",
       "Bottles Sold              int64\n",
       "dtype: object"
      ]
     },
     "execution_count": 28,
     "metadata": {},
     "output_type": "execute_result"
    }
   ],
   "source": [
    "m12.dtypes"
   ]
  },
  {
   "cell_type": "code",
   "execution_count": 29,
   "id": "f63aa626",
   "metadata": {},
   "outputs": [],
   "source": [
    "def multi(x,y):\n",
    "    return x*y"
   ]
  },
  {
   "cell_type": "code",
   "execution_count": 30,
   "id": "2e3b5b16",
   "metadata": {},
   "outputs": [
    {
     "name": "stderr",
     "output_type": "stream",
     "text": [
      "C:\\Users\\admin\\AppData\\Local\\Temp/ipykernel_38216/2633298602.py:1: SettingWithCopyWarning: \n",
      "A value is trying to be set on a copy of a slice from a DataFrame.\n",
      "Try using .loc[row_indexer,col_indexer] = value instead\n",
      "\n",
      "See the caveats in the documentation: https://pandas.pydata.org/pandas-docs/stable/user_guide/indexing.html#returning-a-view-versus-a-copy\n",
      "  m12['Total Cost']=list(map(multi,m12['State Bottle Cost'],m12['Bottles Sold']))\n"
     ]
    }
   ],
   "source": [
    "m12['Total Cost']=list(map(multi,m12['State Bottle Cost'],m12['Bottles Sold']))"
   ]
  },
  {
   "cell_type": "code",
   "execution_count": null,
   "id": "62626e5c",
   "metadata": {},
   "outputs": [],
   "source": [
    "m12.drop('Item Description',axis=1,inplace=True)"
   ]
  },
  {
   "cell_type": "code",
   "execution_count": 33,
   "id": "631d0994",
   "metadata": {},
   "outputs": [],
   "source": [
    "m12.columns=['Store_Number','Vendor_Number','Item_Number','Volume_Sold_(Liters)','Item_Description','State_Bottle_Cost','Bottles_Sold','Total_Cost']"
   ]
  },
  {
   "cell_type": "code",
   "execution_count": 50,
   "id": "b3d068f7",
   "metadata": {},
   "outputs": [
    {
     "data": {
      "text/html": [
       "<div>\n",
       "<style scoped>\n",
       "    .dataframe tbody tr th:only-of-type {\n",
       "        vertical-align: middle;\n",
       "    }\n",
       "\n",
       "    .dataframe tbody tr th {\n",
       "        vertical-align: top;\n",
       "    }\n",
       "\n",
       "    .dataframe thead th {\n",
       "        text-align: right;\n",
       "    }\n",
       "</style>\n",
       "<table border=\"1\" class=\"dataframe\">\n",
       "  <thead>\n",
       "    <tr style=\"text-align: right;\">\n",
       "      <th></th>\n",
       "      <th>Store_Number</th>\n",
       "      <th>Vendor_Number</th>\n",
       "      <th>Item_Number</th>\n",
       "      <th>Volume_Sold_(Liters)</th>\n",
       "      <th>Item_Description</th>\n",
       "      <th>State_Bottle_Cost</th>\n",
       "      <th>Bottles_Sold</th>\n",
       "      <th>Total_Cost</th>\n",
       "    </tr>\n",
       "  </thead>\n",
       "  <tbody>\n",
       "    <tr>\n",
       "      <th>11</th>\n",
       "      <td>2532</td>\n",
       "      <td>192.0</td>\n",
       "      <td>65256</td>\n",
       "      <td>9.0</td>\n",
       "      <td>Jagermeister Liqueur</td>\n",
       "      <td>11.58</td>\n",
       "      <td>12</td>\n",
       "      <td>138.96</td>\n",
       "    </tr>\n",
       "    <tr>\n",
       "      <th>31</th>\n",
       "      <td>2633</td>\n",
       "      <td>260.0</td>\n",
       "      <td>5289</td>\n",
       "      <td>12.0</td>\n",
       "      <td>J &amp; B Rare Scotch</td>\n",
       "      <td>14.98</td>\n",
       "      <td>12</td>\n",
       "      <td>179.76</td>\n",
       "    </tr>\n",
       "  </tbody>\n",
       "</table>\n",
       "</div>"
      ],
      "text/plain": [
       "    Store_Number  Vendor_Number  Item_Number  Volume_Sold_(Liters)  \\\n",
       "11          2532          192.0        65256                   9.0   \n",
       "31          2633          260.0         5289                  12.0   \n",
       "\n",
       "        Item_Description  State_Bottle_Cost  Bottles_Sold  Total_Cost  \n",
       "11  Jagermeister Liqueur              11.58            12      138.96  \n",
       "31     J & B Rare Scotch              14.98            12      179.76  "
      ]
     },
     "execution_count": 50,
     "metadata": {},
     "output_type": "execute_result"
    }
   ],
   "source": [
    "m12.head(2)"
   ]
  },
  {
   "cell_type": "code",
   "execution_count": 42,
   "id": "fad07161",
   "metadata": {
    "scrolled": true
   },
   "outputs": [
    {
     "data": {
      "image/png": "[encoded data removed]",
      "text/plain": [
       "<Figure size 432x288 with 1 Axes>"
      ]
     },
     "metadata": {
      "needs_background": "light"
     },
     "output_type": "display_data"
    }
   ],
   "source": [
    "plt.hist(m12.Vendor_Number,bins=5)\n",
    "plt.show()"
   ]
  },
  {
   "cell_type": "markdown",
   "id": "c05e713c",
   "metadata": {},
   "source": [
    "# Below is work on aggregating columns, finding appropriate bin #, and reapplying to Datafram"
   ]
  },
  {
   "cell_type": "code",
   "execution_count": 59,
   "id": "a7889854",
   "metadata": {},
   "outputs": [],
   "source": [
    "itemnumdf=m12.groupby(['Item_Number']).agg({'State_Bottle_Cost':['mean']})\n",
    "itemnumdf=itemnumdf.reset_index()\n",
    "itemnumdf.columns =['Item Number','CPB']\n",
    "itemnumdf=itemnumdf[itemnumdf['Item Number']!=903056]"
   ]
  },
  {
   "cell_type": "code",
   "execution_count": 61,
   "id": "009513db",
   "metadata": {},
   "outputs": [
    {
     "data": {
      "image/png": "[encoded data removed]",
      "text/plain": [
       "<Figure size 432x288 with 1 Axes>"
      ]
     },
     "metadata": {
      "needs_background": "light"
     },
     "output_type": "display_data"
    }
   ],
   "source": [
    "plt.hist(itemnumdf.CPB,bins=10)\n",
    "plt.show()"
   ]
  },
  {
   "cell_type": "code",
   "execution_count": 67,
   "id": "b8ca2c93",
   "metadata": {},
   "outputs": [
    {
     "name": "stderr",
     "output_type": "stream",
     "text": [
      "C:\\Users\\admin\\AppData\\Local\\Temp/ipykernel_38216/1419615687.py:1: SettingWithCopyWarning: \n",
      "A value is trying to be set on a copy of a slice from a DataFrame.\n",
      "Try using .loc[row_indexer,col_indexer] = value instead\n",
      "\n",
      "See the caveats in the documentation: https://pandas.pydata.org/pandas-docs/stable/user_guide/indexing.html#returning-a-view-versus-a-copy\n",
      "  m12['Item_Split']=pd.DataFrame(pd.cut(itemnumdf['CPB'],5,labels=['low','medlow','med','medhigh','high']))\n"
     ]
    },
    {
     "data": {
      "text/html": [
       "<div>\n",
       "<style scoped>\n",
       "    .dataframe tbody tr th:only-of-type {\n",
       "        vertical-align: middle;\n",
       "    }\n",
       "\n",
       "    .dataframe tbody tr th {\n",
       "        vertical-align: top;\n",
       "    }\n",
       "\n",
       "    .dataframe thead th {\n",
       "        text-align: right;\n",
       "    }\n",
       "</style>\n",
       "<table border=\"1\" class=\"dataframe\">\n",
       "  <thead>\n",
       "    <tr style=\"text-align: right;\">\n",
       "      <th></th>\n",
       "      <th>Store_Number</th>\n",
       "      <th>Vendor_Number</th>\n",
       "      <th>Item_Number</th>\n",
       "      <th>Volume_Sold_(Liters)</th>\n",
       "      <th>Item_Description</th>\n",
       "      <th>State_Bottle_Cost</th>\n",
       "      <th>Bottles_Sold</th>\n",
       "      <th>Total_Cost</th>\n",
       "      <th>Item_Split</th>\n",
       "    </tr>\n",
       "  </thead>\n",
       "  <tbody>\n",
       "    <tr>\n",
       "      <th>11</th>\n",
       "      <td>2532</td>\n",
       "      <td>192.0</td>\n",
       "      <td>65256</td>\n",
       "      <td>9.0</td>\n",
       "      <td>Jagermeister Liqueur</td>\n",
       "      <td>11.58</td>\n",
       "      <td>12</td>\n",
       "      <td>138.96</td>\n",
       "      <td>low</td>\n",
       "    </tr>\n",
       "    <tr>\n",
       "      <th>31</th>\n",
       "      <td>2633</td>\n",
       "      <td>260.0</td>\n",
       "      <td>5289</td>\n",
       "      <td>12.0</td>\n",
       "      <td>J &amp; B Rare Scotch</td>\n",
       "      <td>14.98</td>\n",
       "      <td>12</td>\n",
       "      <td>179.76</td>\n",
       "      <td>low</td>\n",
       "    </tr>\n",
       "    <tr>\n",
       "      <th>36</th>\n",
       "      <td>2959</td>\n",
       "      <td>35.0</td>\n",
       "      <td>43038</td>\n",
       "      <td>10.5</td>\n",
       "      <td>Bacardi Gold Rum</td>\n",
       "      <td>14.67</td>\n",
       "      <td>6</td>\n",
       "      <td>88.02</td>\n",
       "      <td>low</td>\n",
       "    </tr>\n",
       "  </tbody>\n",
       "</table>\n",
       "</div>"
      ],
      "text/plain": [
       "    Store_Number  Vendor_Number  Item_Number  Volume_Sold_(Liters)  \\\n",
       "11          2532          192.0        65256                   9.0   \n",
       "31          2633          260.0         5289                  12.0   \n",
       "36          2959           35.0        43038                  10.5   \n",
       "\n",
       "        Item_Description  State_Bottle_Cost  Bottles_Sold  Total_Cost  \\\n",
       "11  Jagermeister Liqueur              11.58            12      138.96   \n",
       "31     J & B Rare Scotch              14.98            12      179.76   \n",
       "36      Bacardi Gold Rum              14.67             6       88.02   \n",
       "\n",
       "   Item_Split  \n",
       "11        low  \n",
       "31        low  \n",
       "36        low  "
      ]
     },
     "execution_count": 67,
     "metadata": {},
     "output_type": "execute_result"
    }
   ],
   "source": [
    "m12['Item_Split']=pd.DataFrame(pd.cut(itemnumdf['CPB'],5,labels=['low','medlow','med','medhigh','high']))\n",
    "m12.head(3)"
   ]
  },
  {
   "cell_type": "code",
   "execution_count": 68,
   "id": "623552fe",
   "metadata": {},
   "outputs": [],
   "source": [
    "vendf=m12.groupby(['Vendor_Number']).agg({'State_Bottle_Cost':['mean']})\n",
    "vendf=vendf.reset_index()\n",
    "vendf.columns =['Vendor_Number','CPB']\n",
    "#vendf=vendf[vendf['Vendor_Number']!=903056]"
   ]
  },
  {
   "cell_type": "code",
   "execution_count": 69,
   "id": "aedd09e6",
   "metadata": {},
   "outputs": [
    {
     "data": {
      "image/png": "[encoded data removed]",
      "text/plain": [
       "<Figure size 432x288 with 1 Axes>"
      ]
     },
     "metadata": {
      "needs_background": "light"
     },
     "output_type": "display_data"
    }
   ],
   "source": [
    "plt.hist(itemnumdf.CPB,bins=10)\n",
    "plt.show()"
   ]
  },
  {
   "cell_type": "code",
   "execution_count": 71,
   "id": "b56f6f5b",
   "metadata": {},
   "outputs": [
    {
     "data": {
      "image/png": "[encoded data removed]",
      "text/plain": [
       "<Figure size 432x288 with 1 Axes>"
      ]
     },
     "metadata": {
      "needs_background": "light"
     },
     "output_type": "display_data"
    }
   ],
   "source": [
    "plt.boxplot(itemnumdf.CPB)\n",
    "plt.show()"
   ]
  },
  {
   "cell_type": "code",
   "execution_count": null,
   "id": "a9a14010",
   "metadata": {},
   "outputs": [],
   "source": []
  }
 ],
 "metadata": {
  "kernelspec": {
   "display_name": "Python 3 (ipykernel)",
   "language": "python",
   "name": "python3"
  },
  "language_info": {
   "codemirror_mode": {
    "name": "ipython",
    "version": 3
   },
   "file_extension": ".py",
   "mimetype": "text/x-python",
   "name": "python",
   "nbconvert_exporter": "python",
   "pygments_lexer": "ipython3",
   "version": "3.9.7"
  }
 },
 "nbformat": 4,
 "nbformat_minor": 5
}
